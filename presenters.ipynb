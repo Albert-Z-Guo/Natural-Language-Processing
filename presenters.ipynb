{
 "cells": [
  {
   "cell_type": "code",
   "execution_count": 1,
   "metadata": {},
   "outputs": [],
   "source": [
    "import pandas as pd"
   ]
  },
  {
   "cell_type": "code",
   "execution_count": 2,
   "metadata": {},
   "outputs": [
    {
     "data": {
      "text/html": [
       "<div>\n",
       "<style scoped>\n",
       "    .dataframe tbody tr th:only-of-type {\n",
       "        vertical-align: middle;\n",
       "    }\n",
       "\n",
       "    .dataframe tbody tr th {\n",
       "        vertical-align: top;\n",
       "    }\n",
       "\n",
       "    .dataframe thead th {\n",
       "        text-align: right;\n",
       "    }\n",
       "</style>\n",
       "<table border=\"1\" class=\"dataframe\">\n",
       "  <thead>\n",
       "    <tr style=\"text-align: right;\">\n",
       "      <th></th>\n",
       "      <th>id</th>\n",
       "      <th>text</th>\n",
       "      <th>timestamp_ms</th>\n",
       "      <th>user</th>\n",
       "    </tr>\n",
       "  </thead>\n",
       "  <tbody>\n",
       "    <tr>\n",
       "      <th>0</th>\n",
       "      <td>290620657987887104</td>\n",
       "      <td>JLo's dress! #eredcarpet #GoldenGlobes</td>\n",
       "      <td>2013-01-14 00:45:38</td>\n",
       "      <td>{'screen_name': 'Dozaaa_xo', 'id': 557374298}</td>\n",
       "    </tr>\n",
       "    <tr>\n",
       "      <th>1</th>\n",
       "      <td>290620657887219713</td>\n",
       "      <td>What's making Sofia Vergara's boobs stay like ...</td>\n",
       "      <td>2013-01-14 00:45:38</td>\n",
       "      <td>{'screen_name': 'theAmberShow', 'id': 14648726}</td>\n",
       "    </tr>\n",
       "    <tr>\n",
       "      <th>2</th>\n",
       "      <td>290620657828524032</td>\n",
       "      <td>RT @FabSugar: Kerry Washington is EVERYTHING. ...</td>\n",
       "      <td>2013-01-14 00:45:38</td>\n",
       "      <td>{'screen_name': 'SweetyPW', 'id': 35498686}</td>\n",
       "    </tr>\n",
       "  </tbody>\n",
       "</table>\n",
       "</div>"
      ],
      "text/plain": [
       "                   id                                               text  \\\n",
       "0  290620657987887104             JLo's dress! #eredcarpet #GoldenGlobes   \n",
       "1  290620657887219713  What's making Sofia Vergara's boobs stay like ...   \n",
       "2  290620657828524032  RT @FabSugar: Kerry Washington is EVERYTHING. ...   \n",
       "\n",
       "         timestamp_ms                                             user  \n",
       "0 2013-01-14 00:45:38    {'screen_name': 'Dozaaa_xo', 'id': 557374298}  \n",
       "1 2013-01-14 00:45:38  {'screen_name': 'theAmberShow', 'id': 14648726}  \n",
       "2 2013-01-14 00:45:38      {'screen_name': 'SweetyPW', 'id': 35498686}  "
      ]
     },
     "execution_count": 2,
     "metadata": {},
     "output_type": "execute_result"
    }
   ],
   "source": [
    "df = pd.read_json(path_or_buf='gg2013.json')\n",
    "df.head(3)"
   ]
  },
  {
   "cell_type": "code",
   "execution_count": 3,
   "metadata": {},
   "outputs": [
    {
     "data": {
      "text/plain": [
       "0               JLo's dress! #eredcarpet #GoldenGlobes\n",
       "1    What's making Sofia Vergara's boobs stay like ...\n",
       "2    RT @FabSugar: Kerry Washington is EVERYTHING. ...\n",
       "3       Anne Hathaway has got me living. #GoldenGlobes\n",
       "4    Jennifer Lopez's lace dress? Thoughts? #Golden...\n",
       "Name: text, dtype: object"
      ]
     },
     "execution_count": 3,
     "metadata": {},
     "output_type": "execute_result"
    }
   ],
   "source": [
    "data = df['text']\n",
    "data[:5]"
   ]
  },
  {
   "cell_type": "code",
   "execution_count": 4,
   "metadata": {},
   "outputs": [],
   "source": [
    "import re"
   ]
  },
  {
   "cell_type": "code",
   "execution_count": 5,
   "metadata": {},
   "outputs": [],
   "source": [
    "retweets_freq_map = {}\n",
    "\n",
    "def remove_retweet_prefix(line):\n",
    "    # find 'RT @abc: ' where abc's length is arbitrary\n",
    "    pattern = re.compile(r'\\bRT @.*\\b: ') \n",
    "   \n",
    "    match = re.search(pattern, line)\n",
    "    if match:\n",
    "        # store corresponding retweet without 'RT ' prefix\n",
    "        string = match.group()[3:]\n",
    "        if string in retweets_freq_map:\n",
    "            retweets_freq_map[string] += 1\n",
    "        else:\n",
    "            retweets_freq_map[string] = 1\n",
    "        \n",
    "    return re.sub(pattern, ' ', line)"
   ]
  },
  {
   "cell_type": "code",
   "execution_count": 6,
   "metadata": {},
   "outputs": [],
   "source": [
    "def cleanse(line):\n",
    "    # replace everything to ' ' except whitespace, alphanumeric character, apostrophe, hashtag, @\n",
    "    return re.sub(r'[^\\w\\s\\'#@]', ' ', line)"
   ]
  },
  {
   "cell_type": "code",
   "execution_count": 7,
   "metadata": {},
   "outputs": [],
   "source": [
    "import spacy\n",
    "# python3 -m spacy download en\n",
    "nlp = spacy.load('en')"
   ]
  },
  {
   "cell_type": "code",
   "execution_count": 8,
   "metadata": {},
   "outputs": [],
   "source": [
    "def identify_entities(text, verbose=False):\n",
    "    ents = list(nlp(text).ents)\n",
    "    if verbose:\n",
    "        person_tags = {}\n",
    "        tags = {}\n",
    "        for ent in ents:    \n",
    "            entity = ' '.join(t.orth_ for t in ent).strip()\n",
    "            if entity not in tags:\n",
    "                tags[entity]=[ent.label_]\n",
    "                if ent.label_ == 'PERSON':\n",
    "                    person_tags[entity]=[ent.label_]\n",
    "        return tags\n",
    "    else:\n",
    "        return [' '.join(t.orth_ for t in ent).strip() for ent in ents]"
   ]
  },
  {
   "cell_type": "code",
   "execution_count": 9,
   "metadata": {},
   "outputs": [],
   "source": [
    "def clean_entity(text):\n",
    "    # remove_apostrophe\n",
    "    if text.endswith(\"'s\"):\n",
    "        return text[:-2].strip()\n",
    "    '''\n",
    "    # remove tweet's hashtag prefix\n",
    "    elif text.startswith('@'):\n",
    "        return text[1:]\n",
    "    # remove retweet's hashtag prefix\n",
    "    elif text.startswith('RT @'):\n",
    "        return text[4:]\n",
    "    '''\n",
    "    return text"
   ]
  },
  {
   "cell_type": "code",
   "execution_count": 10,
   "metadata": {},
   "outputs": [],
   "source": [
    "def find_presenter(verbose=False):\n",
    "    pattern = re.compile(r'presenter')\n",
    "    entity_dict = {}\n",
    "    \n",
    "    num = 0\n",
    "    for tweet in data:\n",
    "        line = cleanse(remove_retweet_prefix(tweet))\n",
    "        match = re.search(pattern, line.lower())\n",
    "        if match:\n",
    "            entities = identify_entities(line, False)\n",
    "\n",
    "            if verbose:\n",
    "                # print the first 5 occurrences\n",
    "                if num < 5:\n",
    "                    print(line.strip())\n",
    "                    print(entities)\n",
    "                    print()\n",
    "\n",
    "            for entity in entities:\n",
    "                entity = clean_entity(entity)\n",
    "                if len(entity) > 1:\n",
    "                    if entity not in entity_dict:\n",
    "                        entity_dict[entity] = 1\n",
    "                    else:\n",
    "                        entity_dict[entity] += 1\n",
    "            num += 1\n",
    "            \n",
    "    print('num of matches:', num)\n",
    "    return entity_dict"
   ]
  },
  {
   "cell_type": "code",
   "execution_count": 11,
   "metadata": {},
   "outputs": [
    {
     "name": "stdout",
     "output_type": "stream",
     "text": [
      "What's your verdict on @ENews presenter Giuliana Rancic's Oriett Domenech dress  #goldenglobes http   t co lesP5H0F\n",
      "[\"Giuliana Rancic 's\", 'Oriett Domenech', '', '']\n",
      "\n",
      "THISSSSSSSSSS RT @as_seenontv It's appalling that Kerry Washington is there only as a presenter and not as a nominee  #GoldenGlobes #Scandal\n",
      "['Kerry Washington', '', '# GoldenGlobes #']\n",
      "\n",
      "Jay Leno a presenter #ERedCarpet #GoldenGlobes http   t co CG30b1rp\n",
      "['Jay Leno', '# ERedCarpet', 'GoldenGlobes', '', 'CG30b1rp']\n",
      "\n",
      "Presenter  amp  Oscar Award winner Halle Berry is showstopping in a printed gown from Atelier Versace Fall 2012 at the Golden Globes right now\n",
      "['Presenter', 'Oscar Award', 'Halle Berry', 'Atelier Versace', 'Fall 2012', 'the Golden Globes']\n",
      "\n",
      "Presenter  amp  Oscar Award winner Halle Berry is showstopping in a printed gown from Atelier Versace Fall 2012 at the Golden Globes right now\n",
      "['Presenter', 'Oscar Award', 'Halle Berry', 'Atelier Versace', 'Fall 2012', 'the Golden Globes']\n",
      "\n",
      "num of matches: 323\n",
      "CPU times: user 24 s, sys: 16.1 s, total: 40.1 s\n",
      "Wall time: 8.18 s\n"
     ]
    }
   ],
   "source": [
    "%%time \n",
    "entity_dict = find_presenter(verbose=True)"
   ]
  },
  {
   "cell_type": "code",
   "execution_count": 12,
   "metadata": {},
   "outputs": [
    {
     "data": {
      "text/plain": [
       "[('@goldenglobes: ', 3250),\n",
       " ('@PerezHilton: ', 2012),\n",
       " ('@TheEllenShow: ', 1696),\n",
       " ('@eonline: ', 1254),\n",
       " ('@EmWatson: ', 1147),\n",
       " ('@VanityFair: ', 809),\n",
       " ('@CNNshowbiz: ', 699),\n",
       " ('@nbcsnl: ', 690),\n",
       " ('@CiudadBizarra: ', 503),\n",
       " ('@BuzzFeed: ', 491),\n",
       " ('@piersmorgan: ', 420),\n",
       " ('@nbc: ', 391),\n",
       " ('@MARLONLWAYANS: ', 384),\n",
       " ('@EW: ', 376),\n",
       " ('@buckhollywood: ', 353),\n",
       " ('@HuffingtonPost: ', 344),\n",
       " ('@vulture: ', 342),\n",
       " ('@MarilynMonroeES: ', 334),\n",
       " ('@DavidSpade: ', 304),\n",
       " ('@MTVNews: ', 294),\n",
       " ('@PimpBillClinton: ', 281),\n",
       " ('@TVGuide: ', 254),\n",
       " ('@Cosmopolitan: ', 233),\n",
       " ('@THR: ', 229),\n",
       " ('@RichardCrouse: ', 217),\n",
       " ('@prodigalsam: ', 212),\n",
       " ('@kumailn: ', 208),\n",
       " ('@DannyZuker: ', 207),\n",
       " ('@peoplemag: ', 202),\n",
       " ('@DamienFahey: ', 200),\n",
       " ('@washingtonpost: ', 197),\n",
       " ('@MHarrisPerry: ', 194),\n",
       " ('@girlsHBO: ', 193),\n",
       " ('@eonline: Best Original Song, Motion Picture: ', 192),\n",
       " ('@DougBenson: ', 191),\n",
       " ('@rogergzz: ', 185),\n",
       " ('@TVWithoutPity: ', 184),\n",
       " ('@EonlineLatino: ', 181),\n",
       " ('@HuffPostWomen: ', 177),\n",
       " ('@glamourmag: ', 176),\n",
       " ('@peopleenespanol: ', 173),\n",
       " ('@unfoRETTAble: ', 173),\n",
       " ('@jianghomeshi: ', 168),\n",
       " ('@msleamichele: ', 164),\n",
       " ('@HuffPostEnt: ', 164),\n",
       " ('@SofiaVergara: ', 160),\n",
       " ('@heidiklum: ', 158),\n",
       " ('@eonline: Best Supporting Actress in a Motion Picture: ', 156),\n",
       " ('@teganandsara: ', 152),\n",
       " ('@CinePREMIERE: ', 152)]"
      ]
     },
     "execution_count": 12,
     "metadata": {},
     "output_type": "execute_result"
    }
   ],
   "source": [
    "# top retweets (each as an entity)\n",
    "sorted(retweets_freq_map.items(), key=lambda pair: pair[1], reverse=True)[:50]"
   ]
  },
  {
   "cell_type": "code",
   "execution_count": 13,
   "metadata": {},
   "outputs": [
    {
     "data": {
      "text/plain": [
       "[('Bill Clinton', 100),\n",
       " ('GoldenGlobes', 61),\n",
       " ('Surprise Presenter', 34),\n",
       " ('the United States', 26),\n",
       " ('42nd', 25),\n",
       " ('Amy Poehler', 18),\n",
       " ('# GoldenGlobes', 18),\n",
       " ('Will Ferrell', 17),\n",
       " ('George Clooney', 16),\n",
       " ('Kristen Wiig', 15),\n",
       " ('Hillary Clinton', 13),\n",
       " ('the Golden Globes', 8),\n",
       " ('@kerrywashington', 8),\n",
       " ('tonight', 8),\n",
       " ('Clinton', 8),\n",
       " ('Golden Globes', 8),\n",
       " ('DROP DEAD GORG', 7),\n",
       " ('# GoldenGlobes #', 5),\n",
       " ('first', 5),\n",
       " ('Ben Affleck', 5),\n",
       " ('one', 5),\n",
       " ('two', 5),\n",
       " ('Presenter', 4),\n",
       " ('Oscar Award', 4),\n",
       " ('Halle Berry', 4),\n",
       " ('Atelier Versace', 4),\n",
       " ('Fall 2012', 4),\n",
       " ('Bradley Cooper', 4),\n",
       " ('Kate Hudson', 4),\n",
       " ('Will Farrell', 4),\n",
       " ('Oscars', 4),\n",
       " ('LOOPER', 4),\n",
       " ('# goldnotsilver', 4),\n",
       " ('Amy', 4),\n",
       " ('Tina', 4),\n",
       " ('Bill', 4),\n",
       " ('Tina Fey', 3),\n",
       " ('this year', 3),\n",
       " ('Hollywood', 3),\n",
       " ('Woah', 3),\n",
       " ('Lincoln', 3),\n",
       " ('Ferrell', 3),\n",
       " ('WillFerrell', 3),\n",
       " ('EVER', 3),\n",
       " ('Will Ferrel', 3),\n",
       " ('Bill Mack', 3),\n",
       " ('Tommy Lee Jones', 3),\n",
       " ('Iron Man', 3),\n",
       " ('three', 3),\n",
       " ('Jeremy Renner', 3),\n",
       " ('Jennifer Garner', 3),\n",
       " ('Kerry Washington', 2),\n",
       " ('night', 2),\n",
       " ('Geez', 2),\n",
       " ('Catherine', 2),\n",
       " ('Zeta Jones', 2),\n",
       " ('Les Miserables', 2),\n",
       " ('Paul Rudd', 2),\n",
       " ('HFPA', 2),\n",
       " ('Wiig', 2),\n",
       " ('Kristin', 2),\n",
       " ('KristinWiig', 2),\n",
       " ('# SpeakSlowly #', 2),\n",
       " ('CarryABigStick', 2),\n",
       " ('Best   Presenters', 2),\n",
       " ('Ever', 2),\n",
       " ('Kirstin Whig', 2),\n",
       " ('@goldenglobes', 2),\n",
       " ('SNL', 2),\n",
       " ('Funniest', 2),\n",
       " ('Kristin Wiig', 2),\n",
       " ('Megan Fox', 2),\n",
       " ('Jonah Hill', 2),\n",
       " ('Arnold Schwarzenegger', 2),\n",
       " ('Sylvester Stallone', 2),\n",
       " ('Arnold', 2),\n",
       " ('Fallon', 2),\n",
       " ('Globe', 2),\n",
       " ('10', 2),\n",
       " ('@MsKristinKreuk', 2),\n",
       " ('BatB', 2),\n",
       " ('Giuliana Rancic', 1),\n",
       " ('Oriett Domenech', 1),\n",
       " ('Jay Leno', 1),\n",
       " ('# ERedCarpet', 1),\n",
       " ('CG30b1rp', 1),\n",
       " ('Dustin Hoffman', 1),\n",
       " ('jan 25th', 1),\n",
       " ('American', 1),\n",
       " ('WAY', 1),\n",
       " ('the Red Carpet', 1),\n",
       " ('# goldenglobes #', 1),\n",
       " ('all day', 1),\n",
       " ('Mariska Hargitay', 1),\n",
       " ('Christopher Meloni', 1),\n",
       " ('JustSaying', 1),\n",
       " ('Brings', 1),\n",
       " ('days', 1),\n",
       " ('Michael J Fox', 1),\n",
       " ('Anna Nicole Smith', 1)]"
      ]
     },
     "execution_count": 13,
     "metadata": {},
     "output_type": "execute_result"
    }
   ],
   "source": [
    "top_100 = sorted(entity_dict.items(), key=lambda pair: pair[1], reverse=True)[:100]\n",
    "top_100"
   ]
  },
  {
   "cell_type": "code",
   "execution_count": 14,
   "metadata": {},
   "outputs": [],
   "source": [
    "# pip3 install python-Levenshtein for 4-10x speedup\n",
    "from fuzzywuzzy import fuzz"
   ]
  },
  {
   "cell_type": "code",
   "execution_count": 15,
   "metadata": {},
   "outputs": [
    {
     "name": "stdout",
     "output_type": "stream",
     "text": [
      "['GoldenGlobes',\n",
      " '# GoldenGlobes',\n",
      " 'George Clooney',\n",
      " 'the Golden Globes',\n",
      " 'Golden Globes',\n",
      " '# GoldenGlobes #',\n",
      " '@goldenglobes',\n",
      " 'Globe',\n",
      " '# goldenglobes #']\n"
     ]
    }
   ],
   "source": [
    "# remove golden globes from names\n",
    "import pprint\n",
    "names = [pair[0] for pair in top_100]\n",
    "\n",
    "golden_globes = [name for name in names if fuzz.ratio(name.lower(), 'golden globes') > 50]\n",
    "pprint.pprint(golden_globes)"
   ]
  },
  {
   "cell_type": "code",
   "execution_count": 16,
   "metadata": {},
   "outputs": [
    {
     "data": {
      "text/plain": [
       "[('Bill Clinton', 100),\n",
       " ('Surprise Presenter', 34),\n",
       " ('the United States', 26),\n",
       " ('42nd', 25),\n",
       " ('Amy Poehler', 18),\n",
       " ('Will Ferrell', 17),\n",
       " ('Kristen Wiig', 15),\n",
       " ('Hillary Clinton', 13),\n",
       " ('@kerrywashington', 8),\n",
       " ('tonight', 8),\n",
       " ('Clinton', 8),\n",
       " ('DROP DEAD GORG', 7),\n",
       " ('first', 5),\n",
       " ('Ben Affleck', 5),\n",
       " ('one', 5),\n",
       " ('two', 5),\n",
       " ('Presenter', 4),\n",
       " ('Oscar Award', 4),\n",
       " ('Halle Berry', 4),\n",
       " ('Atelier Versace', 4)]"
      ]
     },
     "execution_count": 16,
     "metadata": {},
     "output_type": "execute_result"
    }
   ],
   "source": [
    "for name in golden_globes:\n",
    "    del entity_dict[name]\n",
    "top_20 = sorted(entity_dict.items(), key=lambda pair: pair[1], reverse=True)[:20]\n",
    "top_20"
   ]
  },
  {
   "cell_type": "code",
   "execution_count": 17,
   "metadata": {},
   "outputs": [
    {
     "name": "stdout",
     "output_type": "stream",
     "text": [
      "['Bill Clinton', 'Hillary Clinton', 'Clinton']\n",
      "['Surprise Presenter', 'Presenter']\n",
      "['the United States']\n",
      "['42nd']\n",
      "['Amy Poehler']\n",
      "['Will Ferrell', 'Halle Berry']\n",
      "['Kristen Wiig']\n",
      "['Hillary Clinton', 'Bill Clinton', 'Clinton']\n",
      "['@kerrywashington']\n",
      "['tonight']\n",
      "['Clinton', 'Bill Clinton', 'Hillary Clinton']\n",
      "['DROP DEAD GORG']\n",
      "['first']\n",
      "['Ben Affleck']\n",
      "['one']\n",
      "['two']\n",
      "['Presenter', 'Surprise Presenter']\n",
      "['Oscar Award']\n",
      "['Halle Berry', 'Will Ferrell']\n",
      "['Atelier Versace']\n"
     ]
    },
    {
     "data": {
      "text/plain": [
       "[['Halle Berry', 'Will Ferrell'],\n",
       " ['Presenter', 'Surprise Presenter'],\n",
       " ['Bill Clinton', 'Clinton', 'Hillary Clinton']]"
      ]
     },
     "execution_count": 17,
     "metadata": {},
     "output_type": "execute_result"
    }
   ],
   "source": [
    "names = [pair[0] for pair in top_20]\n",
    "names_clusters = []\n",
    "\n",
    "for name in names:\n",
    "    # each name starts as a cluster\n",
    "    cluster = [name]\n",
    "    names_to_reduce = names[:]\n",
    "    names_to_reduce.remove(name)\n",
    "    \n",
    "    # one vs. all comparisons\n",
    "    for i in names_to_reduce:\n",
    "        ratio = fuzz.ratio(name.lower(), i.lower())\n",
    "        # if similarity is larger than 50 or one name is contained in the other name\n",
    "        if ratio > 50 or re.search(name, i, flags=re.IGNORECASE) or re.search(i, name, flags=re.IGNORECASE):\n",
    "            cluster.append(i)\n",
    "    \n",
    "    # if multiple names are identified in one cluster\n",
    "    if len(cluster) > 1:\n",
    "        names_clusters.append(cluster)\n",
    "    \n",
    "    print(cluster)\n",
    "\n",
    "# find names clusters that should merge\n",
    "# ['Amy Poehler', 'Amy', 'Amy Poelher']\n",
    "# ['Tina', 'Tina Fey']\n",
    "names_clusters = ['|'.join(sorted(cluster)) for cluster in names_clusters]\n",
    "names_clusters_reduced = [line.split('|') for line in list(set(names_clusters))]\n",
    "names_clusters_reduced"
   ]
  },
  {
   "cell_type": "code",
   "execution_count": 18,
   "metadata": {},
   "outputs": [],
   "source": [
    "def evaluate_by_freq_and_weight(element):\n",
    "    return entity_dict[element] * len(element)\n",
    "\n",
    "e = entity_dict.copy()\n",
    "for cluster in names_clusters_reduced:\n",
    "    # select the longest name\n",
    "    selected_name = max(cluster, key=evaluate_by_freq_and_weight)\n",
    "    cluster.remove(selected_name)\n",
    "    for name in cluster:\n",
    "        # if not deleted in previous cases\n",
    "        if name in e and selected_name in e:\n",
    "            e[selected_name] += e[name]\n",
    "            del e[name]"
   ]
  },
  {
   "cell_type": "code",
   "execution_count": 19,
   "metadata": {},
   "outputs": [
    {
     "data": {
      "text/plain": [
       "[('Bill Clinton', 121),\n",
       " ('Surprise Presenter', 38),\n",
       " ('the United States', 26),\n",
       " ('42nd', 25),\n",
       " ('Will Ferrell', 21),\n",
       " ('Amy Poehler', 18),\n",
       " ('Kristen Wiig', 15),\n",
       " ('tonight', 8),\n",
       " ('@kerrywashington', 8),\n",
       " ('DROP DEAD GORG', 7)]"
      ]
     },
     "execution_count": 19,
     "metadata": {},
     "output_type": "execute_result"
    }
   ],
   "source": [
    "top_10 = sorted(e.items(), key=lambda pair: pair[1])[-10:][::-1]\n",
    "top_10"
   ]
  },
  {
   "cell_type": "code",
   "execution_count": 20,
   "metadata": {},
   "outputs": [
    {
     "data": {
      "text/plain": [
       "['Bill Clinton', 'Surprise Presenter']"
      ]
     },
     "execution_count": 20,
     "metadata": {},
     "output_type": "execute_result"
    }
   ],
   "source": [
    "# top 3 inferences for host\n",
    "[name[0] for name in top_10][:2]"
   ]
  },
  {
   "cell_type": "code",
   "execution_count": null,
   "metadata": {},
   "outputs": [],
   "source": []
  }
 ],
 "metadata": {
  "kernelspec": {
   "display_name": "Python 3",
   "language": "python",
   "name": "python3"
  },
  "language_info": {
   "codemirror_mode": {
    "name": "ipython",
    "version": 3
   },
   "file_extension": ".py",
   "mimetype": "text/x-python",
   "name": "python",
   "nbconvert_exporter": "python",
   "pygments_lexer": "ipython3",
   "version": "3.7.2"
  }
 },
 "nbformat": 4,
 "nbformat_minor": 2
}
