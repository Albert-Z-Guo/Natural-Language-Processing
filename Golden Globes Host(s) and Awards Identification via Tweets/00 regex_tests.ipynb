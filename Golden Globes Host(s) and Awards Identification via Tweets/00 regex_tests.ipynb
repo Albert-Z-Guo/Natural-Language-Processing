{
 "cells": [
  {
   "cell_type": "code",
   "execution_count": 1,
   "metadata": {},
   "outputs": [],
   "source": [
    "import pandas as pd"
   ]
  },
  {
   "cell_type": "code",
   "execution_count": 2,
   "metadata": {},
   "outputs": [
    {
     "data": {
      "text/html": [
       "<div>\n",
       "<style scoped>\n",
       "    .dataframe tbody tr th:only-of-type {\n",
       "        vertical-align: middle;\n",
       "    }\n",
       "\n",
       "    .dataframe tbody tr th {\n",
       "        vertical-align: top;\n",
       "    }\n",
       "\n",
       "    .dataframe thead th {\n",
       "        text-align: right;\n",
       "    }\n",
       "</style>\n",
       "<table border=\"1\" class=\"dataframe\">\n",
       "  <thead>\n",
       "    <tr style=\"text-align: right;\">\n",
       "      <th></th>\n",
       "      <th>id</th>\n",
       "      <th>text</th>\n",
       "      <th>timestamp_ms</th>\n",
       "      <th>user</th>\n",
       "    </tr>\n",
       "  </thead>\n",
       "  <tbody>\n",
       "    <tr>\n",
       "      <th>0</th>\n",
       "      <td>290620657987887104</td>\n",
       "      <td>JLo's dress! #eredcarpet #GoldenGlobes</td>\n",
       "      <td>2013-01-14 00:45:38</td>\n",
       "      <td>{'screen_name': 'Dozaaa_xo', 'id': 557374298}</td>\n",
       "    </tr>\n",
       "    <tr>\n",
       "      <th>1</th>\n",
       "      <td>290620657887219713</td>\n",
       "      <td>What's making Sofia Vergara's boobs stay like ...</td>\n",
       "      <td>2013-01-14 00:45:38</td>\n",
       "      <td>{'screen_name': 'theAmberShow', 'id': 14648726}</td>\n",
       "    </tr>\n",
       "    <tr>\n",
       "      <th>2</th>\n",
       "      <td>290620657828524032</td>\n",
       "      <td>RT @FabSugar: Kerry Washington is EVERYTHING. ...</td>\n",
       "      <td>2013-01-14 00:45:38</td>\n",
       "      <td>{'screen_name': 'SweetyPW', 'id': 35498686}</td>\n",
       "    </tr>\n",
       "  </tbody>\n",
       "</table>\n",
       "</div>"
      ],
      "text/plain": [
       "                   id                                               text  \\\n",
       "0  290620657987887104             JLo's dress! #eredcarpet #GoldenGlobes   \n",
       "1  290620657887219713  What's making Sofia Vergara's boobs stay like ...   \n",
       "2  290620657828524032  RT @FabSugar: Kerry Washington is EVERYTHING. ...   \n",
       "\n",
       "         timestamp_ms                                             user  \n",
       "0 2013-01-14 00:45:38    {'screen_name': 'Dozaaa_xo', 'id': 557374298}  \n",
       "1 2013-01-14 00:45:38  {'screen_name': 'theAmberShow', 'id': 14648726}  \n",
       "2 2013-01-14 00:45:38      {'screen_name': 'SweetyPW', 'id': 35498686}  "
      ]
     },
     "execution_count": 2,
     "metadata": {},
     "output_type": "execute_result"
    }
   ],
   "source": [
    "df = pd.read_json(path_or_buf='gg2013.json')\n",
    "# df = pd.read_json(path_or_buf='gg2015.json')\n",
    "df.head(3)"
   ]
  },
  {
   "cell_type": "code",
   "execution_count": 3,
   "metadata": {},
   "outputs": [
    {
     "data": {
      "text/plain": [
       "0               JLo's dress! #eredcarpet #GoldenGlobes\n",
       "1    What's making Sofia Vergara's boobs stay like ...\n",
       "2    RT @FabSugar: Kerry Washington is EVERYTHING. ...\n",
       "3       Anne Hathaway has got me living. #GoldenGlobes\n",
       "4    Jennifer Lopez's lace dress? Thoughts? #Golden...\n",
       "Name: text, dtype: object"
      ]
     },
     "execution_count": 3,
     "metadata": {},
     "output_type": "execute_result"
    }
   ],
   "source": [
    "data = df['text']\n",
    "data[:5]"
   ]
  },
  {
   "cell_type": "code",
   "execution_count": 4,
   "metadata": {},
   "outputs": [
    {
     "name": "stdout",
     "output_type": "stream",
     "text": [
      "RT @AudrinaPatridge: @SofiaVergara is my favorite!!! #GoldenGlobes\n",
      "OMG  RT @/moviefone: Adele, prepare to be the recipient of a very angry song from Taylor Swift #GoldenGlobes\"\n"
     ]
    }
   ],
   "source": [
    "# examples with complex structure\n",
    "print(data[19])\n",
    "print(data[53365])"
   ]
  },
  {
   "cell_type": "code",
   "execution_count": 5,
   "metadata": {},
   "outputs": [],
   "source": [
    "import re"
   ]
  },
  {
   "cell_type": "code",
   "execution_count": 6,
   "metadata": {},
   "outputs": [
    {
     "name": "stdout",
     "output_type": "stream",
     "text": [
      "['alcohol', 'television', 'goodtime']\n"
     ]
    }
   ],
   "source": [
    "pattern = re.compile(r'#([\\w\\'/]*)')\n",
    "print(pattern.findall('#alcohol#television#goodtime'))"
   ]
  },
  {
   "cell_type": "code",
   "execution_count": 7,
   "metadata": {},
   "outputs": [],
   "source": [
    "retweets_freq_dict = {}\n",
    "\n",
    "def remove_retweet_prefix(line):\n",
    "    # find 'RT @abc: ' where abc's length is arbitrary\n",
    "    pattern = re.compile(r'\\bRT @([\\w\\'/]*)\\b: ') \n",
    "    match = re.search(pattern, line)\n",
    "    if match:\n",
    "        # store corresponding retweet without 'RT @' prefix\n",
    "        string = match.group()[4:]\n",
    "        if string in retweets_freq_dict:\n",
    "            retweets_freq_dict[string] += 1\n",
    "        else:\n",
    "            retweets_freq_dict[string] = 1\n",
    "    return re.sub(pattern, ' ', line)"
   ]
  },
  {
   "cell_type": "code",
   "execution_count": 8,
   "metadata": {},
   "outputs": [
    {
     "name": "stdout",
     "output_type": "stream",
     "text": [
      "RT @AudrinaPatridge: @SofiaVergara is my favorite!!! #GoldenGlobes\n",
      " @SofiaVergara is my favorite!!! #GoldenGlobes \n",
      "\n",
      "OMG  RT @/moviefone: Adele, prepare to be the recipient of a very angry song from Taylor Swift #GoldenGlobes\"\n",
      "OMG   Adele, prepare to be the recipient of a very angry song from Taylor Swift #GoldenGlobes\"\n"
     ]
    }
   ],
   "source": [
    "# test\n",
    "print(data[19])\n",
    "print(remove_retweet_prefix(data[19]), '\\n')\n",
    "print(data[53365])\n",
    "print(remove_retweet_prefix(data[53365]))"
   ]
  },
  {
   "cell_type": "code",
   "execution_count": 9,
   "metadata": {},
   "outputs": [],
   "source": [
    "hashtag_freq_dict = {}\n",
    "\n",
    "def remove_hashtag(line):\n",
    "    pattern = re.compile(r'#([\\w\\'/]*)\\b')\n",
    "    matches = re.findall(pattern, line)\n",
    "    if matches:\n",
    "        # store corresponding hashtag\n",
    "        for match in matches:\n",
    "            if match in hashtag_freq_dict:\n",
    "                hashtag_freq_dict[match] += 1\n",
    "            else:\n",
    "                hashtag_freq_dict[match] = 1\n",
    "    return re.sub(pattern, ' ', line)"
   ]
  },
  {
   "cell_type": "code",
   "execution_count": 18,
   "metadata": {},
   "outputs": [
    {
     "name": "stdout",
     "output_type": "stream",
     "text": [
      "0\n",
      "JLo's dress! #eredcarpet #GoldenGlobes\n",
      "JLo's dress!    \n",
      "['eredcarpet', 'GoldenGlobes']\n",
      "\n",
      "1\n",
      "What's making Sofia Vergara's boobs stay like that? Magic? Witchcraft? #GoldenGlobes\n",
      "What's making Sofia Vergara's boobs stay like that? Magic? Witchcraft?  \n",
      "['GoldenGlobes']\n",
      "\n",
      "2\n",
      "RT @FabSugar: Kerry Washington is EVERYTHING. Dying over her Miu Miu gown! @goldenglobes #goldenglobes http://t.co/3feH7MvO\n",
      "RT @FabSugar: Kerry Washington is EVERYTHING. Dying over her Miu Miu gown! @goldenglobes   http://t.co/3feH7MvO\n",
      "['goldenglobes']\n",
      "\n",
      "3\n",
      "Anne Hathaway has got me living. #GoldenGlobes\n",
      "Anne Hathaway has got me living.  \n",
      "['GoldenGlobes']\n",
      "\n",
      "4\n",
      "Jennifer Lopez's lace dress? Thoughts? #GoldenGlobes\n",
      "Jennifer Lopez's lace dress? Thoughts?  \n",
      "['GoldenGlobes']\n",
      "\n",
      "5\n",
      "Podrán criticar a #Adele de su moda y su maniquere pero jamás podrán poner en tela de juicio su TALENTO! @eonline #GoldenGlobes #RedCarpet\n",
      "Podrán criticar a   de su moda y su maniquere pero jamás podrán poner en tela de juicio su TALENTO! @eonline    \n",
      "['Adele', 'GoldenGlobes', 'RedCarpet']\n",
      "\n",
      "6\n",
      "US, Weakly #GoldenGlobes\n",
      "US, Weakly  \n",
      "['GoldenGlobes']\n",
      "\n",
      "7\n",
      "RT @BillMc7: \"Wait. What's that smell?!\" (everyone being interviewed by Al Roker) #GoldenGlobes\n",
      "RT @BillMc7: \"Wait. What's that smell?!\" (everyone being interviewed by Al Roker)  \n",
      "['GoldenGlobes']\n",
      "\n",
      "8\n",
      "Hugh Jackman is so awesome!!! #goldenglobes\n",
      "Hugh Jackman is so awesome!!!  \n",
      "['goldenglobes']\n",
      "\n"
     ]
    }
   ],
   "source": [
    "# test for hashtag detection\n",
    "num = 0\n",
    "count = 0\n",
    "pattern = re.compile(r'#([\\w\\'/]*)\\b')\n",
    "for tweet in data:\n",
    "    match = re.findall(pattern, tweet)\n",
    "    if match:\n",
    "        count += 1\n",
    "        # check the first 10 cases\n",
    "        if count < 10:\n",
    "            print(num)\n",
    "            print(tweet)\n",
    "            print(re.sub(pattern, ' ', tweet))\n",
    "            print(match)\n",
    "            print()\n",
    "    num += 1"
   ]
  },
  {
   "cell_type": "code",
   "execution_count": 11,
   "metadata": {},
   "outputs": [
    {
     "data": {
      "text/plain": [
       "'   '"
      ]
     },
     "execution_count": 11,
     "metadata": {},
     "output_type": "execute_result"
    }
   ],
   "source": [
    "at_freq_dict = {}\n",
    "\n",
    "def remove_at(line):\n",
    "    pattern = re.compile(r'@([\\w\\'/]*)\\b')\n",
    "    matches = re.findall(pattern, line)\n",
    "    if matches:\n",
    "        # store corresponding hashtag\n",
    "        for match in matches:\n",
    "            if match in at_freq_dict:\n",
    "                at_freq_dict[match] += 1\n",
    "            else:\n",
    "                at_freq_dict[match] = 1\n",
    "    return re.sub(pattern, ' ', line)\n",
    "\n",
    "# test\n",
    "remove_at('@abc @def')"
   ]
  },
  {
   "cell_type": "code",
   "execution_count": 19,
   "metadata": {},
   "outputs": [
    {
     "name": "stdout",
     "output_type": "stream",
     "text": [
      "2\n",
      "RT @FabSugar: Kerry Washington is EVERYTHING. Dying over her Miu Miu gown! @goldenglobes #goldenglobes http://t.co/3feH7MvO\n",
      "RT  : Kerry Washington is EVERYTHING. Dying over her Miu Miu gown!   #goldenglobes http://t.co/3feH7MvO\n",
      "['FabSugar', 'goldenglobes']\n",
      "\n",
      "5\n",
      "Podrán criticar a #Adele de su moda y su maniquere pero jamás podrán poner en tela de juicio su TALENTO! @eonline #GoldenGlobes #RedCarpet\n",
      "Podrán criticar a #Adele de su moda y su maniquere pero jamás podrán poner en tela de juicio su TALENTO!   #GoldenGlobes #RedCarpet\n",
      "['eonline']\n",
      "\n",
      "7\n",
      "RT @BillMc7: \"Wait. What's that smell?!\" (everyone being interviewed by Al Roker) #GoldenGlobes\n",
      "RT  : \"Wait. What's that smell?!\" (everyone being interviewed by Al Roker) #GoldenGlobes\n",
      "['BillMc7']\n",
      "\n",
      "9\n",
      "It was awkward. RT @hollywoodhwife: They cut to and then from JLo during the Ben Affleck interview.  #goldenglobes\n",
      "It was awkward. RT  : They cut to and then from JLo during the Ben Affleck interview.  #goldenglobes\n",
      "['hollywoodhwife']\n",
      "\n",
      "13\n",
      "Werk @kerrywashington Stunning!!! #GoldenGlobes red carpet\n",
      "Werk   Stunning!!! #GoldenGlobes red carpet\n",
      "['kerrywashington']\n",
      "\n",
      "15\n",
      "“@amsdiva: Kate Hudson's smile is as infectious as her mother's #globesphilly #goldenglobes” Truth\n",
      "“ : Kate Hudson's smile is as infectious as her mother's #globesphilly #goldenglobes” Truth\n",
      "['amsdiva']\n",
      "\n",
      "19\n",
      "RT @AudrinaPatridge: @SofiaVergara is my favorite!!! #GoldenGlobes\n",
      "RT  :   is my favorite!!! #GoldenGlobes\n",
      "['AudrinaPatridge', 'SofiaVergara']\n",
      "\n",
      "24\n",
      "RT @Chrishell7: If all these beautiful actresses start to make u feel inadequate, picture them trying to pee through a spanx hole all night #GoldenGlobes\n",
      "RT  : If all these beautiful actresses start to make u feel inadequate, picture them trying to pee through a spanx hole all night #GoldenGlobes\n",
      "['Chrishell7']\n",
      "\n",
      "28\n",
      ".@kerrywashington's nude &amp; sheer = yes. Jennifer Lopez's take on the same trend? = oy vey #goldenglobes\n",
      ".  nude &amp; sheer = yes. Jennifer Lopez's take on the same trend? = oy vey #goldenglobes\n",
      "[\"kerrywashington's\"]\n",
      "\n"
     ]
    }
   ],
   "source": [
    "# test for @ detection\n",
    "num = 0\n",
    "count = 0\n",
    "pattern = re.compile(r'@([\\w\\'/]*)\\b')\n",
    "for tweet in data:\n",
    "    match = re.findall(pattern, tweet)\n",
    "    if match:\n",
    "        count += 1\n",
    "        # check the first 10 cases\n",
    "        if count < 10:\n",
    "            print(num)\n",
    "            print(tweet)\n",
    "            print(re.sub(pattern, ' ', tweet))\n",
    "            print(match)\n",
    "            print()\n",
    "    num += 1"
   ]
  },
  {
   "cell_type": "code",
   "execution_count": 13,
   "metadata": {},
   "outputs": [
    {
     "data": {
      "text/plain": [
       "'         '"
      ]
     },
     "execution_count": 13,
     "metadata": {},
     "output_type": "execute_result"
    }
   ],
   "source": [
    "def remove_url(line):\n",
    "    pattern = re.compile(r'http[s]?://(?:[a-zA-Z]|[0-9]|[$-_@.&+]|[!*\\(\\),]|(?:%[0-9a-fA-F][0-9a-fA-F]))+\\b')\n",
    "    return re.sub(pattern, ' ', line)\n",
    "\n",
    "# test\n",
    "remove_url('http://t.co/3feH7MvO       http://t.co/JtzeBa4o')"
   ]
  },
  {
   "cell_type": "code",
   "execution_count": 14,
   "metadata": {},
   "outputs": [
    {
     "name": "stdout",
     "output_type": "stream",
     "text": [
      "2\n",
      "RT @FabSugar: Kerry Washington is EVERYTHING. Dying over her Miu Miu gown! @goldenglobes #goldenglobes http://t.co/3feH7MvO\n",
      "['http://t.co/3feH7MvO']\n",
      "\n",
      "44\n",
      "RT @CondensadorFL: Llega el futuro ganador del Globo de Oro: Leonardo DiCaprio #GoldenGlobes #RedCarpet http://t.co/JtzeBa4o\n",
      "['http://t.co/JtzeBa4o']\n",
      "\n",
      "53\n",
      "Nicole Kidman is wearing Alexander McQueen. #GoldenGlobes. See more here: http://t.co/0w3kQfH7\n",
      "['http://t.co/0w3kQfH7']\n",
      "\n",
      "60\n",
      "RT @cjfarley: We're live blogging the #GoldenGlobes http://t.co/MHmlCspZ via @WSJ\n",
      "['http://t.co/MHmlCspZ']\n",
      "\n",
      "61\n",
      "RT @TwitterMovies: Nominee @OfficialAdele on the red carpet! #GoldenGlobes http://t.co/55Jw0hpm\n",
      "['http://t.co/55Jw0hpm']\n",
      "\n",
      "73\n",
      "RT @goldenglobes: Eddie Redmayne on the @GoldenGlobes #redcarpet! http://t.co/rNW9kwWh\n",
      "['http://t.co/rNW9kwWh']\n",
      "\n",
      "80\n",
      "RT @epnebelle: Rob posing on the carpet! #GoldenGlobes http://t.co/ZWfLW43X\n",
      "['http://t.co/ZWfLW43X']\n",
      "\n",
      "94\n",
      "RT @MarilynMonroeES: Marilyn Monroe en los Golden Globes de 1960. #GoldenGlobes #AlfombraRojaE http://t.co/p3wnBKSr\n",
      "['http://t.co/p3wnBKSr']\n",
      "\n",
      "99\n",
      "RT @harpersbazaarES: También Eva Longoria se decanta por el color negro #redcarpet #goldenglobes http://t.co/OLvxTO6S\n",
      "['http://t.co/OLvxTO6S']\n",
      "\n"
     ]
    }
   ],
   "source": [
    "# test for url detection\n",
    "num = 0\n",
    "count = 0\n",
    "pattern = re.compile(r'http[s]?://(?:[a-zA-Z]|[0-9]|[$-_@.&+]|[!*\\(\\),]|(?:%[0-9a-fA-F][0-9a-fA-F]))+\\b')\n",
    "for tweet in data:\n",
    "    match = re.findall(pattern, tweet)\n",
    "    if match:\n",
    "        count += 1\n",
    "        # check the first 10 cases\n",
    "        if count < 10:\n",
    "            print(num)\n",
    "            print(tweet)\n",
    "            print(match)\n",
    "            print()\n",
    "    num += 1"
   ]
  },
  {
   "cell_type": "code",
   "execution_count": 15,
   "metadata": {},
   "outputs": [],
   "source": [
    "def cleanse(line):\n",
    "    # replace everything to ' ' except whitespace, alphanumeric character, apostrophe, hashtag, @\n",
    "    return re.sub(r'[^\\w\\s\\'#@]', ' ', line)"
   ]
  },
  {
   "cell_type": "code",
   "execution_count": 16,
   "metadata": {},
   "outputs": [
    {
     "name": "stdout",
     "output_type": "stream",
     "text": [
      "RT @AudrinaPatridge: @SofiaVergara is my favorite!!! #GoldenGlobes\n",
      " @SofiaVergara is my favorite!!! #GoldenGlobes\n",
      " @SofiaVergara is my favorite!!!  \n",
      "   is my favorite!!!  \n",
      "   is my favorite     \n",
      "“@amsdiva: Kate Hudson's smile is as infectious as her mother's #globesphilly #goldenglobes” Truth\n",
      "“@amsdiva: Kate Hudson's smile is as infectious as her mother's #globesphilly #goldenglobes” Truth\n",
      "“@amsdiva: Kate Hudson's smile is as infectious as her mother's    ” Truth\n",
      "“ : Kate Hudson's smile is as infectious as her mother's    ” Truth\n",
      "    Kate Hudson's smile is as infectious as her mother's      Truth\n"
     ]
    }
   ],
   "source": [
    "# test\n",
    "text = data[19]\n",
    "text1 = remove_retweet_prefix(text)\n",
    "text2 = remove_hashtag(text1)\n",
    "text3 = remove_at(text2)\n",
    "text4 = cleanse(text3)\n",
    "print(text)\n",
    "print(text1)\n",
    "print(text2)\n",
    "print(text3)\n",
    "print(text4)\n",
    "\n",
    "text = data[15]\n",
    "text1 = remove_retweet_prefix(text)\n",
    "text2 = remove_hashtag(text1)\n",
    "text3 = remove_at(text2)\n",
    "text4 = cleanse(text3)\n",
    "print(text)\n",
    "print(text1)\n",
    "print(text2)\n",
    "print(text3)\n",
    "print(text4)"
   ]
  },
  {
   "cell_type": "code",
   "execution_count": 17,
   "metadata": {},
   "outputs": [
    {
     "name": "stdout",
     "output_type": "stream",
     "text": [
      "Tina  \n",
      "Tina \n"
     ]
    }
   ],
   "source": [
    "def remove_apostrophe(text):\n",
    "    # remove_apostrophe\n",
    "#     if text.endswith(\"'s\"):\n",
    "#         return text[:-2].strip()\n",
    "    pattern = re.compile(r'\\'s\\b')\n",
    "    return re.sub(pattern, ' ', text)\n",
    "\n",
    "# test\n",
    "print(remove_apostrophe(\"Tina 's\"))\n",
    "print(remove_apostrophe(\"Tina \"))"
   ]
  },
  {
   "cell_type": "code",
   "execution_count": null,
   "metadata": {},
   "outputs": [],
   "source": []
  }
 ],
 "metadata": {
  "kernelspec": {
   "display_name": "Python 3",
   "language": "python",
   "name": "python3"
  },
  "language_info": {
   "codemirror_mode": {
    "name": "ipython",
    "version": 3
   },
   "file_extension": ".py",
   "mimetype": "text/x-python",
   "name": "python",
   "nbconvert_exporter": "python",
   "pygments_lexer": "ipython3",
   "version": "3.7.2"
  }
 },
 "nbformat": 4,
 "nbformat_minor": 2
}
