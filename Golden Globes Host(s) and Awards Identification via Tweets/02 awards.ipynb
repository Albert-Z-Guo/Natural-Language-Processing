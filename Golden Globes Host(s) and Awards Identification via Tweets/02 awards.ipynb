{
 "cells": [
  {
   "cell_type": "code",
   "execution_count": 15,
   "metadata": {},
   "outputs": [],
   "source": [
    "#!/usr/bin/env python3\n",
    "# -*- coding: utf-8 -*-"
   ]
  },
  {
   "cell_type": "code",
   "execution_count": 16,
   "metadata": {},
   "outputs": [],
   "source": [
    "import pandas as pd\n",
    "import re\n",
    "from urllib.request import urlopen\n",
    "from bs4 import BeautifulSoup\n",
    "import json\n",
    "from nltk.tokenize import RegexpTokenizer"
   ]
  },
  {
   "cell_type": "code",
   "execution_count": 18,
   "metadata": {
    "scrolled": true
   },
   "outputs": [],
   "source": [
    "df = pd.read_json(path_or_buf='gg2013.json')"
   ]
  },
  {
   "cell_type": "markdown",
   "metadata": {},
   "source": [
    "# Method 1: get award names from the official website of Golden Globes"
   ]
  },
  {
   "cell_type": "code",
   "execution_count": 19,
   "metadata": {},
   "outputs": [],
   "source": [
    "def get_awards_url(year):\n",
    "    Html = urlopen('https://www.goldenglobes.com/winners-nominees/'+year+'/all').read()\n",
    "    soup = BeautifulSoup(Html,\"html.parser\")\n",
    "    webAll = soup.findAll(\"a\", {\"href\": re.compile(\"/winners-nominees/[0-9]+/all#category-\")})\n",
    "    award_names = []\n",
    "    count = 0\n",
    "    for match in webAll:\n",
    "        award_names.append(match.string)\n",
    "        count = count+1\n",
    "    print('Award names from the official website of Golden Globes in '+year+':')\n",
    "    print(award_names)\n",
    "    return award_names"
   ]
  },
  {
   "cell_type": "markdown",
   "metadata": {},
   "source": [
    "Award names from the official website of Golden Globes in 2013"
   ]
  },
  {
   "cell_type": "code",
   "execution_count": 26,
   "metadata": {},
   "outputs": [
    {
     "data": {
      "text/plain": [
       "['Best Motion Picture - Drama',\n",
       " 'Best Motion Picture - Musical or Comedy',\n",
       " 'Best Performance by an Actress in a Motion Picture - Drama',\n",
       " 'Best Performance by an Actor in a Motion Picture - Drama',\n",
       " 'Best Performance by an Actress in a Motion Picture - Musical or Comedy',\n",
       " 'Best Performance by an Actor in a Motion Picture - Musical or Comedy',\n",
       " 'Best Performance by an Actress in a Supporting Role in any Motion Picture',\n",
       " 'Best Performance by an Actor in a Supporting Role in any Motion Picture',\n",
       " 'Best Director - Motion Picture',\n",
       " 'Best Screenplay - Motion Picture',\n",
       " 'Best Motion Picture - Animated',\n",
       " 'Best Motion Picture - Foreign Language',\n",
       " 'Best Original Score - Motion Picture',\n",
       " 'Best Original Song - Motion Picture',\n",
       " 'Best Television Series - Drama',\n",
       " 'Best Television Series - Musical or Comedy',\n",
       " 'Best Television Limited Series or Motion Picture Made for Television',\n",
       " 'Best Performance by an Actress in a Limited Series or a Motion Picture Made for Television',\n",
       " 'Best Performance by an Actor in a Limited Series or a Motion Picture Made for Television',\n",
       " 'Best Performance by an Actress In A Television Series - Drama',\n",
       " 'Best Performance by an Actor In A Television Series - Drama',\n",
       " 'Best Performance by an Actress in a Television Series - Musical or Comedy',\n",
       " 'Best Performance by an Actor in a Television Series - Musical or Comedy',\n",
       " 'Best Performance by an Actress in a Supporting Role in a Series, Limited Series or Motion Picture Made for Television',\n",
       " 'Best Performance by an Actor in a Supporting Role in a Series, Limited Series or Motion Picture Made for Television',\n",
       " 'Cecil B. deMille Award']"
      ]
     },
     "execution_count": 26,
     "metadata": {},
     "output_type": "execute_result"
    }
   ],
   "source": [
    "get_awards_url('2013')"
   ]
  },
  {
   "cell_type": "markdown",
   "metadata": {},
   "source": [
    "Award names from the official website of Golden Globes in 2015"
   ]
  },
  {
   "cell_type": "code",
   "execution_count": 30,
   "metadata": {},
   "outputs": [
    {
     "data": {
      "text/plain": [
       "['Best Motion Picture - Drama',\n",
       " 'Best Motion Picture - Musical or Comedy',\n",
       " 'Best Performance by an Actress in a Motion Picture - Drama',\n",
       " 'Best Performance by an Actor in a Motion Picture - Drama',\n",
       " 'Best Performance by an Actress in a Motion Picture - Musical or Comedy',\n",
       " 'Best Performance by an Actor in a Motion Picture - Musical or Comedy',\n",
       " 'Best Performance by an Actress in a Supporting Role in any Motion Picture',\n",
       " 'Best Performance by an Actor in a Supporting Role in any Motion Picture',\n",
       " 'Best Director - Motion Picture',\n",
       " 'Best Screenplay - Motion Picture',\n",
       " 'Best Motion Picture - Animated',\n",
       " 'Best Motion Picture - Foreign Language',\n",
       " 'Best Original Score - Motion Picture',\n",
       " 'Best Original Song - Motion Picture',\n",
       " 'Best Television Series - Drama',\n",
       " 'Best Television Series - Musical or Comedy',\n",
       " 'Best Television Limited Series or Motion Picture Made for Television',\n",
       " 'Best Performance by an Actress in a Limited Series or a Motion Picture Made for Television',\n",
       " 'Best Performance by an Actor in a Limited Series or a Motion Picture Made for Television',\n",
       " 'Best Performance by an Actress In A Television Series - Drama',\n",
       " 'Best Performance by an Actor In A Television Series - Drama',\n",
       " 'Best Performance by an Actress in a Television Series - Musical or Comedy',\n",
       " 'Best Performance by an Actor in a Television Series - Musical or Comedy',\n",
       " 'Best Performance by an Actress in a Supporting Role in a Series, Limited Series or Motion Picture Made for Television',\n",
       " 'Best Performance by an Actor in a Supporting Role in a Series, Limited Series or Motion Picture Made for Television',\n",
       " 'Cecil B. deMille Award']"
      ]
     },
     "execution_count": 30,
     "metadata": {},
     "output_type": "execute_result"
    }
   ],
   "source": [
    "get_awards_url('2015')"
   ]
  },
  {
   "cell_type": "markdown",
   "metadata": {},
   "source": [
    "# Method 2: get award names from the json file"
   ]
  },
  {
   "cell_type": "code",
   "execution_count": 31,
   "metadata": {},
   "outputs": [],
   "source": [
    "\n",
    "def cleanse(line):\n",
    "    # replace everything to ' ' except whitespace, alphanumeric character, apostrophe, hashtag, @\n",
    "    return re.sub(r'[^\\w\\s\\'#@]', ' ', line)"
   ]
  },
  {
   "cell_type": "code",
   "execution_count": 32,
   "metadata": {},
   "outputs": [],
   "source": [
    "def get_tweets(year):\n",
    "    twitterHandle = '@goldenglobes'\n",
    "    twitterHandleText = twitterHandle[1:]\n",
    "\n",
    "    df = pd.read_json(path_or_buf='gg' + year + '.json')\n",
    "    data = df['text']\n",
    "\n",
    "    res = []\n",
    "    tokenized_tweets = []\n",
    "\n",
    "    for tweet in data:\n",
    "        if twitterHandle in tweet and 'RT' not in tweet:\n",
    "            temp_tweet = RegexpTokenizer(r'\\w+').tokenize(tweet)\n",
    "            if twitterHandleText == temp_tweet[0]:\n",
    "                res.append(temp_tweet)\n",
    "        tweet = RegexpTokenizer(r'\\w+').tokenize(tweet)\n",
    "        tokenized_tweets.append(tweet)\n",
    "\n",
    "    return res\n"
   ]
  },
  {
   "cell_type": "code",
   "execution_count": 45,
   "metadata": {},
   "outputs": [],
   "source": [
    "def get_awards(year):\n",
    "\n",
    "    keyWords = ['Best', 'best', 'Motion', 'motion', 'Picture', 'picture', 'Drama', 'drama', 'Performance', 'performance', 'Actress', 'actress', 'Actor', 'actor','Comedy', 'comedy', 'Musical', 'musical', 'Animated', 'animated', 'Feature', 'feature', 'Film', 'film', 'Foreign', 'foreign', 'Language', 'language', 'Supporting', 'supporting', 'Role', 'role', 'Director', 'director', 'Screenplay', 'screenplay', 'Original', 'orginal', 'Score', 'score', 'Song', 'song', 'Television', 'television', 'Series', 'series', 'Mini-series',  'mini-series', 'mini', 'Mini']\n",
    "    connectWords = ['by','By','An','an','In','in','A','a','For','for','-',':','Or','or']\n",
    "\n",
    "    Tweets = get_tweets(year)\n",
    "    print('The number of tweets includes award names is '+ str(len(Tweets)))\n",
    "    num = 0\n",
    "    # awards' names\n",
    "    awards = []\n",
    "    # tweets include words > 3\n",
    "    awardTweets = []\n",
    "\n",
    "    # if exists award name\n",
    "    for item in Tweets:\n",
    "        if len(set(keyWords).intersection(set(item))) > 3:\n",
    "            num = num + 1\n",
    "            awardTweets.append(sorted(set(item), key=lambda x: item.index(x)))\n",
    "    print('The number of award names got from the json file is '+ str(num))\n",
    "    \n",
    "    for item in awardTweets:\n",
    "        signIndex = len(item)-1\n",
    "        for word in keyWords:\n",
    "            if word in item:\n",
    "                index = item.index(word)\n",
    "                if index < signIndex:\n",
    "                    signIndex = index\n",
    "        flag = True\n",
    "        temp = []\n",
    "        for word in item:\n",
    "            if word not in keyWords and word not in connectWords and item.index(word) >= signIndex:\n",
    "                flag = False\n",
    "            if word in keyWords or word in connectWords and item.index(word) >= signIndex and flag:\n",
    "                # if word not in helper_words:\n",
    "                temp.append(word.lower())\n",
    "        awardString = ' '.join(sorted(set(temp), key=lambda x: temp.index(x)))\n",
    "        if awardString not in awards:\n",
    "            awards.append(awardString)\n",
    "    for x in awards:\n",
    "        if x.split()[0] != 'best':\n",
    "            awards.remove(x)\n",
    "\n",
    "    set_awards = set(awards)\n",
    "    awards = []\n",
    "    encoded_awards = []\n",
    "\n",
    "    print('\\n')\n",
    "    for x in set_awards:\n",
    "        x_encoded = x.encode(\"utf-8\")\n",
    "        encoded_awards.append(x_encoded)\n",
    "    awards = encoded_awards\n",
    "\n",
    "    return awards, num"
   ]
  },
  {
   "cell_type": "markdown",
   "metadata": {},
   "source": [
    "Award names from the json file of Golden Globes in 2013"
   ]
  },
  {
   "cell_type": "code",
   "execution_count": 46,
   "metadata": {},
   "outputs": [
    {
     "name": "stdout",
     "output_type": "stream",
     "text": [
      "The number of tweets includes award names is 618\n",
      "The number of award names got from the json file is 87\n",
      "\n",
      "\n"
     ]
    },
    {
     "data": {
      "text/plain": [
       "([b'best actress in a motion picture comedy or musical',\n",
       "  b'best television series actor drama',\n",
       "  b'best actress in a motion picture musical or comedy',\n",
       "  b'best supporting actor in a motion picture',\n",
       "  b'best supporting actor actress',\n",
       "  b'best supporting actress in a motion picture',\n",
       "  b'best actor in a motion picture comedy or musical',\n",
       "  b'best motion picture comedy or musical',\n",
       "  b'best motion picture drama',\n",
       "  b'best television series comedy or musical',\n",
       "  b'best supporting actor in a television series',\n",
       "  b'best motion picture television',\n",
       "  b'best actor in a motion picture drama',\n",
       "  b'best actor in a motion picture drama performance',\n",
       "  b'best actress in a television series drama',\n",
       "  b'best television series drama',\n",
       "  b'best supporting actress in a series',\n",
       "  b'best actor in a television series comedy or musical',\n",
       "  b'best actor in a comedy or musical',\n",
       "  b'best animated feature film',\n",
       "  b'best actor comedy or musical',\n",
       "  b'best actress in a motion picture drama'],\n",
       " 87)"
      ]
     },
     "execution_count": 46,
     "metadata": {},
     "output_type": "execute_result"
    }
   ],
   "source": [
    "get_awards('2013')"
   ]
  },
  {
   "cell_type": "markdown",
   "metadata": {},
   "source": [
    "Award names from the json file of Golden Globes in 2013"
   ]
  },
  {
   "cell_type": "code",
   "execution_count": 48,
   "metadata": {},
   "outputs": [
    {
     "name": "stdout",
     "output_type": "stream",
     "text": [
      "The number of tweets includes award names is 8557\n",
      "The number of award names got from the json file is 875\n",
      "\n",
      "\n"
     ]
    },
    {
     "data": {
      "text/plain": [
       "([b'best actor in a television series comedy or musical performance',\n",
       "  b'best series actress comedy musical',\n",
       "  b'best actress in a motion picture comedy or musical',\n",
       "  b'best television series actor drama',\n",
       "  b'best actress in a motion musical',\n",
       "  b'best supporting actor in a motion picture',\n",
       "  b'best supporting actress in a motion picture',\n",
       "  b'best actor in a motion picture comedy or musical',\n",
       "  b'best motion picture comedy or musical',\n",
       "  b'best animated motion picture',\n",
       "  b'best actor drama performance',\n",
       "  b'best supporting actor in a motion picture performance',\n",
       "  b'best actor in a mini series or',\n",
       "  b'best series actress comedy musical original',\n",
       "  b'best motion picture comedy actor performance',\n",
       "  b'best supporting actor performance',\n",
       "  b'best picture comedy musical',\n",
       "  b'best motion picture drama',\n",
       "  b'best actress in comedy musical for',\n",
       "  b'best television series comedy or musical',\n",
       "  b'best actor in a motion picture comedy or musical performance',\n",
       "  b'best supporting actor in a television series',\n",
       "  b'best motion picture television',\n",
       "  b'best supporting actress in a motion picture performance',\n",
       "  b'best supporting actor',\n",
       "  b'best original song',\n",
       "  b'best original score',\n",
       "  b'best actress in a motion picture comedy or musical song',\n",
       "  b'best series actress comedy',\n",
       "  b'best actor in motion picture comedy musical',\n",
       "  b'best actor in a motion picture drama',\n",
       "  b'best original score motion picture',\n",
       "  b'best actor in a motion picture drama performance',\n",
       "  b'best television series drama',\n",
       "  b'best actress in a television series drama',\n",
       "  b'best supporting actress in a series',\n",
       "  b'best actor in a television series comedy or musical',\n",
       "  b'best motion picture comedy musical',\n",
       "  b'best supporting actress in a series or mini',\n",
       "  b'best animated feature film',\n",
       "  b'best series actor drama',\n",
       "  b'best television series comedy',\n",
       "  b'best motion picture drama actress',\n",
       "  b'best drama motion picture',\n",
       "  b'best actress in a television series drama performance',\n",
       "  b'best actress supporting role',\n",
       "  b'best actor series performance',\n",
       "  b'best motion picture actor actress',\n",
       "  b'best actress in a motion picture drama',\n",
       "  b'best actor in motion picture drama'],\n",
       " 875)"
      ]
     },
     "execution_count": 48,
     "metadata": {},
     "output_type": "execute_result"
    }
   ],
   "source": [
    "get_awards('2015')"
   ]
  },
  {
   "cell_type": "code",
   "execution_count": null,
   "metadata": {},
   "outputs": [],
   "source": []
  }
 ],
 "metadata": {
  "kernelspec": {
   "display_name": "Python 3",
   "language": "python",
   "name": "python3"
  },
  "language_info": {
   "codemirror_mode": {
    "name": "ipython",
    "version": 3
   },
   "file_extension": ".py",
   "mimetype": "text/x-python",
   "name": "python",
   "nbconvert_exporter": "python",
   "pygments_lexer": "ipython3",
   "version": "3.7.2"
  }
 },
 "nbformat": 4,
 "nbformat_minor": 2
}
