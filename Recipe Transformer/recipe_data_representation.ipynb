{
 "cells": [
  {
   "cell_type": "markdown",
   "metadata": {},
   "source": [
    "# Ingredients"
   ]
  },
  {
   "cell_type": "code",
   "execution_count": 1,
   "metadata": {},
   "outputs": [],
   "source": [
    "import requests\n",
    "from bs4 import BeautifulSoup"
   ]
  },
  {
   "cell_type": "code",
   "execution_count": 2,
   "metadata": {},
   "outputs": [],
   "source": [
    "url = 'https://www.allrecipes.com/recipe/23988/simple-spinach-lasagna/?internalSource=streams&referringId=87&referringContentType=Recipe%20Hub&clickId=st_trending_s'\n",
    "\n",
    "# test\n",
    "# url = 'https://www.allrecipes.com/recipe/235874/copycat-panera-broccoli-cheddar-soup/?clickId=right%20rail1&internalSource=rr_feed_recipe_sb&referringId=23988%20referringContentType%3Drecipe'"
   ]
  },
  {
   "cell_type": "code",
   "execution_count": 3,
   "metadata": {
    "scrolled": false
   },
   "outputs": [],
   "source": [
    "page = requests.get(url)\n",
    "soup = BeautifulSoup(page.content, 'html.parser')"
   ]
  },
  {
   "cell_type": "code",
   "execution_count": 4,
   "metadata": {
    "scrolled": false
   },
   "outputs": [
    {
     "data": {
      "text/plain": [
       "{'',\n",
       " '1 (32 ounce) jar spaghetti sauce',\n",
       " '1 (8 ounce) package part skim mozzarella cheese, shredded',\n",
       " '1 1/2 cups water',\n",
       " '1 egg',\n",
       " '1 tablespoon extra virgin olive oil',\n",
       " '1 teaspoon salt',\n",
       " '1/2 cup chopped fresh parsley',\n",
       " '1/2 onion, chopped',\n",
       " '1/2 teaspoon dried basil',\n",
       " '1/2 teaspoon dried oregano',\n",
       " '1/4 cup grated Parmesan cheese',\n",
       " '1/8 teaspoon black pepper',\n",
       " '2 (10 ounce) packages frozen chopped spinach',\n",
       " '2 cloves garlic, crushed',\n",
       " '2 cups non-fat cottage cheese',\n",
       " '8 ounces lasagna noodles',\n",
       " 'Add all ingredients to list'}"
      ]
     },
     "execution_count": 4,
     "metadata": {},
     "output_type": "execute_result"
    }
   ],
   "source": [
    "# extract ingredients section from the webpage\n",
    "ingredients = set([element.label.text.strip() for element in soup.find_all(class_='checkList__line')])\n",
    "ingredients"
   ]
  },
  {
   "cell_type": "code",
   "execution_count": 5,
   "metadata": {},
   "outputs": [],
   "source": [
    "# remove unnecessary elements\n",
    "ingredients.remove('')\n",
    "ingredients.remove('Add all ingredients to list')"
   ]
  },
  {
   "cell_type": "code",
   "execution_count": 6,
   "metadata": {},
   "outputs": [
    {
     "data": {
      "text/plain": [
       "{'1 (32 ounce) jar spaghetti sauce',\n",
       " '1 (8 ounce) package part skim mozzarella cheese, shredded',\n",
       " '1 1/2 cups water',\n",
       " '1 egg',\n",
       " '1 tablespoon extra virgin olive oil',\n",
       " '1 teaspoon salt',\n",
       " '1/2 cup chopped fresh parsley',\n",
       " '1/2 onion, chopped',\n",
       " '1/2 teaspoon dried basil',\n",
       " '1/2 teaspoon dried oregano',\n",
       " '1/4 cup grated Parmesan cheese',\n",
       " '1/8 teaspoon black pepper',\n",
       " '2 (10 ounce) packages frozen chopped spinach',\n",
       " '2 cloves garlic, crushed',\n",
       " '2 cups non-fat cottage cheese',\n",
       " '8 ounces lasagna noodles'}"
      ]
     },
     "execution_count": 6,
     "metadata": {},
     "output_type": "execute_result"
    }
   ],
   "source": [
    "ingredients"
   ]
  },
  {
   "cell_type": "code",
   "execution_count": 7,
   "metadata": {},
   "outputs": [
    {
     "data": {
      "text/plain": [
       "['Preheat oven to 350 degrees F (175 degrees C).',\n",
       " 'In a large pot over medium heat saute spinach, onion, oregano, basil and garlic in the olive oil.  Pour in spaghetti sauce and water; simmer 20 minutes.  In a large bowl mix cottage cheese, mozzarella cheese, Parmesan cheese, parsley, salt, pepper and egg.',\n",
       " 'Place a small amount of sauce in the bottom of a lasagna pan.  Place 4 uncooked noodles on top of sauce and top with layer of sauce.  Add 4 more noodles and layer with 1/2 sauce and 1/2 cheese mixture, noodles and repeat until all is layered, finishing with sauce.',\n",
       " 'Cover with foil and bake in a preheated oven for 55 minutes. Remove foil and bake another 15 minutes.  Let sit 10 minutes before serving.',\n",
       " '']"
      ]
     },
     "execution_count": 7,
     "metadata": {},
     "output_type": "execute_result"
    }
   ],
   "source": [
    "# extract directions section from the webpage\n",
    "directions = [element.text.strip() for element in soup.find_all(class_='recipe-directions__list--item')]\n",
    "directions"
   ]
  },
  {
   "cell_type": "code",
   "execution_count": 8,
   "metadata": {},
   "outputs": [],
   "source": [
    "# remove unnecessary elements\n",
    "directions.remove('')"
   ]
  },
  {
   "cell_type": "code",
   "execution_count": 9,
   "metadata": {},
   "outputs": [
    {
     "data": {
      "text/plain": [
       "['Preheat oven to 350 degrees F (175 degrees C).',\n",
       " 'In a large pot over medium heat saute spinach, onion, oregano, basil and garlic in the olive oil.  Pour in spaghetti sauce and water; simmer 20 minutes.  In a large bowl mix cottage cheese, mozzarella cheese, Parmesan cheese, parsley, salt, pepper and egg.',\n",
       " 'Place a small amount of sauce in the bottom of a lasagna pan.  Place 4 uncooked noodles on top of sauce and top with layer of sauce.  Add 4 more noodles and layer with 1/2 sauce and 1/2 cheese mixture, noodles and repeat until all is layered, finishing with sauce.',\n",
       " 'Cover with foil and bake in a preheated oven for 55 minutes. Remove foil and bake another 15 minutes.  Let sit 10 minutes before serving.']"
      ]
     },
     "execution_count": 9,
     "metadata": {},
     "output_type": "execute_result"
    }
   ],
   "source": [
    "directions"
   ]
  },
  {
   "cell_type": "code",
   "execution_count": 10,
   "metadata": {},
   "outputs": [],
   "source": [
    "import re"
   ]
  },
  {
   "cell_type": "code",
   "execution_count": 11,
   "metadata": {},
   "outputs": [],
   "source": [
    "def extract_quantity_in_backets(line):\n",
    "    # find '(abc)' where 'abc' is in arbitrary length\n",
    "    pattern = re.compile(r'\\([\\w\\s]*\\)') \n",
    "    match = re.findall(pattern, line)\n",
    "    if len(match) != 0:\n",
    "        return match"
   ]
  },
  {
   "cell_type": "code",
   "execution_count": 12,
   "metadata": {},
   "outputs": [],
   "source": [
    "def extract_preparation(line):\n",
    "    # find ', abc' where 'abc' is in arbitrary length\n",
    "    pattern = re.compile(r', [\\w\\s]*') \n",
    "    match = re.findall(pattern, line)\n",
    "    if len(match) != 0:\n",
    "        return match"
   ]
  },
  {
   "cell_type": "code",
   "execution_count": 13,
   "metadata": {},
   "outputs": [],
   "source": [
    "def extract_quantity_measurement_preparation(line):\n",
    "    quantity_split = []\n",
    "    measurement = None\n",
    "    \n",
    "    # extract preparation\n",
    "    preparation = extract_preparation(line)\n",
    "    if preparation:\n",
    "        line = re.sub(r'{0}'.format(preparation[0]), '', line)\n",
    "        # remove ', ' prefix\n",
    "        preparation = preparation[0][2:]  \n",
    "    \n",
    "    # extract quantity in backets\n",
    "    quantity_in_brackets = extract_quantity_in_backets(line)\n",
    "    if quantity_in_brackets:\n",
    "        line = re.sub(r'\\({0}\\)'.format(quantity_in_brackets[0]), '', line)\n",
    "        quantity_in_brackets = quantity_in_brackets[0]\n",
    "    \n",
    "    # extract quantity from the first word\n",
    "    line_split = line.split()\n",
    "    quantity_split.append(line_split[0])\n",
    "    \n",
    "    # extract quantity from the second word if the word contains a digit\n",
    "    if any(char.isdigit() for char in line_split[1]):\n",
    "        quantity_split.append(line_split[1])\n",
    "        measurement = line_split[2]\n",
    "    else:\n",
    "        # to adjust for case like '1 egg' or '1/2 onion, chopped'\n",
    "        if len(line_split) > 2:\n",
    "            measurement = line_split[1]\n",
    "    \n",
    "    # append quantity in backets at the end\n",
    "    if quantity_in_brackets:\n",
    "        quantity_split.append(quantity_in_brackets)\n",
    "\n",
    "    return ' '.join(quantity_split), measurement, preparation"
   ]
  },
  {
   "cell_type": "code",
   "execution_count": 14,
   "metadata": {},
   "outputs": [],
   "source": [
    "def extract_ingredient_name(line):\n",
    "    quantity, measurement, preparation = extract_quantity_measurement_preparation(line)\n",
    "    if measurement is None:\n",
    "        measurement = ''\n",
    "        \n",
    "    if preparation:\n",
    "        return line[len(quantity + ' ' + measurement) : -(len(preparation) + 2)].strip()\n",
    "    else:\n",
    "        return line[len(quantity + ' ' + measurement):].strip()"
   ]
  },
  {
   "cell_type": "code",
   "execution_count": 15,
   "metadata": {},
   "outputs": [
    {
     "data": {
      "text/plain": [
       "'onion'"
      ]
     },
     "execution_count": 15,
     "metadata": {},
     "output_type": "execute_result"
    }
   ],
   "source": [
    "extract_ingredient_name('1/2 onion, chopped')"
   ]
  },
  {
   "cell_type": "code",
   "execution_count": 16,
   "metadata": {},
   "outputs": [],
   "source": [
    "import spacy\n",
    "\n",
    "# python3 -m spacy download en\n",
    "nlp = spacy.load('en')\n",
    "\n",
    "def tokenize(line):\n",
    "    return [(token.text, token.tag_) for token in nlp(line)]"
   ]
  },
  {
   "cell_type": "code",
   "execution_count": 17,
   "metadata": {},
   "outputs": [
    {
     "data": {
      "text/plain": [
       "[('1', 'CD'),\n",
       " ('tablespoon', 'VBP'),\n",
       " ('extra', 'JJ'),\n",
       " ('virgin', 'JJ'),\n",
       " ('olive', 'NN'),\n",
       " ('oil', 'NN')]"
      ]
     },
     "execution_count": 17,
     "metadata": {},
     "output_type": "execute_result"
    }
   ],
   "source": [
    "tokenize('1 tablespoon extra virgin olive oil')"
   ]
  },
  {
   "cell_type": "code",
   "execution_count": 18,
   "metadata": {},
   "outputs": [
    {
     "data": {
      "text/plain": [
       "'verb, non-3rd person singular present'"
      ]
     },
     "execution_count": 18,
     "metadata": {},
     "output_type": "execute_result"
    }
   ],
   "source": [
    "spacy.explain('VBP')"
   ]
  },
  {
   "cell_type": "code",
   "execution_count": 19,
   "metadata": {},
   "outputs": [],
   "source": [
    "import nltk\n",
    "# nltk.download('averaged_perceptron_tagger')\n",
    "\n",
    "def tokenize_nltk(line):\n",
    "    tokens = nltk.word_tokenize(line)\n",
    "    token_tag_pairs = nltk.pos_tag(tokens)\n",
    "    return token_tag_pairs"
   ]
  },
  {
   "cell_type": "code",
   "execution_count": 20,
   "metadata": {},
   "outputs": [
    {
     "data": {
      "text/plain": [
       "[('1', 'CD'),\n",
       " ('tablespoon', 'VBP'),\n",
       " ('extra', 'JJ'),\n",
       " ('virgin', 'JJ'),\n",
       " ('olive', 'NN'),\n",
       " ('oil', 'NN')]"
      ]
     },
     "execution_count": 20,
     "metadata": {},
     "output_type": "execute_result"
    }
   ],
   "source": [
    "tokenize('1 tablespoon extra virgin olive oil')"
   ]
  },
  {
   "cell_type": "code",
   "execution_count": 21,
   "metadata": {},
   "outputs": [],
   "source": [
    "def extract_descriptor(ingredient_name):\n",
    "    descriptor = []\n",
    "    token_tag_pairs = tokenize(ingredient_name)\n",
    "    for pair in token_tag_pairs:\n",
    "        if pair[1] == \"JJ\" or pair[1] == \"VBN\":\n",
    "            descriptor.append(pair[0])\n",
    "    if len(descriptor) != 0:\n",
    "        return ' '.join(descriptor)"
   ]
  },
  {
   "cell_type": "code",
   "execution_count": 22,
   "metadata": {},
   "outputs": [],
   "source": [
    "def check_noun_num(token_tag_pairs):\n",
    "    tag_num_dict = {}\n",
    "    for pair in token_tag_pairs:\n",
    "        if pair[1] not in tag_num_dict:\n",
    "            tag_num_dict[pair[1]] = 1\n",
    "        else:\n",
    "            tag_num_dict[pair[1]] += 1\n",
    "    \n",
    "    criterion_1 = 'NN' in tag_num_dict and tag_num_dict['NN'] >= 2\n",
    "    criterion_2 = 'NNS' in tag_num_dict and tag_num_dict['NNS'] >= 2\n",
    "    criterion_3 = 'NN' in tag_num_dict and 'NNS' in tag_num_dict and tag_num_dict['NN'] + tag_num_dict['NNS'] >= 2\n",
    "    \n",
    "    if criterion_1 or criterion_2 or criterion_3:\n",
    "        return True\n",
    "    else:\n",
    "        return False"
   ]
  },
  {
   "cell_type": "code",
   "execution_count": 23,
   "metadata": {},
   "outputs": [],
   "source": [
    "ingredients_nouns = set()\n",
    "def extract_ingredients_nouns(line):\n",
    "    token_tag_pairs = tokenize(line)\n",
    "    for pair in token_tag_pairs:\n",
    "        if pair[1] == 'NN' or pair[1] == 'NNS':\n",
    "            global ingredients_nouns\n",
    "            ingredients_nouns |= {pair[0]}"
   ]
  },
  {
   "cell_type": "code",
   "execution_count": 24,
   "metadata": {
    "scrolled": false
   },
   "outputs": [
    {
     "name": "stdout",
     "output_type": "stream",
     "text": [
      "8 ounces lasagna noodles\n",
      "ingredient name: lasagna noodles\n",
      "descriptor: None\n",
      "quantity: 8\n",
      "measurement: ounces\n",
      "preparation: None\n",
      "\n",
      "2 (10 ounce) packages frozen chopped spinach\n",
      "ingredient name: frozen chopped spinach\n",
      "descriptor: frozen\n",
      "quantity: 2 (10 ounce)\n",
      "measurement: packages\n",
      "preparation: None\n",
      "\n",
      "1 egg\n",
      "ingredient name: egg\n",
      "descriptor: None\n",
      "quantity: 1\n",
      "measurement: None\n",
      "preparation: None\n",
      "\n",
      "2 cups non-fat cottage cheese\n",
      "ingredient name: non-fat cottage cheese\n",
      "descriptor: None\n",
      "quantity: 2\n",
      "measurement: cups\n",
      "preparation: None\n",
      "\n",
      "1 teaspoon salt\n",
      "ingredient name: salt\n",
      "descriptor: None\n",
      "quantity: 1\n",
      "measurement: teaspoon\n",
      "preparation: None\n",
      "\n",
      "1/2 onion, chopped\n",
      "ingredient name: onion\n",
      "descriptor: None\n",
      "quantity: 1/2\n",
      "measurement: None\n",
      "preparation: chopped\n",
      "\n",
      "1/2 teaspoon dried basil\n",
      "ingredient name: dried basil\n",
      "descriptor: dried\n",
      "quantity: 1/2\n",
      "measurement: teaspoon\n",
      "preparation: None\n",
      "\n",
      "1 1/2 cups water\n",
      "ingredient name: water\n",
      "descriptor: None\n",
      "quantity: 1 1/2\n",
      "measurement: cups\n",
      "preparation: None\n",
      "\n",
      "1 (32 ounce) jar spaghetti sauce\n",
      "ingredient name: spaghetti sauce\n",
      "descriptor: None\n",
      "quantity: 1 (32 ounce)\n",
      "measurement: jar\n",
      "preparation: None\n",
      "\n",
      "1/2 teaspoon dried oregano\n",
      "ingredient name: dried oregano\n",
      "descriptor: dried\n",
      "quantity: 1/2\n",
      "measurement: teaspoon\n",
      "preparation: None\n",
      "\n",
      "2 cloves garlic, crushed\n",
      "ingredient name: garlic\n",
      "descriptor: garlic\n",
      "quantity: 2\n",
      "measurement: cloves\n",
      "preparation: crushed\n",
      "\n",
      "1/4 cup grated Parmesan cheese\n",
      "ingredient name: grated Parmesan cheese\n",
      "descriptor: grated\n",
      "quantity: 1/4\n",
      "measurement: cup\n",
      "preparation: None\n",
      "\n",
      "1 tablespoon extra virgin olive oil\n",
      "ingredient name: extra virgin olive oil\n",
      "descriptor: extra virgin\n",
      "quantity: 1\n",
      "measurement: tablespoon\n",
      "preparation: None\n",
      "\n",
      "1/2 cup chopped fresh parsley\n",
      "ingredient name: chopped fresh parsley\n",
      "descriptor: chopped fresh\n",
      "quantity: 1/2\n",
      "measurement: cup\n",
      "preparation: None\n",
      "\n",
      "1/8 teaspoon black pepper\n",
      "ingredient name: black pepper\n",
      "descriptor: black\n",
      "quantity: 1/8\n",
      "measurement: teaspoon\n",
      "preparation: None\n",
      "\n",
      "1 (8 ounce) package part skim mozzarella cheese, shredded\n",
      "ingredient name: part skim mozzarella cheese\n",
      "descriptor: skim\n",
      "quantity: 1 (8 ounce)\n",
      "measurement: package\n",
      "preparation: shredded\n",
      "\n",
      "{'onion', 'oil', 'fat', 'mozzarella', 'cheese', 'part', 'noodles', 'lasagna', 'spinach', 'parsley', 'package', 'salt', 'basil', 'spaghetti', 'cups', 'ounce', 'pepper', 'jar', 'water', 'oregano', 'cloves', 'ounces', 'sauce', 'cottage', 'teaspoon', 'cup', 'olive', 'egg'}\n"
     ]
    }
   ],
   "source": [
    "for line in ingredients:\n",
    "    quantity, measurement, preparation = extract_quantity_measurement_preparation(line)\n",
    "    ingredient_name = extract_ingredient_name(line)\n",
    "    descriptor = extract_descriptor(ingredient_name)\n",
    "    extract_ingredients_nouns(line)\n",
    "    \n",
    "    print(line)\n",
    "    print('ingredient name:', ingredient_name)\n",
    "    print('descriptor:', descriptor)\n",
    "    print('quantity:', quantity)\n",
    "    print('measurement:', measurement)\n",
    "    print('preparation:', preparation)\n",
    "    print()\n",
    "    \n",
    "#     token_tag_pairs = tokenize(line)\n",
    "#     print(token_tag_pairs)\n",
    "#     print(check_noun_num(token_tag_pairs))\n",
    "#     print()\n",
    "print(ingredients_nouns)"
   ]
  },
  {
   "cell_type": "markdown",
   "metadata": {},
   "source": [
    "# Tools"
   ]
  },
  {
   "cell_type": "code",
   "execution_count": 25,
   "metadata": {
    "scrolled": false
   },
   "outputs": [],
   "source": [
    "from nltk import sent_tokenize\n",
    "\n",
    "directions_nouns = set()\n",
    "# adjust for special case\n",
    "directions_nouns |= {'oven'}\n",
    "\n",
    "def extract_directions_nouns(line):\n",
    "    direction_nouns_local = set()\n",
    "    token_tag_pairs = tokenize(line)\n",
    "    for pair in token_tag_pairs:\n",
    "        # avoid case like 'degrees C'\n",
    "        if len(pair[0]) > 1:\n",
    "            if pair[1] == 'NN' or pair[1] == 'NNS':\n",
    "                direction_nouns_local |= {pair[0]}\n",
    "    global directions_nouns\n",
    "    directions_nouns |= direction_nouns_local\n",
    "    return direction_nouns_local"
   ]
  },
  {
   "cell_type": "code",
   "execution_count": 27,
   "metadata": {},
   "outputs": [
    {
     "name": "stdout",
     "output_type": "stream",
     "text": [
      "Preheat oven to 350 degrees F (175 degrees C).\n",
      "---------\n",
      "In a large pot over medium heat saute spinach, onion, oregano, basil and garlic in the olive oil.\n",
      "Pour in spaghetti sauce and water; simmer 20 minutes.\n",
      "In a large bowl mix cottage cheese, mozzarella cheese, Parmesan cheese, parsley, salt, pepper and egg.\n",
      "---------\n",
      "Place a small amount of sauce in the bottom of a lasagna pan.\n",
      "Place 4 uncooked noodles on top of sauce and top with layer of sauce.\n",
      "Add 4 more noodles and layer with 1/2 sauce and 1/2 cheese mixture, noodles and repeat until all is layered, finishing with sauce.\n",
      "---------\n",
      "Cover with foil and bake in a preheated oven for 55 minutes.\n",
      "Remove foil and bake another 15 minutes.\n",
      "Let sit 10 minutes before serving.\n",
      "---------\n",
      "{'onion', 'oil', 'mozzarella', 'pot', 'cheese', 'Place', 'noodles', 'bake', 'lasagna', 'spinach', 'layer', 'top', 'salt', 'basil', 'spaghetti', 'oven', 'heat', 'saute', 'minutes', 'pepper', 'garlic', 'degrees', 'oregano', 'water', 'sauce', 'pan', 'mixture', 'cottage', 'bowl', 'foil', 'mix', 'olive', 'amount', 'egg', 'bottom'}\n"
     ]
    }
   ],
   "source": [
    "for direction in directions:\n",
    "    sentences = sent_tokenize(direction)\n",
    "    for sentence in sentences:\n",
    "        print(sentence)\n",
    "        extract_directions_nouns(sentence)\n",
    "    print('---------')\n",
    "    \n",
    "print(directions_nouns)"
   ]
  },
  {
   "cell_type": "code",
   "execution_count": 28,
   "metadata": {},
   "outputs": [
    {
     "data": {
      "text/plain": [
       "'spong'"
      ]
     },
     "execution_count": 28,
     "metadata": {},
     "output_type": "execute_result"
    }
   ],
   "source": [
    "from nltk.stem import PorterStemmer\n",
    "stemmer = PorterStemmer()\n",
    "\n",
    "# test\n",
    "stemmer.stem('Sponges')"
   ]
  },
  {
   "cell_type": "code",
   "execution_count": 29,
   "metadata": {},
   "outputs": [],
   "source": [
    "def retrieve_tool_set():\n",
    "    url = 'https://www.mealime.com/kitchen-essentials-list'\n",
    "    page = requests.get(url)\n",
    "    soup = BeautifulSoup(page.content, 'html.parser')\n",
    "    tools = [element.text for element in soup.find_all(class_='anchor-button')]\n",
    "    print(tools)\n",
    "    tools = set([stemmer.stem(tool.split()[-1].strip()) for tool in tools])\n",
    "    print(tools)\n",
    "    return tools"
   ]
  },
  {
   "cell_type": "code",
   "execution_count": 30,
   "metadata": {},
   "outputs": [
    {
     "name": "stdout",
     "output_type": "stream",
     "text": [
      "[\"Chef's Knife\", 'Cutting board', 'Can Opener', 'Measuring Cups', 'Measuring Spoons', 'Mixing Bowls', 'Colander', 'Vegetable Peeler', 'Potato Masher', 'Whisk', 'Salad Spinner', 'Grater', 'Shears', 'Citrus Juicer', 'Garlic Press', 'Paring Knife', 'Bread Knife', 'Honing Steel', 'Knife Sharpener', 'Stainless Steel Skillet', 'Sauté Pan', 'Small Saucepan', 'Medium Saucepan', 'Large Pot', 'Cast Iron Skillet', 'Grill Pan', 'Baking Sheet Pan', 'Casserole Dish', 'Broiler Pan', 'Stockpot', 'Spatula', 'Stirring Spoon', 'Tongs', 'Ladle', 'Oven Mitts', 'Trivet', 'Splatter Guard', 'Thermometer', 'Immersion Blender', 'Kitchen Scale', 'Blender', 'Food Storage Containers', 'Aluminum Foil', 'Parchment Paper', 'Towels', 'Sponges', 'Heavy Sponges', 'Dish Rack', 'Ice Cube Tray', 'Small Trash Bags', 'Large Trash Bags', 'Small Trash Bin', 'Large Trash Bin']\n",
      "{'dish', 'bag', 'spinner', 'stockpot', 'shear', 'grater', 'board', 'knife', 'thermomet', 'guard', 'peeler', 'saucepan', 'steel', 'pan', 'tong', 'bowl', 'trivet', 'cup', 'whisk', 'towel', 'paper', 'open', 'pot', 'tray', 'sharpen', 'press', 'mitt', 'rack', 'spong', 'blender', 'ladl', 'bin', 'spoon', 'juicer', 'spatula', 'skillet', 'contain', 'scale', 'masher', 'foil', 'coland'}\n"
     ]
    }
   ],
   "source": [
    "tools = retrieve_tool_set()"
   ]
  },
  {
   "cell_type": "code",
   "execution_count": 31,
   "metadata": {},
   "outputs": [
    {
     "data": {
      "text/plain": [
       "{'bowl', 'foil', 'pan', 'pot'}"
      ]
     },
     "execution_count": 31,
     "metadata": {},
     "output_type": "execute_result"
    }
   ],
   "source": [
    "def extract_tools(directions_nouns, tools):\n",
    "    directions_tools = set()\n",
    "    for noun in directions_nouns:\n",
    "        if stemmer.stem(noun) in tools:\n",
    "            directions_tools |= {noun}\n",
    "    return directions_tools\n",
    "\n",
    "extract_tools(directions_nouns, tools)"
   ]
  },
  {
   "cell_type": "markdown",
   "metadata": {},
   "source": [
    "# Methods"
   ]
  },
  {
   "cell_type": "code",
   "execution_count": 32,
   "metadata": {},
   "outputs": [],
   "source": [
    "def retrieve_method_set():\n",
    "    url = 'https://www.thedailymeal.com/cook/15-basic-cooking-methods-you-need-know-slideshow/slide-13'\n",
    "    page = requests.get(url)\n",
    "    soup = BeautifulSoup(page.content, 'html.parser')\n",
    "    methods = [element.h2.text for element in soup.find_all(class_='image-title slide-title')]\n",
    "    print(methods)\n",
    "    methods = set([stemmer.stem(method.split('-')[-1].strip()) for method in methods])\n",
    "    print(methods)\n",
    "    return methods"
   ]
  },
  {
   "cell_type": "code",
   "execution_count": 33,
   "metadata": {},
   "outputs": [
    {
     "name": "stdout",
     "output_type": "stream",
     "text": [
      "['Grill', 'Pan-Fry', 'Deep-Fry', 'Sauté', 'Boil', 'Roast', 'Bake', 'Sear', 'Poach', 'Simmer', 'Broil  ', 'Steam', 'Blanch', 'Braise', 'Stew']\n",
      "{'fri', 'poach', 'grill', 'sauté', 'bake', 'steam', 'boil', 'sear', 'broil', 'stew', 'simmer', 'roast', 'blanch', 'brais'}\n"
     ]
    }
   ],
   "source": [
    "methods = retrieve_method_set()"
   ]
  },
  {
   "cell_type": "code",
   "execution_count": 34,
   "metadata": {},
   "outputs": [],
   "source": [
    "directions_verbs = set()\n",
    "def extract_directions_verbs(line):\n",
    "    direction_verbs_local = set()\n",
    "    token_tag_pairs = tokenize(line)\n",
    "    for pair in token_tag_pairs:    \n",
    "        if pair[1] == 'VB':\n",
    "            direction_verbs_local |= {pair[0]}\n",
    "    global directions_verbs\n",
    "    directions_verbs |= direction_verbs_local\n",
    "    return direction_verbs_local"
   ]
  },
  {
   "cell_type": "code",
   "execution_count": 35,
   "metadata": {},
   "outputs": [
    {
     "name": "stdout",
     "output_type": "stream",
     "text": [
      "Preheat oven to 350 degrees F (175 degrees C).\n",
      "---------\n",
      "In a large pot over medium heat saute spinach, onion, oregano, basil and garlic in the olive oil.\n",
      "Pour in spaghetti sauce and water; simmer 20 minutes.\n",
      "In a large bowl mix cottage cheese, mozzarella cheese, Parmesan cheese, parsley, salt, pepper and egg.\n",
      "---------\n",
      "Place a small amount of sauce in the bottom of a lasagna pan.\n",
      "Place 4 uncooked noodles on top of sauce and top with layer of sauce.\n",
      "Add 4 more noodles and layer with 1/2 sauce and 1/2 cheese mixture, noodles and repeat until all is layered, finishing with sauce.\n",
      "---------\n",
      "Cover with foil and bake in a preheated oven for 55 minutes.\n",
      "Remove foil and bake another 15 minutes.\n",
      "Let sit 10 minutes before serving.\n",
      "---------\n",
      "{'Cover', 'Pour', 'Place', 'bake', 'Let', 'Add', 'repeat', 'Remove', 'simmer', 'sit', 'Preheat'}\n"
     ]
    }
   ],
   "source": [
    "for direction in directions:\n",
    "    sentences = sent_tokenize(direction)\n",
    "    for sentence in sentences:\n",
    "        print(sentence)\n",
    "        extract_directions_verbs(sentence)\n",
    "    print('---------')\n",
    "    \n",
    "print(directions_verbs)"
   ]
  },
  {
   "cell_type": "code",
   "execution_count": 36,
   "metadata": {},
   "outputs": [
    {
     "data": {
      "text/plain": [
       "{'bake', 'simmer'}"
      ]
     },
     "execution_count": 36,
     "metadata": {},
     "output_type": "execute_result"
    }
   ],
   "source": [
    "def extract_methods(directions_verbs, methods):\n",
    "    directions_methods = set()\n",
    "    for verb in directions_verbs:\n",
    "        if stemmer.stem(verb) in methods:\n",
    "            directions_methods |= {verb}\n",
    "    return directions_methods\n",
    "\n",
    "extract_methods(directions_verbs, methods)"
   ]
  },
  {
   "cell_type": "markdown",
   "metadata": {},
   "source": [
    "# Steps"
   ]
  },
  {
   "cell_type": "code",
   "execution_count": 37,
   "metadata": {},
   "outputs": [
    {
     "name": "stdout",
     "output_type": "stream",
     "text": [
      "Step: 1\n",
      "Direction: Preheat oven to 350 degrees F (175 degrees C).\n",
      "---------\n",
      "Step: 2\n",
      "Direction: In a large pot over medium heat saute spinach, onion, oregano, basil and garlic in the olive oil.  Pour in spaghetti sauce and water; simmer 20 minutes.  In a large bowl mix cottage cheese, mozzarella cheese, Parmesan cheese, parsley, salt, pepper and egg.\n",
      "tools: {'bowl', 'pot'}\n",
      "methods: {'simmer'}\n",
      "ingredients: {'onion', 'oil', 'pepper', 'mozzarella', 'salt', 'water', 'oregano', 'spinach', 'egg', 'basil', 'spaghetti'}\n",
      "---------\n",
      "Step: 3\n",
      "Direction: Place a small amount of sauce in the bottom of a lasagna pan.  Place 4 uncooked noodles on top of sauce and top with layer of sauce.  Add 4 more noodles and layer with 1/2 sauce and 1/2 cheese mixture, noodles and repeat until all is layered, finishing with sauce.\n",
      "tools: {'pan'}\n",
      "ingredients: {'lasagna'}\n",
      "---------\n",
      "Step: 4\n",
      "Direction: Cover with foil and bake in a preheated oven for 55 minutes. Remove foil and bake another 15 minutes.  Let sit 10 minutes before serving.\n",
      "tools: {'foil'}\n",
      "methods: {'bake'}\n",
      "---------\n"
     ]
    }
   ],
   "source": [
    "for i, direction in enumerate(directions):\n",
    "    print('Step:', i+1)\n",
    "    print('Direction:', direction)\n",
    "\n",
    "    single_direction_tools = set()\n",
    "    single_direction_methods = set()\n",
    "    single_direction_ingredients = set()\n",
    "    \n",
    "    sentences = sent_tokenize(direction)\n",
    "    for sentence in sentences:\n",
    "        single_direction_tools |= extract_tools(extract_directions_nouns(sentence), tools)\n",
    "        single_direction_methods |= extract_methods(extract_directions_verbs(sentence), methods)\n",
    "        single_direction_ingredients |= extract_tools(extract_directions_nouns(sentence), ingredients_nouns)\n",
    "    if len(single_direction_tools) > 0:\n",
    "        print('tools:', single_direction_tools)\n",
    "    if len(single_direction_methods) > 0:\n",
    "        print('methods:', single_direction_methods)\n",
    "    if len(single_direction_ingredients) > 0:\n",
    "        print('ingredients:', single_direction_ingredients)\n",
    "    print('---------')"
   ]
  },
  {
   "cell_type": "code",
   "execution_count": null,
   "metadata": {},
   "outputs": [],
   "source": []
  }
 ],
 "metadata": {
  "kernelspec": {
   "display_name": "Python 3",
   "language": "python",
   "name": "python3"
  },
  "language_info": {
   "codemirror_mode": {
    "name": "ipython",
    "version": 3
   },
   "file_extension": ".py",
   "mimetype": "text/x-python",
   "name": "python",
   "nbconvert_exporter": "python",
   "pygments_lexer": "ipython3",
   "version": "3.7.2"
  }
 },
 "nbformat": 4,
 "nbformat_minor": 2
}
