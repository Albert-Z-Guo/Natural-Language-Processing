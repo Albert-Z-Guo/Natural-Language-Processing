{
 "cells": [
  {
   "cell_type": "markdown",
   "metadata": {},
   "source": [
    "# Ingredients"
   ]
  },
  {
   "cell_type": "code",
   "execution_count": 195,
   "metadata": {},
   "outputs": [],
   "source": [
    "import re\n",
    "import pickle\n",
    "\n",
    "import spacy\n",
    "import requests\n",
    "from bs4 import BeautifulSoup"
   ]
  },
  {
   "cell_type": "code",
   "execution_count": 196,
   "metadata": {},
   "outputs": [],
   "source": [
    "# python3 -m spacy download en\n",
    "nlp = spacy.load('en')\n",
    "\n",
    "def tokenize(line):\n",
    "    return [(token.text, token.tag_) for token in nlp(line)]"
   ]
  },
  {
   "cell_type": "code",
   "execution_count": 197,
   "metadata": {},
   "outputs": [],
   "source": [
    "url = 'https://www.allrecipes.com/recipe/23988/simple-spinach-lasagna/?internalSource=streams&referringId=87&referringContentType=Recipe%20Hub&clickId=st_trending_s'\n",
    "\n",
    "# test\n",
    "# url = 'https://www.allrecipes.com/recipe/235874/copycat-panera-broccoli-cheddar-soup/?clickId=right%20rail1&internalSource=rr_feed_recipe_sb&referringId=23988%20referringContentType%3Drecipe'\n",
    "url = 'https://www.allrecipes.com/recipe/180735/traditional-style-vegan-shepherds-pie/'"
   ]
  },
  {
   "cell_type": "code",
   "execution_count": 198,
   "metadata": {
    "scrolled": false
   },
   "outputs": [
    {
     "name": "stdout",
     "output_type": "stream",
     "text": [
      "prep_time, cook_time: ('20 m', '55 m')\n"
     ]
    }
   ],
   "source": [
    "def extract_time(url):\n",
    "    page = requests.get(url)\n",
    "    soup = BeautifulSoup(page.content, 'html.parser')\n",
    "    times = set([element.text.strip() for element in soup.find_all(class_='prepTime__item')])\n",
    "    # remove uncessary elements\n",
    "    times.remove('')\n",
    "    for time in times:\n",
    "        if 'prep' in time.lower():\n",
    "            prep_time = time[4:]\n",
    "        if 'cook' in time.lower():\n",
    "            cook_time = time[4:]\n",
    "    return prep_time, cook_time\n",
    "\n",
    "# test\n",
    "print('prep_time, cook_time:', extract_time(url)) "
   ]
  },
  {
   "cell_type": "code",
   "execution_count": 199,
   "metadata": {},
   "outputs": [],
   "source": [
    "def convert_to_minutes(time):\n",
    "    if 'h' in cook_time:\n",
    "        hour_index = cook_time.index('h')\n",
    "        hours = int(cook_time[:hour_index].strip())\n",
    "        minutes = int(cook_time[hour_index+1 : -1].strip())\n",
    "    else:\n",
    "        hours = 0\n",
    "        minutes = int(cook_time[: -1].strip())\n",
    "    return 60*hours + minutes"
   ]
  },
  {
   "cell_type": "code",
   "execution_count": 200,
   "metadata": {},
   "outputs": [
    {
     "data": {
      "text/plain": [
       "\"Traditional Style Vegan Shepherd's Pie\""
      ]
     },
     "execution_count": 200,
     "metadata": {},
     "output_type": "execute_result"
    }
   ],
   "source": [
    "def get_recipe_name(url):\n",
    "    page = requests.get(url)\n",
    "    soup = BeautifulSoup(page.content, 'html.parser')\n",
    "    return soup.find_all(\"h1\", {\"class\": \"recipe-summary__h1\"})[0].text\n",
    "\n",
    "# test\n",
    "get_recipe_name(url)"
   ]
  },
  {
   "cell_type": "code",
   "execution_count": 201,
   "metadata": {
    "scrolled": false
   },
   "outputs": [
    {
     "name": "stdout",
     "output_type": "stream",
     "text": [
      "['Place the potatoes in a pot, cover with cold water, and bring to a boil over medium-high heat. Turn the heat to medium-low, and boil the potatoes until tender, about 25 minutes; drain.', 'Stir the vegan mayonnaise, soy milk, olive oil, vegan cream cheese, and salt into the potatoes, and mash with a potato masher until smooth and fluffy. Set the potatoes aside.', 'Preheat oven to 400 degrees F (200 degrees C), and spray a 2-quart baking dish with cooking spray.', 'Heat the vegetable oil in a large skillet over medium heat, and cook and stir the onion, carrots, celery, frozen peas, and tomato until softened, about 10 minutes. Stir in the Italian seasoning, garlic, and pepper.', 'Reduce the heat to medium-low, and crumble the vegetarian ground beef substitute into the skillet with the vegetables. Cook and stir, breaking up the meat substitute, until the mixture is hot, about 5 minutes.', 'Spread the vegetarian meat substitute mixture into the bottom of the baking dish, and top with the mashed potatoes, smoothing them into an even layer. Sprinkle the potatoes with the shredded soy cheese.', 'Bake in the preheated oven until the cheese is melted and slightly browned and the casserole is hot, about 20 minutes.']\n"
     ]
    },
    {
     "data": {
      "text/plain": [
       "{'1 (14 ounce) package vegetarian ground beef substitute',\n",
       " '1 clove garlic, minced, or more to taste',\n",
       " '1 large yellow onion, chopped',\n",
       " '1 pinch ground black pepper to taste',\n",
       " '1 tablespoon vegetable oil',\n",
       " '1 teaspoon Italian seasoning',\n",
       " '1 tomato, chopped',\n",
       " '1/2 cup frozen peas',\n",
       " '1/2 cup shredded Cheddar-style soy cheese',\n",
       " '1/2 cup soy milk',\n",
       " '1/2 cup vegan mayonnaise',\n",
       " '1/4 cup olive oil',\n",
       " '2 carrots, chopped',\n",
       " '2 teaspoons salt',\n",
       " '3 stalks celery, chopped',\n",
       " '3 tablespoons vegan cream cheese substitute (such as Tofutti ®)',\n",
       " '5 russet potatoes, peeled and cut into 1-inch cubes',\n",
       " 'Bottom layer:',\n",
       " 'Mashed potato layer:'}"
      ]
     },
     "execution_count": 201,
     "metadata": {},
     "output_type": "execute_result"
    }
   ],
   "source": [
    "def get_ingredient_list_and_directions(url):\n",
    "    page = requests.get(url)\n",
    "    soup = BeautifulSoup(page.content, 'html.parser')\n",
    "    # extract ingredients section from the webpage\n",
    "    ingredients = set([element.label.text.strip() for element in soup.find_all(class_='checkList__line')])\n",
    "    # remove unnecessary elements\n",
    "    unnecessary = ['', 'Add all ingredients to list']\n",
    "    for i in unnecessary:\n",
    "        if i in ingredients:\n",
    "            ingredients.remove(i)\n",
    "            \n",
    "    # extract directions section from the webpage\n",
    "    directions = [element.text.strip() for element in soup.find_all(class_='recipe-directions__list--item')]\n",
    "    # remove unnecessary elements\n",
    "    directions.remove('')\n",
    "    return ingredients, directions\n",
    "\n",
    "# test\n",
    "ingredients, directions = get_ingredient_list_and_directions(url)\n",
    "print(directions)\n",
    "ingredients"
   ]
  },
  {
   "cell_type": "code",
   "execution_count": 202,
   "metadata": {},
   "outputs": [],
   "source": [
    "def numerical(line):\n",
    "    # replace everything to '' except whitespace, alphanumeric character\n",
    "    line = re.sub(r'[^\\w\\s]', '', line)\n",
    "    token_tag_pairs = tokenize(line)\n",
    "    for pair in token_tag_pairs:\n",
    "        # if the word is not numerical\n",
    "        if not pair[1] == \"CD\":\n",
    "            return False\n",
    "    return True\n",
    "\n",
    "def nouns_only(line):\n",
    "    # replace everything to '' except whitespace, alphanumeric character\n",
    "    line = re.sub(r'[^\\w\\s]', '', line)\n",
    "    token_tag_pairs = tokenize(line)\n",
    "    for pair in token_tag_pairs:\n",
    "        # if the word is not a noun or cardinal number\n",
    "        if not (pair[1] == \"NN\" or pair[1] == \"NNS\"):\n",
    "            return False\n",
    "    return True"
   ]
  },
  {
   "cell_type": "code",
   "execution_count": 310,
   "metadata": {},
   "outputs": [],
   "source": [
    "def extract_quantity_in_backets(line):\n",
    "    # find '(abc)' where 'abc' is in arbitrary length and 'abc' does not contain brackets\n",
    "    pattern = re.compile(r'\\([^\\(\\)]*\\)') \n",
    "    match = re.findall(pattern, line)\n",
    "    if len(match) != 0:\n",
    "        # if no numerical value or line_split length > 3 \n",
    "        if not any(char.isdigit() for char in match[0]) or len(match[0].split()) > 3:\n",
    "            return None\n",
    "        return match\n",
    "    \n",
    "def extract_preparation(line):\n",
    "    # find ', abc' where 'abc' is in arbitrary length\n",
    "    pattern = re.compile(r'[\\b]?, [^\\(\\)]*')\n",
    "    match = re.findall(pattern, line)\n",
    "    if len(match) != 0:\n",
    "        return match\n",
    "    \n",
    "def extract_all(line):\n",
    "#     print(line)\n",
    "    type_exceptions = ['can', 'tablespoon', 'oz', 'clove']\n",
    "    quantity_split = []\n",
    "    measurement = None\n",
    "    \n",
    "    # extract preparation\n",
    "    line = line.replace(' -', ',')\n",
    "    preparation = extract_preparation(line)\n",
    "    if preparation:\n",
    "#         print('preparation[0]: {0}|'.format(preparation[0]))\n",
    "        preparation = preparation[0].strip()\n",
    "        line = re.sub(r'{0}'.format(preparation), '', line)\n",
    "        # remove ', ' prefix\n",
    "        preparation = preparation[2:]\n",
    "        \n",
    "    # extract quantity in backets\n",
    "    quantity_in_brackets = extract_quantity_in_backets(line)\n",
    "    if quantity_in_brackets:\n",
    "        line = re.sub(r'\\({0}\\)'.format(quantity_in_brackets[0]), '', line)\n",
    "        quantity_in_brackets = quantity_in_brackets[0]\n",
    "    \n",
    "    line_split = line.split()\n",
    "    # extract quantity from the first word if the word contains a digit\n",
    "    if any(char.isdigit() for char in line_split[0]):\n",
    "        quantity_split.append(line_split[0])\n",
    "    \n",
    "        # extract quantity from the second word if the word contains a digit\n",
    "        if any(char.isdigit() for char in line_split[1]):\n",
    "            quantity_split.append(line_split[1])\n",
    "            # check measurement type\n",
    "            # to avoid case like '1 large tomato, seeded and chopped'\n",
    "            if nouns_only(line_split[2]) or line_split[2] in type_exceptions:\n",
    "                measurement = line_split[2]\n",
    "        else:\n",
    "            # check line_split length for case like '1 egg' or '1/2 onion, chopped'\n",
    "            if len(line_split) > 2 and (nouns_only(line_split[1]) or line_split[1] in type_exceptions):\n",
    "                measurement = line_split[1]\n",
    "        line = re.sub(r'{0}'.format(' '.join(quantity_split)), '', line)\n",
    "    \n",
    "    if measurement:\n",
    "        line = re.sub(r'{0}'.format(measurement), '', line)\n",
    "    \n",
    "    # append quantity in backets at the end\n",
    "    if quantity_in_brackets:\n",
    "        quantity_split.append(quantity_in_brackets)\n",
    "    quantity = ' '.join(quantity_split)\n",
    "    \n",
    "    # extract ingredient name\n",
    "    line = re.sub(r'[ ]?®', '', line)\n",
    "    line = re.sub(r'[ ]?™', '', line)\n",
    "    ingredient_name = line.strip()\n",
    "    \n",
    "    # extract descriptor\n",
    "    descriptor = extract_descriptor(ingredient_name)\n",
    "    \n",
    "    # remove descriptor if not None\n",
    "    ingredient = ingredient_name.replace(descriptor, '').strip() if descriptor else ingredient_name\n",
    "    # if ingredient is empty after removing descriptor\n",
    "    if ingredient == '':\n",
    "        ingredient = ingredient_name\n",
    "    # remove ' to taste' in ingredient if any\n",
    "    ingredient = re.sub(r'(or)? to taste', '', ingredient)\n",
    "    ingredient = ' '.join(ingredient.split())\n",
    "    \n",
    "    # if 'or to taste' or 'or as needed' in preparation\n",
    "    if preparation is not None and 'or ' in preparation:\n",
    "        quantity += ' ' + preparation\n",
    "        preparation = None    \n",
    "    \n",
    "    return quantity, measurement, descriptor, ingredient, preparation"
   ]
  },
  {
   "cell_type": "code",
   "execution_count": 311,
   "metadata": {},
   "outputs": [],
   "source": [
    "def extract_descriptor(ingredient_name):\n",
    "    type_exceptions = ['parsley', 'garlic', 'chili']\n",
    "    descriptor = []\n",
    "    token_tag_pairs = []\n",
    "    \n",
    "    for element in ingredient_name.split():\n",
    "        # treat compound word with hyphen as an adjective\n",
    "        if '-' in element:\n",
    "            token_tag_pairs.append((element, 'JJ'))\n",
    "        else:\n",
    "            token_tag_pairs.append([(token.text, token.tag_) for token in nlp(element)][0])\n",
    "    \n",
    "    for pair in token_tag_pairs:\n",
    "        # if the word is an adjective, an adverb, or a past participle of a verb, or exception like 'ground'\n",
    "        if pair[1] == \"JJ\" or pair[1] == \"RB\" or pair[1] == \"VBN\" or pair[0] == 'ground':\n",
    "            if pair[0] not in type_exceptions:\n",
    "                descriptor.append(pair[0])\n",
    "    if len(descriptor) != 0:\n",
    "        return ' '.join(descriptor)"
   ]
  },
  {
   "cell_type": "code",
   "execution_count": 312,
   "metadata": {},
   "outputs": [
    {
     "data": {
      "text/plain": [
       "[('5', 'CD'),\n",
       " ('russet', 'NN'),\n",
       " ('potatoes', 'NNS'),\n",
       " (',', ','),\n",
       " ('peeled', 'VBD'),\n",
       " ('and', 'CC'),\n",
       " ('cut', 'VBN'),\n",
       " ('into', 'IN'),\n",
       " ('1-inch', 'JJ'),\n",
       " ('cubes', 'NNS')]"
      ]
     },
     "execution_count": 312,
     "metadata": {},
     "output_type": "execute_result"
    }
   ],
   "source": [
    "tokenize('1 tablespoon extra virgin olive oil')\n",
    "tokenize('5 russet potatoes, peeled and cut into 1-inch cubes')"
   ]
  },
  {
   "cell_type": "code",
   "execution_count": 313,
   "metadata": {},
   "outputs": [
    {
     "data": {
      "text/plain": [
       "'verb, 3rd person singular present'"
      ]
     },
     "execution_count": 313,
     "metadata": {},
     "output_type": "execute_result"
    }
   ],
   "source": [
    "spacy.explain('VBZ')"
   ]
  },
  {
   "cell_type": "code",
   "execution_count": 314,
   "metadata": {},
   "outputs": [],
   "source": [
    "import nltk\n",
    "# nltk.download('punkt')\n",
    "# nltk.download('averaged_perceptron_tagger')\n",
    "\n",
    "def tokenize_nltk(line):\n",
    "    tokens = nltk.word_tokenize(line)\n",
    "    token_tag_pairs = nltk.pos_tag(tokens)\n",
    "    return token_tag_pairs"
   ]
  },
  {
   "cell_type": "code",
   "execution_count": 316,
   "metadata": {
    "scrolled": false
   },
   "outputs": [
    {
     "name": "stdout",
     "output_type": "stream",
     "text": [
      "3 tablespoons vegan cream cheese substitute (such as Tofutti ®)\n",
      "\t quantity   : 3\n",
      "\t measurement: tablespoons\n",
      "\t descriptor : substitute\n",
      "\t ingredient : vegan cream cheese (such as Tofutti)\n",
      "\t preparation: None\n",
      "\n",
      "1 clove garlic, minced, or more to taste\n",
      "\t quantity   : 1 minced, or more to taste\n",
      "\t measurement: clove\n",
      "\t descriptor : None\n",
      "\t ingredient : garlic\n",
      "\t preparation: None\n",
      "\n",
      "1/4 cup olive oil\n",
      "\t quantity   : 1/4\n",
      "\t measurement: cup\n",
      "\t descriptor : None\n",
      "\t ingredient : olive oil\n",
      "\t preparation: None\n",
      "\n",
      "1/2 cup shredded Cheddar-style soy cheese\n",
      "\t quantity   : 1/2\n",
      "\t measurement: cup\n",
      "\t descriptor : shredded Cheddar-style\n",
      "\t ingredient : soy cheese\n",
      "\t preparation: None\n",
      "\n",
      "2 teaspoons salt\n",
      "\t quantity   : 2\n",
      "\t measurement: teaspoons\n",
      "\t descriptor : None\n",
      "\t ingredient : salt\n",
      "\t preparation: None\n",
      "\n",
      "1 pinch ground black pepper to taste\n",
      "\t quantity   : 1\n",
      "\t measurement: pinch\n",
      "\t descriptor : ground black\n",
      "\t ingredient : pepper\n",
      "\t preparation: None\n",
      "\n",
      "5 russet potatoes, peeled and cut into 1-inch cubes\n",
      "\t quantity   : 5\n",
      "\t measurement: None\n",
      "\t descriptor : russet\n",
      "\t ingredient : potatoes\n",
      "\t preparation: peeled and cut into 1-inch cubes\n",
      "\n",
      "1 tablespoon vegetable oil\n",
      "\t quantity   : 1\n",
      "\t measurement: tablespoon\n",
      "\t descriptor : vegetable\n",
      "\t ingredient : oil\n",
      "\t preparation: None\n",
      "\n",
      "1/2 cup soy milk\n",
      "\t quantity   : 1/2\n",
      "\t measurement: cup\n",
      "\t descriptor : None\n",
      "\t ingredient : soy milk\n",
      "\t preparation: None\n",
      "\n",
      "1 teaspoon Italian seasoning\n",
      "\t quantity   : 1\n",
      "\t measurement: teaspoon\n",
      "\t descriptor : Italian\n",
      "\t ingredient : seasoning\n",
      "\t preparation: None\n",
      "\n",
      "3 stalks celery, chopped\n",
      "\t quantity   : 3\n",
      "\t measurement: stalks\n",
      "\t descriptor : None\n",
      "\t ingredient : celery\n",
      "\t preparation: chopped\n",
      "\n",
      "1 tomato, chopped\n",
      "\t quantity   : 1\n",
      "\t measurement: None\n",
      "\t descriptor : None\n",
      "\t ingredient : tomato\n",
      "\t preparation: chopped\n",
      "\n",
      "2 carrots, chopped\n",
      "\t quantity   : 2\n",
      "\t measurement: None\n",
      "\t descriptor : None\n",
      "\t ingredient : carrots\n",
      "\t preparation: chopped\n",
      "\n",
      "1/2 cup vegan mayonnaise\n",
      "\t quantity   : 1/2\n",
      "\t measurement: cup\n",
      "\t descriptor : None\n",
      "\t ingredient : vegan mayonnaise\n",
      "\t preparation: None\n",
      "\n",
      "1 (14 ounce) package vegetarian ground beef substitute\n",
      "\t quantity   : 1 (14 ounce)\n",
      "\t measurement: package\n",
      "\t descriptor : vegetarian ground substitute\n",
      "\t ingredient : vegetarian ground beef substitute\n",
      "\t preparation: None\n",
      "\n",
      "1 large yellow onion, chopped\n",
      "\t quantity   : 1\n",
      "\t measurement: None\n",
      "\t descriptor : large yellow\n",
      "\t ingredient : onion\n",
      "\t preparation: chopped\n",
      "\n",
      "1/2 cup frozen peas\n",
      "\t quantity   : 1/2\n",
      "\t measurement: cup\n",
      "\t descriptor : frozen\n",
      "\t ingredient : peas\n",
      "\t preparation: None\n",
      "\n"
     ]
    }
   ],
   "source": [
    "def decompose_ingredients(ingredients):\n",
    "    for line in ingredients:\n",
    "        # exceptions like \"topping:\"\n",
    "        if ':' in line:\n",
    "            continue\n",
    "            \n",
    "        quantity, measurement, descriptor, ingredient, preparation = extract_all(line)\n",
    "            \n",
    "        print(line)\n",
    "        print('\\t quantity   :', quantity)\n",
    "        print('\\t measurement:', measurement)\n",
    "        print('\\t descriptor :', descriptor)\n",
    "        print('\\t ingredient :', ingredient)\n",
    "        print('\\t preparation:', preparation)\n",
    "        print()\n",
    "\n",
    "# test\n",
    "decompose_ingredients(ingredients)"
   ]
  },
  {
   "cell_type": "markdown",
   "metadata": {},
   "source": [
    "# Tools"
   ]
  },
  {
   "cell_type": "code",
   "execution_count": 317,
   "metadata": {
    "scrolled": false
   },
   "outputs": [],
   "source": [
    "from nltk import sent_tokenize"
   ]
  },
  {
   "cell_type": "code",
   "execution_count": 318,
   "metadata": {},
   "outputs": [
    {
     "data": {
      "text/plain": [
       "{'Bake',\n",
       " 'baking',\n",
       " 'beef',\n",
       " 'boil',\n",
       " 'bottom',\n",
       " 'carrots',\n",
       " 'casserole',\n",
       " 'celery',\n",
       " 'cheese',\n",
       " 'cooking',\n",
       " 'cream',\n",
       " 'degrees',\n",
       " 'dish',\n",
       " 'heat',\n",
       " 'layer',\n",
       " 'masher',\n",
       " 'mayonnaise',\n",
       " 'meat',\n",
       " 'medium',\n",
       " 'milk',\n",
       " 'minutes',\n",
       " 'mixture',\n",
       " 'oil',\n",
       " 'olive',\n",
       " 'onion',\n",
       " 'oven',\n",
       " 'peas',\n",
       " 'pepper',\n",
       " 'pot',\n",
       " 'potato',\n",
       " 'potatoes',\n",
       " 'seasoning',\n",
       " 'skillet',\n",
       " 'soy',\n",
       " 'spray',\n",
       " 'substitute',\n",
       " 'tender',\n",
       " 'tomato',\n",
       " 'top',\n",
       " 'vegan',\n",
       " 'vegetable',\n",
       " 'vegetables',\n",
       " 'water'}"
      ]
     },
     "execution_count": 318,
     "metadata": {},
     "output_type": "execute_result"
    }
   ],
   "source": [
    "def extract_directions_nouns(directions):\n",
    "    directions_nouns = set()\n",
    "    if isinstance(directions, str):\n",
    "        directions = [directions]\n",
    "    for direction in directions:\n",
    "        sentences = sent_tokenize(direction)\n",
    "        for sentence in sentences:\n",
    "            # check for special cases where spaCy cannot recognize well\n",
    "            if ' oven' in sentence:\n",
    "                directions_nouns |= {'oven'}\n",
    "#             print(sentence)\n",
    "            token_tag_pairs = tokenize(sentence)\n",
    "            for pair in token_tag_pairs:    \n",
    "                # avoid case like 'degrees C'\n",
    "                if len(pair[0]) > 1:\n",
    "                    if (pair[1] == 'NN' or pair[1] == 'NNS') and pair[0] != 'ground':\n",
    "                        directions_nouns |= {pair[0]}\n",
    "#         print('---------')\n",
    "    return directions_nouns\n",
    "\n",
    "    \n",
    "extract_directions_nouns(directions)"
   ]
  },
  {
   "cell_type": "code",
   "execution_count": 319,
   "metadata": {},
   "outputs": [
    {
     "data": {
      "text/plain": [
       "'spong'"
      ]
     },
     "execution_count": 319,
     "metadata": {},
     "output_type": "execute_result"
    }
   ],
   "source": [
    "from nltk.stem import PorterStemmer\n",
    "stemmer = PorterStemmer()\n",
    "\n",
    "# test\n",
    "stemmer.stem('Sponges')"
   ]
  },
  {
   "cell_type": "code",
   "execution_count": 320,
   "metadata": {},
   "outputs": [],
   "source": [
    "def retrieve_tools_set():\n",
    "    try:\n",
    "        with open('tools.pickle', 'rb') as file:\n",
    "            tools = pickle.load(file)\n",
    "            print('loaded tools set successfully')\n",
    "    except:\n",
    "        url = 'https://www.mealime.com/kitchen-essentials-list'\n",
    "        page = requests.get(url)\n",
    "        soup = BeautifulSoup(page.content, 'html.parser')\n",
    "        tools = [element.text for element in soup.find_all(class_='anchor-button')]\n",
    "        # reduce each tool to its last word\n",
    "        tools = set([stemmer.stem(tool.split()[-1].strip()) for tool in tools])\n",
    "        \n",
    "        # save retrieved data\n",
    "        with open('tools.pickle', 'wb') as file:\n",
    "            pickle.dump(tools, file, protocol=pickle.HIGHEST_PROTOCOL)\n",
    "    \n",
    "    return tools"
   ]
  },
  {
   "cell_type": "code",
   "execution_count": 321,
   "metadata": {},
   "outputs": [
    {
     "name": "stdout",
     "output_type": "stream",
     "text": [
      "loaded tools set successfully\n"
     ]
    },
    {
     "data": {
      "text/plain": [
       "{'dish', 'masher', 'pot', 'skillet'}"
      ]
     },
     "execution_count": 321,
     "metadata": {},
     "output_type": "execute_result"
    }
   ],
   "source": [
    "def extract_tools(directions_nouns):\n",
    "    tools = retrieve_tools_set()\n",
    "    directions_tools = set()\n",
    "    for noun in directions_nouns:\n",
    "        if stemmer.stem(noun) in tools:\n",
    "            directions_tools |= {noun}\n",
    "    return directions_tools\n",
    "\n",
    "extract_tools(directions_nouns)"
   ]
  },
  {
   "cell_type": "markdown",
   "metadata": {},
   "source": [
    "# Methods"
   ]
  },
  {
   "cell_type": "code",
   "execution_count": 322,
   "metadata": {},
   "outputs": [
    {
     "name": "stdout",
     "output_type": "stream",
     "text": [
      "loaded cooking_methods set successfully\n"
     ]
    },
    {
     "data": {
      "text/plain": [
       "{'bake',\n",
       " 'blanch',\n",
       " 'boil',\n",
       " 'brais',\n",
       " 'broil',\n",
       " 'deep-fri',\n",
       " 'grill',\n",
       " 'pan-fri',\n",
       " 'poach',\n",
       " 'roast',\n",
       " 'sauté',\n",
       " 'sear',\n",
       " 'simmer',\n",
       " 'steam',\n",
       " 'stew'}"
      ]
     },
     "execution_count": 322,
     "metadata": {},
     "output_type": "execute_result"
    }
   ],
   "source": [
    "def retrieve_cooking_methods_set():\n",
    "    try:\n",
    "        with open('cooking_methods.pickle', 'rb') as file:\n",
    "            cooking_methods = pickle.load(file)\n",
    "            print('loaded cooking_methods set successfully')\n",
    "    except:\n",
    "        url = 'https://www.thedailymeal.com/cook/15-basic-cooking-methods-you-need-know-slideshow/slide-13'\n",
    "        page = requests.get(url)\n",
    "        soup = BeautifulSoup(page.content, 'html.parser')\n",
    "        cooking_methods = [element.h2.text for element in soup.find_all(class_='image-title slide-title')]\n",
    "        cooking_methods = set([stemmer.stem(method.strip()) for method in cooking_methods])\n",
    "        \n",
    "        # save retrieved data\n",
    "        with open('cooking_methods.pickle', 'wb') as file:\n",
    "            pickle.dump(cooking_methods, file, protocol=pickle.HIGHEST_PROTOCOL)\n",
    "            \n",
    "    return cooking_methods\n",
    "\n",
    "# test\n",
    "methods = retrieve_cooking_methods_set()\n",
    "methods"
   ]
  },
  {
   "cell_type": "code",
   "execution_count": 323,
   "metadata": {},
   "outputs": [
    {
     "name": "stdout",
     "output_type": "stream",
     "text": [
      "loaded other_cooking_methods set successfully\n"
     ]
    },
    {
     "data": {
      "text/plain": [
       "{'bain-mari',\n",
       " 'bake',\n",
       " 'barbecu',\n",
       " 'bast',\n",
       " 'blanch',\n",
       " 'boil',\n",
       " 'bone',\n",
       " 'brine',\n",
       " 'can',\n",
       " 'caramel',\n",
       " 'chiffonad',\n",
       " 'chop',\n",
       " 'cockaign',\n",
       " 'cream',\n",
       " 'cube',\n",
       " 'deglaz',\n",
       " 'degorg',\n",
       " 'dredg',\n",
       " 'dri',\n",
       " 'ferment',\n",
       " 'fri',\n",
       " 'grill',\n",
       " 'julien',\n",
       " 'marin',\n",
       " 'minc',\n",
       " 'pan-fri',\n",
       " 'pickl',\n",
       " 'poach',\n",
       " 'roast',\n",
       " 'rub',\n",
       " 'sauté',\n",
       " 'scald',\n",
       " 'shir',\n",
       " 'simmer',\n",
       " 'skill',\n",
       " 'slice',\n",
       " 'smoke',\n",
       " 'sous-vid',\n",
       " 'steam',\n",
       " 'stew',\n",
       " 'stir-fri',\n",
       " 'storag',\n",
       " 'temper',\n",
       " 'test'}"
      ]
     },
     "execution_count": 323,
     "metadata": {},
     "output_type": "execute_result"
    }
   ],
   "source": [
    "def retrieve_other_cooking_methods_set():\n",
    "    try:\n",
    "        with open('other_cooking_methods.pickle', 'rb') as file:\n",
    "            other_cooking_methods = pickle.load(file)\n",
    "            print('loaded other_cooking_methods set successfully')\n",
    "    except:\n",
    "        url = 'https://en.wikibooks.org/wiki/Cookbook:Cooking_Techniques'\n",
    "        page = requests.get(url)\n",
    "        soup = BeautifulSoup(page.content, 'html.parser')\n",
    "        unwanted = ['Contents', '[', 'edit', ']', '\\n']\n",
    "        other_cooking_methods = set()\n",
    "        dump = soup.find_all(class_='mw-parser-output')\n",
    "        for i in dump:\n",
    "            for j in i.contents:\n",
    "                if hasattr(j, 'contents'):\n",
    "                    for k in j.contents:\n",
    "                        if hasattr(k, 'contents'):\n",
    "                            for l in k.contents:\n",
    "                                if hasattr(l, 'contents'):\n",
    "                                    for method in l:\n",
    "    #                                     print(method.string)\n",
    "                                        if method.string is not None and method not in unwanted:\n",
    "                                            other_cooking_methods |= {stemmer.stem(method.string.split()[-1])}\n",
    "\n",
    "        # remove uncessary methods after complexity reduction\n",
    "        other_cooking_methods.remove('cook')\n",
    "        other_cooking_methods.remove('chocol')\n",
    "        \n",
    "        # save retrieved data\n",
    "        with open('other_cooking_methods.pickle', 'wb') as file:\n",
    "            pickle.dump(other_cooking_methods, file, protocol=pickle.HIGHEST_PROTOCOL)\n",
    "            \n",
    "    return other_cooking_methods\n",
    "\n",
    "# test\n",
    "other_methods = retrieve_other_cooking_methods_set()\n",
    "other_methods"
   ]
  },
  {
   "cell_type": "code",
   "execution_count": 324,
   "metadata": {},
   "outputs": [
    {
     "data": {
      "text/plain": [
       "{'Cook',\n",
       " 'Heat',\n",
       " 'Place',\n",
       " 'Preheat',\n",
       " 'Reduce',\n",
       " 'Set',\n",
       " 'Spread',\n",
       " 'Sprinkle',\n",
       " 'Stir',\n",
       " 'Turn',\n",
       " 'boil',\n",
       " 'bring',\n",
       " 'cook',\n",
       " 'cover',\n",
       " 'drain',\n",
       " 'mash',\n",
       " 'salt',\n",
       " 'spray',\n",
       " 'stir'}"
      ]
     },
     "execution_count": 324,
     "metadata": {},
     "output_type": "execute_result"
    }
   ],
   "source": [
    "def extract_directions_verbs(directions):\n",
    "    directions_verbs = set()\n",
    "    if isinstance(directions, str):\n",
    "        directions = [directions]\n",
    "    for direction in directions:\n",
    "        sentences = sent_tokenize(direction)\n",
    "        for sentence in sentences:\n",
    "#             print(sentence)\n",
    "            token_tag_pairs = tokenize(sentence)\n",
    "            for pair in token_tag_pairs:    \n",
    "                if pair[1] == 'VB':\n",
    "                    directions_verbs |= {pair[0]}\n",
    "#         print('---------')\n",
    "    return directions_verbs\n",
    "\n",
    "extract_directions_verbs(directions)"
   ]
  },
  {
   "cell_type": "code",
   "execution_count": 325,
   "metadata": {},
   "outputs": [
    {
     "name": "stdout",
     "output_type": "stream",
     "text": [
      "loaded cooking_methods set successfully\n",
      "loaded other_cooking_methods set successfully\n"
     ]
    },
    {
     "data": {
      "text/plain": [
       "{'boil'}"
      ]
     },
     "execution_count": 325,
     "metadata": {},
     "output_type": "execute_result"
    }
   ],
   "source": [
    "def extract_methods(directions_verbs):\n",
    "    methods = retrieve_cooking_methods_set()\n",
    "    other_methods = retrieve_other_cooking_methods_set()\n",
    "    methods |= other_methods\n",
    "    directions_methods = set()\n",
    "    for verb in directions_verbs:\n",
    "        if stemmer.stem(verb) in methods:\n",
    "            directions_methods |= {verb}\n",
    "    return directions_methods\n",
    "\n",
    "extract_methods(directions_verbs)"
   ]
  },
  {
   "cell_type": "markdown",
   "metadata": {},
   "source": [
    "# Steps"
   ]
  },
  {
   "cell_type": "code",
   "execution_count": 326,
   "metadata": {},
   "outputs": [
    {
     "data": {
      "text/plain": [
       "['vegan cream cheese (such as Tofutti)',\n",
       " 'vegetarian ground beef substitute',\n",
       " 'vegan mayonnaise',\n",
       " 'soy cheese',\n",
       " 'substitute',\n",
       " 'mayonnaise',\n",
       " 'seasoning',\n",
       " 'olive oil',\n",
       " 'potatoes',\n",
       " 'soy milk',\n",
       " 'carrots',\n",
       " 'pepper',\n",
       " 'tomato',\n",
       " 'garlic',\n",
       " 'cheese',\n",
       " 'celery',\n",
       " 'vegan',\n",
       " 'cream',\n",
       " 'onion',\n",
       " 'olive',\n",
       " 'milk',\n",
       " 'salt',\n",
       " 'peas',\n",
       " 'beef',\n",
       " 'oil',\n",
       " 'soy']"
      ]
     },
     "execution_count": 326,
     "metadata": {},
     "output_type": "execute_result"
    }
   ],
   "source": [
    "def extract_directions_ingredients(ingredients):\n",
    "    ingredients_nouns = set()\n",
    "    for line in ingredients:\n",
    "        if ':' in line:\n",
    "            continue\n",
    "        quantity, measurement, descriptor, ingredient, preparation = extract_all(line)\n",
    "        ingredients_nouns |= {ingredient}\n",
    "        # for better granularity, in case full name is not mentioned\n",
    "        token_tag_pairs = tokenize(ingredient)\n",
    "        for pair in token_tag_pairs:    \n",
    "            if len(pair[0]) > 1:\n",
    "                if (pair[1] == 'NN' or pair[1] == 'NNS') and pair[0] != 'ground':\n",
    "                    ingredients_nouns |= {pair[0]}\n",
    "    # start from the longest\n",
    "    return sorted((list(ingredients_nouns)), key=len)[::-1]\n",
    "\n",
    "extract_directions_ingredients(ingredients)"
   ]
  },
  {
   "cell_type": "code",
   "execution_count": 308,
   "metadata": {},
   "outputs": [],
   "source": [
    "def extract_ingredients(direction):\n",
    "    ingredients_set = extract_directions_ingredients(ingredients)\n",
    "    direction_ingredients = set()\n",
    "    used = set()\n",
    "    sentences = sent_tokenize(direction)\n",
    "    for sentence in sentences:\n",
    "        for i in ingredients_set:\n",
    "            if i in sentence and i not in used:\n",
    "                direction_ingredients |= {i}\n",
    "                for word in i.split():\n",
    "                    used |= {word}\n",
    "    return direction_ingredients"
   ]
  },
  {
   "cell_type": "code",
   "execution_count": 309,
   "metadata": {
    "scrolled": false
   },
   "outputs": [
    {
     "name": "stdout",
     "output_type": "stream",
     "text": [
      "Step: 1\n",
      "Direction: Place the potatoes in a pot, cover with cold water, and bring to a boil over medium-high heat. Turn the heat to medium-low, and boil the potatoes until tender, about 25 minutes; drain.\n",
      "\tprep time: 20 m\n",
      "loaded tools set successfully\n",
      "loaded cooking_methods set successfully\n",
      "loaded other_cooking_methods set successfully\n",
      "\ttools: {'pot'}\n",
      "\tmethods: {'boil'}\n",
      "\tingredients: {'potatoes', 'oil'}\n",
      "---------\n",
      "Step: 2\n",
      "Direction: Stir the vegan mayonnaise, soy milk, olive oil, vegan cream cheese, and salt into the potatoes, and mash with a potato masher until smooth and fluffy. Set the potatoes aside.\n",
      "\taverage cook time: 9 m\n",
      "loaded tools set successfully\n",
      "loaded cooking_methods set successfully\n",
      "loaded other_cooking_methods set successfully\n",
      "\ttools: {'masher'}\n",
      "\tingredients: {'soy milk', 'salt', 'olive oil', 'cheese', 'potatoes', 'vegan mayonnaise'}\n",
      "---------\n",
      "Step: 3\n",
      "Direction: Preheat oven to 400 degrees F (200 degrees C), and spray a 2-quart baking dish with cooking spray.\n",
      "\taverage cook time: 9 m\n",
      "loaded tools set successfully\n",
      "loaded cooking_methods set successfully\n",
      "loaded other_cooking_methods set successfully\n",
      "\ttools: {'dish'}\n",
      "---------\n",
      "Step: 4\n",
      "Direction: Heat the vegetable oil in a large skillet over medium heat, and cook and stir the onion, carrots, celery, frozen peas, and tomato until softened, about 10 minutes. Stir in the Italian seasoning, garlic, and pepper.\n",
      "\taverage cook time: 9 m\n",
      "loaded tools set successfully\n",
      "loaded cooking_methods set successfully\n",
      "loaded other_cooking_methods set successfully\n",
      "\ttools: {'skillet'}\n",
      "\tingredients: {'celery', 'garlic', 'tomato', 'pepper', 'onion', 'frozen peas', 'vegetable oil', 'Italian seasoning', 'carrots'}\n",
      "---------\n",
      "Step: 5\n",
      "Direction: Reduce the heat to medium-low, and crumble the vegetarian ground beef substitute into the skillet with the vegetables. Cook and stir, breaking up the meat substitute, until the mixture is hot, about 5 minutes.\n",
      "\taverage cook time: 9 m\n",
      "loaded tools set successfully\n",
      "loaded cooking_methods set successfully\n",
      "loaded other_cooking_methods set successfully\n",
      "\ttools: {'skillet'}\n",
      "\tingredients: {'vegetarian ground beef substitute', 'vegetable'}\n",
      "---------\n",
      "Step: 6\n",
      "Direction: Spread the vegetarian meat substitute mixture into the bottom of the baking dish, and top with the mashed potatoes, smoothing them into an even layer. Sprinkle the potatoes with the shredded soy cheese.\n",
      "\taverage cook time: 9 m\n",
      "loaded tools set successfully\n",
      "loaded cooking_methods set successfully\n",
      "loaded other_cooking_methods set successfully\n",
      "\ttools: {'dish'}\n",
      "\tingredients: {'soy', 'cheese', 'potatoes', 'substitute'}\n",
      "---------\n",
      "Step: 7\n",
      "Direction: Bake in the preheated oven until the cheese is melted and slightly browned and the casserole is hot, about 20 minutes.\n",
      "\taverage cook time: 9 m\n",
      "loaded tools set successfully\n",
      "loaded cooking_methods set successfully\n",
      "loaded other_cooking_methods set successfully\n",
      "\tingredients: {'cheese'}\n",
      "---------\n"
     ]
    }
   ],
   "source": [
    "def decompose_steps():\n",
    "    prep_time, cook_time = extract_time(url)\n",
    "    average_cook_time_per_step = round(convert_to_minutes(cook_time) / (len(directions) - 1))\n",
    "\n",
    "    for i, direction in enumerate(directions):\n",
    "        print('Step:', i+1)\n",
    "        print('Direction:', direction)\n",
    "        if i == 0:\n",
    "            print('\\tprep time:', prep_time)\n",
    "        else:\n",
    "            print('\\taverage cook time: {0} m'.format(average_cook_time_per_step))\n",
    "\n",
    "        single_direction_tools = extract_tools(extract_directions_nouns(direction))\n",
    "        single_direction_methods = extract_methods(extract_directions_verbs(direction))\n",
    "        single_direction_ingredients = extract_ingredients(direction)\n",
    "\n",
    "        if len(single_direction_tools) > 0:\n",
    "            print('\\ttools:', single_direction_tools)\n",
    "        if len(single_direction_methods) > 0:\n",
    "            print('\\tmethods:', single_direction_methods)\n",
    "        if len(single_direction_ingredients) > 0:\n",
    "            print('\\tingredients:', single_direction_ingredients)\n",
    "        print('---------')\n",
    "\n",
    "decompose_steps()"
   ]
  },
  {
   "cell_type": "code",
   "execution_count": null,
   "metadata": {},
   "outputs": [],
   "source": []
  }
 ],
 "metadata": {
  "kernelspec": {
   "display_name": "Python 3",
   "language": "python",
   "name": "python3"
  },
  "language_info": {
   "codemirror_mode": {
    "name": "ipython",
    "version": 3
   },
   "file_extension": ".py",
   "mimetype": "text/x-python",
   "name": "python",
   "nbconvert_exporter": "python",
   "pygments_lexer": "ipython3",
   "version": "3.7.2"
  }
 },
 "nbformat": 4,
 "nbformat_minor": 2
}
