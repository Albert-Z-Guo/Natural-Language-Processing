{
 "cells": [
  {
   "cell_type": "markdown",
   "metadata": {},
   "source": [
    "# Ingredients"
   ]
  },
  {
   "cell_type": "code",
   "execution_count": 1,
   "metadata": {},
   "outputs": [],
   "source": [
    "import re\n",
    "import requests\n",
    "from bs4 import BeautifulSoup"
   ]
  },
  {
   "cell_type": "code",
   "execution_count": 2,
   "metadata": {},
   "outputs": [],
   "source": [
    "url = 'https://www.allrecipes.com/recipe/23988/simple-spinach-lasagna/?internalSource=streams&referringId=87&referringContentType=Recipe%20Hub&clickId=st_trending_s'\n",
    "\n",
    "# test\n",
    "# url = 'https://www.allrecipes.com/recipe/235874/copycat-panera-broccoli-cheddar-soup/?clickId=right%20rail1&internalSource=rr_feed_recipe_sb&referringId=23988%20referringContentType%3Drecipe'\n",
    "url = 'https://www.allrecipes.com/recipe/180735/traditional-style-vegan-shepherds-pie/'"
   ]
  },
  {
   "cell_type": "code",
   "execution_count": 3,
   "metadata": {
    "scrolled": false
   },
   "outputs": [],
   "source": [
    "page = requests.get(url)\n",
    "soup = BeautifulSoup(page.content, 'html.parser')"
   ]
  },
  {
   "cell_type": "code",
   "execution_count": 4,
   "metadata": {},
   "outputs": [
    {
     "data": {
      "text/plain": [
       "{'Cook55 m', 'Prep20 m', 'Ready In1 h 15 m'}"
      ]
     },
     "execution_count": 4,
     "metadata": {},
     "output_type": "execute_result"
    }
   ],
   "source": [
    "times = set([element.text.strip() for element in soup.find_all(class_='prepTime__item')])\n",
    "# # remove uncessary elements\n",
    "times.remove('')\n",
    "times"
   ]
  },
  {
   "cell_type": "code",
   "execution_count": 5,
   "metadata": {},
   "outputs": [
    {
     "name": "stdout",
     "output_type": "stream",
     "text": [
      "prep_time: 20 m\n",
      "cook_time: 55 m\n"
     ]
    }
   ],
   "source": [
    "for time in times:\n",
    "    if 'prep' in time.lower():\n",
    "        prep_time = time[4:]\n",
    "    if 'cook' in time.lower():\n",
    "        cook_time = time[4:]\n",
    "print('prep_time:', prep_time)\n",
    "print('cook_time:', cook_time)"
   ]
  },
  {
   "cell_type": "code",
   "execution_count": 6,
   "metadata": {},
   "outputs": [],
   "source": [
    "def convert_to_minutes(time):\n",
    "    if 'h' in cook_time:\n",
    "        hour_index = cook_time.index('h')\n",
    "        hours = int(cook_time[:hour_index].strip())\n",
    "        minutes = int(cook_time[hour_index+1 : -1].strip())\n",
    "    else:\n",
    "        hours = 0\n",
    "        minutes = int(cook_time[: -1].strip())\n",
    "    return 60*hours + minutes"
   ]
  },
  {
   "cell_type": "code",
   "execution_count": 7,
   "metadata": {
    "scrolled": false
   },
   "outputs": [
    {
     "data": {
      "text/plain": [
       "{'1 (14 ounce) package vegetarian ground beef substitute',\n",
       " '1 clove garlic, minced, or more to taste',\n",
       " '1 large yellow onion, chopped',\n",
       " '1 pinch ground black pepper to taste',\n",
       " '1 tablespoon vegetable oil',\n",
       " '1 teaspoon Italian seasoning',\n",
       " '1 tomato, chopped',\n",
       " '1/2 cup frozen peas',\n",
       " '1/2 cup shredded Cheddar-style soy cheese',\n",
       " '1/2 cup soy milk',\n",
       " '1/2 cup vegan mayonnaise',\n",
       " '1/4 cup olive oil',\n",
       " '2 carrots, chopped',\n",
       " '2 teaspoons salt',\n",
       " '3 stalks celery, chopped',\n",
       " '3 tablespoons vegan cream cheese substitute (such as Tofutti ®)',\n",
       " '5 russet potatoes, peeled and cut into 1-inch cubes',\n",
       " 'Bottom layer:',\n",
       " 'Mashed potato layer:'}"
      ]
     },
     "execution_count": 7,
     "metadata": {},
     "output_type": "execute_result"
    }
   ],
   "source": [
    "# extract ingredients section from the webpage\n",
    "ingredients = set([element.label.text.strip() for element in soup.find_all(class_='checkList__line')])\n",
    "# remove unnecessary elements\n",
    "ingredients.remove('')\n",
    "ingredients.remove('Add all ingredients to list')\n",
    "ingredients"
   ]
  },
  {
   "cell_type": "code",
   "execution_count": 8,
   "metadata": {},
   "outputs": [
    {
     "data": {
      "text/plain": [
       "['Place the potatoes in a pot, cover with cold water, and bring to a boil over medium-high heat. Turn the heat to medium-low, and boil the potatoes until tender, about 25 minutes; drain.',\n",
       " 'Stir the vegan mayonnaise, soy milk, olive oil, vegan cream cheese, and salt into the potatoes, and mash with a potato masher until smooth and fluffy. Set the potatoes aside.',\n",
       " 'Preheat oven to 400 degrees F (200 degrees C), and spray a 2-quart baking dish with cooking spray.',\n",
       " 'Heat the vegetable oil in a large skillet over medium heat, and cook and stir the onion, carrots, celery, frozen peas, and tomato until softened, about 10 minutes. Stir in the Italian seasoning, garlic, and pepper.',\n",
       " 'Reduce the heat to medium-low, and crumble the vegetarian ground beef substitute into the skillet with the vegetables. Cook and stir, breaking up the meat substitute, until the mixture is hot, about 5 minutes.',\n",
       " 'Spread the vegetarian meat substitute mixture into the bottom of the baking dish, and top with the mashed potatoes, smoothing them into an even layer. Sprinkle the potatoes with the shredded soy cheese.',\n",
       " 'Bake in the preheated oven until the cheese is melted and slightly browned and the casserole is hot, about 20 minutes.']"
      ]
     },
     "execution_count": 8,
     "metadata": {},
     "output_type": "execute_result"
    }
   ],
   "source": [
    "# extract directions section from the webpage\n",
    "directions = [element.text.strip() for element in soup.find_all(class_='recipe-directions__list--item')]\n",
    "# remove unnecessary elements\n",
    "directions.remove('')\n",
    "directions"
   ]
  },
  {
   "cell_type": "code",
   "execution_count": 9,
   "metadata": {},
   "outputs": [],
   "source": [
    "def numerical(line):\n",
    "    # replace everything to '' except whitespace, alphanumeric character\n",
    "    line = re.sub(r'[^\\w\\s]', '', line)\n",
    "    token_tag_pairs = tokenize(line)\n",
    "    for pair in token_tag_pairs:\n",
    "        # if the word is not numerical\n",
    "        if not pair[1] == \"CD\":\n",
    "            return False\n",
    "    return True\n",
    "\n",
    "def nouns_only(line):\n",
    "    # replace everything to '' except whitespace, alphanumeric character\n",
    "    line = re.sub(r'[^\\w\\s]', '', line)\n",
    "    token_tag_pairs = tokenize(line)\n",
    "    for pair in token_tag_pairs:\n",
    "        # if the word is not a noun or cardinal number\n",
    "        if not (pair[1] == \"NN\" or pair[1] == \"NNS\"):\n",
    "            return False\n",
    "    return True"
   ]
  },
  {
   "cell_type": "code",
   "execution_count": 10,
   "metadata": {},
   "outputs": [],
   "source": [
    "def extract_quantity_in_backets(line):\n",
    "    # find '(abc)' where 'abc' is in arbitrary length and 'abc' does not contain brackets\n",
    "    pattern = re.compile(r'\\([^\\(\\)]*\\)') \n",
    "    match = re.findall(pattern, line)\n",
    "    if len(match) != 0:\n",
    "        if line.split()[1] not in match[0]:\n",
    "            return None\n",
    "        return match\n",
    "    \n",
    "def extract_preparation(line):\n",
    "    # find ', abc' where 'abc' is in arbitrary length\n",
    "    pattern = re.compile(r'\\b, [^\\(\\)]*')\n",
    "    match = re.findall(pattern, line)\n",
    "    if len(match) != 0:\n",
    "        return match\n",
    "    \n",
    "def extract_all(line):    \n",
    "    type_exceptions = ['can', 'tablespoon', 'oz']\n",
    "    quantity_split = []\n",
    "    measurement = None\n",
    "    \n",
    "    # extract preparation\n",
    "    line = line.replace(' -', ',')\n",
    "    preparation = extract_preparation(line)\n",
    "    if preparation:\n",
    "#         print('preparation[0]:', preparation[0])\n",
    "#         print(line)\n",
    "        line = re.sub(r'{0}'.format(preparation[0]), '', line)\n",
    "        # remove ', ' prefix\n",
    "        preparation = preparation[0][2:].strip()\n",
    "        \n",
    "    # extract quantity in backets\n",
    "    quantity_in_brackets = extract_quantity_in_backets(line)\n",
    "    if quantity_in_brackets:\n",
    "        line = re.sub(r'\\({0}\\)'.format(quantity_in_brackets[0]), '', line)\n",
    "        quantity_in_brackets = quantity_in_brackets[0]\n",
    "    \n",
    "    line_split = line.split()\n",
    "    # extract quantity from the first word if the word contains a digit\n",
    "    if any(char.isdigit() for char in line_split[0]):\n",
    "        quantity_split.append(line_split[0])\n",
    "    \n",
    "        # extract quantity from the second word if the word contains a digit\n",
    "        if any(char.isdigit() for char in line_split[1]):\n",
    "            quantity_split.append(line_split[1])\n",
    "            # check measurement type\n",
    "            # to avoid case like '1 large tomato, seeded and chopped'\n",
    "            if nouns_only(line_split[2]) or line_split[2] in type_exceptions:\n",
    "                measurement = line_split[2]\n",
    "        else:\n",
    "            # check line_split length for case like '1 egg' or '1/2 onion, chopped'\n",
    "            if len(line_split) > 2 and (nouns_only(line_split[1]) or line_split[1] in type_exceptions):\n",
    "                measurement = line_split[1]\n",
    "        line = re.sub(r'{0}'.format(' '.join(quantity_split)), '', line)\n",
    "    \n",
    "    if measurement:\n",
    "        line = re.sub(r'{0}'.format(measurement), '', line)\n",
    "    \n",
    "    # append quantity in backets at the end\n",
    "    if quantity_in_brackets:\n",
    "        quantity_split.append(quantity_in_brackets)\n",
    "    quantity = ' '.join(quantity_split)\n",
    "\n",
    "    # extract ingredient name\n",
    "    line = re.sub(r'[ ]?®', '', line)\n",
    "    line = re.sub(r'[ ]?™', '', line)\n",
    "    ingredient_name = line.strip()\n",
    "    \n",
    "    # if 'or to taske' or 'or as needed' in preparation\n",
    "    if preparation is not None and 'or ' in preparation:\n",
    "        quantity += ' ' + preparation\n",
    "        preparation = None    \n",
    "    \n",
    "    return quantity, measurement, ingredient_name, preparation"
   ]
  },
  {
   "cell_type": "code",
   "execution_count": 11,
   "metadata": {},
   "outputs": [],
   "source": [
    "def extract_descriptor(ingredient_name):\n",
    "    type_exceptions = ['parsley', 'garlic', 'chili']\n",
    "    descriptor = []\n",
    "    token_tag_pairs = []\n",
    "    \n",
    "    for element in ingredient_name.split():\n",
    "        # treat compound word with hyphen as an adjective\n",
    "        if '-' in element:\n",
    "            token_tag_pairs.append((element, 'JJ'))\n",
    "        else:\n",
    "            token_tag_pairs.append([(token.text, token.tag_) for token in nlp(element)][0])\n",
    "    \n",
    "    for pair in token_tag_pairs:\n",
    "        # if the word is an adjective, an adverb, or a past participle of a verb, or exception like 'ground'\n",
    "        if pair[1] == \"JJ\" or pair[1] == \"RB\" or pair[1] == \"VBN\" or pair[0] == 'ground':\n",
    "            if pair[0] not in type_exceptions:\n",
    "                descriptor.append(pair[0])\n",
    "    if len(descriptor) != 0:\n",
    "        return ' '.join(descriptor)"
   ]
  },
  {
   "cell_type": "code",
   "execution_count": 12,
   "metadata": {},
   "outputs": [],
   "source": [
    "import spacy\n",
    "\n",
    "# python3 -m spacy download en\n",
    "nlp = spacy.load('en')\n",
    "\n",
    "def tokenize(line):\n",
    "    return [(token.text, token.tag_) for token in nlp(line)]"
   ]
  },
  {
   "cell_type": "code",
   "execution_count": 15,
   "metadata": {},
   "outputs": [
    {
     "data": {
      "text/plain": [
       "[('5', 'CD'),\n",
       " ('russet', 'NN'),\n",
       " ('potatoes', 'NNS'),\n",
       " (',', ','),\n",
       " ('peeled', 'VBD'),\n",
       " ('and', 'CC'),\n",
       " ('cut', 'VBN'),\n",
       " ('into', 'IN'),\n",
       " ('1-inch', 'JJ'),\n",
       " ('cubes', 'NNS')]"
      ]
     },
     "execution_count": 15,
     "metadata": {},
     "output_type": "execute_result"
    }
   ],
   "source": [
    "tokenize('1 tablespoon extra virgin olive oil')\n",
    "tokenize('5 russet potatoes, peeled and cut into 1-inch cubes')"
   ]
  },
  {
   "cell_type": "code",
   "execution_count": 16,
   "metadata": {},
   "outputs": [
    {
     "data": {
      "text/plain": [
       "'verb, 3rd person singular present'"
      ]
     },
     "execution_count": 16,
     "metadata": {},
     "output_type": "execute_result"
    }
   ],
   "source": [
    "spacy.explain('VBZ')"
   ]
  },
  {
   "cell_type": "code",
   "execution_count": 17,
   "metadata": {},
   "outputs": [],
   "source": [
    "import nltk\n",
    "# nltk.download('punkt')\n",
    "# nltk.download('averaged_perceptron_tagger')\n",
    "\n",
    "def tokenize_nltk(line):\n",
    "    tokens = nltk.word_tokenize(line)\n",
    "    token_tag_pairs = nltk.pos_tag(tokens)\n",
    "    return token_tag_pairs"
   ]
  },
  {
   "cell_type": "code",
   "execution_count": 18,
   "metadata": {},
   "outputs": [
    {
     "data": {
      "text/plain": [
       "[('1', 'CD'),\n",
       " ('tablespoon', 'NN'),\n",
       " ('extra', 'JJ'),\n",
       " ('virgin', 'NN'),\n",
       " ('olive', 'JJ'),\n",
       " ('oil', 'NN')]"
      ]
     },
     "execution_count": 18,
     "metadata": {},
     "output_type": "execute_result"
    }
   ],
   "source": [
    "tokenize_nltk('1 tablespoon extra virgin olive oil')"
   ]
  },
  {
   "cell_type": "code",
   "execution_count": 19,
   "metadata": {},
   "outputs": [],
   "source": [
    "def check_noun_num(token_tag_pairs):\n",
    "    tag_num_dict = {}\n",
    "    for pair in token_tag_pairs:\n",
    "        if pair[1] not in tag_num_dict:\n",
    "            tag_num_dict[pair[1]] = 1\n",
    "        else:\n",
    "            tag_num_dict[pair[1]] += 1\n",
    "    \n",
    "    criterion_1 = 'NN' in tag_num_dict and tag_num_dict['NN'] >= 2\n",
    "    criterion_2 = 'NNS' in tag_num_dict and tag_num_dict['NNS'] >= 2\n",
    "    criterion_3 = 'NN' in tag_num_dict and 'NNS' in tag_num_dict and tag_num_dict['NN'] + tag_num_dict['NNS'] >= 2\n",
    "    \n",
    "    if criterion_1 or criterion_2 or criterion_3:\n",
    "        return True\n",
    "    else:\n",
    "        return False"
   ]
  },
  {
   "cell_type": "code",
   "execution_count": 20,
   "metadata": {},
   "outputs": [],
   "source": [
    "ingredients_nouns = set()\n",
    "def extract_ingredients_nouns(line):\n",
    "    token_tag_pairs = tokenize(line)\n",
    "    for pair in token_tag_pairs:\n",
    "        if pair[1] == 'NN' or pair[1] == 'NNS':\n",
    "            global ingredients_nouns\n",
    "            ingredients_nouns |= {pair[0]}"
   ]
  },
  {
   "cell_type": "code",
   "execution_count": 23,
   "metadata": {
    "scrolled": false
   },
   "outputs": [
    {
     "name": "stdout",
     "output_type": "stream",
     "text": [
      "1 tomato, chopped\n",
      "quantity: 1\n",
      "measurement: None\n",
      "ingredient name: tomato\n",
      "descriptor: None\n",
      "preparation: chopped\n",
      "\n",
      "1 clove garlic, minced, or more to taste\n",
      "quantity: 1 minced, or more to taste\n",
      "measurement: None\n",
      "ingredient name: clove garlic\n",
      "descriptor: None\n",
      "preparation: None\n",
      "\n",
      "1 (14 ounce) package vegetarian ground beef substitute\n",
      "quantity: 1 (14 ounce)\n",
      "measurement: package\n",
      "ingredient name: vegetarian ground beef substitute\n",
      "descriptor: vegetarian ground substitute\n",
      "preparation: None\n",
      "\n",
      "Bottom layer:\n",
      "quantity: \n",
      "measurement: None\n",
      "ingredient name: Bottom layer:\n",
      "descriptor: None\n",
      "preparation: None\n",
      "\n",
      "1/4 cup olive oil\n",
      "quantity: 1/4\n",
      "measurement: cup\n",
      "ingredient name: olive oil\n",
      "descriptor: None\n",
      "preparation: None\n",
      "\n",
      "1 large yellow onion, chopped\n",
      "quantity: 1\n",
      "measurement: None\n",
      "ingredient name: large yellow onion\n",
      "descriptor: large yellow\n",
      "preparation: chopped\n",
      "\n",
      "2 carrots, chopped\n",
      "quantity: 2\n",
      "measurement: None\n",
      "ingredient name: carrots\n",
      "descriptor: None\n",
      "preparation: chopped\n",
      "\n",
      "3 tablespoons vegan cream cheese substitute (such as Tofutti ®)\n",
      "quantity: 3\n",
      "measurement: tablespoons\n",
      "ingredient name: vegan cream cheese substitute (such as Tofutti)\n",
      "descriptor: substitute\n",
      "preparation: None\n",
      "\n",
      "1 tablespoon vegetable oil\n",
      "quantity: 1\n",
      "measurement: tablespoon\n",
      "ingredient name: vegetable oil\n",
      "descriptor: vegetable\n",
      "preparation: None\n",
      "\n",
      "1 pinch ground black pepper to taste\n",
      "quantity: 1\n",
      "measurement: pinch\n",
      "ingredient name: ground black pepper to taste\n",
      "descriptor: ground black\n",
      "preparation: None\n",
      "\n",
      "1 teaspoon Italian seasoning\n",
      "quantity: 1\n",
      "measurement: teaspoon\n",
      "ingredient name: Italian seasoning\n",
      "descriptor: Italian\n",
      "preparation: None\n",
      "\n",
      "1/2 cup shredded Cheddar-style soy cheese\n",
      "quantity: 1/2\n",
      "measurement: cup\n",
      "ingredient name: shredded Cheddar-style soy cheese\n",
      "descriptor: shredded Cheddar-style\n",
      "preparation: None\n",
      "\n",
      "2 teaspoons salt\n",
      "quantity: 2\n",
      "measurement: teaspoons\n",
      "ingredient name: salt\n",
      "descriptor: None\n",
      "preparation: None\n",
      "\n",
      "3 stalks celery, chopped\n",
      "quantity: 3\n",
      "measurement: stalks\n",
      "ingredient name: celery\n",
      "descriptor: None\n",
      "preparation: chopped\n",
      "\n",
      "1/2 cup frozen peas\n",
      "quantity: 1/2\n",
      "measurement: cup\n",
      "ingredient name: frozen peas\n",
      "descriptor: frozen\n",
      "preparation: None\n",
      "\n",
      "Mashed potato layer:\n",
      "quantity: \n",
      "measurement: None\n",
      "ingredient name: Mashed potato layer:\n",
      "descriptor: Mashed\n",
      "preparation: None\n",
      "\n",
      "5 russet potatoes, peeled and cut into 1-inch cubes\n",
      "quantity: 5\n",
      "measurement: None\n",
      "ingredient name: russet potatoes\n",
      "descriptor: russet\n",
      "preparation: peeled and cut into 1-inch cubes\n",
      "\n",
      "1/2 cup soy milk\n",
      "quantity: 1/2\n",
      "measurement: cup\n",
      "ingredient name: soy milk\n",
      "descriptor: None\n",
      "preparation: None\n",
      "\n",
      "1/2 cup vegan mayonnaise\n",
      "quantity: 1/2\n",
      "measurement: cup\n",
      "ingredient name: vegan mayonnaise\n",
      "descriptor: None\n",
      "preparation: None\n",
      "\n",
      "{'ground', 'seasoning', 'tomato', 'celery', 'vegan', 'oil', 'olive', 'vegetable', 'peas', 'potatoes', 'milk', 'potato', 'russet', 'style', 'beef', 'carrots', 'substitute', 'salt', 'pepper', 'cheese', 'layer', 'mayonnaise', 'soy', 'onion'}\n"
     ]
    }
   ],
   "source": [
    "for line in ingredients:\n",
    "    quantity, measurement, ingredient_name, preparation = extract_all(line)\n",
    "    descriptor = extract_descriptor(ingredient_name)\n",
    "    extract_ingredients_nouns(ingredient_name)\n",
    "    \n",
    "    print(line)\n",
    "    print('quantity:', quantity)\n",
    "    print('measurement:', measurement)\n",
    "    print('ingredient name:', ingredient_name)\n",
    "    print('descriptor:', descriptor)\n",
    "    print('preparation:', preparation)\n",
    "    print()\n",
    "    \n",
    "#     print(check_noun_num(token_tag_pairs))\n",
    "#     print()\n",
    "print(ingredients_nouns)"
   ]
  },
  {
   "cell_type": "markdown",
   "metadata": {},
   "source": [
    "# Tools"
   ]
  },
  {
   "cell_type": "code",
   "execution_count": 24,
   "metadata": {
    "scrolled": false
   },
   "outputs": [],
   "source": [
    "from nltk import sent_tokenize\n",
    "\n",
    "directions_nouns = set()\n",
    "# adjust for special case\n",
    "directions_nouns |= {'oven'}\n",
    "\n",
    "def extract_directions_nouns(line):\n",
    "    direction_nouns_local = set()\n",
    "    token_tag_pairs = tokenize(line)\n",
    "    for pair in token_tag_pairs:\n",
    "        # avoid case like 'degrees C'\n",
    "        if len(pair[0]) > 1:\n",
    "            if pair[1] == 'NN' or pair[1] == 'NNS':\n",
    "                direction_nouns_local |= {pair[0]}\n",
    "    global directions_nouns\n",
    "    directions_nouns |= direction_nouns_local\n",
    "    return direction_nouns_local"
   ]
  },
  {
   "cell_type": "code",
   "execution_count": 25,
   "metadata": {},
   "outputs": [
    {
     "name": "stdout",
     "output_type": "stream",
     "text": [
      "Place the potatoes in a pot, cover with cold water, and bring to a boil over medium-high heat.\n",
      "Turn the heat to medium-low, and boil the potatoes until tender, about 25 minutes; drain.\n",
      "---------\n",
      "Stir the vegan mayonnaise, soy milk, olive oil, vegan cream cheese, and salt into the potatoes, and mash with a potato masher until smooth and fluffy.\n",
      "Set the potatoes aside.\n",
      "---------\n",
      "Preheat oven to 400 degrees F (200 degrees C), and spray a 2-quart baking dish with cooking spray.\n",
      "---------\n",
      "Heat the vegetable oil in a large skillet over medium heat, and cook and stir the onion, carrots, celery, frozen peas, and tomato until softened, about 10 minutes.\n",
      "Stir in the Italian seasoning, garlic, and pepper.\n",
      "---------\n",
      "Reduce the heat to medium-low, and crumble the vegetarian ground beef substitute into the skillet with the vegetables.\n",
      "Cook and stir, breaking up the meat substitute, until the mixture is hot, about 5 minutes.\n",
      "---------\n",
      "Spread the vegetarian meat substitute mixture into the bottom of the baking dish, and top with the mashed potatoes, smoothing them into an even layer.\n",
      "Sprinkle the potatoes with the shredded soy cheese.\n",
      "---------\n",
      "Bake in the preheated oven until the cheese is melted and slightly browned and the casserole is hot, about 20 minutes.\n",
      "---------\n",
      "{'spray', 'ground', 'heat', 'cream', 'dish', 'vegetable', 'vegetables', 'potatoes', 'skillet', 'masher', 'degrees', 'Bake', 'minutes', 'bottom', 'top', 'tender', 'meat', 'baking', 'cheese', 'layer', 'soy', 'onion', 'seasoning', 'tomato', 'celery', 'oven', 'vegan', 'casserole', 'oil', 'water', 'medium', 'olive', 'peas', 'potato', 'beef', 'cooking', 'mixture', 'boil', 'substitute', 'pepper', 'pot', 'milk', 'mayonnaise', 'carrots'}\n"
     ]
    }
   ],
   "source": [
    "for direction in directions:\n",
    "    sentences = sent_tokenize(direction)\n",
    "    for sentence in sentences:\n",
    "        print(sentence)\n",
    "        extract_directions_nouns(sentence)\n",
    "    print('---------')\n",
    "    \n",
    "print(directions_nouns)"
   ]
  },
  {
   "cell_type": "code",
   "execution_count": 26,
   "metadata": {},
   "outputs": [
    {
     "data": {
      "text/plain": [
       "'spong'"
      ]
     },
     "execution_count": 26,
     "metadata": {},
     "output_type": "execute_result"
    }
   ],
   "source": [
    "from nltk.stem import PorterStemmer\n",
    "stemmer = PorterStemmer()\n",
    "\n",
    "# test\n",
    "stemmer.stem('Sponges')"
   ]
  },
  {
   "cell_type": "code",
   "execution_count": 27,
   "metadata": {},
   "outputs": [],
   "source": [
    "def retrieve_tool_set():\n",
    "    url = 'https://www.mealime.com/kitchen-essentials-list'\n",
    "    page = requests.get(url)\n",
    "    soup = BeautifulSoup(page.content, 'html.parser')\n",
    "    tools = [element.text for element in soup.find_all(class_='anchor-button')]\n",
    "    print(tools)\n",
    "    tools = set([stemmer.stem(tool.split()[-1].strip()) for tool in tools])\n",
    "    print(tools)\n",
    "    return tools"
   ]
  },
  {
   "cell_type": "code",
   "execution_count": 28,
   "metadata": {},
   "outputs": [
    {
     "name": "stdout",
     "output_type": "stream",
     "text": [
      "[\"Chef's Knife\", 'Cutting board', 'Can Opener', 'Measuring Cups', 'Measuring Spoons', 'Mixing Bowls', 'Colander', 'Vegetable Peeler', 'Potato Masher', 'Whisk', 'Salad Spinner', 'Grater', 'Shears', 'Citrus Juicer', 'Garlic Press', 'Paring Knife', 'Bread Knife', 'Honing Steel', 'Knife Sharpener', 'Stainless Steel Skillet', 'Sauté Pan', 'Small Saucepan', 'Medium Saucepan', 'Large Pot', 'Cast Iron Skillet', 'Grill Pan', 'Baking Sheet Pan', 'Casserole Dish', 'Broiler Pan', 'Stockpot', 'Spatula', 'Stirring Spoon', 'Tongs', 'Ladle', 'Oven Mitts', 'Trivet', 'Splatter Guard', 'Thermometer', 'Immersion Blender', 'Kitchen Scale', 'Blender', 'Food Storage Containers', 'Aluminum Foil', 'Parchment Paper', 'Towels', 'Sponges', 'Heavy Sponges', 'Dish Rack', 'Ice Cube Tray', 'Small Trash Bags', 'Large Trash Bags', 'Small Trash Bin', 'Large Trash Bin']\n",
      "{'dish', 'pan', 'thermomet', 'bag', 'coland', 'stockpot', 'board', 'rack', 'skillet', 'masher', 'ladl', 'foil', 'spinner', 'knife', 'shear', 'press', 'trivet', 'contain', 'tray', 'cup', 'open', 'saucepan', 'towel', 'peeler', 'scale', 'steel', 'spoon', 'bin', 'sharpen', 'blender', 'mitt', 'paper', 'guard', 'whisk', 'spatula', 'juicer', 'pot', 'bowl', 'grater', 'spong', 'tong'}\n"
     ]
    }
   ],
   "source": [
    "tools = retrieve_tool_set()"
   ]
  },
  {
   "cell_type": "code",
   "execution_count": 29,
   "metadata": {},
   "outputs": [
    {
     "data": {
      "text/plain": [
       "{'dish', 'masher', 'pot', 'skillet'}"
      ]
     },
     "execution_count": 29,
     "metadata": {},
     "output_type": "execute_result"
    }
   ],
   "source": [
    "def extract_tools(directions_nouns, tools):\n",
    "    directions_tools = set()\n",
    "    for noun in directions_nouns:\n",
    "        if stemmer.stem(noun) in tools:\n",
    "            directions_tools |= {noun}\n",
    "    return directions_tools\n",
    "\n",
    "extract_tools(directions_nouns, tools)"
   ]
  },
  {
   "cell_type": "markdown",
   "metadata": {},
   "source": [
    "# Methods"
   ]
  },
  {
   "cell_type": "code",
   "execution_count": 30,
   "metadata": {},
   "outputs": [],
   "source": [
    "def retrieve_methods_set():\n",
    "    url = 'https://www.thedailymeal.com/cook/15-basic-cooking-methods-you-need-know-slideshow/slide-13'\n",
    "    page = requests.get(url)\n",
    "    soup = BeautifulSoup(page.content, 'html.parser')\n",
    "    methods = [element.h2.text for element in soup.find_all(class_='image-title slide-title')]\n",
    "    print(methods)\n",
    "    methods = set([stemmer.stem(method.strip()) for method in methods])\n",
    "    return methods"
   ]
  },
  {
   "cell_type": "code",
   "execution_count": 31,
   "metadata": {},
   "outputs": [
    {
     "name": "stdout",
     "output_type": "stream",
     "text": [
      "['Grill', 'Pan-Fry', 'Deep-Fry', 'Sauté', 'Boil', 'Roast', 'Bake', 'Sear', 'Poach', 'Simmer', 'Broil  ', 'Steam', 'Blanch', 'Braise', 'Stew']\n"
     ]
    },
    {
     "data": {
      "text/plain": [
       "{'bake',\n",
       " 'blanch',\n",
       " 'boil',\n",
       " 'brais',\n",
       " 'broil',\n",
       " 'deep-fri',\n",
       " 'grill',\n",
       " 'pan-fri',\n",
       " 'poach',\n",
       " 'roast',\n",
       " 'sauté',\n",
       " 'sear',\n",
       " 'simmer',\n",
       " 'steam',\n",
       " 'stew'}"
      ]
     },
     "execution_count": 31,
     "metadata": {},
     "output_type": "execute_result"
    }
   ],
   "source": [
    "methods = retrieve_methods_set()\n",
    "methods"
   ]
  },
  {
   "cell_type": "code",
   "execution_count": 32,
   "metadata": {},
   "outputs": [],
   "source": [
    "def retrieve_other_methods_set():\n",
    "    url = 'https://en.wikibooks.org/wiki/Cookbook:Cooking_Techniques'\n",
    "    page = requests.get(url)\n",
    "    soup = BeautifulSoup(page.content, 'html.parser')\n",
    "    unwanted = ['Contents', '[', 'edit', ']', '\\n']\n",
    "    other_methods = set()\n",
    "    dump = soup.find_all(class_='mw-parser-output')\n",
    "    for i in dump:\n",
    "        for j in i.contents:\n",
    "            if hasattr(j, 'contents'):\n",
    "                for k in j.contents:\n",
    "                    if hasattr(k, 'contents'):\n",
    "                        for l in k.contents:\n",
    "                            if hasattr(l, 'contents'):\n",
    "                                for method in l:\n",
    "#                                     print(method.string)\n",
    "                                    if method.string is not None and method not in unwanted:\n",
    "                                        other_methods |= {stemmer.stem(method.string.split()[-1])}\n",
    "    return other_methods"
   ]
  },
  {
   "cell_type": "code",
   "execution_count": 33,
   "metadata": {
    "scrolled": false
   },
   "outputs": [],
   "source": [
    "other_methods = retrieve_other_methods_set()\n",
    "# remove uncessary methods after complexity reduction\n",
    "other_methods.remove('cook')\n",
    "other_methods.remove('chocol')"
   ]
  },
  {
   "cell_type": "code",
   "execution_count": 34,
   "metadata": {},
   "outputs": [
    {
     "data": {
      "text/plain": [
       "{'bain-mari',\n",
       " 'bake',\n",
       " 'barbecu',\n",
       " 'bast',\n",
       " 'blanch',\n",
       " 'boil',\n",
       " 'bone',\n",
       " 'brais',\n",
       " 'brine',\n",
       " 'broil',\n",
       " 'can',\n",
       " 'caramel',\n",
       " 'chiffonad',\n",
       " 'chop',\n",
       " 'cockaign',\n",
       " 'cream',\n",
       " 'cube',\n",
       " 'deep-fri',\n",
       " 'deglaz',\n",
       " 'degorg',\n",
       " 'dredg',\n",
       " 'dri',\n",
       " 'ferment',\n",
       " 'fri',\n",
       " 'grill',\n",
       " 'julien',\n",
       " 'marin',\n",
       " 'minc',\n",
       " 'pan-fri',\n",
       " 'pickl',\n",
       " 'poach',\n",
       " 'roast',\n",
       " 'rub',\n",
       " 'sauté',\n",
       " 'scald',\n",
       " 'sear',\n",
       " 'shir',\n",
       " 'simmer',\n",
       " 'skill',\n",
       " 'slice',\n",
       " 'smoke',\n",
       " 'sous-vid',\n",
       " 'steam',\n",
       " 'stew',\n",
       " 'stir-fri',\n",
       " 'storag',\n",
       " 'temper',\n",
       " 'test'}"
      ]
     },
     "execution_count": 34,
     "metadata": {},
     "output_type": "execute_result"
    }
   ],
   "source": [
    "# combine primary cooking methods with other cooking methods\n",
    "methods |= other_methods\n",
    "methods"
   ]
  },
  {
   "cell_type": "code",
   "execution_count": 35,
   "metadata": {},
   "outputs": [],
   "source": [
    "directions_verbs = set()\n",
    "def extract_directions_verbs(line):\n",
    "    direction_verbs_local = set()\n",
    "    token_tag_pairs = tokenize(line)\n",
    "    for pair in token_tag_pairs:    \n",
    "        if pair[1] == 'VB':\n",
    "            direction_verbs_local |= {pair[0]}\n",
    "    global directions_verbs\n",
    "    directions_verbs |= direction_verbs_local\n",
    "    return direction_verbs_local"
   ]
  },
  {
   "cell_type": "code",
   "execution_count": 36,
   "metadata": {},
   "outputs": [
    {
     "name": "stdout",
     "output_type": "stream",
     "text": [
      "Place the potatoes in a pot, cover with cold water, and bring to a boil over medium-high heat.\n",
      "Turn the heat to medium-low, and boil the potatoes until tender, about 25 minutes; drain.\n",
      "---------\n",
      "Stir the vegan mayonnaise, soy milk, olive oil, vegan cream cheese, and salt into the potatoes, and mash with a potato masher until smooth and fluffy.\n",
      "Set the potatoes aside.\n",
      "---------\n",
      "Preheat oven to 400 degrees F (200 degrees C), and spray a 2-quart baking dish with cooking spray.\n",
      "---------\n",
      "Heat the vegetable oil in a large skillet over medium heat, and cook and stir the onion, carrots, celery, frozen peas, and tomato until softened, about 10 minutes.\n",
      "Stir in the Italian seasoning, garlic, and pepper.\n",
      "---------\n",
      "Reduce the heat to medium-low, and crumble the vegetarian ground beef substitute into the skillet with the vegetables.\n",
      "Cook and stir, breaking up the meat substitute, until the mixture is hot, about 5 minutes.\n",
      "---------\n",
      "Spread the vegetarian meat substitute mixture into the bottom of the baking dish, and top with the mashed potatoes, smoothing them into an even layer.\n",
      "Sprinkle the potatoes with the shredded soy cheese.\n",
      "---------\n",
      "Bake in the preheated oven until the cheese is melted and slightly browned and the casserole is hot, about 20 minutes.\n",
      "---------\n",
      "{'mash', 'spray', 'stir', 'Preheat', 'Sprinkle', 'cover', 'cook', 'drain', 'Reduce', 'Place', 'Set', 'boil', 'Turn', 'salt', 'bring', 'Heat', 'Cook', 'Stir', 'Spread'}\n"
     ]
    }
   ],
   "source": [
    "for direction in directions:\n",
    "    sentences = sent_tokenize(direction)\n",
    "    for sentence in sentences:\n",
    "        print(sentence)\n",
    "        extract_directions_verbs(sentence)\n",
    "    print('---------')\n",
    "    \n",
    "print(directions_verbs)"
   ]
  },
  {
   "cell_type": "code",
   "execution_count": 37,
   "metadata": {},
   "outputs": [
    {
     "data": {
      "text/plain": [
       "{'boil'}"
      ]
     },
     "execution_count": 37,
     "metadata": {},
     "output_type": "execute_result"
    }
   ],
   "source": [
    "def extract_methods(directions_verbs, methods):\n",
    "    directions_methods = set()\n",
    "    for verb in directions_verbs:\n",
    "        if stemmer.stem(verb) in methods:\n",
    "            directions_methods |= {verb}\n",
    "    return directions_methods\n",
    "\n",
    "extract_methods(directions_verbs, methods)"
   ]
  },
  {
   "cell_type": "markdown",
   "metadata": {},
   "source": [
    "# Steps"
   ]
  },
  {
   "cell_type": "code",
   "execution_count": 38,
   "metadata": {},
   "outputs": [
    {
     "name": "stdout",
     "output_type": "stream",
     "text": [
      "Step: 1\n",
      "Direction: Place the potatoes in a pot, cover with cold water, and bring to a boil over medium-high heat. Turn the heat to medium-low, and boil the potatoes until tender, about 25 minutes; drain.\n",
      "prep time: 20 m\n",
      "tools: {'pot'}\n",
      "methods: {'boil'}\n",
      "ingredients: {'potatoes'}\n",
      "---------\n",
      "Step: 2\n",
      "Direction: Stir the vegan mayonnaise, soy milk, olive oil, vegan cream cheese, and salt into the potatoes, and mash with a potato masher until smooth and fluffy. Set the potatoes aside.\n",
      "average cook time: 9 m\n",
      "tools: {'masher'}\n",
      "ingredients: {'oil', 'potatoes', 'milk', 'potato', 'vegan', 'soy'}\n",
      "---------\n",
      "Step: 3\n",
      "Direction: Preheat oven to 400 degrees F (200 degrees C), and spray a 2-quart baking dish with cooking spray.\n",
      "average cook time: 9 m\n",
      "tools: {'dish'}\n",
      "---------\n",
      "Step: 4\n",
      "Direction: Heat the vegetable oil in a large skillet over medium heat, and cook and stir the onion, carrots, celery, frozen peas, and tomato until softened, about 10 minutes. Stir in the Italian seasoning, garlic, and pepper.\n",
      "average cook time: 9 m\n",
      "tools: {'skillet'}\n",
      "ingredients: {'oil', 'pepper', 'tomato', 'onion'}\n",
      "---------\n",
      "Step: 5\n",
      "Direction: Reduce the heat to medium-low, and crumble the vegetarian ground beef substitute into the skillet with the vegetables. Cook and stir, breaking up the meat substitute, until the mixture is hot, about 5 minutes.\n",
      "average cook time: 9 m\n",
      "tools: {'skillet'}\n",
      "ingredients: {'ground', 'beef'}\n",
      "---------\n",
      "Step: 6\n",
      "Direction: Spread the vegetarian meat substitute mixture into the bottom of the baking dish, and top with the mashed potatoes, smoothing them into an even layer. Sprinkle the potatoes with the shredded soy cheese.\n",
      "average cook time: 9 m\n",
      "tools: {'dish'}\n",
      "ingredients: {'layer', 'potatoes', 'soy'}\n",
      "---------\n",
      "Step: 7\n",
      "Direction: Bake in the preheated oven until the cheese is melted and slightly browned and the casserole is hot, about 20 minutes.\n",
      "average cook time: 9 m\n",
      "---------\n"
     ]
    }
   ],
   "source": [
    "average_cook_time_per_step = round(convert_to_minutes(cook_time) / (len(directions) - 1))\n",
    "\n",
    "for i, direction in enumerate(directions):\n",
    "    print('Step:', i+1)\n",
    "    print('Direction:', direction)\n",
    "    if i == 0:\n",
    "        print('prep time:', prep_time)\n",
    "    else:\n",
    "        print('average cook time: {0} m'.format(average_cook_time_per_step))\n",
    "        \n",
    "    single_direction_tools = set()\n",
    "    single_direction_methods = set()\n",
    "    single_direction_ingredients = set()\n",
    "    \n",
    "    sentences = sent_tokenize(direction)\n",
    "    for sentence in sentences:\n",
    "        single_direction_tools |= extract_tools(extract_directions_nouns(sentence), tools)\n",
    "        single_direction_methods |= extract_methods(extract_directions_verbs(sentence), methods)\n",
    "        single_direction_ingredients |= extract_tools(extract_directions_nouns(sentence), ingredients_nouns)\n",
    "    \n",
    "    if len(single_direction_tools) > 0:\n",
    "        print('tools:', single_direction_tools)\n",
    "    if len(single_direction_methods) > 0:\n",
    "        print('methods:', single_direction_methods)\n",
    "    if len(single_direction_ingredients) > 0:\n",
    "        print('ingredients:', single_direction_ingredients)\n",
    "    print('---------')"
   ]
  },
  {
   "cell_type": "code",
   "execution_count": null,
   "metadata": {},
   "outputs": [],
   "source": []
  }
 ],
 "metadata": {
  "kernelspec": {
   "display_name": "Python 3",
   "language": "python",
   "name": "python3"
  },
  "language_info": {
   "codemirror_mode": {
    "name": "ipython",
    "version": 3
   },
   "file_extension": ".py",
   "mimetype": "text/x-python",
   "name": "python",
   "nbconvert_exporter": "python",
   "pygments_lexer": "ipython3",
   "version": "3.7.2"
  }
 },
 "nbformat": 4,
 "nbformat_minor": 2
}
