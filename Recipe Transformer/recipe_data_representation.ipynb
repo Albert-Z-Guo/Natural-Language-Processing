{
 "cells": [
  {
   "cell_type": "code",
   "execution_count": 1,
   "metadata": {},
   "outputs": [],
   "source": [
    "import requests\n",
    "from bs4 import BeautifulSoup"
   ]
  },
  {
   "cell_type": "code",
   "execution_count": null,
   "metadata": {},
   "outputs": [],
   "source": [
    "url = 'https://www.allrecipes.com/recipe/23988/simple-spinach-lasagna/?internalSource=streams&referringId=87&referringContentType=Recipe%20Hub&clickId=st_trending_s'\n",
    "\n",
    "# test\n",
    "# url = 'https://www.allrecipes.com/recipe/235874/copycat-panera-broccoli-cheddar-soup/?clickId=right%20rail1&internalSource=rr_feed_recipe_sb&referringId=23988%20referringContentType%3Drecipe'"
   ]
  },
  {
   "cell_type": "code",
   "execution_count": 36,
   "metadata": {
    "scrolled": false
   },
   "outputs": [],
   "source": [
    "page = requests.get(url)\n",
    "soup = BeautifulSoup(page.content, 'html.parser')"
   ]
  },
  {
   "cell_type": "code",
   "execution_count": 63,
   "metadata": {
    "scrolled": false
   },
   "outputs": [
    {
     "data": {
      "text/plain": [
       "{'',\n",
       " '1 (32 ounce) jar spaghetti sauce',\n",
       " '1 (8 ounce) package part skim mozzarella cheese, shredded',\n",
       " '1 1/2 cups water',\n",
       " '1 egg',\n",
       " '1 tablespoon extra virgin olive oil',\n",
       " '1 teaspoon salt',\n",
       " '1/2 cup chopped fresh parsley',\n",
       " '1/2 onion, chopped',\n",
       " '1/2 teaspoon dried basil',\n",
       " '1/2 teaspoon dried oregano',\n",
       " '1/4 cup grated Parmesan cheese',\n",
       " '1/8 teaspoon black pepper',\n",
       " '2 (10 ounce) packages frozen chopped spinach',\n",
       " '2 cloves garlic, crushed',\n",
       " '2 cups non-fat cottage cheese',\n",
       " '8 ounces lasagna noodles',\n",
       " 'Add all ingredients to list'}"
      ]
     },
     "execution_count": 63,
     "metadata": {},
     "output_type": "execute_result"
    }
   ],
   "source": [
    "# extract ingredients section from the webpage\n",
    "ingredients = set([element.label.text.strip() for element in soup.find_all(class_='checkList__line')])\n",
    "ingredients"
   ]
  },
  {
   "cell_type": "code",
   "execution_count": 64,
   "metadata": {},
   "outputs": [],
   "source": [
    "# remove unnecessary elements\n",
    "ingredients.remove('')\n",
    "ingredients.remove('Add all ingredients to list')"
   ]
  },
  {
   "cell_type": "code",
   "execution_count": 65,
   "metadata": {},
   "outputs": [
    {
     "data": {
      "text/plain": [
       "{'1 (32 ounce) jar spaghetti sauce',\n",
       " '1 (8 ounce) package part skim mozzarella cheese, shredded',\n",
       " '1 1/2 cups water',\n",
       " '1 egg',\n",
       " '1 tablespoon extra virgin olive oil',\n",
       " '1 teaspoon salt',\n",
       " '1/2 cup chopped fresh parsley',\n",
       " '1/2 onion, chopped',\n",
       " '1/2 teaspoon dried basil',\n",
       " '1/2 teaspoon dried oregano',\n",
       " '1/4 cup grated Parmesan cheese',\n",
       " '1/8 teaspoon black pepper',\n",
       " '2 (10 ounce) packages frozen chopped spinach',\n",
       " '2 cloves garlic, crushed',\n",
       " '2 cups non-fat cottage cheese',\n",
       " '8 ounces lasagna noodles'}"
      ]
     },
     "execution_count": 65,
     "metadata": {},
     "output_type": "execute_result"
    }
   ],
   "source": [
    "ingredients"
   ]
  },
  {
   "cell_type": "code",
   "execution_count": 76,
   "metadata": {},
   "outputs": [],
   "source": [
    "import re"
   ]
  },
  {
   "cell_type": "code",
   "execution_count": 507,
   "metadata": {},
   "outputs": [],
   "source": [
    "def extract_quantity_in_backets(line):\n",
    "    # find '(abc)' where 'abc' is in arbitrary length\n",
    "    pattern = re.compile(r'\\([\\w\\s]*\\)') \n",
    "    match = re.findall(pattern, line)\n",
    "    if len(match) != 0:\n",
    "        return match"
   ]
  },
  {
   "cell_type": "code",
   "execution_count": 508,
   "metadata": {},
   "outputs": [],
   "source": [
    "def extract_preparation(line):\n",
    "    # find ', abc' where 'abc' is in arbitrary length\n",
    "    pattern = re.compile(r', [\\w\\s]*') \n",
    "    match = re.findall(pattern, line)\n",
    "    if len(match) != 0:\n",
    "        return match"
   ]
  },
  {
   "cell_type": "code",
   "execution_count": 545,
   "metadata": {},
   "outputs": [],
   "source": [
    "def extract_quantity_measurement_preparation(line):\n",
    "    quantity_split = []\n",
    "    measurement = None\n",
    "    \n",
    "    # extract preparation\n",
    "    preparation = extract_preparation(line)\n",
    "    if preparation:\n",
    "        line = re.sub(r'{0}'.format(preparation[0]), '', line)\n",
    "        # remove ', ' prefix\n",
    "        preparation = preparation[0][2:]  \n",
    "    \n",
    "    # extract quantity in backets\n",
    "    quantity_in_brackets = extract_quantity_in_backets(line)\n",
    "    if quantity_in_brackets:\n",
    "        line = re.sub(r'\\({0}\\)'.format(quantity_in_brackets[0]), '', line)\n",
    "        quantity_in_brackets = quantity_in_brackets[0]\n",
    "    \n",
    "    # extract quantity from the first word\n",
    "    line_split = line.split()\n",
    "    quantity_split.append(line_split[0])\n",
    "    \n",
    "    # extract quantity from the second word if the word contains a digit\n",
    "    if any(char.isdigit() for char in line_split[1]):\n",
    "        quantity_split.append(line_split[1])\n",
    "        measurement = line_split[2]\n",
    "    else:\n",
    "        # to adjust for case like '1 egg' or '1/2 onion, chopped'\n",
    "        if len(line_split) > 2:\n",
    "            measurement = line_split[1]\n",
    "    \n",
    "    # append quantity in backets at the end\n",
    "    if quantity_in_brackets:\n",
    "        quantity_split.append(quantity_in_brackets)\n",
    "\n",
    "    return ' '.join(quantity_split), measurement, preparation"
   ]
  },
  {
   "cell_type": "code",
   "execution_count": 547,
   "metadata": {},
   "outputs": [],
   "source": [
    "def extract_ingredient_name(line):\n",
    "    quantity, measurement, preparation = extract_quantity_measurement_preparation(line)\n",
    "    if measurement is None:\n",
    "        measurement = ''\n",
    "        \n",
    "    if preparation:\n",
    "        return line[len(quantity + ' ' + measurement) : -(len(preparation) + 2)].strip()\n",
    "    else:\n",
    "        return line[len(quantity + ' ' + measurement):].strip()"
   ]
  },
  {
   "cell_type": "code",
   "execution_count": 548,
   "metadata": {},
   "outputs": [
    {
     "data": {
      "text/plain": [
       "'onion'"
      ]
     },
     "execution_count": 548,
     "metadata": {},
     "output_type": "execute_result"
    }
   ],
   "source": [
    "extract_ingredient_name('1/2 onion, chopped')"
   ]
  },
  {
   "cell_type": "code",
   "execution_count": 558,
   "metadata": {},
   "outputs": [],
   "source": [
    "import spacy\n",
    "\n",
    "# python3 -m spacy download en\n",
    "nlp = spacy.load('en')\n",
    "\n",
    "def tokenize(line):\n",
    "    return [(token.text, token.tag_) for token in nlp(line)]"
   ]
  },
  {
   "cell_type": "code",
   "execution_count": 532,
   "metadata": {},
   "outputs": [
    {
     "data": {
      "text/plain": [
       "[('1', 'CD'),\n",
       " ('tablespoon', 'VBP'),\n",
       " ('extra', 'JJ'),\n",
       " ('virgin', 'JJ'),\n",
       " ('olive', 'NN'),\n",
       " ('oil', 'NN')]"
      ]
     },
     "execution_count": 532,
     "metadata": {},
     "output_type": "execute_result"
    }
   ],
   "source": [
    "tokenize('1 tablespoon extra virgin olive oil')"
   ]
  },
  {
   "cell_type": "code",
   "execution_count": 573,
   "metadata": {},
   "outputs": [
    {
     "data": {
      "text/plain": [
       "'verb, non-3rd person singular present'"
      ]
     },
     "execution_count": 573,
     "metadata": {},
     "output_type": "execute_result"
    }
   ],
   "source": [
    "spacy.explain('VBP')"
   ]
  },
  {
   "cell_type": "code",
   "execution_count": 559,
   "metadata": {},
   "outputs": [],
   "source": [
    "import nltk\n",
    "# nltk.download('averaged_perceptron_tagger')\n",
    "\n",
    "def tokenize_nltk(line):\n",
    "    tokens = nltk.word_tokenize(line)\n",
    "    token_tag_pairs = nltk.pos_tag(tokens)\n",
    "    return token_tag_pairs"
   ]
  },
  {
   "cell_type": "code",
   "execution_count": 560,
   "metadata": {},
   "outputs": [
    {
     "data": {
      "text/plain": [
       "[('1', 'CD'),\n",
       " ('tablespoon', 'VBP'),\n",
       " ('extra', 'JJ'),\n",
       " ('virgin', 'JJ'),\n",
       " ('olive', 'NN'),\n",
       " ('oil', 'NN')]"
      ]
     },
     "execution_count": 560,
     "metadata": {},
     "output_type": "execute_result"
    }
   ],
   "source": [
    "tokenize('1 tablespoon extra virgin olive oil')"
   ]
  },
  {
   "cell_type": "code",
   "execution_count": 572,
   "metadata": {},
   "outputs": [],
   "source": [
    "def extract_descriptor(ingredient_name):\n",
    "    descriptor = []\n",
    "    token_tag_pairs = tokenize(ingredient_name)\n",
    "    for pair in token_tag_pairs:\n",
    "        if pair[1] == \"JJ\" or pair[1] == \"VBN\":\n",
    "            descriptor.append(pair[0])\n",
    "    if len(descriptor) != 0:\n",
    "        return ' '.join(descriptor)"
   ]
  },
  {
   "cell_type": "code",
   "execution_count": 529,
   "metadata": {},
   "outputs": [],
   "source": [
    "def check_noun_num(token_tag_pairs):\n",
    "    tag_num_dict = {}\n",
    "    for pair in token_tag_pairs:\n",
    "        if pair[1] not in tag_num_dict:\n",
    "            tag_num_dict[pair[1]] = 1\n",
    "        else:\n",
    "            tag_num_dict[pair[1]] += 1\n",
    "    \n",
    "    criterion_1 = 'NN' in tag_num_dict and tag_num_dict['NN'] >= 2\n",
    "    criterion_2 = 'NNS' in tag_num_dict and tag_num_dict['NNS'] >= 2\n",
    "    criterion_3 = 'NN' in tag_num_dict and 'NNS' in tag_num_dict and tag_num_dict['NN'] + tag_num_dict['NNS'] >= 2\n",
    "    \n",
    "    if criterion_1 or criterion_2 or criterion_3:\n",
    "        return True\n",
    "    else:\n",
    "        return False"
   ]
  },
  {
   "cell_type": "code",
   "execution_count": 574,
   "metadata": {
    "scrolled": false
   },
   "outputs": [
    {
     "name": "stdout",
     "output_type": "stream",
     "text": [
      "1 tablespoon extra virgin olive oil\n",
      "ingredient name: extra virgin olive oil\n",
      "descriptor: extra virgin\n",
      "quantity: 1\n",
      "measurement: tablespoon\n",
      "preparation: None\n",
      "\n",
      "8 ounces lasagna noodles\n",
      "ingredient name: lasagna noodles\n",
      "descriptor: None\n",
      "quantity: 8\n",
      "measurement: ounces\n",
      "preparation: None\n",
      "\n",
      "2 cloves garlic, crushed\n",
      "ingredient name: garlic\n",
      "descriptor: garlic\n",
      "quantity: 2\n",
      "measurement: cloves\n",
      "preparation: crushed\n",
      "\n",
      "1/2 teaspoon dried oregano\n",
      "ingredient name: dried oregano\n",
      "descriptor: dried\n",
      "quantity: 1/2\n",
      "measurement: teaspoon\n",
      "preparation: None\n",
      "\n",
      "1/2 teaspoon dried basil\n",
      "ingredient name: dried basil\n",
      "descriptor: dried\n",
      "quantity: 1/2\n",
      "measurement: teaspoon\n",
      "preparation: None\n",
      "\n",
      "1 teaspoon salt\n",
      "ingredient name: salt\n",
      "descriptor: None\n",
      "quantity: 1\n",
      "measurement: teaspoon\n",
      "preparation: None\n",
      "\n",
      "1 egg\n",
      "ingredient name: egg\n",
      "descriptor: None\n",
      "quantity: 1\n",
      "measurement: None\n",
      "preparation: None\n",
      "\n",
      "1/2 onion, chopped\n",
      "ingredient name: onion\n",
      "descriptor: None\n",
      "quantity: 1/2\n",
      "measurement: None\n",
      "preparation: chopped\n",
      "\n",
      "1 (32 ounce) jar spaghetti sauce\n",
      "ingredient name: spaghetti sauce\n",
      "descriptor: None\n",
      "quantity: 1 (32 ounce)\n",
      "measurement: jar\n",
      "preparation: None\n",
      "\n",
      "1 1/2 cups water\n",
      "ingredient name: water\n",
      "descriptor: None\n",
      "quantity: 1 1/2\n",
      "measurement: cups\n",
      "preparation: None\n",
      "\n",
      "2 cups non-fat cottage cheese\n",
      "ingredient name: non-fat cottage cheese\n",
      "descriptor: None\n",
      "quantity: 2\n",
      "measurement: cups\n",
      "preparation: None\n",
      "\n",
      "1 (8 ounce) package part skim mozzarella cheese, shredded\n",
      "ingredient name: part skim mozzarella cheese\n",
      "descriptor: skim\n",
      "quantity: 1 (8 ounce)\n",
      "measurement: package\n",
      "preparation: shredded\n",
      "\n",
      "1/4 cup grated Parmesan cheese\n",
      "ingredient name: grated Parmesan cheese\n",
      "descriptor: grated\n",
      "quantity: 1/4\n",
      "measurement: cup\n",
      "preparation: None\n",
      "\n",
      "1/2 cup chopped fresh parsley\n",
      "ingredient name: chopped fresh parsley\n",
      "descriptor: chopped fresh\n",
      "quantity: 1/2\n",
      "measurement: cup\n",
      "preparation: None\n",
      "\n",
      "1/8 teaspoon black pepper\n",
      "ingredient name: black pepper\n",
      "descriptor: black\n",
      "quantity: 1/8\n",
      "measurement: teaspoon\n",
      "preparation: None\n",
      "\n",
      "2 (10 ounce) packages frozen chopped spinach\n",
      "ingredient name: frozen chopped spinach\n",
      "descriptor: frozen\n",
      "quantity: 2 (10 ounce)\n",
      "measurement: packages\n",
      "preparation: None\n",
      "\n"
     ]
    }
   ],
   "source": [
    "for line in ingredients:\n",
    "    quantity, measurement, preparation = extract_quantity_measurement_preparation(line)\n",
    "    ingredient_name = extract_ingredient_name(line)\n",
    "    descriptor = extract_descriptor(ingredient_name)\n",
    "    \n",
    "    print(line)\n",
    "    print('ingredient name:', ingredient_name)\n",
    "    print('descriptor:', descriptor)\n",
    "    print('quantity:', quantity)\n",
    "    print('measurement:', measurement)\n",
    "    print('preparation:', preparation)\n",
    "    print()\n",
    "    \n",
    "#     token_tag_pairs = tokenize(line)\n",
    "#     print(token_tag_pairs)\n",
    "#     print(check_noun_num(token_tag_pairs))\n",
    "#     print()"
   ]
  },
  {
   "cell_type": "code",
   "execution_count": null,
   "metadata": {},
   "outputs": [],
   "source": []
  }
 ],
 "metadata": {
  "kernelspec": {
   "display_name": "Python 3",
   "language": "python",
   "name": "python3"
  },
  "language_info": {
   "codemirror_mode": {
    "name": "ipython",
    "version": 3
   },
   "file_extension": ".py",
   "mimetype": "text/x-python",
   "name": "python",
   "nbconvert_exporter": "python",
   "pygments_lexer": "ipython3",
   "version": "3.7.2"
  }
 },
 "nbformat": 4,
 "nbformat_minor": 2
}
