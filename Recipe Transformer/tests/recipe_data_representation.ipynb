{
 "cells": [
  {
   "cell_type": "markdown",
   "metadata": {},
   "source": [
    "# Ingredients"
   ]
  },
  {
   "cell_type": "code",
   "execution_count": 1,
   "metadata": {},
   "outputs": [],
   "source": [
    "import re\n",
    "import pickle\n",
    "\n",
    "import nltk\n",
    "# nltk.download('punkt')\n",
    "from nltk import sent_tokenize\n",
    "from nltk.stem import PorterStemmer\n",
    "import spacy\n",
    "import requests\n",
    "import unidecode\n",
    "from bs4 import BeautifulSoup"
   ]
  },
  {
   "cell_type": "code",
   "execution_count": 2,
   "metadata": {},
   "outputs": [],
   "source": [
    "# python3 -m spacy download en\n",
    "nlp = spacy.load('en')\n",
    "\n",
    "def tokenize(line):\n",
    "    return [(token.text, token.tag_) for token in nlp(line)]"
   ]
  },
  {
   "cell_type": "code",
   "execution_count": 3,
   "metadata": {},
   "outputs": [],
   "source": [
    "url = 'https://www.allrecipes.com/recipe/23988/simple-spinach-lasagna/?internalSource=streams&referringId=87&referringContentType=Recipe%20Hub&clickId=st_trending_s'\n",
    "\n",
    "# test\n",
    "# url = 'https://www.allrecipes.com/recipe/235874/copycat-panera-broccoli-cheddar-soup/?clickId=right%20rail1&internalSource=rr_feed_recipe_sb&referringId=23988%20referringContentType%3Drecipe'\n",
    "# url = 'https://www.allrecipes.com/recipe/246141/pad-thai-with-tofu/'\n",
    "# url = 'https://www.allrecipes.com/recipe/221286/traditional-mexican-guacamole'\n",
    "# url = 'https://www.allrecipes.com/recipe/245863/chicken-stuffed-baked-avocados'\n",
    "url = 'https://www.allrecipes.com/recipe/228240/bibimbap-korean-rice-with-mixed-vegetables/'"
   ]
  },
  {
   "cell_type": "code",
   "execution_count": 4,
   "metadata": {
    "scrolled": false
   },
   "outputs": [
    {
     "name": "stdout",
     "output_type": "stream",
     "text": [
      "30 m\n",
      "30 m\n"
     ]
    }
   ],
   "source": [
    "def extract_time(url):\n",
    "    page = requests.get(url)\n",
    "    soup = BeautifulSoup(page.content, 'html.parser')\n",
    "    times = set([element.text.strip() for element in soup.find_all(class_='prepTime__item')])\n",
    "    # remove uncessary elements\n",
    "    times.remove('')\n",
    "    prep_time = None\n",
    "    cook_time = None\n",
    "    for time in times:\n",
    "        if 'prep' in time.lower():\n",
    "            prep_time = time[4:]\n",
    "        if 'cook' in time.lower():\n",
    "            cook_time = time[4:]\n",
    "    return prep_time, cook_time\n",
    "\n",
    "# test\n",
    "prep_time, cook_time = extract_time(url)\n",
    "print(prep_time)\n",
    "print(cook_time)"
   ]
  },
  {
   "cell_type": "code",
   "execution_count": 5,
   "metadata": {},
   "outputs": [
    {
     "data": {
      "text/plain": [
       "30"
      ]
     },
     "execution_count": 5,
     "metadata": {},
     "output_type": "execute_result"
    }
   ],
   "source": [
    "def convert_to_minutes(cook_time):\n",
    "    if cook_time is None:\n",
    "        return 0\n",
    "    if 'h' in cook_time:\n",
    "        hour_index = cook_time.index('h')\n",
    "        print(hour_index)\n",
    "        hours = int(cook_time[:hour_index].strip())\n",
    "        if 'm' in cook_time:\n",
    "            minutes = int(cook_time[hour_index+1 : -1].strip())\n",
    "        else:\n",
    "            minutes = 0\n",
    "    else:\n",
    "        hours = 0\n",
    "        minutes = int(cook_time[: -1].strip())\n",
    "    return 60*hours + minutes\n",
    "\n",
    "# test\n",
    "convert_to_minutes(cook_time)"
   ]
  },
  {
   "cell_type": "code",
   "execution_count": 6,
   "metadata": {},
   "outputs": [
    {
     "data": {
      "text/plain": [
       "'Bibimbap (Korean Rice With Mixed Vegetables)'"
      ]
     },
     "execution_count": 6,
     "metadata": {},
     "output_type": "execute_result"
    }
   ],
   "source": [
    "def get_recipe_name(url):\n",
    "    page = requests.get(url)\n",
    "    soup = BeautifulSoup(page.content, 'html.parser')\n",
    "    return soup.find_all(\"h1\", {\"class\": \"recipe-summary__h1\"})[0].text\n",
    "\n",
    "# test\n",
    "get_recipe_name(url)"
   ]
  },
  {
   "cell_type": "code",
   "execution_count": 7,
   "metadata": {
    "scrolled": false
   },
   "outputs": [
    {
     "name": "stdout",
     "output_type": "stream",
     "text": [
      "['Stir cucumber pieces with 1/4 cup gochujang paste in a bowl; set aside.', 'Bring about 2 cups of water to a boil in a large nonstick skillet and stir in spinach; cook until spinach is bright green and wilted, 2 to 3 minutes. Drain spinach and squeeze out as much moisture as possible; set spinach aside in a bowl and stir soy sauce into spinach.', 'Heat 1 teaspoon olive oil in large nonstick skillet and cook and stir carrots until softened, about 3 minutes; stir in garlic and cook just until fragrant, about 1 more minute. Stir in cucumber pieces with gochujang paste; sprinkle with red pepper flakes, and set the mixture aside in a bowl.', 'Brown beef in a clean nonstick skillet over medium heat, about 5 minutes per side, and set aside. In a separate nonstick skillet, heat 1 more teaspoon olive oil over medium-low heat and fry the eggs just on one side until yolks are runny but whites are firm, 2 to 4 minutes each.', 'To assemble the dish, divide cooked rice into 4 large serving bowls; top with spinach mixture, a few pieces of beef, and cucumber mixture. Place 1 egg atop each serving. Drizzle each bowl with 1 teaspoon of sesame oil, a sprinkle of sesame seeds, and a small amount of gochujang paste if desired.']\n"
     ]
    },
    {
     "data": {
      "text/plain": [
       "{'1 English cucumber, cut into matchsticks',\n",
       " '1 bunch fresh spinach, cut into thin strips',\n",
       " '1 clove garlic, minced',\n",
       " '1 pinch red pepper flakes',\n",
       " '1 pound thinly-sliced beef top round steak',\n",
       " '1 tablespoon soy sauce',\n",
       " '1 teaspoon olive oil',\n",
       " '1 teaspoon sesame seeds',\n",
       " '1/4 cup gochujang (Korean hot pepper paste)',\n",
       " '2 carrots, cut into matchsticks',\n",
       " '2 teaspoons gochujang (Korean hot pepper paste), divided (optional)',\n",
       " '4 cups cooked white rice',\n",
       " '4 large eggs',\n",
       " '4 teaspoons toasted sesame oil, divided'}"
      ]
     },
     "execution_count": 7,
     "metadata": {},
     "output_type": "execute_result"
    }
   ],
   "source": [
    "def get_ingredient_list_and_directions(url):\n",
    "    page = requests.get(url)\n",
    "    soup = BeautifulSoup(page.content, 'html.parser')\n",
    "    \n",
    "    # extract ingredients section from the webpage\n",
    "    ingredients = [element.label.text.strip() for element in soup.find_all(class_='checkList__line')]\n",
    "    \n",
    "    # remove exceptions like 'topping:'\n",
    "    for i in ingredients:\n",
    "        if ':' in i:\n",
    "            ingredients.remove(i)\n",
    "    ingredients = set(ingredients)\n",
    "    \n",
    "    # remove unnecessary elements\n",
    "    unnecessary = ['', 'Add all ingredients to list']\n",
    "    for i in unnecessary:\n",
    "        if i in ingredients:\n",
    "            ingredients.remove(i)\n",
    "            \n",
    "    # extract directions section from the webpage\n",
    "    directions = [element.text.strip() for element in soup.find_all(class_='recipe-directions__list--item')]\n",
    "    # remove unnecessary elements\n",
    "    directions.remove('')\n",
    "    return ingredients, directions\n",
    "\n",
    "# test\n",
    "ingredients, directions = get_ingredient_list_and_directions(url)\n",
    "print(directions)\n",
    "ingredients"
   ]
  },
  {
   "cell_type": "code",
   "execution_count": 8,
   "metadata": {},
   "outputs": [],
   "source": [
    "def numerical(line):\n",
    "    # replace everything to '' except whitespace, alphanumeric character\n",
    "    line = re.sub(r'[^\\w\\s]', '', line)\n",
    "    token_tag_pairs = tokenize(line)\n",
    "    for pair in token_tag_pairs:\n",
    "        # if the word is not numerical\n",
    "        if not pair[1] == \"CD\":\n",
    "            return False\n",
    "    return True\n",
    "\n",
    "def nouns_only(line):\n",
    "    noun_types = ['NN', 'NNS', 'NNP', 'NNPS']\n",
    "    adjective_type_exceptions = ['ground', 'skinless', 'boneless']\n",
    "    noun_type_exceptions = ['parsley', 'garlic', 'chili', 'chile', 'substitute', 'cream', 'flanken', 'cilantro', 'such']\n",
    "    # replace everything to '' except whitespace, alphanumeric character\n",
    "    line = re.sub(r'[^\\w\\s]', '', line)\n",
    "    token_tag_pairs = tokenize(line)\n",
    "    for pair in token_tag_pairs:\n",
    "        # if the word is not a noun or cardinal number\n",
    "        if (not (pair[1] in noun_types) or pair[0] in adjective_type_exceptions) and pair[0] not in noun_type_exceptions:\n",
    "            return False\n",
    "    return True"
   ]
  },
  {
   "cell_type": "code",
   "execution_count": 25,
   "metadata": {},
   "outputs": [],
   "source": [
    "    return quantity, measurement, descriptor, ingredient, preparation"
   ]
  },
  {
   "cell_type": "code",
   "execution_count": 26,
   "metadata": {
    "scrolled": false
   },
   "outputs": [
    {
     "name": "stdout",
     "output_type": "stream",
     "text": [
      "1 clove garlic, minced\n",
      "\t quantity   : 1\n",
      "\t measurement: clove\n",
      "\t descriptor : None\n",
      "\t ingredient : garlic\n",
      "\t preparation: minced\n",
      "\n",
      "2 teaspoons gochujang (Korean hot pepper paste), divided (optional)\n",
      "\t quantity   : 2\n",
      "\t measurement: teaspoons\n",
      "\t descriptor : gochujang, Korean hot pepper paste\n",
      "\t ingredient : )\n",
      "\t preparation: divided (optional\n",
      "\n",
      "2 carrots, cut into matchsticks\n",
      "\t quantity   : 2\n",
      "\t measurement: None\n",
      "\t descriptor : None\n",
      "\t ingredient : carrots\n",
      "\t preparation: cut into matchsticks\n",
      "\n",
      "1 tablespoon soy sauce\n",
      "\t quantity   : 1\n",
      "\t measurement: tablespoon\n",
      "\t descriptor : None\n",
      "\t ingredient : soy sauce\n",
      "\t preparation: None\n",
      "\n",
      "1 bunch fresh spinach, cut into thin strips\n",
      "\t quantity   : 1\n",
      "\t measurement: bunch\n",
      "\t descriptor : fresh\n",
      "\t ingredient : spinach\n",
      "\t preparation: cut into thin strips\n",
      "\n",
      "1 English cucumber, cut into matchsticks\n",
      "\t quantity   : 1\n",
      "\t measurement: None\n",
      "\t descriptor : English\n",
      "\t ingredient : cucumber\n",
      "\t preparation: cut into matchsticks\n",
      "\n",
      "1 teaspoon sesame seeds\n",
      "\t quantity   : 1\n",
      "\t measurement: teaspoon\n",
      "\t descriptor : None\n",
      "\t ingredient : sesame seeds\n",
      "\t preparation: None\n",
      "\n",
      "4 cups cooked white rice\n",
      "\t quantity   : 4\n",
      "\t measurement: cups\n",
      "\t descriptor : cooked white\n",
      "\t ingredient : rice\n",
      "\t preparation: None\n",
      "\n",
      "4 teaspoons toasted sesame oil, divided\n",
      "\t quantity   : 4\n",
      "\t measurement: teaspoons\n",
      "\t descriptor : divided\n",
      "\t ingredient : toasted sesame oil\n",
      "\t preparation: None\n",
      "\n",
      "1/4 cup gochujang (Korean hot pepper paste)\n",
      "\t quantity   : 1/4\n",
      "\t measurement: cup\n",
      "\t descriptor : gochujang\n",
      "\t ingredient : gochujang\n",
      "\t preparation: None\n",
      "\n",
      "4 large eggs\n",
      "\t quantity   : 4\n",
      "\t measurement: None\n",
      "\t descriptor : large\n",
      "\t ingredient : eggs\n",
      "\t preparation: None\n",
      "\n",
      "1 pinch red pepper flakes\n",
      "\t quantity   : 1\n",
      "\t measurement: pinch\n",
      "\t descriptor : red\n",
      "\t ingredient : pepper flakes\n",
      "\t preparation: None\n",
      "\n",
      "1 teaspoon olive oil\n",
      "\t quantity   : 1\n",
      "\t measurement: teaspoon\n",
      "\t descriptor : None\n",
      "\t ingredient : olive oil\n",
      "\t preparation: None\n",
      "\n",
      "1 pound thinly-sliced beef top round steak\n",
      "\t quantity   : 1\n",
      "\t measurement: pound\n",
      "\t descriptor : thinly-sliced top round\n",
      "\t ingredient : beef steak\n",
      "\t preparation: None\n",
      "\n"
     ]
    }
   ],
   "source": [
    "def decompose_ingredients(ingredients):\n",
    "    for line in ingredients:\n",
    "        quantity, measurement, descriptor, ingredient, preparation = extract_all(line)\n",
    "        print(line)\n",
    "        print('\\t quantity   :', quantity)\n",
    "        print('\\t measurement:', measurement)\n",
    "        print('\\t descriptor :', descriptor)\n",
    "        print('\\t ingredient :', ingredient)\n",
    "        print('\\t preparation:', preparation)\n",
    "        print()\n",
    "\n",
    "# test\n",
    "decompose_ingredients(ingredients)"
   ]
  },
  {
   "cell_type": "markdown",
   "metadata": {},
   "source": [
    "# Tools"
   ]
  },
  {
   "cell_type": "code",
   "execution_count": 11,
   "metadata": {},
   "outputs": [
    {
     "data": {
      "text/plain": [
       "{'Heat',\n",
       " 'Place',\n",
       " 'amount',\n",
       " 'beef',\n",
       " 'boil',\n",
       " 'bowl',\n",
       " 'bowls',\n",
       " 'carrots',\n",
       " 'cucumber',\n",
       " 'cup',\n",
       " 'cups',\n",
       " 'dish',\n",
       " 'egg',\n",
       " 'eggs',\n",
       " 'flakes',\n",
       " 'garlic',\n",
       " 'gochujang',\n",
       " 'heat',\n",
       " 'minute',\n",
       " 'minutes',\n",
       " 'mixture',\n",
       " 'moisture',\n",
       " 'nonstick',\n",
       " 'oil',\n",
       " 'olive',\n",
       " 'paste',\n",
       " 'pepper',\n",
       " 'pieces',\n",
       " 'rice',\n",
       " 'sauce',\n",
       " 'seeds',\n",
       " 'sesame',\n",
       " 'side',\n",
       " 'skillet',\n",
       " 'soy',\n",
       " 'spinach',\n",
       " 'sprinkle',\n",
       " 'teaspoon',\n",
       " 'water',\n",
       " 'whites',\n",
       " 'yolks'}"
      ]
     },
     "execution_count": 11,
     "metadata": {},
     "output_type": "execute_result"
    }
   ],
   "source": [
    "def extract_directions_nouns(directions):\n",
    "    directions_nouns = set()\n",
    "    if isinstance(directions, str):\n",
    "        directions = [directions]\n",
    "    for direction in directions:\n",
    "        sentences = sent_tokenize(direction)\n",
    "        for sentence in sentences:\n",
    "            # check for special cases where spaCy cannot recognize well\n",
    "            if ' oven' in sentence:\n",
    "                directions_nouns |= {'oven'}\n",
    "#             print(sentence)\n",
    "            token_tag_pairs = tokenize(sentence)\n",
    "            for pair in token_tag_pairs:    \n",
    "                # avoid case like 'degrees C'\n",
    "                if len(pair[0]) > 1:\n",
    "                    if (pair[1] == 'NN' or pair[1] == 'NNS') and pair[0] != 'ground':\n",
    "                        directions_nouns |= {pair[0]}\n",
    "#         print('---------')\n",
    "    return directions_nouns\n",
    "    \n",
    "directions_nouns = extract_directions_nouns(directions)\n",
    "directions_nouns"
   ]
  },
  {
   "cell_type": "code",
   "execution_count": 12,
   "metadata": {},
   "outputs": [
    {
     "data": {
      "text/plain": [
       "'spong'"
      ]
     },
     "execution_count": 12,
     "metadata": {},
     "output_type": "execute_result"
    }
   ],
   "source": [
    "stemmer = PorterStemmer()\n",
    "\n",
    "# test\n",
    "stemmer.stem('Sponges')"
   ]
  },
  {
   "cell_type": "code",
   "execution_count": 13,
   "metadata": {},
   "outputs": [
    {
     "data": {
      "text/plain": [
       "{'bag',\n",
       " 'bin',\n",
       " 'blender',\n",
       " 'board',\n",
       " 'bowl',\n",
       " 'coland',\n",
       " 'contain',\n",
       " 'cup',\n",
       " 'dish',\n",
       " 'foil',\n",
       " 'grater',\n",
       " 'guard',\n",
       " 'juicer',\n",
       " 'knife',\n",
       " 'ladl',\n",
       " 'masher',\n",
       " 'mitt',\n",
       " 'open',\n",
       " 'pan',\n",
       " 'paper',\n",
       " 'peeler',\n",
       " 'pot',\n",
       " 'press',\n",
       " 'rack',\n",
       " 'saucepan',\n",
       " 'scale',\n",
       " 'sharpen',\n",
       " 'shear',\n",
       " 'skillet',\n",
       " 'spatula',\n",
       " 'spinner',\n",
       " 'spong',\n",
       " 'spoon',\n",
       " 'steel',\n",
       " 'stockpot',\n",
       " 'thermomet',\n",
       " 'tong',\n",
       " 'towel',\n",
       " 'tray',\n",
       " 'trivet',\n",
       " 'whisk'}"
      ]
     },
     "execution_count": 13,
     "metadata": {},
     "output_type": "execute_result"
    }
   ],
   "source": [
    "def retrieve_tools_set():\n",
    "    try:\n",
    "        with open('data/tools.pickle', 'rb') as file:\n",
    "            tools = pickle.load(file)\n",
    "#             print('loaded tools set successfully')\n",
    "    except:\n",
    "        url = 'https://www.mealime.com/kitchen-essentials-list'\n",
    "        page = requests.get(url)\n",
    "        soup = BeautifulSoup(page.content, 'html.parser')\n",
    "        tools = [element.text for element in soup.find_all(class_='anchor-button')]\n",
    "        # reduce each tool to its last word\n",
    "        print(tools)\n",
    "        tools = set([stemmer.stem(tool.split()[-1].strip()) for tool in tools])\n",
    "        \n",
    "        # save retrieved data\n",
    "        with open('data/tools.pickle', 'wb') as file:\n",
    "            pickle.dump(tools, file, protocol=pickle.HIGHEST_PROTOCOL)\n",
    "    \n",
    "    return tools\n",
    "\n",
    "retrieve_tools_set()"
   ]
  },
  {
   "cell_type": "code",
   "execution_count": 14,
   "metadata": {},
   "outputs": [
    {
     "data": {
      "text/plain": [
       "{'bowl', 'bowls', 'cup', 'cups', 'dish', 'skillet'}"
      ]
     },
     "execution_count": 14,
     "metadata": {},
     "output_type": "execute_result"
    }
   ],
   "source": [
    "def extract_tools(directions_nouns):\n",
    "    tools = retrieve_tools_set()\n",
    "    directions_tools = set()\n",
    "    for noun in directions_nouns:\n",
    "        if stemmer.stem(noun) in tools:\n",
    "            directions_tools |= {noun}\n",
    "    return directions_tools\n",
    "\n",
    "extract_tools(directions_nouns)"
   ]
  },
  {
   "cell_type": "markdown",
   "metadata": {},
   "source": [
    "# Methods"
   ]
  },
  {
   "cell_type": "code",
   "execution_count": 15,
   "metadata": {},
   "outputs": [
    {
     "data": {
      "text/plain": [
       "'saute'"
      ]
     },
     "execution_count": 15,
     "metadata": {},
     "output_type": "execute_result"
    }
   ],
   "source": [
    "# test\n",
    "accented_string = 'sauté'\n",
    "unidecode.unidecode(accented_string)"
   ]
  },
  {
   "cell_type": "code",
   "execution_count": 16,
   "metadata": {},
   "outputs": [
    {
     "data": {
      "text/plain": [
       "{'bake',\n",
       " 'blanch',\n",
       " 'boil',\n",
       " 'brais',\n",
       " 'broil',\n",
       " 'deep-fri',\n",
       " 'grill',\n",
       " 'pan-fri',\n",
       " 'poach',\n",
       " 'roast',\n",
       " 'saut',\n",
       " 'sear',\n",
       " 'simmer',\n",
       " 'steam',\n",
       " 'stew'}"
      ]
     },
     "execution_count": 16,
     "metadata": {},
     "output_type": "execute_result"
    }
   ],
   "source": [
    "def retrieve_cooking_methods_set():\n",
    "    try:\n",
    "        with open('data/cooking_methods.pickle', 'rb') as file:\n",
    "            cooking_methods = pickle.load(file)\n",
    "#             print('loaded cooking_methods set successfully')\n",
    "    except:\n",
    "        url = 'https://www.thedailymeal.com/cook/15-basic-cooking-methods-you-need-know-slideshow/slide-13'\n",
    "        page = requests.get(url)\n",
    "        soup = BeautifulSoup(page.content, 'html.parser')\n",
    "        cooking_methods = [element.h2.text for element in soup.find_all(class_='image-title slide-title')]\n",
    "        cooking_methods = set([stemmer.stem(unidecode.unidecode(method.strip())) for method in cooking_methods])\n",
    "        \n",
    "        # save retrieved data\n",
    "        with open('data/cooking_methods.pickle', 'wb') as file:\n",
    "            pickle.dump(cooking_methods, file, protocol=pickle.HIGHEST_PROTOCOL)\n",
    "            \n",
    "    return cooking_methods\n",
    "\n",
    "# test\n",
    "methods = retrieve_cooking_methods_set()\n",
    "methods"
   ]
  },
  {
   "cell_type": "code",
   "execution_count": 17,
   "metadata": {},
   "outputs": [
    {
     "data": {
      "text/plain": [
       "{'bain-mari',\n",
       " 'bake',\n",
       " 'barbecu',\n",
       " 'bast',\n",
       " 'blanch',\n",
       " 'boil',\n",
       " 'bone',\n",
       " 'brine',\n",
       " 'can',\n",
       " 'caramel',\n",
       " 'chiffonad',\n",
       " 'chop',\n",
       " 'cockaign',\n",
       " 'cream',\n",
       " 'cube',\n",
       " 'deglaz',\n",
       " 'degorg',\n",
       " 'dredg',\n",
       " 'dri',\n",
       " 'ferment',\n",
       " 'fri',\n",
       " 'grill',\n",
       " 'julien',\n",
       " 'marin',\n",
       " 'minc',\n",
       " 'pan-fri',\n",
       " 'pickl',\n",
       " 'poach',\n",
       " 'roast',\n",
       " 'rub',\n",
       " 'sauté',\n",
       " 'scald',\n",
       " 'shir',\n",
       " 'simmer',\n",
       " 'skill',\n",
       " 'slice',\n",
       " 'smoke',\n",
       " 'sous-vid',\n",
       " 'steam',\n",
       " 'stew',\n",
       " 'stir-fri',\n",
       " 'storag',\n",
       " 'temper',\n",
       " 'test'}"
      ]
     },
     "execution_count": 17,
     "metadata": {},
     "output_type": "execute_result"
    }
   ],
   "source": [
    "def retrieve_other_cooking_methods_set():\n",
    "    try:\n",
    "        with open('data/other_cooking_methods.pickle', 'rb') as file:\n",
    "            other_cooking_methods = pickle.load(file)\n",
    "#             print('loaded other_cooking_methods set successfully')\n",
    "    except:\n",
    "        url = 'https://en.wikibooks.org/wiki/Cookbook:Cooking_Techniques'\n",
    "        page = requests.get(url)\n",
    "        soup = BeautifulSoup(page.content, 'html.parser')\n",
    "        unwanted = ['Contents', '[', 'edit', ']', '\\n']\n",
    "        other_cooking_methods = set()\n",
    "        dump = soup.find_all(class_='mw-parser-output')\n",
    "        for i in dump:\n",
    "            for j in i.contents:\n",
    "                if hasattr(j, 'contents'):\n",
    "                    for k in j.contents:\n",
    "                        if hasattr(k, 'contents'):\n",
    "                            for l in k.contents:\n",
    "                                if hasattr(l, 'contents'):\n",
    "                                    for method in l:\n",
    "    #                                     print(method.string)\n",
    "                                        if method.string is not None and method not in unwanted:\n",
    "                                            other_cooking_methods |= {stemmer.stem(method.string.split()[-1])}\n",
    "\n",
    "        # remove uncessary methods after complexity reduction\n",
    "        other_cooking_methods.remove('cook')\n",
    "        other_cooking_methods.remove('chocol')\n",
    "        \n",
    "        # save retrieved data\n",
    "        with open('data/other_cooking_methods.pickle', 'wb') as file:\n",
    "            pickle.dump(other_cooking_methods, file, protocol=pickle.HIGHEST_PROTOCOL)\n",
    "            \n",
    "    return other_cooking_methods\n",
    "\n",
    "# test\n",
    "other_methods = retrieve_other_cooking_methods_set()\n",
    "other_methods"
   ]
  },
  {
   "cell_type": "code",
   "execution_count": 18,
   "metadata": {},
   "outputs": [
    {
     "data": {
      "text/plain": [
       "{'assemble',\n",
       " 'bring',\n",
       " 'cook',\n",
       " 'divide',\n",
       " 'drain',\n",
       " 'drizzle',\n",
       " 'fry',\n",
       " 'set',\n",
       " 'sprinkle',\n",
       " 'squeeze',\n",
       " 'stir',\n",
       " 'top'}"
      ]
     },
     "execution_count": 18,
     "metadata": {},
     "output_type": "execute_result"
    }
   ],
   "source": [
    "def extract_directions_verbs(directions):\n",
    "    directions_verbs = set()\n",
    "    if isinstance(directions, str):\n",
    "        directions = [directions]\n",
    "    for direction in directions:\n",
    "        sentences = sent_tokenize(direction)\n",
    "        for sentence in sentences:\n",
    "#             print(sentence)\n",
    "            token_tag_pairs = tokenize(sentence)\n",
    "            for pair in token_tag_pairs:    \n",
    "                if pair[1] == 'VB':\n",
    "                    directions_verbs |= {pair[0].lower()}\n",
    "#         print('---------')\n",
    "    return directions_verbs\n",
    "\n",
    "directions_verbs = extract_directions_verbs(directions)\n",
    "directions_verbs"
   ]
  },
  {
   "cell_type": "code",
   "execution_count": 19,
   "metadata": {},
   "outputs": [
    {
     "data": {
      "text/plain": [
       "{'fry'}"
      ]
     },
     "execution_count": 19,
     "metadata": {},
     "output_type": "execute_result"
    }
   ],
   "source": [
    "def extract_methods(directions_verbs):\n",
    "    methods = retrieve_cooking_methods_set()\n",
    "    methods |= retrieve_other_cooking_methods_set()\n",
    "    directions_methods = set()\n",
    "    for verb in directions_verbs:\n",
    "        if stemmer.stem(verb) in methods:\n",
    "            directions_methods |= {verb}\n",
    "    return directions_methods\n",
    "\n",
    "extract_methods(directions_verbs)"
   ]
  },
  {
   "cell_type": "markdown",
   "metadata": {},
   "source": [
    "# Steps"
   ]
  },
  {
   "cell_type": "code",
   "execution_count": 20,
   "metadata": {},
   "outputs": [
    {
     "name": "stdout",
     "output_type": "stream",
     "text": [
      "toasted sesame oil\n",
      "gochujang\n"
     ]
    },
    {
     "data": {
      "text/plain": [
       "['toasted sesame oil',\n",
       " 'pepper flakes',\n",
       " 'sesame seeds',\n",
       " 'beef steak',\n",
       " 'gochujang',\n",
       " 'soy sauce',\n",
       " 'olive oil',\n",
       " 'cucumber',\n",
       " 'carrots',\n",
       " 'spinach',\n",
       " 'pepper',\n",
       " 'sesame',\n",
       " 'flakes',\n",
       " 'garlic',\n",
       " 'olive',\n",
       " 'steak',\n",
       " 'seeds',\n",
       " 'sauce',\n",
       " 'beef',\n",
       " 'eggs',\n",
       " 'rice',\n",
       " 'oil',\n",
       " 'soy',\n",
       " ')']"
      ]
     },
     "execution_count": 20,
     "metadata": {},
     "output_type": "execute_result"
    }
   ],
   "source": [
    "def extract_directions_ingredients(ingredients):\n",
    "    ingredients_nouns = set()\n",
    "    for line in ingredients:\n",
    "        quantity, measurement, descriptor, ingredient, preparation = extract_all(line)\n",
    "        ingredients_nouns |= {ingredient}\n",
    "        # for better granularity, in case full name is not mentioned\n",
    "        token_tag_pairs = tokenize(ingredient)\n",
    "        for pair in token_tag_pairs:    \n",
    "            if len(pair[0]) > 1:\n",
    "                if (pair[1] == 'NN' or pair[1] == 'NNS') and pair[0] != 'ground':\n",
    "                    ingredients_nouns |= {pair[0]}\n",
    "    # start from the longest\n",
    "    return sorted((list(ingredients_nouns)), key=len)[::-1]\n",
    "\n",
    "extract_directions_ingredients(ingredients)"
   ]
  },
  {
   "cell_type": "code",
   "execution_count": 21,
   "metadata": {},
   "outputs": [],
   "source": [
    "def extract_ingredients(direction):\n",
    "    ingredients_set = extract_directions_ingredients(ingredients)\n",
    "    direction_ingredients = set()\n",
    "    used = set()\n",
    "    sentences = sent_tokenize(direction)\n",
    "    for sentence in sentences:\n",
    "        for i in ingredients_set:\n",
    "            if i in sentence and i not in used:\n",
    "                direction_ingredients |= {i}\n",
    "                # store used partial word in used\n",
    "                for word in i.split():\n",
    "                    used |= {word}\n",
    "    return direction_ingredients"
   ]
  },
  {
   "cell_type": "code",
   "execution_count": 22,
   "metadata": {},
   "outputs": [
    {
     "name": "stdout",
     "output_type": "stream",
     "text": [
      "21\n",
      "0.07\n"
     ]
    }
   ],
   "source": [
    "def extract_maximum_minutes(time):\n",
    "    match = re.findall(re.compile(r'[1-9]*[0-9]'), time)\n",
    "    if 'minute' in time:\n",
    "        return int(match[-1])\n",
    "    if 'second' in time:\n",
    "        return round(int(match[-1])/60, 2)\n",
    "    return 0\n",
    "     \n",
    "# test\n",
    "print(extract_maximum_minutes('21 minutes'))\n",
    "print(extract_maximum_minutes('2 or 4 seconds'))"
   ]
  },
  {
   "cell_type": "code",
   "execution_count": 35,
   "metadata": {},
   "outputs": [
    {
     "data": {
      "text/plain": [
       "'3 minutes'"
      ]
     },
     "execution_count": 35,
     "metadata": {},
     "output_type": "execute_result"
    }
   ],
   "source": [
    "def extract_direction_time(direction):\n",
    "    total_time = 0\n",
    "    times = []\n",
    "    for sentence in sent_tokenize(direction):\n",
    "        match = re.findall(re.compile(r'\\d+[^,.;]*second[s]?\\b|\\d+[^,.;]*minute[s]?\\b'), sentence)\n",
    "        if len(match) != 0:\n",
    "            for m in match:\n",
    "                times.append(m)\n",
    "    \n",
    "    if len(times) == 0:\n",
    "        return None\n",
    "    \n",
    "    if len(times) == 1:\n",
    "        if 'minute' in times[-1]:\n",
    "            return str(extract_maximum_minutes(times[-1])) + ' minutes'\n",
    "        return times[-1].replace('more ', '')\n",
    "    \n",
    "    if len(times) > 1:\n",
    "        for time in times:\n",
    "            total_time += extract_maximum_minutes(time)\n",
    "        return str(total_time) + ' minutes'\n",
    "    \n",
    "# test\n",
    "# d = 'Add garlic to the onions and cook an additional 1 minute. Add chicken soup base, water, and potatoes, \\\n",
    "#     simmer 15 minutes.'\n",
    "d = 'Melt butter in a saucepan over medium heat. Add garlic and onion; cook for a few minutes until fragrant, \\\n",
    "    but not brown. Stir in spinach, and cook for about 5 more minutes. Remove from the heat, and mix in ricotta cheese, \\\n",
    "    sour cream, and 1 cup of Monterey Jack cheese.'\n",
    "d = 'Bring about 2 cups of water to a boil in a large nonstick skillet and stir in spinach; cook until spinach \\\n",
    "is bright green and wilted, 2 to 3 minutes. Drain spinach and squeeze out as much moisture as possible;\\\n",
    "set spinach aside in a bowl and stir soy sauce into spinach.'\n",
    "\n",
    "extract_direction_time(d)"
   ]
  },
  {
   "cell_type": "code",
   "execution_count": 36,
   "metadata": {
    "scrolled": false
   },
   "outputs": [
    {
     "name": "stdout",
     "output_type": "stream",
     "text": [
      "Step: 1\n",
      "Direction: Stir cucumber pieces with 1/4 cup gochujang paste in a bowl; set aside.\n",
      "\tprep time: 30 m\n",
      "\ttools: bowl, cup\n",
      "\tingredients: gochujang cucumber\n",
      "---------\n",
      "Step: 2\n",
      "Direction: Bring about 2 cups of water to a boil in a large nonstick skillet and stir in spinach; cook until spinach is bright green and wilted, 2 to 3 minutes. Drain spinach and squeeze out as much moisture as possible; set spinach aside in a bowl and stir soy sauce into spinach.\n",
      "\testimated cook time: about 3 minutes\n",
      "\ttools: bowl, cups, skillet\n",
      "\tingredients: soy sauce oil spinach\n",
      "---------\n",
      "Step: 3\n",
      "Direction: Heat 1 teaspoon olive oil in large nonstick skillet and cook and stir carrots until softened, about 3 minutes; stir in garlic and cook just until fragrant, about 1 more minute. Stir in cucumber pieces with gochujang paste; sprinkle with red pepper flakes, and set the mixture aside in a bowl.\n",
      "\testimated cook time: about 4 minutes\n",
      "\ttools: bowl, skillet\n",
      "\tingredients: gochujang cucumber garlic pepper flakes olive oil carrots\n",
      "---------\n",
      "Step: 4\n",
      "Direction: Brown beef in a clean nonstick skillet over medium heat, about 5 minutes per side, and set aside. In a separate nonstick skillet, heat 1 more teaspoon olive oil over medium-low heat and fry the eggs just on one side until yolks are runny but whites are firm, 2 to 4 minutes each.\n",
      "\testimated cook time: about 9 minutes\n",
      "\ttools: skillet\n",
      "\tmethods: fry\n",
      "\tingredients: beef olive oil eggs\n",
      "---------\n",
      "Step: 5\n",
      "Direction: To assemble the dish, divide cooked rice into 4 large serving bowls; top with spinach mixture, a few pieces of beef, and cucumber mixture. Place 1 egg atop each serving. Drizzle each bowl with 1 teaspoon of sesame oil, a sprinkle of sesame seeds, and a small amount of gochujang paste if desired.\n",
      "\testimated cook time: 8 minutes\n",
      "\ttools: dish, bowl, bowls\n",
      "\tingredients: gochujang sesame seeds spinach cucumber beef oil rice\n",
      "---------\n"
     ]
    }
   ],
   "source": [
    "def decompose_steps():\n",
    "    prep_time, cook_time = extract_time(url)\n",
    "    if len(directions) > 1:\n",
    "            average_cook_time_per_step = round(convert_to_minutes(cook_time) / (len(directions) - 1))\n",
    "\n",
    "    for i, direction in enumerate(directions):\n",
    "        print('Step:', i+1)\n",
    "        print('Direction:', direction)\n",
    "        if i == 0:\n",
    "            print('\\tprep time:', prep_time)\n",
    "        else:\n",
    "            if extract_direction_time(direction):\n",
    "                print('\\testimated cook time: about {0}'.format(extract_direction_time(direction)))\n",
    "            else:\n",
    "                print('\\testimated cook time: {0} minutes'.format(average_cook_time_per_step))\n",
    "\n",
    "        single_direction_tools = extract_tools(extract_directions_nouns(direction))\n",
    "        single_direction_methods = extract_methods(extract_directions_verbs(direction))\n",
    "        single_direction_ingredients = extract_ingredients(direction)\n",
    "\n",
    "        if len(single_direction_tools) > 0:\n",
    "            print('\\ttools:', ', '.join(single_direction_tools))\n",
    "        if len(single_direction_methods) > 0:\n",
    "            print('\\tmethods:', ', '.join(single_direction_methods))\n",
    "        if len(single_direction_ingredients) > 0:\n",
    "            print('\\tingredients:', ' '.join(single_direction_ingredients))\n",
    "        print('---------')\n",
    "\n",
    "decompose_steps()"
   ]
  },
  {
   "cell_type": "code",
   "execution_count": null,
   "metadata": {},
   "outputs": [],
   "source": []
  }
 ],
 "metadata": {
  "kernelspec": {
   "display_name": "Python 3",
   "language": "python",
   "name": "python3"
  },
  "language_info": {
   "codemirror_mode": {
    "name": "ipython",
    "version": 3
   },
   "file_extension": ".py",
   "mimetype": "text/x-python",
   "name": "python",
   "nbconvert_exporter": "python",
   "pygments_lexer": "ipython3",
   "version": "3.7.2"
  }
 },
 "nbformat": 4,
 "nbformat_minor": 2
}
