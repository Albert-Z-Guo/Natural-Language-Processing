{
 "cells": [
  {
   "cell_type": "code",
   "execution_count": 22,
   "metadata": {},
   "outputs": [
    {
     "name": "stdout",
     "output_type": "stream",
     "text": [
      "{'healthy': ['canned sliced green chiles', 'cans stewed tomatoes', 'lime', 'onion', 'pepper to taste', 'eggs', 'sweet pickle relish', 'potatoes', 'chopped onion', 'mayonnaise', 'chopped celery', 'tilapia fillets', 'extra virgin olive oil', 'tortillas', 'cilantro', 'light sour cream', 'tomatoes', 'pepper to taste', 'limes', 'adobo sauce from chipotle peppers', 'head cabbage', 'garlic', 'squash - peeled, seeded, and cut into 1-in', 'ground black pepper to taste', 'garlic', 'penne pasta', 'fresh spinach, rinsed and', 'bacon', 'can diced tomatoes', 'brown sugar', 'blueberries', 'whole wheat flour', 'nonfat milk', 'all-purpose flour', 'egg', 'unsweetened applesauce', 'wheat bran', 'pepper to taste', 'onion', 'egg', 'russet potatoes', 'all-purpose flour', 'oil for frying', 'tomato sauce', 'tomato paste', 'ground turkey', 'can crushed tomatoes', 'black beans', 'garlic', 'onion', 'all-purpose flour', 'apple butter', 'vegetable oil', 'white sugar', 'raisins', 'whole wheat flour', '- peeled, cored, and', 'whites', 'grated carrots', 'egg', 'tomatoes', 'mushrooms', 'spinach', 'crumbled feta cheese', 'pepper to taste', 'wheat pita breads', 'sun-dried tomato pesto', 'red bell pepper', 'taste', 'taste', 'pepper to taste', 'olive oil', 'dry bread crumbs', 'garlic', 'zucchini', 'potatoes', 'bow tie pasta', 'pesto sauce', 'oil-packed sun-dried tomatoes', 'pepper flakes to taste', 'garlic', 'skinless chicken breasts, cut into b', 'chopped fresh basil', 'tomatoes', 'shredded Parmesan cheese', 'garlic', 'French bread', 'chopped raw kale', 'white beans, such as c', 'yellow onion', 'pepper to taste', 'garlic cloves', 'low-fat, low-sodium chicken or vegetable', 'tomatoes', 'chopped parsley', 'red wine', 'brown sugar', 'pepper to taste', 'skinless', 'carrots', 'lemon juice', 'green onions', 'fresh parsley', 'olive oil', 'salt', 'cucumber', 'water', 'quinoa', 'tomatoes', 'whole wheat flour', 'water', 'honey', 'celery', 'garbanzo beans', 'can chopped tomatoes in puree', 'onion', 'black bean soup', 'whole kernel corn', 'bell pepper', 'vegetarian baked beans', 'garlic', 'kidney beans', 'peeled', 'diced red onion', 'lime', 'tortillas', 'diced red bell pepper', 'tilapia', 'cooked corn kernels', 'fresh cilantro leaves'], 'seasonings': ['salt', 'cilantro', 'garlic', 'salt', 'salt', 'celery', 'mustard', 'pepper', 'ground', 'powder', 'vinegar', 'seafood', 'cumin', 'powder', 'lime', 'zest', 'cumin', 'seafood', 'honey', 'lime', 'juice', 'sauce', 'pepper', 'olive', 'oil', 'garlic', 'olive', 'oil', 'vanilla', 'extract', 'salt', 'soda', 'powder', 'oregano', 'ground', 'paprika', 'ground', 'garlic', 'wine', 'vinegar', 'oil', 'vegetable', 'leaves', 'basil', 'powder', 'oregano', 'powder', 'salt', 'cinnamon', 'ground', 'soda', 'wheat', 'germ', 'walnuts', 'vanilla', 'extract', 'olive', 'oil', 'cheese', 'olive', 'oil', 'vinegar', 'pepper', 'ground', 'salt', 'olive', 'oil', 'oil', 'canola', 'seasoning', 'herb', 'garlic', 'olive', 'oil', 'paprika', 'salt', 'sea', 'salt', 'yeast', 'milk', 'powder', 'basil', 'powder', 'oregano', 'olive', 'oil', 'cayenne', 'pepper', 'salt', 'pepper', 'ground', 'cream']}\n"
     ]
    }
   ],
   "source": [
    "import json\n",
    "import pprint\n",
    "\n",
    "with open('healthy_ingredient.json', 'r') as f:\n",
    "    ingredient = json.load(f)\n",
    "    print(ingredient)"
   ]
  },
  {
   "cell_type": "code",
   "execution_count": 23,
   "metadata": {},
   "outputs": [
    {
     "name": "stdout",
     "output_type": "stream",
     "text": [
      "<class 'dict'>\n"
     ]
    }
   ],
   "source": [
    "# names with description\n",
    "print(type(ingredient))\n",
    "healthy_ingredient = ingredient['healthy']\n",
    "\n",
    "# noun\n",
    "seasonings = ingredient['seasonings']"
   ]
  },
  {
   "cell_type": "code",
   "execution_count": 25,
   "metadata": {},
   "outputs": [],
   "source": [
    "import spacy\n",
    "nlp = spacy.load('en')\n",
    "\n",
    "def tokenize(line):\n",
    "    return [(token.text, token.tag_) for token in nlp(line)]\n",
    "\n",
    "def extract_ingredients_nouns(line):\n",
    "    ingredients_nouns = set()\n",
    "    token_tag_pairs = tokenize(line)\n",
    "    for pair in token_tag_pairs:\n",
    "        if pair[1] == 'NN' or pair[1] == 'NNS':\n",
    "            # global ingredients_nouns\n",
    "            ingredients_nouns |= {pair[0]}\n",
    "\n",
    "    return list(ingredients_nouns)"
   ]
  },
  {
   "cell_type": "code",
   "execution_count": 26,
   "metadata": {},
   "outputs": [
    {
     "name": "stdout",
     "output_type": "stream",
     "text": [
      "[('tomatoes', 10), ('onion', 7), ('flour', 6), ('beans', 5), ('potatoes', 3), ('sugar', 3), ('purpose', 3), ('egg', 3), ('tomato', 3), ('bell', 3), ('tilapia', 2), ('tortillas', 2), ('pasta', 2), ('spinach', 2), ('carrots', 2), ('pesto', 2), ('sun', 2), ('taste', 2), ('bread', 2), ('skinless', 2), ('chicken', 2), ('water', 2), ('corn', 2), ('chiles', 1), ('cans', 1), ('eggs', 1), ('pickle', 1), ('relish', 1), ('mayonnaise', 1), ('fillets', 1), ('limes', 1), ('chipotle', 1), ('peppers', 1), ('adobo', 1), ('head', 1), ('cabbage', 1), ('squash', 1), ('penne', 1), ('bacon', 1), ('blueberries', 1), ('applesauce', 1), ('bran', 1), ('russet', 1), ('paste', 1), ('turkey', 1), ('butter', 1), ('apple', 1), ('raisins', 1), ('whites', 1), ('mushrooms', 1), ('pita', 1), ('breads', 1), ('crumbs', 1), ('zucchini', 1), ('tie', 1), ('flakes', 1), ('b', 1), ('breasts', 1), ('kale', 1), ('cloves', 1), ('sodium', 1), ('lemon', 1), ('onions', 1), ('parsley', 1), ('cucumber', 1), ('quinoa', 1), ('garbanzo', 1), ('puree', 1), ('bean', 1), ('soup', 1), ('kernel', 1), ('kidney', 1), ('kernels', 1)]\n"
     ]
    }
   ],
   "source": [
    "healthy_dict = {}\n",
    "for i in healthy_ingredient:\n",
    "    l = extract_ingredients_nouns(i)\n",
    "    for ingre in l:\n",
    "        # eliminate seasonings\n",
    "        if ingre in seasonings or ingre == '':\n",
    "            continue\n",
    "            \n",
    "        if ingre in healthy_dict:\n",
    "            healthy_dict[ingre] += 1\n",
    "        else:\n",
    "            healthy_dict[ingre] = 1\n",
    "\n",
    "sorted_d =  sorted(healthy_dict.items(), key=lambda d:d[1], reverse = True)\n",
    "        \n",
    "print(sorted_d)"
   ]
  },
  {
   "cell_type": "code",
   "execution_count": 28,
   "metadata": {},
   "outputs": [
    {
     "name": "stdout",
     "output_type": "stream",
     "text": [
      "['chiles', 'cans', 'tomatoes', 'onion', 'eggs', 'pickle', 'relish', 'potatoes', 'mayonnaise', 'tilapia', 'fillets', 'tortillas', 'limes', 'chipotle', 'peppers', 'adobo', 'head', 'cabbage', 'squash', 'penne', 'pasta', 'spinach', 'bacon', 'sugar', 'blueberries', 'flour', 'purpose', 'egg', 'applesauce', 'bran', 'russet', 'tomato', 'paste', 'turkey', 'beans', 'butter', 'apple', 'raisins', 'whites', 'carrots', 'mushrooms', 'pita', 'breads', 'pesto', 'sun', 'bell', 'taste', 'crumbs', 'bread', 'zucchini', 'tie', 'flakes', 'skinless', 'chicken', 'b', 'breasts', 'kale', 'cloves', 'sodium', 'lemon', 'onions', 'parsley', 'cucumber', 'water', 'quinoa', 'garbanzo', 'puree', 'bean', 'soup', 'corn', 'kernel', 'kidney', 'kernels']\n"
     ]
    }
   ],
   "source": [
    "healthy_ingredient = list(healthy_dict.keys())\n",
    "print(healthy_ingredient)"
   ]
  },
  {
   "cell_type": "code",
   "execution_count": 65,
   "metadata": {},
   "outputs": [
    {
     "data": {
      "text/plain": [
       "{'1 (14.5 ounce) can stewed tomatoes',\n",
       " '1 (6 ounce) can tomato sauce',\n",
       " '1 cup all-purpose flour',\n",
       " '1 cup coarsely chopped celery',\n",
       " '1 large green bell pepper, coarsely chopped',\n",
       " '1 large onion, coarsely chopped',\n",
       " '1 pound andouille sausage, sliced',\n",
       " '1 pound lump crabmeat',\n",
       " '1 tablespoon white sugar',\n",
       " \"1/2 teaspoon Cajun seasoning blend (such as Tony Chachere's®), or to taste\",\n",
       " '1/2 teaspoon dried thyme leaves',\n",
       " '2 (10 ounce) packages frozen cut okra, thawed',\n",
       " '2 cloves garlic, minced',\n",
       " '2 tablespoons Worcestershire sauce',\n",
       " '2 tablespoons bacon drippings',\n",
       " '2 tablespoons distilled white vinegar',\n",
       " '2 tablespoons hot pepper sauce (such as Tabasco®), or to taste',\n",
       " '2 teaspoons gumbo file powder',\n",
       " '3 pounds uncooked medium shrimp, peeled and deveined',\n",
       " '3 quarts water',\n",
       " '3/4 cup bacon drippings',\n",
       " '4 bay leaves',\n",
       " '6 cubes beef bouillon',\n",
       " 'salt to taste'}"
      ]
     },
     "execution_count": 65,
     "metadata": {},
     "output_type": "execute_result"
    }
   ],
   "source": [
    "import re\n",
    "import requests\n",
    "from bs4 import BeautifulSoup\n",
    "\n",
    "url = 'https://www.allrecipes.com/recipe/216888/good-new-orleans-creole-gumbo/?internalSource=hub%20recipe&referringContentType=Search&clickId=cardslot%2013'\n",
    "page = requests.get(url)\n",
    "soup = BeautifulSoup(page.content, 'html.parser')\n",
    "\n",
    "# extract ingredients section from the webpage\n",
    "ingredients = set([element.label.text.strip() for element in soup.find_all(class_='checkList__line')])\n",
    "# remove unnecessary elements\n",
    "ingredients.remove('')\n",
    "ingredients.remove('Add all ingredients to list')\n",
    "ingredients"
   ]
  },
  {
   "cell_type": "code",
   "execution_count": 95,
   "metadata": {},
   "outputs": [],
   "source": [
    "\"\"\"\n",
    "For not healthy to healthy, can use the following food 'hacks':\n",
    "    - https://www.goredforwomen.org/live-healthy/heart-healthy-cooking-tips/healthy-substitutions/\n",
    "    - https://www.nhlbi.nih.gov/health/educational/lose_wt/eat/shop_lcal_fat.htm\n",
    "    - https://www.swansonvitamins.com/blog/natural-health-tips/food-replacement-hacks\n",
    "\"\"\"\n",
    "to_healthy_dict = {\n",
    "    'beef':'grass fed beef',\n",
    "    'chocolate':'cocoa nibs',\n",
    "    'muffin':'croissant',\n",
    "    'sour cream':'greek yogurt',\n",
    "    'white flour':'corn flour',\n",
    "    'wheat flour':'gluten-free flour',\n",
    "    'cheese':'low-fat cheese',\n",
    "    'creamer':'slim milk',\n",
    "    'whole milk':'slim milk',\n",
    "    'oatmeal':'quinoa',\n",
    "    'granola': 'nuts',\n",
    "    'pita': 'veggies',\n",
    "    'jam': 'smashed avocado',\n",
    "    'mayo': 'mustard',\n",
    "    'pasta':'spaghetti squash',\n",
    "    'sausage': 'bacon',\n",
    "    'sushi rolls': 'sashimi',\n",
    "    'burritos': 'bowls',\n",
    "    'regular': 'fat-free dressing',\n",
    "    'fries':'salad',\n",
    "    'juice': 'soda water',\n",
    "    'couscous': 'quinoa',\n",
    "    'white rice': 'quinoa',\n",
    "    'rice': 'quinoa',\n",
    "    'iceberg': 'romaine',\n",
    "    'vegetable oil': 'coconut oil',\n",
    "    'butter':'coconut oil',\n",
    "    'white sugar': 'stevia',\n",
    "    'breadcrumbs': 'chia seeds',\n",
    "    'bread crumbs': 'chia seeds',\n",
    "    'pasta noodles': 'zoodles',\n",
    "    'tortilla': 'lettuce leaves',\n",
    "    'flour tortilla': 'corn tortilla',\n",
    "    'flavored yogurt': 'greek yogurt',\n",
    "    'canned fruit': 'fresh fruits',\n",
    "    'white wine': 'red wine',\n",
    "    'tonic water': 'soda water',\n",
    "    'soy sauce': 'low-sodium soy sauce',\n",
    "    'noodles': 'whole grain noodles',\n",
    "    'bread': 'whole grain bread',\n",
    "    'turkey': 'grass fed beef',\n",
    "    'ice cream': 'frozen yogurt',\n",
    "    'heavy cream':'slim milk',\n",
    "    'syrup':'honey',\n",
    "    'pork': 'tofu',\n",
    "    'flour':'corn flour',\n",
    "    'sugar': 'stevia',\n",
    "    'salt': 'himalayan salt',\n",
    "    'milk':'slim milk',\n",
    "    'egg':'egg whites',\n",
    "    'potato':'kale',\n",
    "    'boil':'steam',\n",
    "    'deep-fry':'bake',\n",
    "    'fry':'bake'\n",
    "}\n",
    "\n",
    "# def get_key (dict, value):\n",
    "#     return [k for k, v in dict.items() if v == value]\n",
    "from_healthy_dict = dict((v,k) for k,v in to_healthy_dict.items())"
   ]
  },
  {
   "cell_type": "code",
   "execution_count": 96,
   "metadata": {},
   "outputs": [
    {
     "name": "stdout",
     "output_type": "stream",
     "text": [
      "6 cubes grass fed beef bouillon\n",
      "himalayan salt to taste\n",
      "0.5 tablespoon stevia\n",
      "0.5 cup all-purpose corn flour\n",
      "1 pound andouille bacon, sliced\n",
      "{'0.5 cup all-purpose corn flour',\n",
      " '0.5 tablespoon stevia',\n",
      " '1 (14.5 ounce) can stewed tomatoes',\n",
      " '1 (6 ounce) can tomato sauce',\n",
      " '1 cup coarsely chopped celery',\n",
      " '1 large green bell pepper, coarsely chopped',\n",
      " '1 large onion, coarsely chopped',\n",
      " '1 pound andouille bacon, sliced',\n",
      " '1 pound lump crabmeat',\n",
      " \"1/2 teaspoon Cajun seasoning blend (such as Tony Chachere's®), or to taste\",\n",
      " '1/2 teaspoon dried thyme leaves',\n",
      " '2 (10 ounce) packages frozen cut okra, thawed',\n",
      " '2 cloves garlic, minced',\n",
      " '2 tablespoons Worcestershire sauce',\n",
      " '2 tablespoons bacon drippings',\n",
      " '2 tablespoons distilled white vinegar',\n",
      " '2 tablespoons hot pepper sauce (such as Tabasco®), or to taste',\n",
      " '2 teaspoons gumbo file powder',\n",
      " '3 pounds uncooked medium shrimp, peeled and deveined',\n",
      " '3 quarts water',\n",
      " '3/4 cup bacon drippings',\n",
      " '4 bay leaves',\n",
      " '6 cubes grass fed beef bouillon',\n",
      " 'himalayan salt to taste'}\n",
      "7\n"
     ]
    }
   ],
   "source": [
    "new_recipe = set()\n",
    "num_change = 0\n",
    "for line in ingredients:\n",
    "    new_line = line\n",
    "    for record in [\"cheese\",\"cream\",\"butter\",\"sugar\",\"oil\",\"salt\",\"flour\"]:\n",
    "        if record in new_line:\n",
    "            list = new_line.split(' ')\n",
    "            new_quantity = 0\n",
    "            if '/' in list[0]:\n",
    "                temp = list[0].split('/')\n",
    "                new_quantity = float(temp[0])/float(temp[1])/2\n",
    "            if list[0].isdigit():\n",
    "                new_quantity = float(list[0])/2\n",
    "            if new_quantity > 0:\n",
    "                list[0] = str(new_quantity)\n",
    "                new_line = ' '.join(list)\n",
    "                num_change = num_change + 1\n",
    "    for item in to_healthy_dict.keys():\n",
    "        if item in new_line:\n",
    "            new_item = to_healthy_dict[item]\n",
    "            num_change = num_change + 1\n",
    "            new_line = new_line.replace(item,new_item)\n",
    "            print(new_line)      \n",
    "    new_recipe.add(new_line)\n",
    "pprint.pprint(new_recipe)\n",
    "print(num_change)"
   ]
  },
  {
   "cell_type": "code",
   "execution_count": 97,
   "metadata": {},
   "outputs": [
    {
     "data": {
      "text/plain": [
       "['Make a roux by whisking the flour and 3/4 cup bacon drippings together in a large, heavy saucepan over medium-low heat to form a smooth mixture. Cook the roux, whisking constantly, until it turns a rich mahogany brown color. This can take 20 to 30 minutes; watch heat carefully and whisk constantly or roux will burn. Remove from heat; continue whisking until mixture stops cooking.',\n",
       " 'Place the celery, onion, green bell pepper, and garlic into the work bowl of a food processor, and pulse until the vegetables are very finely chopped. Stir the vegetables into the roux, and mix in the sausage. Bring the mixture to a simmer over medium-low heat, and cook until vegetables are tender, 10 to 15 minutes. Remove from heat, and set aside.',\n",
       " 'Bring the water and beef bouillon cubes to a boil in a large Dutch oven or soup pot. Stir until the bouillon cubes dissolve, and whisk the roux mixture into the boiling water. Reduce heat to a simmer, and mix in the sugar, salt, hot pepper sauce, Cajun seasoning, bay leaves, thyme, stewed tomatoes, and tomato sauce. Simmer the soup over low heat for 1 hour; mix in 2 teaspoons of file gumbo powder at the 45-minute mark.',\n",
       " 'Meanwhile, melt 2 tablespoons of bacon drippings in a skillet, and cook the okra with vinegar over medium heat for 15 minutes; remove okra with slotted spoon, and stir into the simmering gumbo. Mix in crabmeat, shrimp, and Worcestershire sauce, and simmer until flavors have blended, 45 more minutes. Just before serving, stir in 2 more teaspoons of file gumbo powder.']"
      ]
     },
     "execution_count": 97,
     "metadata": {},
     "output_type": "execute_result"
    }
   ],
   "source": [
    "# extract directions section from the webpage\n",
    "directions = [element.text.strip() for element in soup.find_all(class_='recipe-directions__list--item')]\n",
    "# remove unnecessary elements\n",
    "directions.remove('')\n",
    "directions"
   ]
  },
  {
   "cell_type": "code",
   "execution_count": 98,
   "metadata": {},
   "outputs": [
    {
     "name": "stdout",
     "output_type": "stream",
     "text": [
      "Make a roux by whisking the corn flour and 3/4 cup bacon drippings together in a large, heavy saucepan over medium-low heat to form a smooth mixture. Cook the roux, whisking constantly, until it turns a rich mahogany brown color. This can take 20 to 30 minutes; watch heat carefully and whisk constantly or roux will burn. Remove from heat; continue whisking until mixture stops cooking.\n",
      "Place the celery, onion, green bell pepper, and garlic into the work bowl of a food processor, and pulse until the vegetables are very finely chopped. Stir the vegetables into the roux, and mix in the bacon. Bring the mixture to a simmer over medium-low heat, and cook until vegetables are tender, 10 to 15 minutes. Remove from heat, and set aside.\n",
      "Bring the water and grass fed beef bouillon cubes to a boil in a large Dutch oven or soup pot. Stir until the bouillon cubes dissolve, and whisk the roux mixture into the boiling water. Reduce heat to a simmer, and mix in the sugar, salt, hot pepper sauce, Cajun seasoning, bay leaves, thyme, stewed tomatoes, and tomato sauce. Simmer the soup over low heat for 1 hour; mix in 2 teaspoons of file gumbo powder at the 45-minute mark.\n",
      "Bring the water and grass fed beef bouillon cubes to a boil in a large Dutch oven or soup pot. Stir until the bouillon cubes dissolve, and whisk the roux mixture into the boiling water. Reduce heat to a simmer, and mix in the stevia, salt, hot pepper sauce, Cajun seasoning, bay leaves, thyme, stewed tomatoes, and tomato sauce. Simmer the soup over low heat for 1 hour; mix in 2 teaspoons of file gumbo powder at the 45-minute mark.\n",
      "Bring the water and grass fed beef bouillon cubes to a boil in a large Dutch oven or soup pot. Stir until the bouillon cubes dissolve, and whisk the roux mixture into the boiling water. Reduce heat to a simmer, and mix in the stevia, himalayan salt, hot pepper sauce, Cajun seasoning, bay leaves, thyme, stewed tomatoes, and tomato sauce. Simmer the soup over low heat for 1 hour; mix in 2 teaspoons of file gumbo powder at the 45-minute mark.\n",
      "Bring the water and grass fed beef bouillon cubes to a steam in a large Dutch oven or soup pot. Stir until the bouillon cubes dissolve, and whisk the roux mixture into the steaming water. Reduce heat to a simmer, and mix in the stevia, himalayan salt, hot pepper sauce, Cajun seasoning, bay leaves, thyme, stewed tomatoes, and tomato sauce. Simmer the soup over low heat for 1 hour; mix in 2 teaspoons of file gumbo powder at the 45-minute mark.\n",
      "{'Bring the water and grass fed beef bouillon cubes to a steam in a large '\n",
      " 'Dutch oven or soup pot. Stir until the bouillon cubes dissolve, and whisk '\n",
      " 'the roux mixture into the steaming water. Reduce heat to a simmer, and mix '\n",
      " 'in the stevia, himalayan salt, hot pepper sauce, Cajun seasoning, bay '\n",
      " 'leaves, thyme, stewed tomatoes, and tomato sauce. Simmer the soup over low '\n",
      " 'heat for 1 hour; mix in 2 teaspoons of file gumbo powder at the 45-minute '\n",
      " 'mark.',\n",
      " 'Make a roux by whisking the corn flour and 3/4 cup bacon drippings together '\n",
      " 'in a large, heavy saucepan over medium-low heat to form a smooth mixture. '\n",
      " 'Cook the roux, whisking constantly, until it turns a rich mahogany brown '\n",
      " 'color. This can take 20 to 30 minutes; watch heat carefully and whisk '\n",
      " 'constantly or roux will burn. Remove from heat; continue whisking until '\n",
      " 'mixture stops cooking.',\n",
      " 'Meanwhile, melt 2 tablespoons of bacon drippings in a skillet, and cook the '\n",
      " 'okra with vinegar over medium heat for 15 minutes; remove okra with slotted '\n",
      " 'spoon, and stir into the simmering gumbo. Mix in crabmeat, shrimp, and '\n",
      " 'Worcestershire sauce, and simmer until flavors have blended, 45 more '\n",
      " 'minutes. Just before serving, stir in 2 more teaspoons of file gumbo powder.',\n",
      " 'Place the celery, onion, green bell pepper, and garlic into the work bowl of '\n",
      " 'a food processor, and pulse until the vegetables are very finely chopped. '\n",
      " 'Stir the vegetables into the roux, and mix in the bacon. Bring the mixture '\n",
      " 'to a simmer over medium-low heat, and cook until vegetables are tender, 10 '\n",
      " 'to 15 minutes. Remove from heat, and set aside.'}\n",
      "6\n"
     ]
    }
   ],
   "source": [
    "new_directions = set()\n",
    "num = 0\n",
    "for line in directions:\n",
    "    new_line = line\n",
    "    for item in to_healthy_dict.keys():\n",
    "        if item in new_line:\n",
    "            new_item = to_healthy_dict[item]\n",
    "            num = num + 1\n",
    "            new_line = new_line.replace(item,new_item)\n",
    "            print(new_line)\n",
    "    new_directions.add(new_line)\n",
    "pprint.pprint(new_directions)\n",
    "print(num)"
   ]
  },
  {
   "cell_type": "code",
   "execution_count": null,
   "metadata": {},
   "outputs": [],
   "source": []
  }
 ],
 "metadata": {
  "kernelspec": {
   "display_name": "Python 3",
   "language": "python",
   "name": "python3"
  },
  "language_info": {
   "codemirror_mode": {
    "name": "ipython",
    "version": 3
   },
   "file_extension": ".py",
   "mimetype": "text/x-python",
   "name": "python",
   "nbconvert_exporter": "python",
   "pygments_lexer": "ipython3",
   "version": "3.7.1"
  }
 },
 "nbformat": 4,
 "nbformat_minor": 2
}
