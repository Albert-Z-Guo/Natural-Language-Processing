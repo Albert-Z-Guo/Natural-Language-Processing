{
 "cells": [
  {
   "cell_type": "code",
   "execution_count": 1,
   "metadata": {},
   "outputs": [],
   "source": [
    "import requests\n",
    "from bs4 import BeautifulSoup"
   ]
  },
  {
   "cell_type": "code",
   "execution_count": 36,
   "metadata": {
    "scrolled": false
   },
   "outputs": [],
   "source": [
    "url = 'https://www.allrecipes.com/recipe/23988/simple-spinach-lasagna/?internalSource=streams&referringId=87&referringContentType=Recipe%20Hub&clickId=st_trending_s'\n",
    "page = requests.get(url)\n",
    "soup = BeautifulSoup(page.content, 'html.parser')"
   ]
  },
  {
   "cell_type": "code",
   "execution_count": 53,
   "metadata": {
    "scrolled": false
   },
   "outputs": [],
   "source": [
    "result_set = soup.find_all(class_='checkList__line')"
   ]
  },
  {
   "cell_type": "code",
   "execution_count": 59,
   "metadata": {
    "scrolled": false
   },
   "outputs": [
    {
     "name": "stdout",
     "output_type": "stream",
     "text": [
      "\n",
      "\n",
      "1 tablespoon extra virgin olive oil\n",
      "\n",
      "\n",
      "\n",
      "2 (10 ounce) packages frozen chopped spinach\n",
      "\n",
      "\n",
      "\n",
      "1/2 onion, chopped\n",
      "\n",
      "\n",
      "\n",
      "1/2 teaspoon dried oregano\n",
      "\n",
      "\n",
      "\n",
      "1/2 teaspoon dried basil\n",
      "\n",
      "\n",
      "\n",
      "2 cloves garlic, crushed\n",
      "\n",
      "\n",
      "\n",
      "1 (32 ounce) jar spaghetti sauce\n",
      "\n",
      "\n",
      "\n",
      "1 1/2 cups water\n",
      "\n",
      "\n",
      "\n",
      "2 cups non-fat cottage cheese\n",
      "\n",
      "\n",
      "\n",
      "1 (8 ounce) package part skim mozzarella cheese, shredded\n",
      "\n",
      "\n",
      "\n",
      "1/4 cup grated Parmesan cheese\n",
      "\n",
      "\n",
      "\n",
      "1/2 cup chopped fresh parsley\n",
      "\n",
      "\n",
      "\n",
      "1 teaspoon salt\n",
      "\n",
      "\n",
      "\n",
      "1/8 teaspoon black pepper\n",
      "\n",
      "\n",
      "\n",
      "1 egg\n",
      "\n",
      "\n",
      "\n",
      "8 ounces lasagna noodles\n",
      "\n",
      "\n",
      "\n",
      "Add all ingredients to list\n",
      "\n",
      "\n",
      "\n",
      "\n",
      "\n",
      "\n",
      "\n",
      "Add all ingredients to list\n",
      "\n"
     ]
    }
   ],
   "source": [
    "for i in result_set:\n",
    "    print(i.label.text)"
   ]
  },
  {
   "cell_type": "code",
   "execution_count": null,
   "metadata": {},
   "outputs": [],
   "source": []
  }
 ],
 "metadata": {
  "kernelspec": {
   "display_name": "Python 3",
   "language": "python",
   "name": "python3"
  },
  "language_info": {
   "codemirror_mode": {
    "name": "ipython",
    "version": 3
   },
   "file_extension": ".py",
   "mimetype": "text/x-python",
   "name": "python",
   "nbconvert_exporter": "python",
   "pygments_lexer": "ipython3",
   "version": "3.7.2"
  }
 },
 "nbformat": 4,
 "nbformat_minor": 2
}
