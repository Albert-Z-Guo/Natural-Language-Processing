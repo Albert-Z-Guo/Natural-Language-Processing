{
 "cells": [
  {
   "cell_type": "code",
   "execution_count": 1,
   "metadata": {},
   "outputs": [],
   "source": [
    "import requests\n",
    "from bs4 import BeautifulSoup"
   ]
  },
  {
   "cell_type": "code",
   "execution_count": null,
   "metadata": {},
   "outputs": [],
   "source": [
    "url = 'https://www.allrecipes.com/recipe/23988/simple-spinach-lasagna/?internalSource=streams&referringId=87&referringContentType=Recipe%20Hub&clickId=st_trending_s'\n"
   ]
  },
  {
   "cell_type": "code",
   "execution_count": 36,
   "metadata": {
    "scrolled": false
   },
   "outputs": [],
   "source": [
    "page = requests.get(url)\n",
    "soup = BeautifulSoup(page.content, 'html.parser')"
   ]
  },
  {
   "cell_type": "code",
   "execution_count": 63,
   "metadata": {
    "scrolled": false
   },
   "outputs": [
    {
     "data": {
      "text/plain": [
       "{'',\n",
       " '1 (32 ounce) jar spaghetti sauce',\n",
       " '1 (8 ounce) package part skim mozzarella cheese, shredded',\n",
       " '1 1/2 cups water',\n",
       " '1 egg',\n",
       " '1 tablespoon extra virgin olive oil',\n",
       " '1 teaspoon salt',\n",
       " '1/2 cup chopped fresh parsley',\n",
       " '1/2 onion, chopped',\n",
       " '1/2 teaspoon dried basil',\n",
       " '1/2 teaspoon dried oregano',\n",
       " '1/4 cup grated Parmesan cheese',\n",
       " '1/8 teaspoon black pepper',\n",
       " '2 (10 ounce) packages frozen chopped spinach',\n",
       " '2 cloves garlic, crushed',\n",
       " '2 cups non-fat cottage cheese',\n",
       " '8 ounces lasagna noodles',\n",
       " 'Add all ingredients to list'}"
      ]
     },
     "execution_count": 63,
     "metadata": {},
     "output_type": "execute_result"
    }
   ],
   "source": [
    "ingredients = set([element.label.text.strip() for element in soup.find_all(class_='checkList__line')])\n",
    "ingredients"
   ]
  },
  {
   "cell_type": "code",
   "execution_count": 64,
   "metadata": {},
   "outputs": [],
   "source": [
    "ingredients.remove('')\n",
    "ingredients.remove('Add all ingredients to list')"
   ]
  },
  {
   "cell_type": "code",
   "execution_count": 65,
   "metadata": {},
   "outputs": [
    {
     "data": {
      "text/plain": [
       "{'1 (32 ounce) jar spaghetti sauce',\n",
       " '1 (8 ounce) package part skim mozzarella cheese, shredded',\n",
       " '1 1/2 cups water',\n",
       " '1 egg',\n",
       " '1 tablespoon extra virgin olive oil',\n",
       " '1 teaspoon salt',\n",
       " '1/2 cup chopped fresh parsley',\n",
       " '1/2 onion, chopped',\n",
       " '1/2 teaspoon dried basil',\n",
       " '1/2 teaspoon dried oregano',\n",
       " '1/4 cup grated Parmesan cheese',\n",
       " '1/8 teaspoon black pepper',\n",
       " '2 (10 ounce) packages frozen chopped spinach',\n",
       " '2 cloves garlic, crushed',\n",
       " '2 cups non-fat cottage cheese',\n",
       " '8 ounces lasagna noodles'}"
      ]
     },
     "execution_count": 65,
     "metadata": {},
     "output_type": "execute_result"
    }
   ],
   "source": [
    "ingredients"
   ]
  },
  {
   "cell_type": "code",
   "execution_count": 76,
   "metadata": {},
   "outputs": [],
   "source": [
    "import re"
   ]
  },
  {
   "cell_type": "code",
   "execution_count": 224,
   "metadata": {},
   "outputs": [],
   "source": [
    "def extract_quantity_in_backets(line):\n",
    "    # find '(abc)' where 'abc' is in arbitrary length\n",
    "    pattern = re.compile(r'\\([\\w\\s]*\\)') \n",
    "    match = re.findall(pattern, line)\n",
    "    return match"
   ]
  },
  {
   "cell_type": "code",
   "execution_count": 279,
   "metadata": {},
   "outputs": [],
   "source": [
    "def extract_quantity(line):\n",
    "    quantity = []\n",
    "    quantity_in_brackets = None\n",
    "    # extract quantity in backets\n",
    "    quantity_in_brackets = extract_quantity_in_backets(line)\n",
    "    if quantity_in_brackets:\n",
    "        line = re.sub('\\(' + quantity_in_brackets[0] + '\\)', '', line)\n",
    "        quantity_in_brackets = quantity_in_brackets[0]\n",
    "    \n",
    "    # extract quantity from the first word\n",
    "    line_split = line.split()\n",
    "    quantity.append(line_split[0])\n",
    "    \n",
    "    # extract quantity from the second word if the word contains a digit\n",
    "    if any(char.isdigit() for char in line_split[1]):\n",
    "        quantity.append(line_split[1])\n",
    "        quantity.append(line_split[2])\n",
    "    else:\n",
    "        quantity.append(line_split[1])\n",
    "    \n",
    "    # append quantity in backets at the end\n",
    "    if quantity_in_brackets:\n",
    "        quantity.append(quantity_in_brackets)\n",
    "\n",
    "    return ' '.join(quantity)"
   ]
  },
  {
   "cell_type": "code",
   "execution_count": 307,
   "metadata": {},
   "outputs": [],
   "source": [
    "def extract_preparation(line):\n",
    "    # find ', abc' where 'abc' is in arbitrary length\n",
    "    pattern = re.compile(r', [\\w\\s]*') \n",
    "    match = re.findall(pattern, line)\n",
    "    return match"
   ]
  },
  {
   "cell_type": "code",
   "execution_count": 308,
   "metadata": {},
   "outputs": [],
   "source": [
    "import spacy\n",
    "# python3 -m spacy download en\n",
    "nlp = spacy.load('en')\n",
    "\n",
    "def identify_entities(text):\n",
    "    tags = {}\n",
    "    for ent in nlp(text).ents:\n",
    "        entity = ent.text.strip()\n",
    "        if entity not in tags and len(entity) > 1:\n",
    "            # remove stopword 'the'\n",
    "            if len(entity.split()) == 1 and entity.lower() == 'the':\n",
    "                pass\n",
    "            else:\n",
    "                tags[entity]=[ent.label_]\n",
    "    return tags"
   ]
  },
  {
   "cell_type": "code",
   "execution_count": 309,
   "metadata": {},
   "outputs": [],
   "source": [
    "import nltk\n",
    "# nltk.download('averaged_perceptron_tagger')"
   ]
  },
  {
   "cell_type": "code",
   "execution_count": 310,
   "metadata": {},
   "outputs": [],
   "source": [
    "def tokenize(sent):\n",
    "    sent = nltk.word_tokenize(sent)\n",
    "    sent = nltk.pos_tag(sent)\n",
    "    return sent"
   ]
  },
  {
   "cell_type": "code",
   "execution_count": 311,
   "metadata": {},
   "outputs": [
    {
     "data": {
      "text/plain": [
       "[('2', 'CD'),\n",
       " ('(', '('),\n",
       " ('10', 'CD'),\n",
       " ('ounce', 'NN'),\n",
       " (')', ')'),\n",
       " ('packages', 'VBZ'),\n",
       " ('frozen', 'JJ'),\n",
       " ('chopped', 'VBD'),\n",
       " ('spinach', 'NN')]"
      ]
     },
     "execution_count": 311,
     "metadata": {},
     "output_type": "execute_result"
    }
   ],
   "source": [
    "tokenize('2 (10 ounce) packages frozen chopped spinach')"
   ]
  },
  {
   "cell_type": "code",
   "execution_count": 312,
   "metadata": {},
   "outputs": [
    {
     "name": "stdout",
     "output_type": "stream",
     "text": [
      "1 tablespoon extra virgin olive oil\n",
      "quantity: 1 tablespoon\n",
      "{}\n",
      "[]\n",
      "\n",
      "8 ounces lasagna noodles\n",
      "quantity: 8 ounces\n",
      "{'8 ounces': ['QUANTITY']}\n",
      "[]\n",
      "\n",
      "2 cloves garlic, crushed\n",
      "quantity: 2 cloves\n",
      "{}\n",
      "[', crushed']\n",
      "\n",
      "1/2 teaspoon dried oregano\n",
      "quantity: 1/2 teaspoon\n",
      "{'1/2': ['CARDINAL']}\n",
      "[]\n",
      "\n",
      "1/2 teaspoon dried basil\n",
      "quantity: 1/2 teaspoon\n",
      "{'1/2': ['CARDINAL']}\n",
      "[]\n",
      "\n",
      "1 teaspoon salt\n",
      "quantity: 1 teaspoon\n",
      "{}\n",
      "[]\n",
      "\n",
      "1 egg\n",
      "quantity: 1 egg\n",
      "{}\n",
      "[]\n",
      "\n",
      "1/2 onion, chopped\n",
      "quantity: 1/2 onion,\n",
      "{'1/2': ['CARDINAL']}\n",
      "[', chopped']\n",
      "\n",
      "1 (32 ounce) jar spaghetti sauce\n",
      "quantity: 1 jar (32 ounce)\n",
      "{'32': ['CARDINAL']}\n",
      "[]\n",
      "\n",
      "1 1/2 cups water\n",
      "quantity: 1 1/2 cups\n",
      "{'1 1/2': ['CARDINAL']}\n",
      "[]\n",
      "\n",
      "2 cups non-fat cottage cheese\n",
      "quantity: 2 cups\n",
      "{}\n",
      "[]\n",
      "\n",
      "1 (8 ounce) package part skim mozzarella cheese, shredded\n",
      "quantity: 1 package (8 ounce)\n",
      "{'8 ounce': ['QUANTITY']}\n",
      "[', shredded']\n",
      "\n",
      "1/4 cup grated Parmesan cheese\n",
      "quantity: 1/4 cup\n",
      "{'1/4': ['CARDINAL'], 'Parmesan': ['ORG']}\n",
      "[]\n",
      "\n",
      "1/2 cup chopped fresh parsley\n",
      "quantity: 1/2 cup\n",
      "{}\n",
      "[]\n",
      "\n",
      "1/8 teaspoon black pepper\n",
      "quantity: 1/8 teaspoon\n",
      "{'1/8': ['CARDINAL']}\n",
      "[]\n",
      "\n",
      "2 (10 ounce) packages frozen chopped spinach\n",
      "quantity: 2 packages (10 ounce)\n",
      "{'10 ounce': ['QUANTITY']}\n",
      "[]\n",
      "\n"
     ]
    }
   ],
   "source": [
    "for element in ingredients:\n",
    "    print(element)\n",
    "    print('quantity:', extract_quantity(element))\n",
    "    print(identify_entities(element))\n",
    "    print('preparation:', extract_preparation(element))\n",
    "    print()"
   ]
  },
  {
   "cell_type": "code",
   "execution_count": 67,
   "metadata": {},
   "outputs": [
    {
     "data": {
      "text/plain": [
       "['oil',\n",
       " 'noodles',\n",
       " 'crushed',\n",
       " 'oregano',\n",
       " 'basil',\n",
       " 'salt',\n",
       " 'egg',\n",
       " 'chopped',\n",
       " 'sauce',\n",
       " 'water',\n",
       " 'cheese',\n",
       " 'shredded',\n",
       " 'cheese',\n",
       " 'parsley',\n",
       " 'pepper',\n",
       " 'spinach']"
      ]
     },
     "execution_count": 67,
     "metadata": {},
     "output_type": "execute_result"
    }
   ],
   "source": [
    "def extract_ingredient_names(ingredients):\n",
    "    return [element.split()[-1] for element in ingredients]\n",
    "\n",
    "extract_ingredient_names(ingredients)"
   ]
  },
  {
   "cell_type": "code",
   "execution_count": null,
   "metadata": {},
   "outputs": [],
   "source": []
  }
 ],
 "metadata": {
  "kernelspec": {
   "display_name": "Python 3",
   "language": "python",
   "name": "python3"
  },
  "language_info": {
   "codemirror_mode": {
    "name": "ipython",
    "version": 3
   },
   "file_extension": ".py",
   "mimetype": "text/x-python",
   "name": "python",
   "nbconvert_exporter": "python",
   "pygments_lexer": "ipython3",
   "version": "3.7.2"
  }
 },
 "nbformat": 4,
 "nbformat_minor": 2
}
