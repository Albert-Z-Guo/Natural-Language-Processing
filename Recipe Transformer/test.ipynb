{
 "cells": [
  {
   "cell_type": "code",
   "execution_count": 1,
   "metadata": {},
   "outputs": [],
   "source": [
    "import requests\n",
    "from bs4 import BeautifulSoup"
   ]
  },
  {
   "cell_type": "code",
   "execution_count": 36,
   "metadata": {
    "scrolled": false
   },
   "outputs": [],
   "source": [
    "url = 'https://www.allrecipes.com/recipe/23988/simple-spinach-lasagna/?internalSource=streams&referringId=87&referringContentType=Recipe%20Hub&clickId=st_trending_s'\n",
    "page = requests.get(url)\n",
    "soup = BeautifulSoup(page.content, 'html.parser')"
   ]
  },
  {
   "cell_type": "code",
   "execution_count": 63,
   "metadata": {
    "scrolled": false
   },
   "outputs": [
    {
     "data": {
      "text/plain": [
       "{'',\n",
       " '1 (32 ounce) jar spaghetti sauce',\n",
       " '1 (8 ounce) package part skim mozzarella cheese, shredded',\n",
       " '1 1/2 cups water',\n",
       " '1 egg',\n",
       " '1 tablespoon extra virgin olive oil',\n",
       " '1 teaspoon salt',\n",
       " '1/2 cup chopped fresh parsley',\n",
       " '1/2 onion, chopped',\n",
       " '1/2 teaspoon dried basil',\n",
       " '1/2 teaspoon dried oregano',\n",
       " '1/4 cup grated Parmesan cheese',\n",
       " '1/8 teaspoon black pepper',\n",
       " '2 (10 ounce) packages frozen chopped spinach',\n",
       " '2 cloves garlic, crushed',\n",
       " '2 cups non-fat cottage cheese',\n",
       " '8 ounces lasagna noodles',\n",
       " 'Add all ingredients to list'}"
      ]
     },
     "execution_count": 63,
     "metadata": {},
     "output_type": "execute_result"
    }
   ],
   "source": [
    "ingredients = set([element.label.text.strip() for element in soup.find_all(class_='checkList__line')])\n",
    "ingredients"
   ]
  },
  {
   "cell_type": "code",
   "execution_count": 64,
   "metadata": {},
   "outputs": [],
   "source": [
    "ingredients.remove('')\n",
    "ingredients.remove('Add all ingredients to list')"
   ]
  },
  {
   "cell_type": "code",
   "execution_count": 65,
   "metadata": {},
   "outputs": [
    {
     "data": {
      "text/plain": [
       "{'1 (32 ounce) jar spaghetti sauce',\n",
       " '1 (8 ounce) package part skim mozzarella cheese, shredded',\n",
       " '1 1/2 cups water',\n",
       " '1 egg',\n",
       " '1 tablespoon extra virgin olive oil',\n",
       " '1 teaspoon salt',\n",
       " '1/2 cup chopped fresh parsley',\n",
       " '1/2 onion, chopped',\n",
       " '1/2 teaspoon dried basil',\n",
       " '1/2 teaspoon dried oregano',\n",
       " '1/4 cup grated Parmesan cheese',\n",
       " '1/8 teaspoon black pepper',\n",
       " '2 (10 ounce) packages frozen chopped spinach',\n",
       " '2 cloves garlic, crushed',\n",
       " '2 cups non-fat cottage cheese',\n",
       " '8 ounces lasagna noodles'}"
      ]
     },
     "execution_count": 65,
     "metadata": {},
     "output_type": "execute_result"
    }
   ],
   "source": [
    "ingredients"
   ]
  },
  {
   "cell_type": "code",
   "execution_count": null,
   "metadata": {},
   "outputs": [],
   "source": []
  }
 ],
 "metadata": {
  "kernelspec": {
   "display_name": "Python 3",
   "language": "python",
   "name": "python3"
  },
  "language_info": {
   "codemirror_mode": {
    "name": "ipython",
    "version": 3
   },
   "file_extension": ".py",
   "mimetype": "text/x-python",
   "name": "python",
   "nbconvert_exporter": "python",
   "pygments_lexer": "ipython3",
   "version": "3.7.2"
  }
 },
 "nbformat": 4,
 "nbformat_minor": 2
}
