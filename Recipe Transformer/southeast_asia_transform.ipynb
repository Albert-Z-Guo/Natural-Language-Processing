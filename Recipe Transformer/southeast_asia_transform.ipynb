{
 "cells": [
  {
   "cell_type": "code",
   "execution_count": 1,
   "metadata": {},
   "outputs": [],
   "source": [
    "import time\n",
    "import spacy\n",
    "import requests\n",
    "from bs4 import BeautifulSoup\n",
    "import pprint\n",
    "\n",
    "# a website sells spice\n",
    "url = 'https://www.worldspice.com/spices'\n",
    "page = requests.get(url)\n",
    "soup = BeautifulSoup(page.content, 'html.parser')\n",
    "spices = set()\n",
    "asian_spices = set()\n",
    "\n",
    "for name in soup.find_all('h6', class_='subheader'):\n",
    "    spices.add(name.text.split('-')[0].strip().lower())"
   ]
  },
  {
   "cell_type": "code",
   "execution_count": 2,
   "metadata": {},
   "outputs": [
    {
     "name": "stdout",
     "output_type": "stream",
     "text": [
      "{'appalachian flake salt', 'nora chile', 'chives', 'marash chile flakes', 'bay leaf', 'sorrel', 'vanilla', 'lemon balm', 'horseradish', 'savory', 'lemon crystal', 'chili pepper', 'hawaiian sea salt', 'peppermint', 'marjoram', 'anise seed', 'beet powder', 'spice', 'grains of paradise', 'cilantro', 'borage', 'mustard powder', 'nutmeg', 'orange peel', 'fennel', 'annatto seed', 'murray river flake salt', 'dill', 'anardana', 'anise', 'star anise', 'cinnamon', 'pepper', 'pequin', 'porcini', 'sage', 'ginger', 'tarragon', 'licorice', 'ghost chile flake', 'korean chile', 'fenugreek leaf', 'ancho chile flake', 'fennel pollen', 'guajillo flake', 'chicory', 'curry', 'cascabel', 'cocoa powder', 'fennel seed', 'cayenne', 'burnet', 'dill pollen', 'habanero flake', 'cumin seed', 'garlic', 'hyssop', 'black salt', 'cardamom pod', 'white mustard', 'pasilla negro', 'onion granules', 'clove', 'caraway', 'amchoor', 'cumin', 'angelica', 'brown mustard', \"piment d'espelette\", 'alderwood smoked salt', 'nigella seed', 'new mexico chile flake', 'japones', 'lovage', 'fenugreek', 'paprika', 'poppy seed', 'pacific sea salt', 'black lemon', 'thyme', 'celery seed', 'black mustard', 'coriander seed', 'cicely', 'parsley', 'saffron', 'basil', 'pepperberry', 'aleppo pepper', 'ancho chile', 'sumac', 'sesame seed', 'lavender', 'india red chile flake', 'caraway seed', 'black lava flake salt', 'kosher salt', 'onion powder', 'juniper', 'cassia', 'mace blades', 'spice trade', 'curing salt', 'rue', 'fenugreek seed', 'chipotle chile flake', 'himalayan pink salt', 'oregano', 'filé', 'black pepper', 'turmeric', 'worcestershire', 'maldon flake sea salt', 'spearmint', 'allspice', 'onion flake', 'cardamom', 'chervil', 'mace', 'costmary', 'mulato chile', 'bergamot', 'mahlab', 'roses', 'sesame', 'lemon verbena', 'urfa biber', 'dill weed', 'vanilla bean', 'guajillo pod', 'cardamom seed', 'maldon smoked sea salt flakes', 'mustard seed', 'long pepper', 'peppercorn', 'italian sea salt', 'sel de mer', 'fleur de sel', 'file powder', 'cayenne pepper', 'coriander', 'lavender flowers', 'truffle salt', 'lemon peel', 'cloves', 'asafoetida', 'rosemary', 'dill seed', 'catnip', 'black cumin', 'aji mirasol', 'pasilla oaxaca', 'lemon grass'}\n",
      "153\n"
     ]
    }
   ],
   "source": [
    "# another spice information website for accuracy\n",
    "url = 'https://www.britannica.com/topic/list-of-herbs-and-spices-2024392'\n",
    "page = requests.get(url)\n",
    "soup = BeautifulSoup(page.content, 'html.parser')\n",
    "\n",
    "for name in soup.find_all('a', class_='md-crosslink'):\n",
    "    spices.add(name.text.lower())\n",
    "\n",
    "print(spices)\n",
    "print(len(spices))"
   ]
  },
  {
   "cell_type": "code",
   "execution_count": 3,
   "metadata": {},
   "outputs": [
    {
     "name": "stdout",
     "output_type": "stream",
     "text": [
      "{'indonesian ayam', 'korean chile', 'chinese five spice', 'seasoned salt', 'fennel seed', 'pacific seafood', 'thai seasoning', 'cardamom seed', 'rooster spice', 'sesame seed', 'anise seed', 'togarashi', 'india red chile flake', 'cardamom pod', 'long pepper', 'onion granules', 'peppercorn', 'bulgogi spice', 'cinnamon', 'lemongrass', 'cloves', 'himalayan pink salt', 'gomasio', 'turmeric', 'japones', 'star anise', 'pequin', 'pepper', 'ginger', 'asian tea rub'}\n",
      "30\n"
     ]
    }
   ],
   "source": [
    "url = 'https://www.worldspice.com/spices/spices-asia'\n",
    "page = requests.get(url)\n",
    "soup = BeautifulSoup(page.content, 'html.parser')\n",
    "\n",
    "for name in soup.find_all('h6', class_='subheader'):\n",
    "    asian_spices.add(name.text.split('-')[0].strip().lower())\n",
    "    \n",
    "print(asian_spices)\n",
    "print(len(asian_spices))"
   ]
  },
  {
   "cell_type": "code",
   "execution_count": 4,
   "metadata": {},
   "outputs": [],
   "source": [
    "url = 'https://delishably.com/spices-seasonings/Herbs-and-Spices-in-Asian-Cooking'\n",
    "page = requests.get(url)\n",
    "soup = BeautifulSoup(page.content, 'html.parser')\n",
    "\n",
    "for name in soup.find_all('h2', class_='subtitle')[1:]:\n",
    "    asian_spices.add(name.text.split('.')[1].strip().lower())"
   ]
  },
  {
   "cell_type": "code",
   "execution_count": 5,
   "metadata": {},
   "outputs": [
    {
     "name": "stdout",
     "output_type": "stream",
     "text": [
      "{'indonesian ayam', 'korean chile', 'chinese five spice', 'seasoned salt', 'seven-spice', 'curry leaves', 'fennel seed', 'pacific seafood', 'fenugreek seeds', 'thai seasoning', 'cardamom seed', 'rooster spice', 'sesame seed', 'anise seed', 'togarashi', 'green cardamon', 'chilies', 'india red chile flake', 'cilantro', 'cardamom pod', 'long pepper', 'onion granules', 'peppercorn', 'five-spice', 'bulgogi spice', 'nigella', 'galangal', 'cumin', 'kaffir lime leaves', 'cassia bark', 'ground coriander', 'cinnamon', 'coriander', 'lemongrass', 'cloves', 'himalayan pink salt', 'gomasio', 'thai basil', 'turmeric', 'japones', 'star anise', 'chinese chives', 'pequin', 'pepper', 'fenugreek', 'golden needles', 'ginger', 'asian tea rub'}\n",
      "48\n"
     ]
    }
   ],
   "source": [
    "# manual process\n",
    "asian_spices.remove('fresh coriander (cilantro)')\n",
    "asian_spices.add('coriander')\n",
    "asian_spices.add('cilantro')\n",
    "asian_spices.remove('cinnamon (and cassia bark)')\n",
    "asian_spices.add('cinnamon')\n",
    "asian_spices.add('cassia bark')\n",
    "\n",
    "    \n",
    "print(asian_spices)\n",
    "print(len(asian_spices))\n"
   ]
  },
  {
   "cell_type": "code",
   "execution_count": 6,
   "metadata": {},
   "outputs": [
    {
     "name": "stdout",
     "output_type": "stream",
     "text": [
      "{'sugo alla puttanesca', 'babi panggang sauce', 'apple sauce', 'sambal', 'bolognese sauce', 'beurre blanc', 'chasseur', 'green sauce', 'mushroom ketchup', 'suprême sauce', 'sriracha sauce', 'savore sanguino', 'café de paris', 'onion gravy', 'barese ragù', 'gremolata', 'sauce charcutière', 'brown sauce', 'cheez whiz', 'salsa lizano', 'alioli', 'francesinha sauce', \"sugo all'amatriciana\", 'fry sauce', 'pico de gallo', 'tartar sauce', 'chocolate gravy', 'tucupi', 'plum sauce', 'nam chim gai', 'tewkesbury mustard', 'garlic sauce', 'crème anglaise', 'neapolitan sauce', 'latik', 'duck sauce', 'brown gravy', 'sauce au poivre', 'chaudfroid sauce', 'ssamjang', 'peanut sauce', 'breton sauce', 'café de paris sauce', 'au jus', 'egusi sauce', 'bagoong', 'mustard (condiment)', 'frankfurt green sauce', 'agrodolce', 'ajika', 'sausage gravy', 'sweet bean sauce', 'poutine', 'meuniere sauce', 'redcurrant sauce', 'picadillo', 'halvaytar', 'salsa golf', 'sauce africaine', 'skordalia', 'remoulade', 'zabaione', 'fra diavolo sauce', 'taramasalata', 'béchamel sauce', 'khrenovina sauce', 'pique sauce', 'siu haau sauce', 'mornay sauce', 'peppercorn sauce', 'buffalo sauce', 'worcestershire sauce', 'pebre', 'halford leicestershire table sauce', 'zigeuner sauce', 'sauce lyonnaise', 'arrabbiata sauce', 'recaíto', 'cumberland sauce', 'cocktail sauce', 'beurre manie', 'garum', 'velouté sauce', 'mala sauce', 'butterscotch sauce', 'ketchup', 'budu', 'sauce velouté', 'shottsuru', 'duckefett', 'ponzu', 'sauce tomate', 'ajilimójili', 'pique', 'coney sauce', 'sauce vin blanc', 'red-eye gravy', 'joppiesaus', 'onion sauce', 'caramel', 'harissa', 'rouennaise sauce', 'mint sauce', 'pickapeppa sauce', 'salsa (prepared)', 'hot sauces', 'umeboshi paste', 'teriyaki', 'prik nam pra', 'romesco sauce', 'wow-wow sauce', 'sauce vierge', 'nam chim seafood', 'prego', 'tomato sauce', 'neapolitan ragù', 'pecel', 'beurre noisette', 'ragù', 'coulis', 'oyster sauce', 'pickles', 'vinagrete', 'chilli soy lime', 'maggi', 'yogurt sauce', 'mujdei', 'sahawiq', 'muhammara', 'pla ra', 'pique verde', 'satzibeli', 'chili sauce', 'hoisin sauce', 'shrewsbury sauce', 'baconnaise', 'pesto', 'mushroom gravy', 'mignonette sauce', 'salad dressing', 'nantua sauce', 'normande sauce', 'guacamole', 'adobo mojado', 'persillade', 'cranberry sauce', 'sauce béchamel', 'peach sauce', 'mojo (sauce)', 'sweet soy sauce', 'mushroom sauce', 'alfredo sauce', 'sauce bercy', 'charcutiere sauce', 'sauce aurore', 'ravigote sauce', 'dabu-dabu', 'salsa', 'salad cream', 'honey garlic sauce', 'enchilada', 'parsley sauce', 'bajan pepper sauce', 'vincotto', 'horseradish sauce', 'cincinnati chili', 'soy sauce', 'magic shell', 'vizcaína', 'vinaigrette', 'hard sauce', 'mirin', 'hp sauce', 'salsa verde', 'sauce américaine', 'nước chấm', 'sauce bourguignonne', 'liver sauce', 'bagna càuda', 'sofrito', 'soubise sauce', 'nam chim', 'mojo criollo', 'romesco', 'avocado sauce', 'huancaina', 'anchovy essence', 'hollandaise sauce', 'custard', 'moambe', 'pan sauce', 'white sauce', 'nam phrik', 'mumbo sauce', 'mojito isleño', 'checca sauce', 'corn sauce', 'old sour', 'saus cabai', 'sweet chili sauce', 'caruso sauce', 'cincalok', 'mustard', 'lobster sauce', 'henry bain sauce', 'venetian sauce', 'sauce robert', 'bread sauce', 'shito', 'hogao', 'demi glace', 'banana ketchup', 'sauce andalouse', 'sauce espagnole', 'chimichurri', 'sweet and sour sauce', 'cheddar sauce', 'xató', 'satsivi', 'blueberry sauce', 'tare sauce', 'sour cream sauce', 'marinara sauce', 'fudge sauce', 'alfredo', 'cebolada', 'wine sauce', 'melitzanosalata', 'salsa criolla', 'toum', 'llajwa', 'filfel chuma', 'beurre noir', 'fritessaus', 'salvitxada', 'pineapple', 'steak sauce', 'tkemali', 'ragù alla salsiccia', 'albert sauce', 'fish sauce', 'avgolemono', 'capital sauce', 'marie rose sauce', 'béarnaise sauce', 'ravigote', 'colo-colo', 'rainbow sauce', 'mango sauce', 'rouille', 'tzatziki', 'ok sauce', 'salsa cruda', 'mahyawa', 'carbonara', 'tương', 'comeback sauce', 'aioli', 'chermoula', 'allemande sauce', 'mole', 'chancaca', 'donair sauce', 'sauce poivrade', 'agliata', 'tabasco sauce', 'sauce allemande', 'chocolate syrup', 'xo sauce', 'tuco', 'tentsuyu', 'korean soy sauce', 'tonkatsu sauce', 'bolognese', 'syrup', 'sauce hollandaise', 'chateaubriand sauce', 'daddies', 'maafe', 'sauce gribiche', 'sloppy joe', 'sauce poulette', 'strawberry sauce', 'beurre monté', 'ají (sauce)', 'amatriciana sauce', 'datil pepper', 'shacha sauce', 'padaek', 'a.1. sauce', 'gravy', 'vodka sauce', 'whisky sauce', 'barbecue sauce', 'doubanjiang', 'bordelaise sauce', 'coffee sauce'}\n",
      "297\n",
      "{'ponzu', 'sambal', 'soy sauce', 'mirin', 'nước chấm', 'sriracha sauce', 'umeboshi paste', 'teriyaki', 'nam chim', 'pecel', 'tương', 'plum sauce', 'oyster sauce', 'nam phrik', 'saus cabai', 'pla ra', 'ssamjang', 'peanut sauce', 'hoisin sauce', 'lobster sauce', 'xo sauce', 'tentsuyu', 'sweet bean sauce', 'sweet and sour sauce', 'sweet soy sauce', 'siu haau sauce', 'shacha sauce', 'padaek', 'doubanjiang', 'fish sauce', 'mala sauce', 'budu'}\n",
      "32\n"
     ]
    }
   ],
   "source": [
    "# wiki food sauces\n",
    "url = 'https://en.m.wikipedia.org/wiki/List_of_sauces'\n",
    "page = requests.get(url)\n",
    "soup = BeautifulSoup(page.content, 'html.parser')\n",
    "sauces = set()\n",
    "asian_sauces = set()\n",
    "\n",
    "i = 0\n",
    "for ul in soup.find_all('ul')[1:-6]:\n",
    "    i+=1\n",
    "    for li in ul.find_all('li'):\n",
    "        # hard code the section to get East Asian Sauce & Southeast Asian sauce\n",
    "        if  li.a is not None and i in range (17, 20):\n",
    "            asian_sauces.add(li.a.text.strip().lower())\n",
    "\n",
    "        if li.a is not None and li.a.text.strip() != '':\n",
    "            sauces.add(li.a.text.strip().lower())\n",
    "\n",
    "    \n",
    "print(sauces)\n",
    "print(len(sauces))\n",
    "print(asian_sauces)\n",
    "print(len(asian_sauces))"
   ]
  },
  {
   "cell_type": "code",
   "execution_count": 7,
   "metadata": {},
   "outputs": [],
   "source": [
    "def randomly_select(ls):\n",
    "    if len(ls) == 0 or (len(ls) == 1 and ls[0] is None):\n",
    "        return ''\n",
    "    choice = random.choice(ls)\n",
    "    if choice is None:\n",
    "        return randomly_select(ls)\n",
    "    else:\n",
    "        return choice"
   ]
  },
  {
   "cell_type": "code",
   "execution_count": 24,
   "metadata": {},
   "outputs": [
    {
     "name": "stdout",
     "output_type": "stream",
     "text": [
      "{'indonesian ayam', 'korean chile', 'chinese five spice', 'ginger', 'seasoned salt', 'curry leaves', 'fennel seed', 'fenugreek seeds', 'thai seasoning', 'cardamom seed', 'rooster spice', 'anise seed', 'green cardamon', 'chilies', 'india red chile flake', 'cilantro', 'cardamom pod', 'long pepper', 'onion granules', 'peppercorn', 'five-spice', 'pequin', 'bulgogi spice', 'nigella', 'galangal', 'cumin', 'kaffir lime leaves', 'cassia bark', 'ground coriander', 'cinnamon', 'coriander', 'lemongrass', 'cloves', 'himalayan pink salt', 'gomasio', 'thai basil', 'turmeric', 'japones', 'star anise', 'chinese chives', 'seven-spice', 'pepper', 'fenugreek', 'golden needles', 'togarashi', 'asian tea rub'}\n",
      "48\n"
     ]
    }
   ],
   "source": [
    "# some custom adjustment to the data\n",
    "spice_to_remove = set(['pacific seafood', 'sesame seed', 'cinnamon (and cassia bark)'])\n",
    "aisan_spices = asian_spices - spice_to_remove\n",
    "print(aisan_spices)\n",
    "print(len(asian_spices))\n",
    "\n",
    "\n",
    "custom_to_eastasian_dict = {\n",
    "    'butter': 'pork fat',   \n",
    "    'consomme': 'dashi',\n",
    "    'bouillon': 'dashi',\n",
    "    'milk': 'coconut milk',\n",
    "    'cream': 'coconut cream'\n",
    "}"
   ]
  },
  {
   "cell_type": "code",
   "execution_count": 9,
   "metadata": {},
   "outputs": [],
   "source": [
    "with open('data/spices.txt', 'w') as file:\n",
    "    for spice in spices:\n",
    "        file.write(spice+'\\n')\n",
    "file.close()\n",
    "\n",
    "with open('data/southeast_asian_spices.txt', 'w') as file:\n",
    "    for spice in asian_spices:\n",
    "        file.write(spice+'\\n')\n",
    "file.close()"
   ]
  },
  {
   "cell_type": "code",
   "execution_count": 10,
   "metadata": {},
   "outputs": [],
   "source": [
    "with open('data/sauces.txt', 'w') as file:\n",
    "    for sauce in sauces:\n",
    "        file.write(sauce+'\\n')\n",
    "file.close()\n",
    "\n",
    "with open('data/southeast_asian_sauces.txt', 'w') as file:\n",
    "    for sauce in asian_sauces:\n",
    "        file.write(sauce+'\\n')\n",
    "file.close()"
   ]
  },
  {
   "cell_type": "markdown",
   "metadata": {},
   "source": [
    "# Transform a recipe to East Asian"
   ]
  },
  {
   "cell_type": "code",
   "execution_count": 11,
   "metadata": {},
   "outputs": [
    {
     "name": "stdout",
     "output_type": "stream",
     "text": [
      "{'sugo alla puttanesca', 'babi panggang sauce', 'apple sauce', 'sambal', 'bolognese sauce', 'beurre blanc', 'chasseur', 'green sauce', 'mushroom ketchup', 'suprême sauce', 'sriracha sauce', 'savore sanguino', 'café de paris', 'onion gravy', 'barese ragù', 'gremolata', 'sauce charcutière', 'brown sauce', 'cheez whiz', 'salsa lizano', 'alioli', 'francesinha sauce', \"sugo all'amatriciana\", 'fry sauce', 'pico de gallo', 'tartar sauce', 'chocolate gravy', 'tucupi', 'plum sauce', 'nam chim gai', 'tewkesbury mustard', 'garlic sauce', 'crème anglaise', 'neapolitan sauce', 'latik', 'duck sauce', 'brown gravy', 'sauce au poivre', 'chaudfroid sauce', 'ssamjang', 'peanut sauce', 'breton sauce', 'café de paris sauce', 'au jus', 'egusi sauce', 'bagoong', 'mustard (condiment)', 'frankfurt green sauce', 'agrodolce', 'ajika', 'sausage gravy', 'sweet bean sauce', 'poutine', 'meuniere sauce', 'redcurrant sauce', 'picadillo', 'halvaytar', 'salsa golf', 'sauce africaine', 'skordalia', 'remoulade', 'zabaione', 'fra diavolo sauce', 'taramasalata', 'béchamel sauce', 'khrenovina sauce', 'pique sauce', 'siu haau sauce', 'mornay sauce', 'peppercorn sauce', 'buffalo sauce', 'worcestershire sauce', 'pebre', 'halford leicestershire table sauce', 'zigeuner sauce', 'sauce lyonnaise', 'arrabbiata sauce', 'recaíto', 'cumberland sauce', 'cocktail sauce', 'beurre manie', 'garum', 'velouté sauce', 'mala sauce', 'butterscotch sauce', 'ketchup', 'budu', 'sauce velouté', 'shottsuru', 'duckefett', 'ponzu', 'sauce tomate', 'ajilimójili', 'pique', 'coney sauce', 'sauce vin blanc', 'red-eye gravy', 'joppiesaus', 'onion sauce', 'caramel', 'harissa', 'rouennaise sauce', 'mint sauce', 'pickapeppa sauce', 'salsa (prepared)', 'hot sauces', 'umeboshi paste', 'teriyaki', 'prik nam pra', 'romesco sauce', 'wow-wow sauce', 'sauce vierge', 'nam chim seafood', 'prego', 'tomato sauce', 'neapolitan ragù', 'pecel', 'beurre noisette', 'ragù', 'coulis', 'oyster sauce', 'pickles', 'vinagrete', 'chilli soy lime', 'maggi', 'yogurt sauce', 'mujdei', 'sahawiq', 'muhammara', 'pla ra', 'pique verde', 'satzibeli', 'chili sauce', 'hoisin sauce', 'shrewsbury sauce', 'baconnaise', 'pesto', 'mushroom gravy', 'mignonette sauce', 'salad dressing', 'nantua sauce', 'normande sauce', 'guacamole', 'adobo mojado', 'persillade', 'cranberry sauce', 'sauce béchamel', 'peach sauce', 'mojo (sauce)', 'sweet soy sauce', 'mushroom sauce', 'alfredo sauce', 'sauce bercy', 'charcutiere sauce', 'sauce aurore', 'ravigote sauce', 'dabu-dabu', 'salsa', 'salad cream', 'honey garlic sauce', 'enchilada', 'parsley sauce', 'bajan pepper sauce', 'vincotto', 'horseradish sauce', 'cincinnati chili', 'soy sauce', 'magic shell', 'vizcaína', 'vinaigrette', 'hard sauce', 'mirin', 'hp sauce', 'salsa verde', 'sauce américaine', 'nước chấm', 'sauce bourguignonne', 'liver sauce', 'bagna càuda', 'sofrito', 'soubise sauce', 'nam chim', 'mojo criollo', 'romesco', 'avocado sauce', 'huancaina', 'anchovy essence', 'hollandaise sauce', 'custard', 'moambe', 'pan sauce', 'white sauce', 'nam phrik', 'mumbo sauce', 'mojito isleño', 'checca sauce', 'corn sauce', 'old sour', 'saus cabai', 'sweet chili sauce', 'caruso sauce', 'cincalok', 'mustard', 'lobster sauce', 'henry bain sauce', 'venetian sauce', 'sauce robert', 'bread sauce', 'shito', 'hogao', 'demi glace', 'banana ketchup', 'sauce andalouse', 'sauce espagnole', 'chimichurri', 'sweet and sour sauce', 'cheddar sauce', 'xató', 'satsivi', 'blueberry sauce', 'tare sauce', 'sour cream sauce', 'marinara sauce', 'fudge sauce', 'alfredo', 'cebolada', 'wine sauce', 'melitzanosalata', 'salsa criolla', 'toum', 'llajwa', 'filfel chuma', 'beurre noir', 'fritessaus', 'salvitxada', 'pineapple', 'steak sauce', 'tkemali', 'ragù alla salsiccia', 'albert sauce', 'avgolemono', 'capital sauce', 'marie rose sauce', 'béarnaise sauce', 'ravigote', 'colo-colo', 'rainbow sauce', 'mango sauce', 'rouille', 'tzatziki', 'ok sauce', 'salsa cruda', 'mahyawa', 'carbonara', 'tương', 'comeback sauce', 'aioli', 'chermoula', 'allemande sauce', 'mole', 'chancaca', 'donair sauce', 'sauce poivrade', 'agliata', 'tabasco sauce', 'sauce allemande', 'chocolate syrup', 'xo sauce', 'tuco', 'tentsuyu', 'korean soy sauce', 'tonkatsu sauce', 'bolognese', 'syrup', 'sauce hollandaise', 'chateaubriand sauce', 'daddies', 'maafe', 'sauce gribiche', 'sloppy joe', 'sauce poulette', 'strawberry sauce', 'beurre monté', 'ají (sauce)', 'amatriciana sauce', 'datil pepper', 'shacha sauce', 'padaek', 'a.1. sauce', 'gravy', 'vodka sauce', 'whisky sauce', 'barbecue sauce', 'fish sauce', 'doubanjiang', 'bordelaise sauce', 'coffee sauce'}\n"
     ]
    }
   ],
   "source": [
    "import main as utils\n",
    "import random\n",
    "import re\n",
    "\n",
    "url = 'https://www.allrecipes.com/recipe/44868/spicy-garlic-lime-chicken/'"
   ]
  },
  {
   "cell_type": "code",
   "execution_count": 12,
   "metadata": {},
   "outputs": [],
   "source": [
    "url = 'https://www.allrecipes.com/recipe/232425/mums-swedish-meatballs/'"
   ]
  },
  {
   "cell_type": "code",
   "execution_count": 13,
   "metadata": {},
   "outputs": [],
   "source": [
    "url = 'https://www.allrecipes.com/recipe/88849/cannoli/'"
   ]
  },
  {
   "cell_type": "code",
   "execution_count": 14,
   "metadata": {},
   "outputs": [],
   "source": [
    "url = 'https://www.allrecipes.com/recipe/73634/colleens-slow-cooker-jambalaya/'"
   ]
  },
  {
   "cell_type": "code",
   "execution_count": 15,
   "metadata": {},
   "outputs": [],
   "source": [
    "url = 'https://www.allrecipes.com/recipe/246141/pad-thai-with-tofu/'"
   ]
  },
  {
   "cell_type": "code",
   "execution_count": 16,
   "metadata": {},
   "outputs": [],
   "source": [
    "url = 'https://www.allrecipes.com/recipe/56927/delicious-ham-and-potato-soup/'"
   ]
  },
  {
   "cell_type": "code",
   "execution_count": 17,
   "metadata": {},
   "outputs": [],
   "source": [
    "url = 'https://www.allrecipes.com/recipe/45736/chicken-tikka-masala'"
   ]
  },
  {
   "cell_type": "code",
   "execution_count": 18,
   "metadata": {},
   "outputs": [],
   "source": [
    "recipe = utils.Recipe(url)"
   ]
  },
  {
   "cell_type": "code",
   "execution_count": 21,
   "metadata": {},
   "outputs": [
    {
     "name": "stdout",
     "output_type": "stream",
     "text": [
      "Chicken Tikka Masala\n"
     ]
    }
   ],
   "source": [
    "recipe_name = recipe.name\n",
    "\n",
    "need_eastasian_transform = True\n",
    "# if such words shows up in the recipe name, no transformation needed\n",
    "east_asian_keywords = ['asia', 'east asia', 'south asian', 'thai', 'chinese', 'japan', 'korea', 'malaysia', 'indonesia','vietnam']\n",
    "print(recipe_name)\n",
    "for word in east_asian_keywords:\n",
    "    if word in recipe_name.lower():\n",
    "        need_eastasian_transform = False\n",
    "        print(word)"
   ]
  },
  {
   "cell_type": "code",
   "execution_count": 22,
   "metadata": {},
   "outputs": [
    {
     "name": "stdout",
     "output_type": "stream",
     "text": [
      "\n",
      "REPLACE:\n",
      "\t2 teaspoons paprika\n",
      "TO:\n",
      "\t2 teaspoons thai basil\n",
      "\n",
      "\n",
      "REPLACE:\n",
      "\t2 teaspoons cayenne pepper\n",
      "TO:\n",
      "\t2 teaspoons coriander\n",
      "\n",
      "\n",
      "REPLACE:\n",
      "\t1 tablespoon butter\n",
      "TO:\n",
      "\t1 tablespoon pork fat\n",
      "\n",
      "\n",
      "REPLACE:\n",
      "\t1 clove garlic, minced\n",
      "TO:\n",
      "\t1 clove chinese chives\n",
      "\n",
      "\n",
      "REPLACE:\n",
      "\t1 (8 ounce) can tomato sauce\n",
      "TO:\n",
      "\t1 (8 ounce) can soy sauce\n",
      "\n",
      "{'butter': {'descriptor': None,\n",
      "            'measurement': 'tablespoon',\n",
      "            'preparation': None,\n",
      "            'substitution': 'pork fat'},\n",
      " 'cayenne pepper': {'descriptor': None,\n",
      "                    'measurement': 'teaspoons',\n",
      "                    'preparation': None,\n",
      "                    'substitution': 'coriander'},\n",
      " 'garlic': {'descriptor': None,\n",
      "            'measurement': 'clove',\n",
      "            'preparation': None,\n",
      "            'substitution': 'chinese chives'},\n",
      " 'paprika': {'descriptor': None,\n",
      "             'measurement': 'teaspoons',\n",
      "             'preparation': None,\n",
      "             'substitution': 'thai basil'},\n",
      " 'tomato sauce': {'descriptor': None,\n",
      "                  'measurement': 'can',\n",
      "                  'preparation': None,\n",
      "                  'substitution': 'soy sauce'}}\n",
      "6\n"
     ]
    }
   ],
   "source": [
    "subsitute_dict = {}\n",
    "\n",
    "# count the appearing time for easiesian ingredients to determine whether it needs transformation\n",
    "eastasian_ingredient_appearance_count = 0\n",
    "\n",
    "for line in recipe.ingredients:\n",
    "    quantity, measurement, descriptor, ingredient, preparation = recipe.extract_all(line)\n",
    "    ingredient  = ingredient.lower()\n",
    "    \n",
    "    if ingredient in asian_spices or ingredient in asian_sauces:\n",
    "        eastasian_ingredient_appearance_count+=1\n",
    "    \n",
    "    if ingredient in spices and ingredient not in asian_spices:\n",
    "        sub_spice = randomly_select(list(asian_spices))\n",
    "        # get different substitution spice\n",
    "        while sub_spice in subsitute_dict:\n",
    "            sub_spice = randomly_select(list(asian_spices))\n",
    "        # record substitution information\n",
    "        subsitute_dict[ingredient] = {}\n",
    "        subsitute_dict[ingredient]['substitution'] = sub_spice\n",
    "        subsitute_dict[ingredient]['measurement'] = measurement\n",
    "        subsitute_dict[ingredient]['descriptor'] = None\n",
    "        subsitute_dict[ingredient]['preparation'] = None\n",
    "            \n",
    "        print('\\nREPLACE:')\n",
    "        print('\\t' + line)\n",
    "        print('TO:')\n",
    "        print('\\t' + ' '.join([quantity, measurement, sub_spice]) + '\\n')\n",
    "        \n",
    "    elif ingredient in sauces and ingredient not in asian_sauces:\n",
    "        sub_sauce = randomly_select(list(asian_sauces))\n",
    "        # get different substitution sauce\n",
    "        while sub_sauce in subsitute_dict:\n",
    "            sub_sauce = randomly_select(list(asian_sauces))\n",
    "        subsitute_dict[ingredient] = {}\n",
    "        subsitute_dict[ingredient]['substitution'] = sub_sauce\n",
    "        subsitute_dict[ingredient]['measurement'] = measurement\n",
    "        subsitute_dict[ingredient]['descriptor'] = None\n",
    "        subsitute_dict[ingredient]['preparation'] = None\n",
    "        print('\\nREPLACE:')\n",
    "        print('\\t' + line)\n",
    "        print('TO:')\n",
    "        print('\\t' + ' '.join([quantity, measurement, sub_sauce]) + '\\n')\n",
    "        \n",
    "    else:\n",
    "        for i in list(custom_to_eastasian_dict.keys()):\n",
    "            if i in ingredient or ingredient in i:\n",
    "                sub = custom_to_eastasian_dict[i]\n",
    "                subsitute_dict[ingredient] = {}\n",
    "                subsitute_dict[ingredient]['substitution'] = sub\n",
    "                subsitute_dict[ingredient]['measurement'] = measurement\n",
    "                subsitute_dict[ingredient]['descriptor'] = descriptor\n",
    "                subsitute_dict[ingredient]['preparation'] = preparation\n",
    "                \n",
    "                if i != ingredient:\n",
    "                    subsitute_dict[i] = {}\n",
    "                    subsitute_dict[i]['substitution'] = sub\n",
    "                    subsitute_dict[i]['measurement'] = measurement\n",
    "                    subsitute_dict[i]['descriptor'] = descriptor\n",
    "                    subsitute_dict[i]['preparation'] = preparation\n",
    "\n",
    "\n",
    "                replacement = []\n",
    "                for i in [quantity, measurement, descriptor, sub]:\n",
    "                    if i is not None:\n",
    "                        replacement.append(i)        \n",
    "\n",
    "                print('\\nREPLACE:')\n",
    "                print('\\t' + line)\n",
    "                print('TO:')\n",
    "                print('\\t' + ' '.join(replacement) + '\\n')\n",
    "#     else:\n",
    "#         print(line)\n",
    "        \n",
    "        \n",
    "pprint.pprint(subsitute_dict)\n",
    "print(eastasian_ingredient_appearance_count)"
   ]
  },
  {
   "cell_type": "code",
   "execution_count": 23,
   "metadata": {},
   "outputs": [
    {
     "name": "stdout",
     "output_type": "stream",
     "text": [
      "In a large bowl, combine yogurt, lemon juice, 2 teaspoons cumin, cinnamon, cayenne, black pepper, ginger, and salt. Stir in chicken, cover, and refrigerate for 1 hour.\n",
      "-----------------------------------------------------------\n",
      "\n",
      "Preheat a grill for high heat.\n",
      "-----------------------------------------------------------\n",
      "\n",
      "Lightly oil the grill grate. Thread chicken onto skewers, and discard marinade. Grill until juices run clear, about 5 minutes on each side.\n",
      "-----------------------------------------------------------\n",
      "\n",
      "REPLACE:\n",
      "\tMelt butter in a large heavy skillet over medium heat. Saute garlic and jalapeno for 1 minute. Season with 2 teaspoons cumin, paprika, and 3 teaspoons salt. Stir in tomato sauce and cream. Simmer on low heat until sauce thickens, about 20 minutes. Add grilled chicken, and simmer for 10 minutes. Transfer to a serving platter, and garnish with fresh cilantro.\n",
      "TO:\n",
      "\tMelt pork fat in a large heavy skillet over medium heat. Saute chinese chives and jalapeno for 1 minute. Season with 2 teaspoons cumin, thai basil, and 3 teaspoons salt. Stir in soy sauce and cream. Simmer on low heat until sauce thickens, about 20 minutes. Add grilled chicken, and simmer for 10 minutes. Transfer to a serving platter, and garnish with fresh cilantro.\n",
      "-----------------------------------------------------------\n",
      "\n"
     ]
    }
   ],
   "source": [
    "for direction in recipe.directions:\n",
    "    new_direction = direction\n",
    "    for ingredient in subsitute_dict.keys():\n",
    "        if ingredient in new_direction.lower():\n",
    "            new_direction = re.sub(ingredient, subsitute_dict[ingredient]['substitution'], new_direction, flags=re.IGNORECASE)\n",
    "            \n",
    "    if direction != new_direction:\n",
    "        print('REPLACE:')\n",
    "        print('\\t' + direction)\n",
    "        print('TO:')\n",
    "        print('\\t' + new_direction)\n",
    "    else:\n",
    "        print(direction)\n",
    "    print('-----------------------------------------------------------\\n')\n",
    "            "
   ]
  },
  {
   "cell_type": "code",
   "execution_count": null,
   "metadata": {},
   "outputs": [],
   "source": []
  },
  {
   "cell_type": "code",
   "execution_count": null,
   "metadata": {},
   "outputs": [],
   "source": []
  }
 ],
 "metadata": {
  "kernelspec": {
   "display_name": "Python 3",
   "language": "python",
   "name": "python3"
  },
  "language_info": {
   "codemirror_mode": {
    "name": "ipython",
    "version": 3
   },
   "file_extension": ".py",
   "mimetype": "text/x-python",
   "name": "python",
   "nbconvert_exporter": "python",
   "pygments_lexer": "ipython3",
   "version": "3.7.1"
  }
 },
 "nbformat": 4,
 "nbformat_minor": 2
}
