{
 "cells": [
  {
   "cell_type": "code",
   "execution_count": 22,
   "metadata": {},
   "outputs": [
    {
     "name": "stdout",
     "output_type": "stream",
     "text": [
      "{'healthy': ['canned sliced green chiles', 'cans stewed tomatoes', 'lime', 'onion', 'pepper to taste', 'eggs', 'sweet pickle relish', 'potatoes', 'chopped onion', 'mayonnaise', 'chopped celery', 'tilapia fillets', 'extra virgin olive oil', 'tortillas', 'cilantro', 'light sour cream', 'tomatoes', 'pepper to taste', 'limes', 'adobo sauce from chipotle peppers', 'head cabbage', 'garlic', 'squash - peeled, seeded, and cut into 1-in', 'ground black pepper to taste', 'garlic', 'penne pasta', 'fresh spinach, rinsed and', 'bacon', 'can diced tomatoes', 'brown sugar', 'blueberries', 'whole wheat flour', 'nonfat milk', 'all-purpose flour', 'egg', 'unsweetened applesauce', 'wheat bran', 'pepper to taste', 'onion', 'egg', 'russet potatoes', 'all-purpose flour', 'oil for frying', 'tomato sauce', 'tomato paste', 'ground turkey', 'can crushed tomatoes', 'black beans', 'garlic', 'onion', 'all-purpose flour', 'apple butter', 'vegetable oil', 'white sugar', 'raisins', 'whole wheat flour', '- peeled, cored, and', 'whites', 'grated carrots', 'egg', 'tomatoes', 'mushrooms', 'spinach', 'crumbled feta cheese', 'pepper to taste', 'wheat pita breads', 'sun-dried tomato pesto', 'red bell pepper', 'taste', 'taste', 'pepper to taste', 'olive oil', 'dry bread crumbs', 'garlic', 'zucchini', 'potatoes', 'bow tie pasta', 'pesto sauce', 'oil-packed sun-dried tomatoes', 'pepper flakes to taste', 'garlic', 'skinless chicken breasts, cut into b', 'chopped fresh basil', 'tomatoes', 'shredded Parmesan cheese', 'garlic', 'French bread', 'chopped raw kale', 'white beans, such as c', 'yellow onion', 'pepper to taste', 'garlic cloves', 'low-fat, low-sodium chicken or vegetable', 'tomatoes', 'chopped parsley', 'red wine', 'brown sugar', 'pepper to taste', 'skinless', 'carrots', 'lemon juice', 'green onions', 'fresh parsley', 'olive oil', 'salt', 'cucumber', 'water', 'quinoa', 'tomatoes', 'whole wheat flour', 'water', 'honey', 'celery', 'garbanzo beans', 'can chopped tomatoes in puree', 'onion', 'black bean soup', 'whole kernel corn', 'bell pepper', 'vegetarian baked beans', 'garlic', 'kidney beans', 'peeled', 'diced red onion', 'lime', 'tortillas', 'diced red bell pepper', 'tilapia', 'cooked corn kernels', 'fresh cilantro leaves'], 'seasonings': ['salt', 'cilantro', 'garlic', 'salt', 'salt', 'celery', 'mustard', 'pepper', 'ground', 'powder', 'vinegar', 'seafood', 'cumin', 'powder', 'lime', 'zest', 'cumin', 'seafood', 'honey', 'lime', 'juice', 'sauce', 'pepper', 'olive', 'oil', 'garlic', 'olive', 'oil', 'vanilla', 'extract', 'salt', 'soda', 'powder', 'oregano', 'ground', 'paprika', 'ground', 'garlic', 'wine', 'vinegar', 'oil', 'vegetable', 'leaves', 'basil', 'powder', 'oregano', 'powder', 'salt', 'cinnamon', 'ground', 'soda', 'wheat', 'germ', 'walnuts', 'vanilla', 'extract', 'olive', 'oil', 'cheese', 'olive', 'oil', 'vinegar', 'pepper', 'ground', 'salt', 'olive', 'oil', 'oil', 'canola', 'seasoning', 'herb', 'garlic', 'olive', 'oil', 'paprika', 'salt', 'sea', 'salt', 'yeast', 'milk', 'powder', 'basil', 'powder', 'oregano', 'olive', 'oil', 'cayenne', 'pepper', 'salt', 'pepper', 'ground', 'cream']}\n"
     ]
    }
   ],
   "source": [
    "import json\n",
    "import pprint\n",
    "\n",
    "with open('healthy_ingredient.json', 'r') as f:\n",
    "    ingredient = json.load(f)\n",
    "    print(ingredient)"
   ]
  },
  {
   "cell_type": "code",
   "execution_count": 23,
   "metadata": {},
   "outputs": [
    {
     "name": "stdout",
     "output_type": "stream",
     "text": [
      "<class 'dict'>\n"
     ]
    }
   ],
   "source": [
    "# names with description\n",
    "print(type(ingredient))\n",
    "healthy_ingredient = ingredient['healthy']\n",
    "\n",
    "# noun\n",
    "seasonings = ingredient['seasonings']"
   ]
  },
  {
   "cell_type": "code",
   "execution_count": 25,
   "metadata": {},
   "outputs": [],
   "source": [
    "import spacy\n",
    "nlp = spacy.load('en')\n",
    "\n",
    "def tokenize(line):\n",
    "    return [(token.text, token.tag_) for token in nlp(line)]\n",
    "\n",
    "def extract_ingredients_nouns(line):\n",
    "    ingredients_nouns = set()\n",
    "    token_tag_pairs = tokenize(line)\n",
    "    for pair in token_tag_pairs:\n",
    "        if pair[1] == 'NN' or pair[1] == 'NNS':\n",
    "            # global ingredients_nouns\n",
    "            ingredients_nouns |= {pair[0]}\n",
    "\n",
    "    return list(ingredients_nouns)"
   ]
  },
  {
   "cell_type": "code",
   "execution_count": 26,
   "metadata": {},
   "outputs": [
    {
     "name": "stdout",
     "output_type": "stream",
     "text": [
      "[('tomatoes', 10), ('onion', 7), ('flour', 6), ('beans', 5), ('potatoes', 3), ('sugar', 3), ('purpose', 3), ('egg', 3), ('tomato', 3), ('bell', 3), ('tilapia', 2), ('tortillas', 2), ('pasta', 2), ('spinach', 2), ('carrots', 2), ('pesto', 2), ('sun', 2), ('taste', 2), ('bread', 2), ('skinless', 2), ('chicken', 2), ('water', 2), ('corn', 2), ('chiles', 1), ('cans', 1), ('eggs', 1), ('pickle', 1), ('relish', 1), ('mayonnaise', 1), ('fillets', 1), ('limes', 1), ('chipotle', 1), ('peppers', 1), ('adobo', 1), ('head', 1), ('cabbage', 1), ('squash', 1), ('penne', 1), ('bacon', 1), ('blueberries', 1), ('applesauce', 1), ('bran', 1), ('russet', 1), ('paste', 1), ('turkey', 1), ('butter', 1), ('apple', 1), ('raisins', 1), ('whites', 1), ('mushrooms', 1), ('pita', 1), ('breads', 1), ('crumbs', 1), ('zucchini', 1), ('tie', 1), ('flakes', 1), ('b', 1), ('breasts', 1), ('kale', 1), ('cloves', 1), ('sodium', 1), ('lemon', 1), ('onions', 1), ('parsley', 1), ('cucumber', 1), ('quinoa', 1), ('garbanzo', 1), ('puree', 1), ('bean', 1), ('soup', 1), ('kernel', 1), ('kidney', 1), ('kernels', 1)]\n"
     ]
    }
   ],
   "source": [
    "healthy_dict = {}\n",
    "for i in healthy_ingredient:\n",
    "    l = extract_ingredients_nouns(i)\n",
    "    for ingre in l:\n",
    "        # eliminate seasonings\n",
    "        if ingre in seasonings or ingre == '':\n",
    "            continue\n",
    "            \n",
    "        if ingre in healthy_dict:\n",
    "            healthy_dict[ingre] += 1\n",
    "        else:\n",
    "            healthy_dict[ingre] = 1\n",
    "\n",
    "sorted_d =  sorted(healthy_dict.items(), key=lambda d:d[1], reverse = True)\n",
    "        \n",
    "print(sorted_d)"
   ]
  },
  {
   "cell_type": "code",
   "execution_count": 28,
   "metadata": {},
   "outputs": [
    {
     "name": "stdout",
     "output_type": "stream",
     "text": [
      "['chiles', 'cans', 'tomatoes', 'onion', 'eggs', 'pickle', 'relish', 'potatoes', 'mayonnaise', 'tilapia', 'fillets', 'tortillas', 'limes', 'chipotle', 'peppers', 'adobo', 'head', 'cabbage', 'squash', 'penne', 'pasta', 'spinach', 'bacon', 'sugar', 'blueberries', 'flour', 'purpose', 'egg', 'applesauce', 'bran', 'russet', 'tomato', 'paste', 'turkey', 'beans', 'butter', 'apple', 'raisins', 'whites', 'carrots', 'mushrooms', 'pita', 'breads', 'pesto', 'sun', 'bell', 'taste', 'crumbs', 'bread', 'zucchini', 'tie', 'flakes', 'skinless', 'chicken', 'b', 'breasts', 'kale', 'cloves', 'sodium', 'lemon', 'onions', 'parsley', 'cucumber', 'water', 'quinoa', 'garbanzo', 'puree', 'bean', 'soup', 'corn', 'kernel', 'kidney', 'kernels']\n"
     ]
    }
   ],
   "source": [
    "healthy_ingredient = list(healthy_dict.keys())\n",
    "print(healthy_ingredient)"
   ]
  },
  {
   "cell_type": "code",
   "execution_count": 33,
   "metadata": {},
   "outputs": [
    {
     "data": {
      "text/plain": [
       "{'1 (14 ounce) package vegetarian ground beef substitute',\n",
       " '1 clove garlic, minced, or more to taste',\n",
       " '1 large yellow onion, chopped',\n",
       " '1 pinch ground black pepper to taste',\n",
       " '1 tablespoon vegetable oil',\n",
       " '1 teaspoon Italian seasoning',\n",
       " '1 tomato, chopped',\n",
       " '1/2 cup frozen peas',\n",
       " '1/2 cup shredded Cheddar-style soy cheese',\n",
       " '1/2 cup soy milk',\n",
       " '1/2 cup vegan mayonnaise',\n",
       " '1/4 cup olive oil',\n",
       " '2 carrots, chopped',\n",
       " '2 teaspoons salt',\n",
       " '3 stalks celery, chopped',\n",
       " '3 tablespoons vegan cream cheese substitute (such as Tofutti ®)',\n",
       " '5 russet potatoes, peeled and cut into 1-inch cubes',\n",
       " 'Bottom layer:',\n",
       " 'Mashed potato layer:'}"
      ]
     },
     "execution_count": 33,
     "metadata": {},
     "output_type": "execute_result"
    }
   ],
   "source": [
    "import re\n",
    "import requests\n",
    "from bs4 import BeautifulSoup\n",
    "\n",
    "url = 'https://www.allrecipes.com/recipe/180735/traditional-style-vegan-shepherds-pie/'\n",
    "page = requests.get(url)\n",
    "soup = BeautifulSoup(page.content, 'html.parser')\n",
    "\n",
    "# extract ingredients section from the webpage\n",
    "ingredients = set([element.label.text.strip() for element in soup.find_all(class_='checkList__line')])\n",
    "# remove unnecessary elements\n",
    "ingredients.remove('')\n",
    "ingredients.remove('Add all ingredients to list')\n",
    "ingredients"
   ]
  },
  {
   "cell_type": "code",
   "execution_count": 36,
   "metadata": {},
   "outputs": [],
   "source": [
    "\"\"\"\n",
    "For not healthy to healthy, can use the following food 'hacks':\n",
    "    - https://www.goredforwomen.org/live-healthy/heart-healthy-cooking-tips/healthy-substitutions/\n",
    "    - https://www.nhlbi.nih.gov/health/educational/lose_wt/eat/shop_lcal_fat.htm\n",
    "    - https://www.swansonvitamins.com/blog/natural-health-tips/food-replacement-hacks\n",
    "\"\"\"\n",
    "to_healthy_dict = {\n",
    "                    \"breadcrumbs\":\"ground flaxseeds\",\n",
    "                    \"gluten-free flour\":\"wheat flour\",\n",
    "                    \"quinoa\":\"couscous\",\n",
    "                    \"zoodles\":\"pasta noodles\",\n",
    "                    \"ground flaxseeds\":\"bread crumbs\",\n",
    "                    \"spaghetti squash\":\"pasta\",\n",
    "                    \"lettuce leaves\":\"tortilla wraps\",\n",
    "                    \"corn tortilla\":\"flour tortilla\",\n",
    "                    \"quinoa\":\"oatmeal\",\n",
    "                    \"veggies\":\"pita\",\n",
    "                    \"nuts\":\"croutons\",\n",
    "                    \"unsweetened applesauce\":\"sugar\",\n",
    "                    \"natural peanut butter\":\"peanut butter\",\n",
    "                    \"seltzer water with citrus slice\":\"soda\",\n",
    "                    \"Stevia\":\"sugar\",\n",
    "                    \"cacao nibs\":\"chocolate chips\",\n",
    "                    \"vanilla extract\":\"sugar\",\n",
    "                    \"cinnamon\":\"cream and sugar\",\n",
    "                    \"unsweetened iced tea\":\"juice\",\n",
    "                    \"plain yogurt with fresh fruit\":\"flavored yogurt\",\n",
    "                    \"fresh fruits\":\"canned fruit\",\n",
    "                    \"red wine\":\"white wine\",\n",
    "                    \"soda water\":\"juice\",\n",
    "                    \"soda water\":\"tonic water\",\n",
    "                    \"garlic powder\":\"salt\",\n",
    "                    \"low-sodium soy sauce\":\"standard soy sauce\",\n",
    "                    \"nut butter\":\"butter\",\n",
    "                    \"whole grain pasta\":\"pasta\",\n",
    "                    \"whole grain noodles\":\"noodles\",\n",
    "                    \"whole grain bread\":\"bread\"\n",
    "                    \"\"\n",
    "                    }\n",
    "def get_key (dict, value):\n",
    "    return [k for k, v in dict.items() if v == value]\n",
    "from_healthy_dict = dict((v,k) for k,v in to_healthy_dict.items())"
   ]
  },
  {
   "cell_type": "code",
   "execution_count": 56,
   "metadata": {},
   "outputs": [
    {
     "name": "stdout",
     "output_type": "stream",
     "text": [
      "2 teaspoons garlic powder\n",
      "{'1 (14 ounce) package vegetarian ground beef substitute',\n",
      " '1 clove garlic, minced, or more to taste',\n",
      " '1 large yellow onion, chopped',\n",
      " '1 pinch ground black pepper to taste',\n",
      " '1 tablespoon vegetable oil',\n",
      " '1 teaspoon Italian seasoning',\n",
      " '1 tomato, chopped',\n",
      " '1/2 cup frozen peas',\n",
      " '1/2 cup shredded Cheddar-style soy cheese',\n",
      " '1/2 cup soy milk',\n",
      " '1/2 cup vegan mayonnaise',\n",
      " '1/4 cup olive oil',\n",
      " '2 carrots, chopped',\n",
      " '2 teaspoons garlic powder',\n",
      " '3 stalks celery, chopped',\n",
      " '3 tablespoons vegan cream cheese substitute (such as Tofutti ®)',\n",
      " '5 russet potatoes, peeled and cut into 1-inch cubes',\n",
      " 'Bottom layer:',\n",
      " 'Mashed potato layer:'}\n",
      "1\n"
     ]
    }
   ],
   "source": [
    "new_recipe = set()\n",
    "num = 0\n",
    "for line in ingredients:\n",
    "    new_line = line\n",
    "    for item in to_healthy_dict.values():\n",
    "        if item in new_line:\n",
    "            new_item = get_key(to_healthy_dict,item)[0]\n",
    "            num = num + 1\n",
    "            new_line = new_line.replace('salt','garlic powder')\n",
    "            print(new_line)\n",
    "    new_recipe.add(new_line)\n",
    "pprint.pprint(new_recipe)\n",
    "print(num)"
   ]
  },
  {
   "cell_type": "code",
   "execution_count": null,
   "metadata": {},
   "outputs": [],
   "source": []
  }
 ],
 "metadata": {
  "kernelspec": {
   "display_name": "Python 3",
   "language": "python",
   "name": "python3"
  },
  "language_info": {
   "codemirror_mode": {
    "name": "ipython",
    "version": 3
   },
   "file_extension": ".py",
   "mimetype": "text/x-python",
   "name": "python",
   "nbconvert_exporter": "python",
   "pygments_lexer": "ipython3",
   "version": "3.7.1"
  }
 },
 "nbformat": 4,
 "nbformat_minor": 2
}
