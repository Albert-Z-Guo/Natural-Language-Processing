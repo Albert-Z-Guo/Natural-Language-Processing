{
 "cells": [
  {
   "cell_type": "code",
   "execution_count": 1,
   "metadata": {},
   "outputs": [],
   "source": [
    "import pandas as pd"
   ]
  },
  {
   "cell_type": "code",
   "execution_count": 2,
   "metadata": {},
   "outputs": [
    {
     "data": {
      "text/html": [
       "<div>\n",
       "<style scoped>\n",
       "    .dataframe tbody tr th:only-of-type {\n",
       "        vertical-align: middle;\n",
       "    }\n",
       "\n",
       "    .dataframe tbody tr th {\n",
       "        vertical-align: top;\n",
       "    }\n",
       "\n",
       "    .dataframe thead th {\n",
       "        text-align: right;\n",
       "    }\n",
       "</style>\n",
       "<table border=\"1\" class=\"dataframe\">\n",
       "  <thead>\n",
       "    <tr style=\"text-align: right;\">\n",
       "      <th></th>\n",
       "      <th>id</th>\n",
       "      <th>text</th>\n",
       "      <th>timestamp_ms</th>\n",
       "      <th>user</th>\n",
       "    </tr>\n",
       "  </thead>\n",
       "  <tbody>\n",
       "    <tr>\n",
       "      <th>0</th>\n",
       "      <td>290620657987887104</td>\n",
       "      <td>JLo's dress! #eredcarpet #GoldenGlobes</td>\n",
       "      <td>2013-01-14 00:45:38</td>\n",
       "      <td>{'screen_name': 'Dozaaa_xo', 'id': 557374298}</td>\n",
       "    </tr>\n",
       "    <tr>\n",
       "      <th>1</th>\n",
       "      <td>290620657887219713</td>\n",
       "      <td>What's making Sofia Vergara's boobs stay like ...</td>\n",
       "      <td>2013-01-14 00:45:38</td>\n",
       "      <td>{'screen_name': 'theAmberShow', 'id': 14648726}</td>\n",
       "    </tr>\n",
       "    <tr>\n",
       "      <th>2</th>\n",
       "      <td>290620657828524032</td>\n",
       "      <td>RT @FabSugar: Kerry Washington is EVERYTHING. ...</td>\n",
       "      <td>2013-01-14 00:45:38</td>\n",
       "      <td>{'screen_name': 'SweetyPW', 'id': 35498686}</td>\n",
       "    </tr>\n",
       "    <tr>\n",
       "      <th>3</th>\n",
       "      <td>290620657799159809</td>\n",
       "      <td>Anne Hathaway has got me living. #GoldenGlobes</td>\n",
       "      <td>2013-01-14 00:45:38</td>\n",
       "      <td>{'screen_name': '_NicoleEdwards', 'id': 144430...</td>\n",
       "    </tr>\n",
       "    <tr>\n",
       "      <th>4</th>\n",
       "      <td>290620657778188288</td>\n",
       "      <td>Jennifer Lopez's lace dress? Thoughts? #Golden...</td>\n",
       "      <td>2013-01-14 00:45:38</td>\n",
       "      <td>{'screen_name': 'lolaogunnaike', 'id': 134953223}</td>\n",
       "    </tr>\n",
       "    <tr>\n",
       "      <th>5</th>\n",
       "      <td>290620657719455745</td>\n",
       "      <td>Podrán criticar a #Adele de su moda y su maniq...</td>\n",
       "      <td>2013-01-14 00:45:38</td>\n",
       "      <td>{'screen_name': 'SabyOnford', 'id': 404554221}</td>\n",
       "    </tr>\n",
       "    <tr>\n",
       "      <th>6</th>\n",
       "      <td>290620657715273728</td>\n",
       "      <td>US, Weakly #GoldenGlobes</td>\n",
       "      <td>2013-01-14 00:45:38</td>\n",
       "      <td>{'screen_name': 'alejandraoleary', 'id': 45748...</td>\n",
       "    </tr>\n",
       "    <tr>\n",
       "      <th>7</th>\n",
       "      <td>290620657715253248</td>\n",
       "      <td>RT @BillMc7: \"Wait. What's that smell?!\" (ever...</td>\n",
       "      <td>2013-01-14 00:45:38</td>\n",
       "      <td>{'screen_name': 'xtinavickers', 'id': 92139052}</td>\n",
       "    </tr>\n",
       "    <tr>\n",
       "      <th>8</th>\n",
       "      <td>290620657706872832</td>\n",
       "      <td>Hugh Jackman is so awesome!!! #goldenglobes</td>\n",
       "      <td>2013-01-14 00:45:38</td>\n",
       "      <td>{'screen_name': 'Boaz_173', 'id': 31504713}</td>\n",
       "    </tr>\n",
       "    <tr>\n",
       "      <th>9</th>\n",
       "      <td>290620657560084480</td>\n",
       "      <td>It was awkward. RT @hollywoodhwife: They cut t...</td>\n",
       "      <td>2013-01-14 00:45:38</td>\n",
       "      <td>{'screen_name': 'KateSpencer1', 'id': 21571382}</td>\n",
       "    </tr>\n",
       "  </tbody>\n",
       "</table>\n",
       "</div>"
      ],
      "text/plain": [
       "                   id                                               text  \\\n",
       "0  290620657987887104             JLo's dress! #eredcarpet #GoldenGlobes   \n",
       "1  290620657887219713  What's making Sofia Vergara's boobs stay like ...   \n",
       "2  290620657828524032  RT @FabSugar: Kerry Washington is EVERYTHING. ...   \n",
       "3  290620657799159809     Anne Hathaway has got me living. #GoldenGlobes   \n",
       "4  290620657778188288  Jennifer Lopez's lace dress? Thoughts? #Golden...   \n",
       "5  290620657719455745  Podrán criticar a #Adele de su moda y su maniq...   \n",
       "6  290620657715273728                           US, Weakly #GoldenGlobes   \n",
       "7  290620657715253248  RT @BillMc7: \"Wait. What's that smell?!\" (ever...   \n",
       "8  290620657706872832        Hugh Jackman is so awesome!!! #goldenglobes   \n",
       "9  290620657560084480  It was awkward. RT @hollywoodhwife: They cut t...   \n",
       "\n",
       "         timestamp_ms                                               user  \n",
       "0 2013-01-14 00:45:38      {'screen_name': 'Dozaaa_xo', 'id': 557374298}  \n",
       "1 2013-01-14 00:45:38    {'screen_name': 'theAmberShow', 'id': 14648726}  \n",
       "2 2013-01-14 00:45:38        {'screen_name': 'SweetyPW', 'id': 35498686}  \n",
       "3 2013-01-14 00:45:38  {'screen_name': '_NicoleEdwards', 'id': 144430...  \n",
       "4 2013-01-14 00:45:38  {'screen_name': 'lolaogunnaike', 'id': 134953223}  \n",
       "5 2013-01-14 00:45:38     {'screen_name': 'SabyOnford', 'id': 404554221}  \n",
       "6 2013-01-14 00:45:38  {'screen_name': 'alejandraoleary', 'id': 45748...  \n",
       "7 2013-01-14 00:45:38    {'screen_name': 'xtinavickers', 'id': 92139052}  \n",
       "8 2013-01-14 00:45:38        {'screen_name': 'Boaz_173', 'id': 31504713}  \n",
       "9 2013-01-14 00:45:38    {'screen_name': 'KateSpencer1', 'id': 21571382}  "
      ]
     },
     "execution_count": 2,
     "metadata": {},
     "output_type": "execute_result"
    }
   ],
   "source": [
    "df = pd.read_json(path_or_buf='gg2013.json')\n",
    "df.head(10)"
   ]
  },
  {
   "cell_type": "code",
   "execution_count": 3,
   "metadata": {},
   "outputs": [
    {
     "data": {
      "text/plain": [
       "174643"
      ]
     },
     "execution_count": 3,
     "metadata": {},
     "output_type": "execute_result"
    }
   ],
   "source": [
    "len(df)"
   ]
  },
  {
   "cell_type": "code",
   "execution_count": 4,
   "metadata": {},
   "outputs": [
    {
     "data": {
      "text/plain": [
       "0               JLo's dress! #eredcarpet #GoldenGlobes\n",
       "1    What's making Sofia Vergara's boobs stay like ...\n",
       "2    RT @FabSugar: Kerry Washington is EVERYTHING. ...\n",
       "3       Anne Hathaway has got me living. #GoldenGlobes\n",
       "4    Jennifer Lopez's lace dress? Thoughts? #Golden...\n",
       "5    Podrán criticar a #Adele de su moda y su maniq...\n",
       "6                             US, Weakly #GoldenGlobes\n",
       "7    RT @BillMc7: \"Wait. What's that smell?!\" (ever...\n",
       "8          Hugh Jackman is so awesome!!! #goldenglobes\n",
       "9    It was awkward. RT @hollywoodhwife: They cut t...\n",
       "Name: text, dtype: object"
      ]
     },
     "execution_count": 4,
     "metadata": {},
     "output_type": "execute_result"
    }
   ],
   "source": [
    "data = df['text']\n",
    "data[:10]"
   ]
  },
  {
   "cell_type": "code",
   "execution_count": 5,
   "metadata": {},
   "outputs": [
    {
     "data": {
      "text/plain": [
       "\"What's making Sofia Vergara's boobs stay like that? Magic? Witchcraft? #GoldenGlobes\""
      ]
     },
     "execution_count": 5,
     "metadata": {},
     "output_type": "execute_result"
    }
   ],
   "source": [
    "data[1]"
   ]
  },
  {
   "cell_type": "code",
   "execution_count": 6,
   "metadata": {},
   "outputs": [],
   "source": [
    "import re"
   ]
  },
  {
   "cell_type": "code",
   "execution_count": 7,
   "metadata": {},
   "outputs": [
    {
     "data": {
      "text/plain": [
       "'Hugh Jackman is so awesome    #goldenglobes'"
      ]
     },
     "execution_count": 7,
     "metadata": {},
     "output_type": "execute_result"
    }
   ],
   "source": [
    "def cleanse(line):\n",
    "    # replace everything to ' ' except whitespace, alphanumeric character, apostrophe, hashtag, @\n",
    "    return re.sub(r'[^\\w\\s\\'#@]', ' ', line)\n",
    "\n",
    "# test\n",
    "cleanse(\"Hugh Jackman is so awesome!!! #goldenglobes\")"
   ]
  },
  {
   "cell_type": "code",
   "execution_count": 8,
   "metadata": {
    "scrolled": false
   },
   "outputs": [
    {
     "name": "stdout",
     "output_type": "stream",
     "text": [
      "JLo's dress! #eredcarpet #GoldenGlobes\n",
      "JLo's dress  #eredcarpet #GoldenGlobes\n",
      "[\"JLo's\", 'dress!', '#eredcarpet', '#GoldenGlobes']\n",
      "\n",
      "What's making Sofia Vergara's boobs stay like that? Magic? Witchcraft? #GoldenGlobes\n",
      "What's making Sofia Vergara's boobs stay like that  Magic  Witchcraft  #GoldenGlobes\n",
      "[\"What's\", 'making', 'Sofia', \"Vergara's\", 'boobs', 'stay', 'like', 'that?', 'Magic?', 'Witchcraft?', '#GoldenGlobes']\n",
      "\n",
      "RT @FabSugar: Kerry Washington is EVERYTHING. Dying over her Miu Miu gown! @goldenglobes #goldenglobes http://t.co/3feH7MvO\n",
      "RT @FabSugar  Kerry Washington is EVERYTHING  Dying over her Miu Miu gown  @goldenglobes #goldenglobes http   t co 3feH7MvO\n",
      "['RT', '@FabSugar:', 'Kerry', 'Washington', 'is', 'EVERYTHING.', 'Dying', 'over', 'her', 'Miu', 'Miu', 'gown!', '@goldenglobes', '#goldenglobes', 'http://t.co/3feH7MvO']\n",
      "\n",
      "Anne Hathaway has got me living. #GoldenGlobes\n",
      "Anne Hathaway has got me living  #GoldenGlobes\n",
      "['Anne', 'Hathaway', 'has', 'got', 'me', 'living.', '#GoldenGlobes']\n",
      "\n",
      "Jennifer Lopez's lace dress? Thoughts? #GoldenGlobes\n",
      "Jennifer Lopez's lace dress  Thoughts  #GoldenGlobes\n",
      "['Jennifer', \"Lopez's\", 'lace', 'dress?', 'Thoughts?', '#GoldenGlobes']\n",
      "\n",
      "Podrán criticar a #Adele de su moda y su maniquere pero jamás podrán poner en tela de juicio su TALENTO! @eonline #GoldenGlobes #RedCarpet\n",
      "Podrán criticar a #Adele de su moda y su maniquere pero jamás podrán poner en tela de juicio su TALENTO  @eonline #GoldenGlobes #RedCarpet\n",
      "['Podrán', 'criticar', 'a', '#Adele', 'de', 'su', 'moda', 'y', 'su', 'maniquere', 'pero', 'jamás', 'podrán', 'poner', 'en', 'tela', 'de', 'juicio', 'su', 'TALENTO!', '@eonline', '#GoldenGlobes', '#RedCarpet']\n",
      "\n",
      "US, Weakly #GoldenGlobes\n",
      "US  Weakly #GoldenGlobes\n",
      "['US,', 'Weakly', '#GoldenGlobes']\n",
      "\n",
      "RT @BillMc7: \"Wait. What's that smell?!\" (everyone being interviewed by Al Roker) #GoldenGlobes\n",
      "RT @BillMc7   Wait  What's that smell     everyone being interviewed by Al Roker  #GoldenGlobes\n",
      "['RT', '@BillMc7:', '\"Wait.', \"What's\", 'that', 'smell?!\"', '(everyone', 'being', 'interviewed', 'by', 'Al', 'Roker)', '#GoldenGlobes']\n",
      "\n",
      "Hugh Jackman is so awesome!!! #goldenglobes\n",
      "Hugh Jackman is so awesome    #goldenglobes\n",
      "['Hugh', 'Jackman', 'is', 'so', 'awesome!!!', '#goldenglobes']\n",
      "\n",
      "It was awkward. RT @hollywoodhwife: They cut to and then from JLo during the Ben Affleck interview.  #goldenglobes\n",
      "It was awkward  RT @hollywoodhwife  They cut to and then from JLo during the Ben Affleck interview   #goldenglobes\n",
      "['It', 'was', 'awkward.', 'RT', '@hollywoodhwife:', 'They', 'cut', 'to', 'and', 'then', 'from', 'JLo', 'during', 'the', 'Ben', 'Affleck', 'interview.', '#goldenglobes']\n",
      "\n"
     ]
    }
   ],
   "source": [
    "# test\n",
    "for line in data[:10]:\n",
    "    print(line)\n",
    "    print(cleanse(line))\n",
    "    print(line.split())\n",
    "    print()"
   ]
  },
  {
   "cell_type": "code",
   "execution_count": 9,
   "metadata": {},
   "outputs": [],
   "source": [
    "import spacy\n",
    "# python3 -m spacy download en\n",
    "nlp = spacy.load('en')"
   ]
  },
  {
   "cell_type": "code",
   "execution_count": 10,
   "metadata": {},
   "outputs": [],
   "source": [
    "def identify_entities(text, verbose=False):\n",
    "    ents = list(nlp(text).ents)\n",
    "    if verbose:\n",
    "        person_tags = {}\n",
    "        tags = {}\n",
    "        for ent in ents:    \n",
    "            entity = ' '.join(t.orth_ for t in ent).strip()\n",
    "            if entity not in tags:\n",
    "                tags[entity]=[ent.label_]\n",
    "            if ent.label_ == 'PERSON' and entity not in person_tags:\n",
    "                person_tags[entity]=[ent.label_]\n",
    "        print('person tags:', person_tags)\n",
    "        return tags\n",
    "    else:\n",
    "        return [' '.join(t.orth_ for t in ent).strip() for ent in ents]"
   ]
  },
  {
   "cell_type": "code",
   "execution_count": 11,
   "metadata": {},
   "outputs": [
    {
     "name": "stdout",
     "output_type": "stream",
     "text": [
      "person tags: {'Amy Poehler': ['PERSON'], 'Tina Fey ’s': ['PERSON']}\n",
      "tags: {'Amy Poehler': ['PERSON'], 'Tina Fey ’s': ['PERSON'], 'the evening': ['TIME'], 'GoldenGlobes': ['MONEY']}\n",
      "['Amy Poehler', 'Tina Fey ’s', 'the evening', 'GoldenGlobes']\n"
     ]
    }
   ],
   "source": [
    "# test\n",
    "text = \"“We’re going to keep things loose,” said Amy Poehler of her and co-host Tina Fey’s plan for the evening. #GoldenGlobes http://t.co/o40g5LGq“\"\n",
    "print('tags:', identify_entities(text, True))\n",
    "print(identify_entities(text, False))"
   ]
  },
  {
   "cell_type": "code",
   "execution_count": 12,
   "metadata": {
    "scrolled": false
   },
   "outputs": [],
   "source": [
    "def find_host(verbose=False):\n",
    "    pattern = re.compile(r'host')\n",
    "    entity_dict = {}\n",
    "    \n",
    "    num = 0\n",
    "    for line in data:\n",
    "        match = re.findall(pattern, cleanse(line).lower())\n",
    "        if match:\n",
    "            entities = identify_entities(cleanse(line), False)\n",
    "\n",
    "            if verbose:\n",
    "                # print the first 5 occurrences\n",
    "                if num < 5:\n",
    "                    print(match)\n",
    "                    print(line)\n",
    "                    print(entities)\n",
    "                    print()\n",
    "\n",
    "            for entity in entities:\n",
    "                if len(entity) > 1:\n",
    "                    if entity not in entity_dict:\n",
    "                        entity_dict[entity] = 1\n",
    "                    else:\n",
    "                        entity_dict[entity] += 1\n",
    "            num += 1\n",
    "            \n",
    "    print('num of matches:', num)\n",
    "    return entity_dict"
   ]
  },
  {
   "cell_type": "code",
   "execution_count": 13,
   "metadata": {
    "scrolled": false
   },
   "outputs": [
    {
     "name": "stdout",
     "output_type": "stream",
     "text": [
      "['host']\n",
      "Looking forward to watching Tina Fey and Amy Poehler host the #GoldenGlobes\n",
      "['Tina Fey', 'Amy Poehler']\n",
      "\n",
      "['host']\n",
      "RT @goldenglobes: It's our hosts Tina Fey and Amy Poehler! #goldenglobes #redcarpet http://t.co/8lqC3ocQ\n",
      "['RT @goldenglobes', 'Tina Fey', 'Amy Poehler', '#']\n",
      "\n",
      "['host']\n",
      "RT @washingtonpost: Tonight's dual hosting duties represent the culmination of a decade of Amy and Tina partnerships. http://t.co/scSThrn5 #GoldenGlobes\n",
      "['RT @washingtonpost', 'Tonight', 'a decade', 'Amy', 'Tina', '']\n",
      "\n",
      "['host']\n",
      "RT @MovieMayor: My green suede tuxedo pinching a bit here at the Velvet Rope Awards honoring best in crowd control. Topo Gigio + I hosting #GoldenGlobes\n",
      "['RT @MovieMayor', 'the Velvet Rope Awards', '', 'Topo Gigio', 'GoldenGlobes']\n",
      "\n",
      "['host']\n",
      "RT @accesshollywood: Tina Fey &amp; Amy Poehler Talk #GoldenGlobes Hosting, Drinking Game  http://t.co/1mIvq362\n",
      "['RT @accesshollywood', 'Amy Poehler Talk', 'GoldenGlobes Hosting', 'Drinking Game', '']\n",
      "\n",
      "num of matches: 3109\n",
      "CPU times: user 2min 1s, sys: 14.7 s, total: 2min 15s\n",
      "Wall time: 22.9 s\n"
     ]
    }
   ],
   "source": [
    "%%time\n",
    "entity_dict = find_host(verbose=True)"
   ]
  },
  {
   "cell_type": "code",
   "execution_count": 14,
   "metadata": {},
   "outputs": [
    {
     "data": {
      "text/plain": [
       "['Tina Fey', 'Amy Poehler', 'RT @goldenglobes']"
      ]
     },
     "execution_count": 14,
     "metadata": {},
     "output_type": "execute_result"
    }
   ],
   "source": [
    "# list the first 3 keys are not enough\n",
    "list(entity_dict.keys())[:3]"
   ]
  },
  {
   "cell_type": "code",
   "execution_count": 15,
   "metadata": {},
   "outputs": [
    {
     "data": {
      "text/plain": [
       "[('GoldenGlobes', 808),\n",
       " ('Will Ferrell', 703),\n",
       " ('Kristen Wiig', 671),\n",
       " ('Amy Poehler', 618),\n",
       " ('Amy', 537),\n",
       " ('Tina', 425),\n",
       " ('next year', 378),\n",
       " ('Tina Fey', 301),\n",
       " ('Oscars', 278),\n",
       " ('RT @PerezHilton', 237),\n",
       " ('RT @nbcsnl', 166),\n",
       " ('Golden Globes', 124),\n",
       " ('RT @eonline', 114),\n",
       " ('2014', 98),\n",
       " ('Quentin Tarantino', 97),\n",
       " ('Fey', 89),\n",
       " ('Ever', 89),\n",
       " ('Best   Hosts', 88),\n",
       " ('RT @EW', 71),\n",
       " ('RT', 69),\n",
       " ('GoldenGlobes 2014', 63),\n",
       " ('Scratch', 63),\n",
       " ('Would', 62),\n",
       " ('the Golden Globes', 61),\n",
       " ('# GoldenGlobes', 55),\n",
       " ('Opening Monologue', 54),\n",
       " ('Paul Rudd', 53),\n",
       " ('tonight', 49),\n",
       " ('Golden Globes Hosts Tina', 48),\n",
       " ('Amy Poelher', 48),\n",
       " ('two', 47),\n",
       " ('Thoroughly', 46),\n",
       " ('SNL', 46),\n",
       " ('RT @HechosTHG', 44),\n",
       " ('Hollywood', 44),\n",
       " ('Can Tina', 42),\n",
       " (\"next year 's\", 41),\n",
       " ('RT @piersmorgan', 38),\n",
       " ('RT @fuggirls', 38),\n",
       " ('RT @laurahertzfeld', 38),\n",
       " ('this Golden Globes   Tina', 37),\n",
       " ('# GoldenGlobes #', 32),\n",
       " ('Iran', 31),\n",
       " ('Please', 31),\n",
       " ('Academy', 28),\n",
       " ('RT @jianghomeshi', 27),\n",
       " ('# killerintro', 27),\n",
       " ('Jennifer Lawrence', 26),\n",
       " ('Canada', 25),\n",
       " ('Canadians', 25),\n",
       " ('RT @TVMoJoe', 25),\n",
       " ('RT @ThatEricAlper   Nobody', 23),\n",
       " ('RT @HuffPostCeleb   RT', 23),\n",
       " ('Amy Poehler on Hosting Golden Globes', 23),\n",
       " ('every year', 23),\n",
       " ('Poehler', 22),\n",
       " ('2013', 22),\n",
       " ('GANADORA', 21),\n",
       " ('Host', 20),\n",
       " ('Amy Pohler', 20),\n",
       " ('RT @HuffPostWomen', 19),\n",
       " ('RT @JimOHeir', 19),\n",
       " ('RT @xoamelia', 19),\n",
       " ('first', 19),\n",
       " ('this year', 18),\n",
       " ('TinaFey', 18),\n",
       " ('Mejor Actriz', 17),\n",
       " ('Love', 17),\n",
       " ('de Comedia', 16),\n",
       " ('Jenn aceptando', 15),\n",
       " ('Quentin Tarantin', 15),\n",
       " ('Jenn', 15),\n",
       " ('@nbcsnl', 15),\n",
       " ('Run the World', 15),\n",
       " (\"Amy Poehler 's\", 15),\n",
       " ('RT @vulture', 14),\n",
       " ('@PerezHilton', 14),\n",
       " ('Wiig', 14),\n",
       " ('next years', 14),\n",
       " ('AmyPoehler', 14),\n",
       " ('Cohen', 13),\n",
       " ('Harvey', 13),\n",
       " ('Ferrell', 13),\n",
       " ('RT @NancyLeeGrahn   Tina Fey', 13),\n",
       " ('RT @kumailn', 13),\n",
       " ('year', 13),\n",
       " ('Ricky Gervais', 13),\n",
       " ('Always', 12),\n",
       " ('@GoldenGlobes', 12),\n",
       " ('one', 12),\n",
       " ('Gracias', 11),\n",
       " ('Kristin Wiig', 11),\n",
       " ('Adele', 11),\n",
       " ('@rickygervais', 11),\n",
       " ('Bottoms', 11),\n",
       " ('RT @TIME', 11),\n",
       " ('70th', 11),\n",
       " ('Robert Downey Jr', 10),\n",
       " ('RT @NYDNgossip', 10),\n",
       " ('RT @DavidSpade', 10)]"
      ]
     },
     "execution_count": 15,
     "metadata": {},
     "output_type": "execute_result"
    }
   ],
   "source": [
    "top_100 = sorted(entity_dict.items(), key=lambda pair: pair[1])[-100:][::-1]\n",
    "top_100"
   ]
  },
  {
   "cell_type": "code",
   "execution_count": 16,
   "metadata": {},
   "outputs": [
    {
     "name": "stdout",
     "output_type": "stream",
     "text": [
      "67\n",
      "43\n",
      "85\n"
     ]
    }
   ],
   "source": [
    "# pip3 install python-Levenshtein for 4-10x speedup\n",
    "from fuzzywuzzy import fuzz\n",
    "\n",
    "# test\n",
    "print(fuzz.ratio('Tina Fey', 'Tina'))\n",
    "print(fuzz.ratio('Amy Poehler', 'Amy'))\n",
    "print(fuzz.ratio('Golden Globes', 'golden globes'))"
   ]
  },
  {
   "cell_type": "code",
   "execution_count": 17,
   "metadata": {},
   "outputs": [
    {
     "name": "stdout",
     "output_type": "stream",
     "text": [
      "['GoldenGlobes',\n",
      " 'Golden Globes',\n",
      " 'GoldenGlobes 2014',\n",
      " 'the Golden Globes',\n",
      " '# GoldenGlobes',\n",
      " 'Golden Globes Hosts Tina',\n",
      " 'this Golden Globes   Tina',\n",
      " '# GoldenGlobes #',\n",
      " 'Amy Poehler on Hosting Golden Globes',\n",
      " '@GoldenGlobes']\n"
     ]
    }
   ],
   "source": [
    "# remove golden globes from names\n",
    "import pprint\n",
    "names = [pair[0] for pair in top_100]\n",
    "golden_globes = [name for name in names if fuzz.ratio(name.lower(), 'golden globes') > 50]\n",
    "pprint.pprint(golden_globes)"
   ]
  },
  {
   "cell_type": "code",
   "execution_count": 18,
   "metadata": {},
   "outputs": [
    {
     "data": {
      "text/plain": [
       "[('Will Ferrell', 703),\n",
       " ('Kristen Wiig', 671),\n",
       " ('Amy Poehler', 618),\n",
       " ('Amy', 537),\n",
       " ('Tina', 425),\n",
       " ('next year', 378),\n",
       " ('Tina Fey', 301),\n",
       " ('Oscars', 278),\n",
       " ('RT @PerezHilton', 237),\n",
       " ('RT @nbcsnl', 166),\n",
       " ('RT @eonline', 114),\n",
       " ('2014', 98),\n",
       " ('Quentin Tarantino', 97),\n",
       " ('Fey', 89),\n",
       " ('Ever', 89),\n",
       " ('Best   Hosts', 88),\n",
       " ('RT @EW', 71),\n",
       " ('RT', 69),\n",
       " ('Scratch', 63),\n",
       " ('Would', 62)]"
      ]
     },
     "execution_count": 18,
     "metadata": {},
     "output_type": "execute_result"
    }
   ],
   "source": [
    "for name in golden_globes:\n",
    "    del entity_dict[name]\n",
    "top_20 = sorted(entity_dict.items(), key=lambda pair: pair[1])[-20:][::-1]\n",
    "top_20"
   ]
  },
  {
   "cell_type": "code",
   "execution_count": 19,
   "metadata": {
    "scrolled": false
   },
   "outputs": [
    {
     "data": {
      "text/plain": [
       "[['Fey', 'Tina', 'Tina Fey'],\n",
       " ['Fey', 'Tina Fey'],\n",
       " ['Tina', 'Tina Fey'],\n",
       " ['RT', 'RT @EW', 'RT @eonline'],\n",
       " ['RT', 'RT @PerezHilton', 'RT @eonline'],\n",
       " ['Amy', 'Amy Poehler'],\n",
       " ['RT', 'RT @EW', 'RT @PerezHilton', 'RT @eonline', 'RT @nbcsnl'],\n",
       " ['RT', 'RT @eonline', 'RT @nbcsnl']]"
      ]
     },
     "execution_count": 19,
     "metadata": {},
     "output_type": "execute_result"
    }
   ],
   "source": [
    "names = [pair[0] for pair in top_20]\n",
    "names_clusters = []\n",
    "\n",
    "for name in names:\n",
    "#     print('name to reduce:', name)\n",
    "    cluster = [name]\n",
    "    names_to_reduce = names[:]\n",
    "    names_to_reduce.remove(name)\n",
    "    \n",
    "    for i in names_to_reduce:\n",
    "        ratio = fuzz.ratio(name.lower(), i.lower())\n",
    "        if ratio > 50 or re.findall(name.lower(), i.lower()) or re.findall(i.lower(), name.lower()):\n",
    "            cluster.append(i)\n",
    "            \n",
    "    if len(cluster) > 1:\n",
    "        names_clusters.append(cluster)\n",
    "#     print(cluster)\n",
    "#     print('\\n')\n",
    "names_clusters = ['|'.join(sorted(cluster)) for cluster in names_clusters]\n",
    "names_clusters_reduced = [line.split('|') for line in list(set(names_clusters))]\n",
    "names_clusters_reduced"
   ]
  },
  {
   "cell_type": "code",
   "execution_count": 20,
   "metadata": {
    "scrolled": false
   },
   "outputs": [],
   "source": [
    "e = entity_dict.copy()\n",
    "for cluster in names_clusters_reduced:\n",
    "    # select the longest name\n",
    "    selected_name = max(cluster, key=len)\n",
    "    cluster.remove(selected_name)\n",
    "    for name in cluster:\n",
    "        # if not deleted in previous cases\n",
    "        if name in e and selected_name in e:\n",
    "            e[selected_name] += e[name]\n",
    "            del e[name]"
   ]
  },
  {
   "cell_type": "code",
   "execution_count": 21,
   "metadata": {},
   "outputs": [
    {
     "data": {
      "text/plain": [
       "[('Amy Poehler', 1155),\n",
       " ('Tina Fey', 815),\n",
       " ('Will Ferrell', 703),\n",
       " ('Kristen Wiig', 671),\n",
       " ('RT @PerezHilton', 657),\n",
       " ('next year', 378),\n",
       " ('Oscars', 278),\n",
       " ('2014', 98),\n",
       " ('Quentin Tarantino', 97),\n",
       " ('Ever', 89)]"
      ]
     },
     "execution_count": 21,
     "metadata": {},
     "output_type": "execute_result"
    }
   ],
   "source": [
    "top_10 = sorted(e.items(), key=lambda pair: pair[1])[-10:][::-1]\n",
    "top_10"
   ]
  },
  {
   "cell_type": "code",
   "execution_count": 22,
   "metadata": {},
   "outputs": [
    {
     "name": "stdout",
     "output_type": "stream",
     "text": [
      "Tina\n"
     ]
    }
   ],
   "source": [
    "def remove_abbreviation(text):\n",
    "    if text.endswith('s'):\n",
    "        return text[:-2].strip()\n",
    "    return text\n",
    "\n",
    "# test\n",
    "print(remove_abbreviation(\"Tina 's\"))"
   ]
  },
  {
   "cell_type": "code",
   "execution_count": 23,
   "metadata": {},
   "outputs": [
    {
     "data": {
      "text/plain": [
       "['Amy Poehler', 'Tina Fey', 'Will Ferrell']"
      ]
     },
     "execution_count": 23,
     "metadata": {},
     "output_type": "execute_result"
    }
   ],
   "source": [
    "# top 3 inferences for host\n",
    "[name[0] for name in top_10][:3]"
   ]
  },
  {
   "cell_type": "code",
   "execution_count": null,
   "metadata": {},
   "outputs": [],
   "source": []
  }
 ],
 "metadata": {
  "kernelspec": {
   "display_name": "Python 3",
   "language": "python",
   "name": "python3"
  },
  "language_info": {
   "codemirror_mode": {
    "name": "ipython",
    "version": 3
   },
   "file_extension": ".py",
   "mimetype": "text/x-python",
   "name": "python",
   "nbconvert_exporter": "python",
   "pygments_lexer": "ipython3",
   "version": "3.7.2"
  }
 },
 "nbformat": 4,
 "nbformat_minor": 2
}
