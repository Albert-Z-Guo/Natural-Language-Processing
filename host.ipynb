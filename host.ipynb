{
 "cells": [
  {
   "cell_type": "code",
   "execution_count": 1,
   "metadata": {},
   "outputs": [],
   "source": [
    "import pandas as pd"
   ]
  },
  {
   "cell_type": "code",
   "execution_count": 2,
   "metadata": {},
   "outputs": [
    {
     "data": {
      "text/html": [
       "<div>\n",
       "<style scoped>\n",
       "    .dataframe tbody tr th:only-of-type {\n",
       "        vertical-align: middle;\n",
       "    }\n",
       "\n",
       "    .dataframe tbody tr th {\n",
       "        vertical-align: top;\n",
       "    }\n",
       "\n",
       "    .dataframe thead th {\n",
       "        text-align: right;\n",
       "    }\n",
       "</style>\n",
       "<table border=\"1\" class=\"dataframe\">\n",
       "  <thead>\n",
       "    <tr style=\"text-align: right;\">\n",
       "      <th></th>\n",
       "      <th>id</th>\n",
       "      <th>text</th>\n",
       "      <th>timestamp_ms</th>\n",
       "      <th>user</th>\n",
       "    </tr>\n",
       "  </thead>\n",
       "  <tbody>\n",
       "    <tr>\n",
       "      <th>0</th>\n",
       "      <td>290620657987887104</td>\n",
       "      <td>JLo's dress! #eredcarpet #GoldenGlobes</td>\n",
       "      <td>2013-01-14 00:45:38</td>\n",
       "      <td>{'screen_name': 'Dozaaa_xo', 'id': 557374298}</td>\n",
       "    </tr>\n",
       "    <tr>\n",
       "      <th>1</th>\n",
       "      <td>290620657887219713</td>\n",
       "      <td>What's making Sofia Vergara's boobs stay like ...</td>\n",
       "      <td>2013-01-14 00:45:38</td>\n",
       "      <td>{'screen_name': 'theAmberShow', 'id': 14648726}</td>\n",
       "    </tr>\n",
       "    <tr>\n",
       "      <th>2</th>\n",
       "      <td>290620657828524032</td>\n",
       "      <td>RT @FabSugar: Kerry Washington is EVERYTHING. ...</td>\n",
       "      <td>2013-01-14 00:45:38</td>\n",
       "      <td>{'screen_name': 'SweetyPW', 'id': 35498686}</td>\n",
       "    </tr>\n",
       "  </tbody>\n",
       "</table>\n",
       "</div>"
      ],
      "text/plain": [
       "                   id                                               text  \\\n",
       "0  290620657987887104             JLo's dress! #eredcarpet #GoldenGlobes   \n",
       "1  290620657887219713  What's making Sofia Vergara's boobs stay like ...   \n",
       "2  290620657828524032  RT @FabSugar: Kerry Washington is EVERYTHING. ...   \n",
       "\n",
       "         timestamp_ms                                             user  \n",
       "0 2013-01-14 00:45:38    {'screen_name': 'Dozaaa_xo', 'id': 557374298}  \n",
       "1 2013-01-14 00:45:38  {'screen_name': 'theAmberShow', 'id': 14648726}  \n",
       "2 2013-01-14 00:45:38      {'screen_name': 'SweetyPW', 'id': 35498686}  "
      ]
     },
     "execution_count": 2,
     "metadata": {},
     "output_type": "execute_result"
    }
   ],
   "source": [
    "df = pd.read_json(path_or_buf='gg2013.json')\n",
    "df.head(3)"
   ]
  },
  {
   "cell_type": "code",
   "execution_count": 3,
   "metadata": {},
   "outputs": [
    {
     "data": {
      "text/plain": [
       "174643"
      ]
     },
     "execution_count": 3,
     "metadata": {},
     "output_type": "execute_result"
    }
   ],
   "source": [
    "len(df)"
   ]
  },
  {
   "cell_type": "code",
   "execution_count": 4,
   "metadata": {},
   "outputs": [
    {
     "data": {
      "text/plain": [
       "0               JLo's dress! #eredcarpet #GoldenGlobes\n",
       "1    What's making Sofia Vergara's boobs stay like ...\n",
       "2    RT @FabSugar: Kerry Washington is EVERYTHING. ...\n",
       "3       Anne Hathaway has got me living. #GoldenGlobes\n",
       "4    Jennifer Lopez's lace dress? Thoughts? #Golden...\n",
       "Name: text, dtype: object"
      ]
     },
     "execution_count": 4,
     "metadata": {},
     "output_type": "execute_result"
    }
   ],
   "source": [
    "data = df['text']\n",
    "data[:5]"
   ]
  },
  {
   "cell_type": "code",
   "execution_count": null,
   "metadata": {},
   "outputs": [
    {
     "name": "stdout",
     "output_type": "stream",
     "text": [
      "RT @AudrinaPatridge: @SofiaVergara is my favorite!!! #GoldenGlobes\n",
      "OMG  RT @/moviefone: Adele, prepare to be the recipient of a very angry song from Taylor Swift #GoldenGlobes\"\n"
     ]
    }
   ],
   "source": [
    "# examples with complex structure\n",
    "print(data[19])\n",
    "print(data[53365])"
   ]
  },
  {
   "cell_type": "code",
   "execution_count": null,
   "metadata": {},
   "outputs": [],
   "source": [
    "import re"
   ]
  },
  {
   "cell_type": "code",
   "execution_count": null,
   "metadata": {},
   "outputs": [
    {
     "name": "stdout",
     "output_type": "stream",
     "text": [
      "RT @AudrinaPatridge: @SofiaVergara is my favorite!!! #GoldenGlobes\n",
      " @SofiaVergara is my favorite!!! #GoldenGlobes \n",
      "\n",
      "OMG  RT @/moviefone: Adele, prepare to be the recipient of a very angry song from Taylor Swift #GoldenGlobes\"\n",
      "OMG   Adele, prepare to be the recipient of a very angry song from Taylor Swift #GoldenGlobes\"\n"
     ]
    }
   ],
   "source": [
    "retweets_freq_map = {}\n",
    "\n",
    "def remove_retweet_prefix(line):\n",
    "    # find 'RT @abc: ' where abc's length is arbitrary\n",
    "    pattern = re.compile(r'\\bRT @.*\\b: ') \n",
    "   \n",
    "    match = re.search(pattern, line)\n",
    "    if match:\n",
    "        # store corresponding retweet without 'RT ' prefix\n",
    "        string = match.group()[3:]\n",
    "        if string in retweets_freq_map:\n",
    "            retweets_freq_map[string] += 1\n",
    "        else:\n",
    "            retweets_freq_map[string] = 1\n",
    "        \n",
    "    return re.sub(pattern, ' ', line)\n",
    "\n",
    "# test\n",
    "print(data[19])\n",
    "print(remove_retweet_prefix(data[19]), '\\n')\n",
    "print(data[53365])\n",
    "print(remove_retweet_prefix(data[53365]))"
   ]
  },
  {
   "cell_type": "code",
   "execution_count": null,
   "metadata": {},
   "outputs": [
    {
     "name": "stdout",
     "output_type": "stream",
     "text": [
      "RT @AudrinaPatridge: @SofiaVergara is my favorite!!! #GoldenGlobes\n",
      " @SofiaVergara is my favorite!!! #GoldenGlobes\n",
      " @SofiaVergara is my favorite    #GoldenGlobes \n",
      "\n",
      "OMG  RT @/moviefone: Adele, prepare to be the recipient of a very angry song from Taylor Swift #GoldenGlobes\"\n",
      "OMG   Adele, prepare to be the recipient of a very angry song from Taylor Swift #GoldenGlobes\"\n",
      "OMG   Adele  prepare to be the recipient of a very angry song from Taylor Swift #GoldenGlobes \n"
     ]
    }
   ],
   "source": [
    "def cleanse(line):\n",
    "    # replace everything to ' ' except whitespace, alphanumeric character, apostrophe, hashtag, @\n",
    "    return re.sub(r'[^\\w\\s\\'#@]', ' ', line)\n",
    "\n",
    "# test\n",
    "print(data[19])\n",
    "print(remove_retweet_prefix(data[19]))\n",
    "print(cleanse(remove_retweet_prefix(data[19])), '\\n')\n",
    "print(data[53365])\n",
    "print(remove_retweet_prefix(data[53365]))\n",
    "print(cleanse(remove_retweet_prefix(data[53365])))"
   ]
  },
  {
   "cell_type": "code",
   "execution_count": null,
   "metadata": {
    "scrolled": false
   },
   "outputs": [
    {
     "name": "stdout",
     "output_type": "stream",
     "text": [
      "#GoldenGlobes red carpet thus far!http://t.co/NqcYL14r” #britsrule\n",
      "#GoldenGlobes\n",
      "#goldeglobes @goldenglobes @mcgregor_ewan :-) http://t.co/3WVXFjx1\n",
      "#television#goodtime\n",
      "#2013\n",
      "#GOLDEN GLOBES\n",
      "#GoldenGlobes but I hate Lucy Luis's dress!!! The emcees seem to love it!!! Who knows\n",
      "#GoldenGlobes #GG2013\n",
      "#GoldenGlobes\n"
     ]
    }
   ],
   "source": [
    "# test for #GoldenGlobes detection\n",
    "count = 0\n",
    "pattern = re.compile(r'\\b#(.*)\\b')\n",
    "for tweet in data:\n",
    "    match = re.search(pattern, tweet)\n",
    "    if match:\n",
    "        count += 1\n",
    "        \n",
    "        # check the first 10 cases\n",
    "        if count < 10:\n",
    "            print(match.group())"
   ]
  },
  {
   "cell_type": "code",
   "execution_count": null,
   "metadata": {},
   "outputs": [
    {
     "name": "stdout",
     "output_type": "stream",
     "text": [
      "@SooyTuPadree TVES RT @Gheralber Televen RT@_YourVictim: Venevision. RT @VictorPulidoM ¿En que Canal dan los #GoldenGlobes\n",
      "@FabSugar: Kerry Washington is EVERYTHING. Dying over her Miu Miu gown! #goldenglobes http://t.co/cYP5SYN7\n",
      "@tomandlorenzo\n",
      "@goldenglobes\n",
      "@galleryId@/@galleryTitle@/@id@ via @eonline. I covet this outfit. I want\n",
      "@JimmyChooLtd en los #goldenglobes 2013\n",
      "@LeoDiCaprio at the #GoldenGlobes the old lady I work for says \"Isn't he beautiful\" #sheknowswhatsup\n",
      "@NickFlora: Did Tina Fey come straight from a L'oreal commercial shoot? #GoldenGlobes\n",
      "@DowntonAbbey  is already sweeping the #GoldenGlobes! I adore #MaggieSmith\n"
     ]
    }
   ],
   "source": [
    "# test for hashtag detection\n",
    "count = 0\n",
    "pattern = re.compile(r'\\b@(.*)\\b')\n",
    "for tweet in data:\n",
    "    match = re.search(pattern, tweet)\n",
    "    if match:\n",
    "        count += 1\n",
    "        \n",
    "        # check the first 10 cases\n",
    "        if count < 10:\n",
    "            print(match.group())"
   ]
  },
  {
   "cell_type": "code",
   "execution_count": null,
   "metadata": {},
   "outputs": [],
   "source": [
    "# potential extension:\n",
    "# analysis solely dedicated to hashtags"
   ]
  },
  {
   "cell_type": "code",
   "execution_count": null,
   "metadata": {},
   "outputs": [],
   "source": [
    "import spacy\n",
    "# python3 -m spacy download en\n",
    "nlp = spacy.load('en')"
   ]
  },
  {
   "cell_type": "code",
   "execution_count": null,
   "metadata": {},
   "outputs": [],
   "source": [
    "def identify_entities(text):\n",
    "    ents = list(nlp(text).ents)\n",
    "    person_tags = {}\n",
    "    tags = {}\n",
    "    for ent in ents:    \n",
    "        entity = ' '.join(t.orth_ for t in ent).strip()\n",
    "        if entity not in tags:\n",
    "            tags[entity]=[ent.label_]\n",
    "            if ent.label_ == 'PERSON':\n",
    "                person_tags[entity]=[ent.label_]\n",
    "    return tags, person_tags"
   ]
  },
  {
   "cell_type": "code",
   "execution_count": null,
   "metadata": {},
   "outputs": [
    {
     "name": "stdout",
     "output_type": "stream",
     "text": [
      "tags: ({'Amy Poehler': ['PERSON'], 'Tina Fey ’s': ['PERSON'], 'the evening': ['TIME'], 'GoldenGlobes': ['MONEY']}, {'Amy Poehler': ['PERSON'], 'Tina Fey ’s': ['PERSON']})\n",
      "({'Amy Poehler': ['PERSON'], 'Tina Fey ’s': ['PERSON'], 'the evening': ['TIME'], 'GoldenGlobes': ['MONEY']}, {'Amy Poehler': ['PERSON'], 'Tina Fey ’s': ['PERSON']})\n"
     ]
    }
   ],
   "source": [
    "# test\n",
    "text = \"“We’re going to keep things loose,” said Amy Poehler of her and co-host Tina Fey’s plan for the evening. #GoldenGlobes http://t.co/o40g5LGq“\"\n",
    "print('tags:', identify_entities(text))\n",
    "print(identify_entities(text))"
   ]
  },
  {
   "cell_type": "code",
   "execution_count": null,
   "metadata": {},
   "outputs": [
    {
     "name": "stdout",
     "output_type": "stream",
     "text": [
      "Tina\n",
      "@goldenglobes\n",
      "RT @accesshollywood\n"
     ]
    }
   ],
   "source": [
    "def clean_entity(text):\n",
    "    # remove_apostrophe\n",
    "    if text.endswith(\"'s\"):\n",
    "        return text[:-2].strip()\n",
    "    '''\n",
    "    # remove tweet's hashtag prefix\n",
    "    elif text.startswith('@'):\n",
    "        return text[1:]\n",
    "    # remove retweet's hashtag prefix\n",
    "    elif text.startswith('RT @'):\n",
    "        return text[4:]\n",
    "    '''\n",
    "    return text\n",
    "\n",
    "# test\n",
    "print(clean_entity(\"Tina 's\"))\n",
    "print(clean_entity(\"@goldenglobes\"))\n",
    "print(clean_entity('RT @accesshollywood'))"
   ]
  },
  {
   "cell_type": "code",
   "execution_count": null,
   "metadata": {
    "scrolled": false
   },
   "outputs": [],
   "source": [
    "def find_host(verbose=False):\n",
    "    pattern = re.compile(r'host')\n",
    "    entity_dict = {}\n",
    "    \n",
    "    num = 0\n",
    "    for tweet in data:\n",
    "        line = cleanse(remove_retweet_prefix(tweet))\n",
    "        match = re.search(pattern, line.lower())\n",
    "        if match:\n",
    "            tags, person_tags = identify_entities(line)\n",
    "\n",
    "            if verbose:\n",
    "                # print the first 5 occurrences\n",
    "                if num < 5:\n",
    "                    print(line.strip())\n",
    "                    print(tags)\n",
    "                    print()\n",
    "\n",
    "            for entity in tags.keys():\n",
    "                entity = clean_entity(entity)\n",
    "                if len(entity) > 1:\n",
    "                    if entity not in entity_dict:\n",
    "                        entity_dict[entity] = 1 # tried adding more weights to 'PERSON' tags but results are not good\n",
    "                    else:\n",
    "                        entity_dict[entity] += 1\n",
    "            num += 1\n",
    "            \n",
    "    print('num of matches:', num)\n",
    "    return entity_dict"
   ]
  },
  {
   "cell_type": "code",
   "execution_count": null,
   "metadata": {
    "scrolled": false
   },
   "outputs": [
    {
     "name": "stdout",
     "output_type": "stream",
     "text": [
      "Looking forward to watching Tina Fey and Amy Poehler host the #GoldenGlobes\n",
      "{'Tina Fey': ['EVENT'], 'Amy Poehler': ['PERSON']}\n",
      "\n",
      "It's our hosts Tina Fey and Amy Poehler  #goldenglobes #redcarpet http   t co 8lqC3ocQ\n",
      "{'Tina Fey': ['PERSON'], 'Amy Poehler': ['PERSON'], '#': ['ORG']}\n",
      "\n",
      "Tonight's dual hosting duties represent the culmination of a decade of Amy and Tina partnerships  http   t co scSThrn5 #GoldenGlobes\n",
      "{'Tonight': ['TIME'], 'a decade': ['DATE'], 'Amy': ['PERSON'], 'Tina': ['GPE'], '': ['ORG']}\n",
      "\n",
      "My green suede tuxedo pinching a bit here at the Velvet Rope Awards honoring best in crowd control  Topo Gigio   I hosting #GoldenGlobes\n",
      "{'': ['NORP'], 'Topo Gigio': ['PERSON'], 'GoldenGlobes': ['MONEY']}\n",
      "\n",
      "Tina Fey  amp  Amy Poehler Talk #GoldenGlobes Hosting  Drinking Game  http   t co 1mIvq362\n",
      "{'Tina Fey': ['ORG'], 'Amy Poehler Talk': ['ORG'], 'GoldenGlobes Hosting': ['ORG'], 'Drinking Game': ['PERSON'], '': ['ORG']}\n",
      "\n"
     ]
    }
   ],
   "source": [
    "%%time\n",
    "entity_dict = find_host(verbose=True)"
   ]
  },
  {
   "cell_type": "code",
   "execution_count": null,
   "metadata": {
    "scrolled": false
   },
   "outputs": [],
   "source": [
    "# top retweets (each as an entity)\n",
    "sorted(retweets_freq_map.items(), key=lambda pair: pair[1], reverse=True)[:50]"
   ]
  },
  {
   "cell_type": "code",
   "execution_count": null,
   "metadata": {},
   "outputs": [],
   "source": [
    "top_100 = sorted(entity_dict.items(), key=lambda pair: pair[1], reverse=True)[:100]\n",
    "top_100"
   ]
  },
  {
   "cell_type": "code",
   "execution_count": null,
   "metadata": {},
   "outputs": [],
   "source": [
    "# pip3 install python-Levenshtein for 4-10x speedup\n",
    "from fuzzywuzzy import fuzz\n",
    "\n",
    "# test\n",
    "print(fuzz.ratio('Tina Fey', 'Tina'))\n",
    "print(fuzz.ratio('Amy Poehler', 'Amy'))\n",
    "print(fuzz.ratio('Golden Globes', 'golden globes'))"
   ]
  },
  {
   "cell_type": "code",
   "execution_count": null,
   "metadata": {},
   "outputs": [],
   "source": [
    "# remove golden globes from names\n",
    "import pprint\n",
    "names = [pair[0] for pair in top_100]\n",
    "\n",
    "golden_globes = [name for name in names if fuzz.ratio(name.lower(), 'golden globes') > 50]\n",
    "pprint.pprint(golden_globes)"
   ]
  },
  {
   "cell_type": "code",
   "execution_count": null,
   "metadata": {},
   "outputs": [],
   "source": [
    "for name in golden_globes:\n",
    "    del entity_dict[name]\n",
    "top_20 = sorted(entity_dict.items(), key=lambda pair: pair[1], reverse=True)[:20]\n",
    "top_20"
   ]
  },
  {
   "cell_type": "code",
   "execution_count": null,
   "metadata": {
    "scrolled": false
   },
   "outputs": [],
   "source": [
    "names = [pair[0] for pair in top_20]\n",
    "names_clusters = []\n",
    "\n",
    "for name in names:\n",
    "    # each name starts as a cluster\n",
    "    cluster = [name]\n",
    "    names_to_reduce = names[:]\n",
    "    names_to_reduce.remove(name)\n",
    "    \n",
    "    # one vs. all comparisons\n",
    "    for i in names_to_reduce:\n",
    "        ratio = fuzz.ratio(name.lower(), i.lower())\n",
    "        # if similarity is larger than 50 or one name is contained in the other name\n",
    "        if ratio > 50 or re.search(name, i, flags=re.IGNORECASE) or re.search(i, name, flags=re.IGNORECASE):\n",
    "            cluster.append(i)\n",
    "    \n",
    "    # if multiple names are identified in one cluster\n",
    "    if len(cluster) > 1:\n",
    "        names_clusters.append(cluster)\n",
    "    \n",
    "    print(cluster)\n",
    "\n",
    "# find names clusters that should merge\n",
    "# ['Amy Poehler', 'Amy', 'Amy Poelher']\n",
    "# ['Tina', 'Tina Fey']\n",
    "names_clusters = ['|'.join(sorted(cluster)) for cluster in names_clusters]\n",
    "names_clusters_reduced = [line.split('|') for line in list(set(names_clusters))]\n",
    "names_clusters_reduced"
   ]
  },
  {
   "cell_type": "code",
   "execution_count": null,
   "metadata": {
    "scrolled": false
   },
   "outputs": [],
   "source": [
    "def evaluate_by_freq_and_weight(element):\n",
    "    return entity_dict[element] * len(element)\n",
    "\n",
    "e = entity_dict.copy()\n",
    "for cluster in names_clusters_reduced:\n",
    "    # select the longest name\n",
    "    selected_name = max(cluster, key=evaluate_by_freq_and_weight)\n",
    "    cluster.remove(selected_name)\n",
    "    for name in cluster:\n",
    "        # if not deleted in previous cases\n",
    "        if name in e and selected_name in e:\n",
    "            e[selected_name] += e[name]\n",
    "            del e[name]"
   ]
  },
  {
   "cell_type": "code",
   "execution_count": null,
   "metadata": {},
   "outputs": [],
   "source": [
    "top_10 = sorted(e.items(), key=lambda pair: pair[1])[-10:][::-1]\n",
    "top_10"
   ]
  },
  {
   "cell_type": "code",
   "execution_count": null,
   "metadata": {},
   "outputs": [],
   "source": [
    "# top 2 inferences for host\n",
    "[name[0] for name in top_10][:2]"
   ]
  },
  {
   "cell_type": "code",
   "execution_count": null,
   "metadata": {},
   "outputs": [],
   "source": []
  }
 ],
 "metadata": {
  "kernelspec": {
   "display_name": "Python 3",
   "language": "python",
   "name": "python3"
  },
  "language_info": {
   "codemirror_mode": {
    "name": "ipython",
    "version": 3
   },
   "file_extension": ".py",
   "mimetype": "text/x-python",
   "name": "python",
   "nbconvert_exporter": "python",
   "pygments_lexer": "ipython3",
   "version": "3.7.2"
  }
 },
 "nbformat": 4,
 "nbformat_minor": 2
}
