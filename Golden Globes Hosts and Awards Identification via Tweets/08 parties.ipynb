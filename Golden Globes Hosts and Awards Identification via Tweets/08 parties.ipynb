{
 "cells": [
  {
   "cell_type": "code",
   "execution_count": 1,
   "metadata": {},
   "outputs": [],
   "source": [
    "#!/usr/bin/env python3\n",
    "# -*- coding: utf-8 -*-"
   ]
  },
  {
   "cell_type": "code",
   "execution_count": 10,
   "metadata": {},
   "outputs": [],
   "source": [
    "import pandas as pd\n",
    "import re\n",
    "from urllib.request import urlopen\n",
    "from bs4 import BeautifulSoup\n",
    "import json\n",
    "from nltk.tokenize import RegexpTokenizer"
   ]
  },
  {
   "cell_type": "code",
   "execution_count": 3,
   "metadata": {
    "scrolled": true
   },
   "outputs": [
    {
     "ename": "NameError",
     "evalue": "name 'pd' is not defined",
     "output_type": "error",
     "traceback": [
      "\u001b[1;31m---------------------------------------------------------------------------\u001b[0m",
      "\u001b[1;31mNameError\u001b[0m                                 Traceback (most recent call last)",
      "\u001b[1;32m<ipython-input-3-94d2984ac4e9>\u001b[0m in \u001b[0;36m<module>\u001b[1;34m\u001b[0m\n\u001b[1;32m----> 1\u001b[1;33m \u001b[0mdf\u001b[0m \u001b[1;33m=\u001b[0m \u001b[0mpd\u001b[0m\u001b[1;33m.\u001b[0m\u001b[0mread_json\u001b[0m\u001b[1;33m(\u001b[0m\u001b[0mpath_or_buf\u001b[0m\u001b[1;33m=\u001b[0m\u001b[1;34m'gg2015.json'\u001b[0m\u001b[1;33m)\u001b[0m\u001b[1;33m\u001b[0m\u001b[0m\n\u001b[0m\u001b[0;32m      2\u001b[0m \u001b[0mdf\u001b[0m\u001b[1;33m.\u001b[0m\u001b[0mhead\u001b[0m\u001b[1;33m(\u001b[0m\u001b[1;36m10\u001b[0m\u001b[1;33m)\u001b[0m\u001b[1;33m\u001b[0m\u001b[0m\n",
      "\u001b[1;31mNameError\u001b[0m: name 'pd' is not defined"
     ]
    }
   ],
   "source": [
    "df = pd.read_json(path_or_buf='gg2015.json')\n",
    "df.head(10)"
   ]
  },
  {
   "cell_type": "code",
   "execution_count": 4,
   "metadata": {},
   "outputs": [
    {
     "data": {
      "text/plain": [
       "'Hugh Jackman is so awesome    #goldenglobes'"
      ]
     },
     "execution_count": 4,
     "metadata": {},
     "output_type": "execute_result"
    }
   ],
   "source": [
    "def cleanse(line):\n",
    "    # replace everything to ' ' except whitespace, alphanumeric character, apostrophe, hashtag, @\n",
    "    return re.sub(r'[^\\w\\s\\'#@]', ' ', line)\n",
    "\n",
    "# test\n",
    "cleanse(\"Hugh Jackman is so awesome!!! #goldenglobes\")"
   ]
  },
  {
   "cell_type": "code",
   "execution_count": 23,
   "metadata": {},
   "outputs": [
    {
     "name": "stdout",
     "output_type": "stream",
     "text": [
      "JLo's dress! #eredcarpet #GoldenGlobes\n",
      "JLo's dress  #eredcarpet #GoldenGlobes\n",
      "[\"JLo's\", 'dress!', '#eredcarpet', '#GoldenGlobes']\n",
      "\n",
      "What's making Sofia Vergara's boobs stay like that? Magic? Witchcraft? #GoldenGlobes\n",
      "What's making Sofia Vergara's boobs stay like that  Magic  Witchcraft  #GoldenGlobes\n",
      "[\"What's\", 'making', 'Sofia', \"Vergara's\", 'boobs', 'stay', 'like', 'that?', 'Magic?', 'Witchcraft?', '#GoldenGlobes']\n",
      "\n",
      "RT @FabSugar: Kerry Washington is EVERYTHING. Dying over her Miu Miu gown! @goldenglobes #goldenglobes http://t.co/3feH7MvO\n",
      "RT @FabSugar  Kerry Washington is EVERYTHING  Dying over her Miu Miu gown  @goldenglobes #goldenglobes http   t co 3feH7MvO\n",
      "['RT', '@FabSugar:', 'Kerry', 'Washington', 'is', 'EVERYTHING.', 'Dying', 'over', 'her', 'Miu', 'Miu', 'gown!', '@goldenglobes', '#goldenglobes', 'http://t.co/3feH7MvO']\n",
      "\n",
      "Anne Hathaway has got me living. #GoldenGlobes\n",
      "Anne Hathaway has got me living  #GoldenGlobes\n",
      "['Anne', 'Hathaway', 'has', 'got', 'me', 'living.', '#GoldenGlobes']\n",
      "\n",
      "Jennifer Lopez's lace dress? Thoughts? #GoldenGlobes\n",
      "Jennifer Lopez's lace dress  Thoughts  #GoldenGlobes\n",
      "['Jennifer', \"Lopez's\", 'lace', 'dress?', 'Thoughts?', '#GoldenGlobes']\n",
      "\n",
      "Podrán criticar a #Adele de su moda y su maniquere pero jamás podrán poner en tela de juicio su TALENTO! @eonline #GoldenGlobes #RedCarpet\n",
      "Podrán criticar a #Adele de su moda y su maniquere pero jamás podrán poner en tela de juicio su TALENTO  @eonline #GoldenGlobes #RedCarpet\n",
      "['Podrán', 'criticar', 'a', '#Adele', 'de', 'su', 'moda', 'y', 'su', 'maniquere', 'pero', 'jamás', 'podrán', 'poner', 'en', 'tela', 'de', 'juicio', 'su', 'TALENTO!', '@eonline', '#GoldenGlobes', '#RedCarpet']\n",
      "\n",
      "US, Weakly #GoldenGlobes\n",
      "US  Weakly #GoldenGlobes\n",
      "['US,', 'Weakly', '#GoldenGlobes']\n",
      "\n",
      "RT @BillMc7: \"Wait. What's that smell?!\" (everyone being interviewed by Al Roker) #GoldenGlobes\n",
      "RT @BillMc7   Wait  What's that smell     everyone being interviewed by Al Roker  #GoldenGlobes\n",
      "['RT', '@BillMc7:', '\"Wait.', \"What's\", 'that', 'smell?!\"', '(everyone', 'being', 'interviewed', 'by', 'Al', 'Roker)', '#GoldenGlobes']\n",
      "\n",
      "Hugh Jackman is so awesome!!! #goldenglobes\n",
      "Hugh Jackman is so awesome    #goldenglobes\n",
      "['Hugh', 'Jackman', 'is', 'so', 'awesome!!!', '#goldenglobes']\n",
      "\n",
      "It was awkward. RT @hollywoodhwife: They cut to and then from JLo during the Ben Affleck interview.  #goldenglobes\n",
      "It was awkward  RT @hollywoodhwife  They cut to and then from JLo during the Ben Affleck interview   #goldenglobes\n",
      "['It', 'was', 'awkward.', 'RT', '@hollywoodhwife:', 'They', 'cut', 'to', 'and', 'then', 'from', 'JLo', 'during', 'the', 'Ben', 'Affleck', 'interview.', '#goldenglobes']\n",
      "\n"
     ]
    }
   ],
   "source": [
    "data = df['text']\n",
    "for line in data[:10]:\n",
    "    print(line)\n",
    "    print(cleanse(line))\n",
    "    print(line.split())\n",
    "    print()"
   ]
  },
  {
   "cell_type": "code",
   "execution_count": 56,
   "metadata": {},
   "outputs": [],
   "source": [
    "def find_parties(data, verbose=False):\n",
    "    pattern = re.compile(r'p')\n",
    "    print(pattern)\n",
    "    about_parties = []\n",
    "    for line in data:\n",
    "        match = re.findall(pattern, cleanse(line).lower())\n",
    "        if match:\n",
    "            if verbose:\n",
    "                if num < 5:\n",
    "                    print(match)\n",
    "                    print(line)\n",
    "            about_parties.append(line)\n",
    "    return about_parties\n",
    "        "
   ]
  },
  {
   "cell_type": "code",
   "execution_count": 60,
   "metadata": {},
   "outputs": [
    {
     "name": "stdout",
     "output_type": "stream",
     "text": [
      "re.compile('p')\n"
     ]
    },
    {
     "ename": "IndexError",
     "evalue": "list index out of range",
     "output_type": "error",
     "traceback": [
      "\u001b[1;31m---------------------------------------------------------------------------\u001b[0m",
      "\u001b[1;31mIndexError\u001b[0m                                Traceback (most recent call last)",
      "\u001b[1;32m<ipython-input-60-a2f41a45ae42>\u001b[0m in \u001b[0;36m<module>\u001b[1;34m\u001b[0m\n\u001b[0;32m      1\u001b[0m \u001b[0mtest\u001b[0m \u001b[1;33m=\u001b[0m \u001b[0mfind_parties\u001b[0m\u001b[1;33m(\u001b[0m\u001b[0mdata\u001b[0m\u001b[1;33m[\u001b[0m\u001b[1;33m:\u001b[0m\u001b[1;36m10\u001b[0m\u001b[1;33m]\u001b[0m\u001b[1;33m)\u001b[0m\u001b[1;33m\u001b[0m\u001b[0m\n\u001b[1;32m----> 2\u001b[1;33m \u001b[0mprint\u001b[0m\u001b[1;33m(\u001b[0m\u001b[0mtest\u001b[0m\u001b[1;33m[\u001b[0m\u001b[1;36m5\u001b[0m\u001b[1;33m]\u001b[0m\u001b[1;33m)\u001b[0m\u001b[1;33m\u001b[0m\u001b[0m\n\u001b[0m",
      "\u001b[1;31mIndexError\u001b[0m: list index out of range"
     ]
    }
   ],
   "source": [
    "test = find_parties(data[:10])\n",
    "print(test[])"
   ]
  }
 ],
 "metadata": {
  "kernelspec": {
   "display_name": "Python 3",
   "language": "python",
   "name": "python3"
  },
  "language_info": {
   "codemirror_mode": {
    "name": "ipython",
    "version": 3
   },
   "file_extension": ".py",
   "mimetype": "text/x-python",
   "name": "python",
   "nbconvert_exporter": "python",
   "pygments_lexer": "ipython3",
   "version": "3.6.3"
  }
 },
 "nbformat": 4,
 "nbformat_minor": 2
}
