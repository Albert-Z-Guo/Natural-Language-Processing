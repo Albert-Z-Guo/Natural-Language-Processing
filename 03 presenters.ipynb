{
 "cells": [
  {
   "cell_type": "code",
   "execution_count": 26,
   "metadata": {},
   "outputs": [],
   "source": [
    "import pandas as pd"
   ]
  },
  {
   "cell_type": "code",
   "execution_count": 27,
   "metadata": {},
   "outputs": [
    {
     "data": {
      "text/html": [
       "<div>\n",
       "<style scoped>\n",
       "    .dataframe tbody tr th:only-of-type {\n",
       "        vertical-align: middle;\n",
       "    }\n",
       "\n",
       "    .dataframe tbody tr th {\n",
       "        vertical-align: top;\n",
       "    }\n",
       "\n",
       "    .dataframe thead th {\n",
       "        text-align: right;\n",
       "    }\n",
       "</style>\n",
       "<table border=\"1\" class=\"dataframe\">\n",
       "  <thead>\n",
       "    <tr style=\"text-align: right;\">\n",
       "      <th></th>\n",
       "      <th>id</th>\n",
       "      <th>text</th>\n",
       "      <th>timestamp_ms</th>\n",
       "      <th>user</th>\n",
       "    </tr>\n",
       "  </thead>\n",
       "  <tbody>\n",
       "    <tr>\n",
       "      <th>0</th>\n",
       "      <td>290620657987887104</td>\n",
       "      <td>JLo's dress! #eredcarpet #GoldenGlobes</td>\n",
       "      <td>2013-01-14 00:45:38</td>\n",
       "      <td>{'screen_name': 'Dozaaa_xo', 'id': 557374298}</td>\n",
       "    </tr>\n",
       "    <tr>\n",
       "      <th>1</th>\n",
       "      <td>290620657887219713</td>\n",
       "      <td>What's making Sofia Vergara's boobs stay like ...</td>\n",
       "      <td>2013-01-14 00:45:38</td>\n",
       "      <td>{'screen_name': 'theAmberShow', 'id': 14648726}</td>\n",
       "    </tr>\n",
       "    <tr>\n",
       "      <th>2</th>\n",
       "      <td>290620657828524032</td>\n",
       "      <td>RT @FabSugar: Kerry Washington is EVERYTHING. ...</td>\n",
       "      <td>2013-01-14 00:45:38</td>\n",
       "      <td>{'screen_name': 'SweetyPW', 'id': 35498686}</td>\n",
       "    </tr>\n",
       "  </tbody>\n",
       "</table>\n",
       "</div>"
      ],
      "text/plain": [
       "                   id                                               text  \\\n",
       "0  290620657987887104             JLo's dress! #eredcarpet #GoldenGlobes   \n",
       "1  290620657887219713  What's making Sofia Vergara's boobs stay like ...   \n",
       "2  290620657828524032  RT @FabSugar: Kerry Washington is EVERYTHING. ...   \n",
       "\n",
       "         timestamp_ms                                             user  \n",
       "0 2013-01-14 00:45:38    {'screen_name': 'Dozaaa_xo', 'id': 557374298}  \n",
       "1 2013-01-14 00:45:38  {'screen_name': 'theAmberShow', 'id': 14648726}  \n",
       "2 2013-01-14 00:45:38      {'screen_name': 'SweetyPW', 'id': 35498686}  "
      ]
     },
     "execution_count": 27,
     "metadata": {},
     "output_type": "execute_result"
    }
   ],
   "source": [
    "df = pd.read_json(path_or_buf='gg2013.json')\n",
    "# df = pd.read_json(path_or_buf='gg2015.json')\n",
    "df.head(3)"
   ]
  },
  {
   "cell_type": "code",
   "execution_count": 28,
   "metadata": {},
   "outputs": [
    {
     "data": {
      "text/plain": [
       "0               JLo's dress! #eredcarpet #GoldenGlobes\n",
       "1    What's making Sofia Vergara's boobs stay like ...\n",
       "2    RT @FabSugar: Kerry Washington is EVERYTHING. ...\n",
       "3       Anne Hathaway has got me living. #GoldenGlobes\n",
       "4    Jennifer Lopez's lace dress? Thoughts? #Golden...\n",
       "Name: text, dtype: object"
      ]
     },
     "execution_count": 28,
     "metadata": {},
     "output_type": "execute_result"
    }
   ],
   "source": [
    "data = df['text']\n",
    "data[:5]"
   ]
  },
  {
   "cell_type": "code",
   "execution_count": 29,
   "metadata": {},
   "outputs": [
    {
     "data": {
      "text/plain": [
       "174643"
      ]
     },
     "execution_count": 29,
     "metadata": {},
     "output_type": "execute_result"
    }
   ],
   "source": [
    "len(data)"
   ]
  },
  {
   "cell_type": "code",
   "execution_count": 30,
   "metadata": {},
   "outputs": [
    {
     "data": {
      "text/plain": [
       "174643"
      ]
     },
     "execution_count": 30,
     "metadata": {},
     "output_type": "execute_result"
    }
   ],
   "source": [
    "# sample data if necessary\n",
    "sample_size = 200000\n",
    "if len(df) > sample_size:\n",
    "    data = data.sample(n=sample_size)\n",
    "len(data)"
   ]
  },
  {
   "cell_type": "code",
   "execution_count": 31,
   "metadata": {},
   "outputs": [],
   "source": [
    "# hard-coded awards\n",
    "awards = ['Best Motion Picture - Drama',\n",
    "         'Best Motion Picture - Musical or Comedy',\n",
    "         'Best Performance by an Actress in a Motion Picture - Drama',\n",
    "         'Best Performance by an Actor in a Motion Picture - Drama',\n",
    "         'Best Performance by an Actress in a Motion Picture - Musical or Comedy',\n",
    "         'Best Performance by an Actor in a Motion Picture - Musical or Comedy',\n",
    "         'Best Performance by an Actress in a Supporting Role in any Motion Picture',\n",
    "         'Best Performance by an Actor in a Supporting Role in any Motion Picture',\n",
    "         'Best Director - Motion Picture',\n",
    "         'Best Screenplay - Motion Picture',\n",
    "         'Best Motion Picture - Animated',\n",
    "         'Best Motion Picture - Foreign Language',\n",
    "         'Best Original Score - Motion Picture',\n",
    "         'Best Original Song - Motion Picture',\n",
    "         'Best Television Series - Drama',\n",
    "         'Best Television Series - Musical or Comedy',\n",
    "         'Best Television Limited Series or Motion Picture Made for Television',\n",
    "         'Best Performance by an Actress in a Limited Series or a Motion Picture Made for Television',\n",
    "         'Best Performance by an Actor in a Limited Series or a Motion Picture Made for Television',\n",
    "         'Best Performance by an Actress In A Television Series - Drama',\n",
    "         'Best Performance by an Actor In A Television Series - Drama',\n",
    "         'Best Performance by an Actress in a Television Series - Musical or Comedy',\n",
    "         'Best Performance by an Actor in a Television Series - Musical or Comedy',\n",
    "         'Best Performance by an Actress in a Supporting Role in a Series, Limited Series or Motion Picture Made for Television',\n",
    "         'Best Performance by an Actor in a Supporting Role in a Series, Limited Series or Motion Picture Made for Television',\n",
    "         'Cecil B. deMille Award']"
   ]
  },
  {
   "cell_type": "code",
   "execution_count": 32,
   "metadata": {},
   "outputs": [],
   "source": [
    "import re"
   ]
  },
  {
   "cell_type": "code",
   "execution_count": 51,
   "metadata": {},
   "outputs": [
    {
     "name": "stdout",
     "output_type": "stream",
     "text": [
      "['best', 'motion', 'drama']\n",
      "['best', 'motion', 'musical', 'or', 'comedy']\n",
      "['best', 'actress', 'motion', 'drama']\n",
      "['best', 'actor', 'motion', 'drama']\n",
      "['best', 'actress', 'motion', 'musical', 'or', 'comedy']\n",
      "['best', 'actor', 'motion', 'musical', 'or', 'comedy']\n",
      "['best', 'actress', 'supporting', 'role', 'motion']\n",
      "['best', 'actor', 'supporting', 'role', 'motion']\n",
      "['best', 'director', 'motion']\n",
      "['best', 'screenplay', 'motion']\n",
      "['best', 'motion', 'animated']\n",
      "['best', 'motion', 'foreign', 'language']\n",
      "['best', 'original', 'score', 'motion']\n",
      "['best', 'original', 'song', 'motion']\n",
      "['best', 'television', 'series', 'drama']\n",
      "['best', 'television', 'series', 'musical', 'or', 'comedy']\n",
      "['best', 'television', 'limited', 'series', 'or', 'motion']\n",
      "['best', 'actress', 'limited', 'series', 'or', 'motion', 'television']\n",
      "['best', 'actor', 'limited', 'series', 'or', 'motion', 'television']\n",
      "['best', 'actress', 'television', 'series', 'drama']\n",
      "['best', 'actor', 'television', 'series', 'drama']\n",
      "['best', 'actress', 'television', 'series', 'musical', 'or', 'comedy']\n",
      "['best', 'actor', 'television', 'series', 'musical', 'or', 'comedy']\n",
      "['best', 'actress', 'supporting', 'role', 'series', 'limited', 'or', 'motion', 'television']\n",
      "['best', 'actor', 'supporting', 'role', 'series', 'limited', 'or', 'motion', 'television']\n",
      "['cecil', 'b', 'demille', 'award']\n"
     ]
    }
   ],
   "source": [
    "def reduce(line):\n",
    "    # remove words \"performance\", \"picture\", \"in\", \"a\", \"an\", \"any\", \"made\", \"for\", \"by\", and all punctuations\n",
    "    pattern = r'\\bperformance\\b|\\bpicture\\b|\\bin\\b|\\ba\\b|\\ban\\b|\\bany\\b|\\bmade\\b|\\bfor\\b|\\bby\\b|[^\\w\\s]'\n",
    "    return re.sub(pattern, ' ', line.lower()).split()\n",
    "\n",
    "awards_reduced = [sorted(set(reduce(award)), key=lambda word: reduce(award).index(word)) for award in awards]\n",
    "\n",
    "# test\n",
    "for award in awards:\n",
    "    ls = reduce(award)\n",
    "    print(sorted(set(ls), key=lambda word: ls.index(word)))"
   ]
  },
  {
   "cell_type": "code",
   "execution_count": 52,
   "metadata": {},
   "outputs": [],
   "source": [
    "def generate_award_num_keywords_map(awards):\n",
    "    awards_reduced = []\n",
    "    award_num_keywords_map = {}\n",
    "    \n",
    "    for i, award in enumerate([sorted(set(reduce(award)), key=lambda word: reduce(award).index(word)) for award in awards]):\n",
    "        if 'or' in award:\n",
    "            num_words = len(award) - 1 - award.index('or') # number of words from \"or\" to the end of award name\n",
    "            # test\n",
    "            # print(len(award)-1, award.index('or'), num_words)\n",
    "            award.remove('or')\n",
    "            award_num_keywords_map[i] = len(award) - 1 - num_words # do not count \"best\" and words from \"or\" to the end of award name\n",
    "        else:\n",
    "            award_num_keywords_map[i] = len(award) - 1 # do not count \"best\"\n",
    "        \n",
    "#         if 'best' in award:\n",
    "#             award.remove('best')\n",
    "\n",
    "        awards_reduced.append(award)\n",
    "    return award_num_keywords_map, awards_reduced"
   ]
  },
  {
   "cell_type": "code",
   "execution_count": 53,
   "metadata": {},
   "outputs": [
    {
     "data": {
      "text/plain": [
       "[(0, 2),\n",
       " (1, 2),\n",
       " (2, 3),\n",
       " (3, 3),\n",
       " (4, 3),\n",
       " (5, 3),\n",
       " (6, 4),\n",
       " (7, 4),\n",
       " (8, 2),\n",
       " (9, 2),\n",
       " (10, 2),\n",
       " (11, 3),\n",
       " (12, 3),\n",
       " (13, 3),\n",
       " (14, 3),\n",
       " (15, 3),\n",
       " (16, 3),\n",
       " (17, 3),\n",
       " (18, 3),\n",
       " (19, 4),\n",
       " (20, 4),\n",
       " (21, 4),\n",
       " (22, 4),\n",
       " (23, 5),\n",
       " (24, 5),\n",
       " (25, 3)]"
      ]
     },
     "execution_count": 53,
     "metadata": {},
     "output_type": "execute_result"
    }
   ],
   "source": [
    "award_num_keywords_map, awards_reduced = generate_award_num_keywords_map(awards)\n",
    "\n",
    "sorted(award_num_keywords_map.items(), key=lambda pair: pair[0])"
   ]
  },
  {
   "cell_type": "code",
   "execution_count": 54,
   "metadata": {},
   "outputs": [],
   "source": [
    "retweets_freq_dict = {}\n",
    "\n",
    "def remove_retweet_prefix(line):\n",
    "    # find 'RT @abc: ' where abc's length is arbitrary\n",
    "    pattern = re.compile(r'\\bRT @([\\w\\'/]*)\\b: ') \n",
    "   \n",
    "    match = re.search(pattern, line)\n",
    "    if match:\n",
    "        # store corresponding retweet without 'RT @' prefix\n",
    "        string = match.group()[4:]\n",
    "        if string in retweets_freq_dict:\n",
    "            retweets_freq_dict[string] += 1\n",
    "        else:\n",
    "            retweets_freq_dict[string] = 1\n",
    "        \n",
    "    return re.sub(pattern, ' ', line)"
   ]
  },
  {
   "cell_type": "code",
   "execution_count": 55,
   "metadata": {},
   "outputs": [],
   "source": [
    "hashtag_freq_dict = {}\n",
    "\n",
    "def remove_hashtag(line):\n",
    "    pattern = re.compile(r'#([\\w\\'/]*)\\b')\n",
    "    matches = re.findall(pattern, line)\n",
    "    if matches:\n",
    "        # store corresponding hashtag\n",
    "        for match in matches:\n",
    "            if match in hashtag_freq_dict:\n",
    "                hashtag_freq_dict[match] += 1\n",
    "            else:\n",
    "                hashtag_freq_dict[match] = 1\n",
    "        \n",
    "    line = re.sub(pattern, ' ', line)\n",
    "    return line"
   ]
  },
  {
   "cell_type": "code",
   "execution_count": 56,
   "metadata": {},
   "outputs": [],
   "source": [
    "at_freq_dict = {}\n",
    "\n",
    "def remove_at(line):\n",
    "    pattern = re.compile(r'@([\\w\\'/]*)\\b')\n",
    "    matches = re.findall(pattern, line)\n",
    "    if matches:\n",
    "        # store corresponding hashtag\n",
    "        for match in matches:\n",
    "            if match in at_freq_dict:\n",
    "                at_freq_dict[match] += 1\n",
    "            else:\n",
    "                at_freq_dict[match] = 1\n",
    "        \n",
    "    line = re.sub(pattern, ' ', line)\n",
    "    return line"
   ]
  },
  {
   "cell_type": "code",
   "execution_count": 57,
   "metadata": {},
   "outputs": [],
   "source": [
    "def remove_url(line):\n",
    "    pattern = re.compile(r'http[s]?://(?:[a-zA-Z]|[0-9]|[$-_@.&+]|[!*\\(\\),]|(?:%[0-9a-fA-F][0-9a-fA-F]))+\\b')\n",
    "    matches = re.findall(pattern, line)\n",
    "    for match in matches:\n",
    "        line = re.sub(match, ' ', line)\n",
    "    return line"
   ]
  },
  {
   "cell_type": "code",
   "execution_count": 58,
   "metadata": {},
   "outputs": [
    {
     "data": {
      "text/plain": [
       "'Hugh Jackman is so awesome    #goldenglobes'"
      ]
     },
     "execution_count": 58,
     "metadata": {},
     "output_type": "execute_result"
    }
   ],
   "source": [
    "def cleanse(line):\n",
    "    # replace everything to ' ' except alphanumeric character, whitespace, apostrophe, hashtag\n",
    "    return re.sub(r'[^\\w\\s\\'#]', ' ', line)\n",
    "\n",
    "# test\n",
    "cleanse(\"Hugh Jackman is so awesome!!! #goldenglobes\")"
   ]
  },
  {
   "cell_type": "code",
   "execution_count": 59,
   "metadata": {},
   "outputs": [],
   "source": [
    "import spacy\n",
    "# python3 -m spacy download en\n",
    "nlp = spacy.load('en')"
   ]
  },
  {
   "cell_type": "code",
   "execution_count": 60,
   "metadata": {},
   "outputs": [],
   "source": [
    "def identify_entities(text):\n",
    "    entities = list(nlp(text).ents)\n",
    "    tags = {}\n",
    "    for entity in entities:\n",
    "        if entity not in tags:\n",
    "            tags[' '.join(t.orth_ for t in entity).strip()]=[entity.label_]\n",
    "    return tags"
   ]
  },
  {
   "cell_type": "code",
   "execution_count": 69,
   "metadata": {
    "scrolled": true
   },
   "outputs": [
    {
     "data": {
      "text/plain": [
       "[('goldenglobes: ', 135540),\n",
       " ('eonline: ', 113549),\n",
       " ('PerezHilton: ', 90513),\n",
       " ('TheEllenShow: ', 66729),\n",
       " ('EmWatson: ', 45667),\n",
       " ('VanityFair: ', 32168),\n",
       " ('nbcsnl: ', 29035),\n",
       " ('CNNshowbiz: ', 27278),\n",
       " ('CiudadBizarra: ', 20028),\n",
       " ('BuzzFeed: ', 19173),\n",
       " ('EW: ', 18948),\n",
       " ('nbc: ', 18310),\n",
       " ('vulture: ', 17555),\n",
       " ('piersmorgan: ', 17336),\n",
       " ('MARLONLWAYANS: ', 15039),\n",
       " ('HuffingtonPost: ', 14371),\n",
       " ('buckhollywood: ', 13901),\n",
       " ('MarilynMonroeES: ', 13203),\n",
       " ('TVGuide: ', 12554),\n",
       " ('DavidSpade: ', 12407),\n",
       " ('THR: ', 12322),\n",
       " ('MTVNews: ', 12015),\n",
       " ('PimpBillClinton: ', 11139),\n",
       " ('cinema21: ', 10856),\n",
       " ('washingtonpost: ', 10790),\n",
       " ('ninagarcia: ', 10153),\n",
       " ('Cosmopolitan: ', 9400),\n",
       " ('peopleenespanol: ', 8599),\n",
       " ('RichardCrouse: ', 8530),\n",
       " ('prodigalsam: ', 8426),\n",
       " ('peoplemag: ', 8336),\n",
       " ('kumailn: ', 8327),\n",
       " ('DannyZuker: ', 8264),\n",
       " ('DamienFahey: ', 7884),\n",
       " ('jianghomeshi: ', 7869),\n",
       " ('HuffPostWomen: ', 7830),\n",
       " ('girlsHBO: ', 7684),\n",
       " ('MHarrisPerry: ', 7601),\n",
       " ('rogergzz: ', 7536),\n",
       " ('DougBenson: ', 7532),\n",
       " ('InStyle: ', 7447),\n",
       " ('EonlineLatino: ', 7331),\n",
       " ('TVWithoutPity: ', 7300),\n",
       " ('glamourmag: ', 7102),\n",
       " ('unfoRETTAble: ', 6781),\n",
       " ('CinePREMIERE: ', 6752),\n",
       " ('msleamichele: ', 6538),\n",
       " ('HuffPostEnt: ', 6507),\n",
       " ('SofiaVergara: ', 6376),\n",
       " ('heidiklum: ', 6275)]"
      ]
     },
     "execution_count": 69,
     "metadata": {},
     "output_type": "execute_result"
    }
   ],
   "source": [
    "# top retweets (each as an entity)\n",
    "sorted(retweets_freq_dict.items(), key=lambda pair: pair[1], reverse=True)[:50]"
   ]
  },
  {
   "cell_type": "code",
   "execution_count": 70,
   "metadata": {
    "scrolled": true
   },
   "outputs": [
    {
     "data": {
      "text/plain": [
       "[('GoldenGlobes', 4337876),\n",
       " ('goldenglobes', 1305145),\n",
       " ('Argo', 32266),\n",
       " ('GetGlue', 30489),\n",
       " ('Homeland', 27745),\n",
       " ('redcarpet', 26868),\n",
       " ('GoldenGlobe', 22321),\n",
       " ('Goldenglobes', 22020),\n",
       " ('JodieFoster', 18830),\n",
       " ('killingit', 17759),\n",
       " ('Girls', 17507),\n",
       " ('GOLDENGLOBES', 16562),\n",
       " ('AlfombraRojaE', 15224),\n",
       " ('Skyfall', 14360),\n",
       " ('GlobosdeOro', 13852),\n",
       " ('RedCarpet', 13851),\n",
       " ('Lincoln', 13525),\n",
       " ('LesMis', 13393),\n",
       " ('GIRLS', 12822),\n",
       " ('Adele', 11519),\n",
       " ('LesMiserables', 10894),\n",
       " ('JenniferLawrence', 10119),\n",
       " ('GG2013', 10033),\n",
       " ('homeland', 10021),\n",
       " ('GoldenGlobes2013', 9842),\n",
       " ('ERedCarpet', 8910),\n",
       " ('TinaFey', 8816),\n",
       " ('eredcarpet', 8246),\n",
       " ('AmyPoehler', 8148),\n",
       " ('jodiefoster', 7922),\n",
       " ('DowntonAbbey', 7662),\n",
       " ('AnneHathaway', 7593),\n",
       " ('DjangoUnchained', 7311),\n",
       " ('girls', 7310),\n",
       " ('Oscars', 6837),\n",
       " ('Django', 6279),\n",
       " ('LoveThoseLadies', 6194),\n",
       " ('BenAffleck', 5925),\n",
       " ('GameChange', 5838),\n",
       " ('LOVEHER', 5833),\n",
       " ('Globes', 5814),\n",
       " ('BillClinton', 5672),\n",
       " ('goldenGlobes', 5617),\n",
       " ('fb', 5616),\n",
       " ('skyfall', 5475),\n",
       " ('fashion', 5438),\n",
       " ('Oscar', 5364),\n",
       " ('adele', 5178),\n",
       " ('watchyourbackAdele', 5054),\n",
       " ('argo', 4907)]"
      ]
     },
     "execution_count": 70,
     "metadata": {},
     "output_type": "execute_result"
    }
   ],
   "source": [
    "# top hashtags\n",
    "sorted(hashtag_freq_dict.items(), key=lambda pair: pair[1], reverse=True)[:50]"
   ]
  },
  {
   "cell_type": "code",
   "execution_count": 71,
   "metadata": {},
   "outputs": [
    {
     "data": {
      "text/plain": [
       "[('goldenglobes', 124271),\n",
       " ('OfficialAdele', 44704),\n",
       " ('lenadunham', 38250),\n",
       " ('GoldenGlobes', 34171),\n",
       " ('BenAffleck', 20195),\n",
       " ('RealHughJackman', 14696),\n",
       " ('SHO_Homeland', 14217),\n",
       " ('PerezHilton', 14177),\n",
       " ('girlsHBO', 13586),\n",
       " ('SofiaVergara', 12006),\n",
       " ('eonline', 11378),\n",
       " ('taylorswift13', 10619),\n",
       " ('TNTLA', 10069),\n",
       " ('JLo', 9312),\n",
       " ('PaulEpworth', 8880),\n",
       " ('GirlsHBO', 7060),\n",
       " ('msleamichele', 6621),\n",
       " ('SelenaGomez', 6515),\n",
       " ('VanessuHudgens', 6475),\n",
       " ('steph_hart', 6225),\n",
       " ('LenaDunham', 6125),\n",
       " ('RyanGosling', 5230),\n",
       " ('kerrywashington', 4965),\n",
       " ('PixarBrave', 4739),\n",
       " ('Chanel', 4467),\n",
       " ('nbc', 4440),\n",
       " ('LesMiserables', 4378),\n",
       " ('NathanFillion', 4170),\n",
       " ('KevalBaxi', 3686),\n",
       " ('Burberry', 3435),\n",
       " ('Lewis_Damian', 3429),\n",
       " ('jessicaalba', 3326),\n",
       " ('CHANEL', 3309),\n",
       " ('tomandlorenzo', 3116),\n",
       " ('iamdoncheadle', 3023),\n",
       " ('nbcsnl', 3005),\n",
       " ('piersmorgan', 2666),\n",
       " ('CiudadBizarra', 2620),\n",
       " ('CNNshowbiz', 2498),\n",
       " ('BuzzFeed', 2496),\n",
       " ('LeoDiCaprio', 2470),\n",
       " ('EvaLongoria', 2414),\n",
       " ('azizansari', 2386),\n",
       " ('gabrielledoug', 2386),\n",
       " ('Sarah_Hyland', 2381),\n",
       " (\"lenadunham's\", 2302),\n",
       " ('WorldMcQueen', 2162),\n",
       " ('officialadele', 2152),\n",
       " ('EW', 2145),\n",
       " ('lindsaylohan', 2140)]"
      ]
     },
     "execution_count": 71,
     "metadata": {},
     "output_type": "execute_result"
    }
   ],
   "source": [
    "# top @\n",
    "sorted(at_freq_dict.items(), key=lambda pair: pair[1], reverse=True)[:50]"
   ]
  },
  {
   "cell_type": "code",
   "execution_count": 68,
   "metadata": {},
   "outputs": [
    {
     "name": "stdout",
     "output_type": "stream",
     "text": [
      "48\n",
      "['present']\n",
      "Definetely Kate's top designers are present in the #GoldenGlobes tonight of course thanks to the #kateefect\n",
      "Definetely Kate's top designers are present in the   tonight of course thanks to the  \n",
      "dict_keys(['Kate', 'tonight'])\n",
      "\n",
      "465\n",
      "['present']\n",
      "@JakeCortes @Jessica_Salado comentando los #GoldenGlobes #GoldenGlobesNex mejores presentadores no hay @NexPanama\n",
      "    comentando los     mejores presentadores no hay  \n",
      "dict_keys([])\n",
      "\n",
      "1176\n",
      "['present']\n",
      "RT @VictorBejerano: @JakeCortes @Jessica_Salado comentando los #GoldenGlobes #GoldenGlobesNex mejores presentadores no hay @NexPanama\n",
      "     comentando los     mejores presentadores no hay  \n",
      "dict_keys(['', 'los'])\n",
      "\n",
      "1561\n",
      "['presenter']\n",
      "RT @TV3Xpose: What's your verdict on @ENews presenter Giuliana Rancic's Oriett Domenech dress? #goldenglobes http://t.co/lesP5H0F\n",
      " What's your verdict on   presenter Giuliana Rancic's Oriett Domenech dress     \n",
      "dict_keys([\"Giuliana Rancic 's\", 'Oriett Domenech'])\n",
      "\n",
      "1976\n",
      "['presenter']\n",
      "THISSSSSSSSSS RT @as_seenontv It's appalling that Kerry Washington is there only as a presenter and not as a nominee. #GoldenGlobes #Scandal\n",
      "THISSSSSSSSSS RT   It's appalling that Kerry Washington is there only as a presenter and not as a nominee     \n",
      "dict_keys(['THISSSSSSSSSS RT', 'Kerry Washington'])\n",
      "\n",
      "3247\n",
      "['presenter']\n",
      "Jay Leno a presenter #ERedCarpet #GoldenGlobes http://t.co/CG30b1rp\n",
      "Jay Leno a presenter      \n",
      "dict_keys(['Jay Leno', ''])\n",
      "\n",
      "3451\n",
      "['presenter']\n",
      "RT @Versace: Presenter &amp; Oscar Award winner Halle Berry is showstopping in a printed gown from Atelier Versace Fall 2012 at the Golden Globes right now!\n",
      " Presenter  amp  Oscar Award winner Halle Berry is showstopping in a printed gown from Atelier Versace Fall 2012 at the Golden Globes right now \n",
      "dict_keys(['Presenter', 'Oscar Award', 'Halle Berry', 'Atelier Versace', 'Fall 2012', 'the Golden Globes'])\n",
      "\n",
      "3731\n",
      "['present']\n",
      "RT @kerrywashington: Golden Globes! \n",
      "Sitting with #Django @UnchainedMovie family! And presenting in a TV category on behalf of my @ScandalABC family! #blessed\n",
      " Golden Globes  \n",
      "Sitting with     family  And presenting in a TV category on behalf of my   family   \n",
      "dict_keys([''])\n",
      "\n",
      "3787\n",
      "['presenter']\n",
      "RT @Versace: Presenter &amp; Oscar Award winner Halle Berry is showstopping in a printed gown from Atelier Versace Fall 2012 at the Golden Globes right now!\n",
      " Presenter  amp  Oscar Award winner Halle Berry is showstopping in a printed gown from Atelier Versace Fall 2012 at the Golden Globes right now \n",
      "dict_keys(['Presenter', 'Oscar Award', 'Halle Berry', 'Atelier Versace', 'Fall 2012', 'the Golden Globes'])\n",
      "\n",
      "1930\n",
      "CPU times: user 1min 38s, sys: 12.3 s, total: 1min 50s\n",
      "Wall time: 18.6 s\n"
     ]
    }
   ],
   "source": [
    "%%time\n",
    "# test\n",
    "num = 0\n",
    "count = 0\n",
    "pattern = re.compile(r'\\bpresenter|\\bpresent', re.IGNORECASE)\n",
    "for tweet in data:\n",
    "    # remove_retweet_prefix \n",
    "    line = remove_retweet_prefix(tweet)\n",
    "    # remove hashtag\n",
    "    line = remove_hashtag(line)\n",
    "    ###\n",
    "    ### consider not removing @???\n",
    "    ###\n",
    "    # remove @...\n",
    "    line = remove_at(line)\n",
    "    # remove url\n",
    "    line = remove_url(line)\n",
    "    # remove punctuations\n",
    "    line = cleanse(line)\n",
    "    \n",
    "    match = re.findall(pattern, line.lower())                  \n",
    "    if match:\n",
    "        tags = identify_entities(line)\n",
    "        count += 1\n",
    "        # check the first 10 cases\n",
    "        if count < 10:\n",
    "            print(num)\n",
    "            print(match)\n",
    "            print(tweet)\n",
    "            print(line)\n",
    "            print(tags.keys())\n",
    "            print()\n",
    "    num += 1\n",
    "    \n",
    "print(count)"
   ]
  },
  {
   "cell_type": "code",
   "execution_count": 74,
   "metadata": {},
   "outputs": [],
   "source": [
    "def find_award_presenter(award_index, verbose=False):\n",
    "    pattern = re.compile(r'\\bpresenter|\\bpresent|\\bannounce', re.IGNORECASE)\n",
    "    entity_dict = {}\n",
    "    \n",
    "    print('Predicting for:', awards[award_index])\n",
    "    \n",
    "    num = 0\n",
    "    for tweet in data:\n",
    "        # remove_retweet_prefix \n",
    "        line = remove_retweet_prefix(tweet)\n",
    "        # remove hashtag\n",
    "        line = remove_hashtag(line)\n",
    "        # remove @...\n",
    "        line = remove_at(line)\n",
    "        # remove url\n",
    "        line = remove_url(line)\n",
    "        # remove punctuations\n",
    "        line = cleanse(line)\n",
    "        \n",
    "        award = awards_reduced[award_index]\n",
    "        num_keywords_to_match = award_num_keywords_map[award_index]\n",
    "        \n",
    "        # test for 'best actress in a motion picture comedy or musical'\n",
    "#         if len(set(award).intersection(set(line.split()))) > 5:\n",
    "        \n",
    "        if len(set(award).intersection(set(line.split()))) > num_keywords_to_match:\n",
    "            \n",
    "            match = re.findall(pattern, line.lower())\n",
    "            if match:\n",
    "                tags = identify_entities(line)\n",
    "\n",
    "                if verbose:\n",
    "                    # print the first 5 occurrences\n",
    "                    if num < 5:\n",
    "                        print(match)\n",
    "                        print(tweet)\n",
    "                        print(tags)\n",
    "                        print()\n",
    "\n",
    "                for entity in tags.keys():\n",
    "                    if len(entity) > 1:\n",
    "                        if entity not in entity_dict:\n",
    "                            entity_dict[entity] = 1\n",
    "                        else:\n",
    "                            entity_dict[entity] += 1\n",
    "                num += 1\n",
    "            \n",
    "    print('num of matches:', num)\n",
    "    return entity_dict"
   ]
  },
  {
   "cell_type": "markdown",
   "metadata": {},
   "source": [
    "# Predictions for Presenter"
   ]
  },
  {
   "cell_type": "code",
   "execution_count": 75,
   "metadata": {
    "scrolled": false
   },
   "outputs": [
    {
     "name": "stdout",
     "output_type": "stream",
     "text": [
      "Predicting for: Best Motion Picture - Drama\n",
      "num of matches: 9\n",
      "[('Lincoln', 7), ('Julia Roberts', 6), ('Lancome Ambassadress', 2), ('Roberts', 1)]\n",
      "\n",
      "Predicting for: Best Motion Picture - Musical or Comedy\n",
      "num of matches: 2\n",
      "[('Jay Leno', 1), ('Jimmy Fallon', 1)]\n",
      "\n",
      "Predicting for: Best Performance by an Actress in a Motion Picture - Drama\n",
      "num of matches: 0\n",
      "[]\n",
      "\n",
      "Predicting for: Best Performance by an Actor in a Motion Picture - Drama\n",
      "num of matches: 0\n",
      "[]\n",
      "\n",
      "Predicting for: Best Performance by an Actress in a Motion Picture - Musical or Comedy\n",
      "num of matches: 1\n",
      "[]\n",
      "\n",
      "Predicting for: Best Performance by an Actor in a Motion Picture - Musical or Comedy\n",
      "num of matches: 0\n",
      "[]\n",
      "\n",
      "Predicting for: Best Performance by an Actress in a Supporting Role in any Motion Picture\n",
      "num of matches: 0\n",
      "[]\n",
      "\n",
      "Predicting for: Best Performance by an Actor in a Supporting Role in any Motion Picture\n",
      "num of matches: 0\n",
      "[]\n",
      "\n",
      "Predicting for: Best Director - Motion Picture\n",
      "num of matches: 0\n",
      "[]\n",
      "\n",
      "Predicting for: Best Screenplay - Motion Picture\n",
      "num of matches: 0\n",
      "[]\n",
      "\n",
      "Predicting for: Best Motion Picture - Animated\n",
      "num of matches: 0\n",
      "[]\n",
      "\n",
      "Predicting for: Best Motion Picture - Foreign Language\n",
      "num of matches: 0\n",
      "[]\n",
      "\n",
      "Predicting for: Best Original Score - Motion Picture\n",
      "num of matches: 0\n",
      "[]\n",
      "\n",
      "Predicting for: Best Original Song - Motion Picture\n",
      "num of matches: 0\n",
      "[]\n",
      "\n",
      "Predicting for: Best Television Series - Drama\n",
      "num of matches: 0\n",
      "[]\n",
      "\n",
      "Predicting for: Best Television Series - Musical or Comedy\n",
      "num of matches: 1\n",
      "[('Jay Leno', 1), ('Jimmy Fallon', 1)]\n",
      "\n",
      "Predicting for: Best Television Limited Series or Motion Picture Made for Television\n",
      "num of matches: 0\n",
      "[]\n",
      "\n",
      "Predicting for: Best Performance by an Actress in a Limited Series or a Motion Picture Made for Television\n",
      "num of matches: 0\n",
      "[]\n",
      "\n",
      "Predicting for: Best Performance by an Actor in a Limited Series or a Motion Picture Made for Television\n",
      "num of matches: 0\n",
      "[]\n",
      "\n",
      "Predicting for: Best Performance by an Actress In A Television Series - Drama\n",
      "num of matches: 0\n",
      "[]\n",
      "\n",
      "Predicting for: Best Performance by an Actor In A Television Series - Drama\n",
      "num of matches: 0\n",
      "[]\n",
      "\n",
      "Predicting for: Best Performance by an Actress in a Television Series - Musical or Comedy\n",
      "num of matches: 0\n",
      "[]\n",
      "\n",
      "Predicting for: Best Performance by an Actor in a Television Series - Musical or Comedy\n",
      "num of matches: 0\n",
      "[]\n",
      "\n",
      "Predicting for: Best Performance by an Actress in a Supporting Role in a Series, Limited Series or Motion Picture Made for Television\n",
      "num of matches: 0\n",
      "[]\n",
      "\n",
      "Predicting for: Best Performance by an Actor in a Supporting Role in a Series, Limited Series or Motion Picture Made for Television\n",
      "num of matches: 0\n",
      "[]\n",
      "\n",
      "Predicting for: Cecil B. deMille Award\n",
      "num of matches: 0\n",
      "[]\n",
      "\n",
      "CPU times: user 2min 16s, sys: 861 ms, total: 2min 17s\n",
      "Wall time: 2min 12s\n"
     ]
    }
   ],
   "source": [
    "%%time\n",
    "for key in award_num_keywords_map.keys():\n",
    "    print(sorted(find_award_presenter(key, verbose=False).items(), key=lambda pair: pair[1], reverse=True)[:100])\n",
    "    print()"
   ]
  },
  {
   "cell_type": "code",
   "execution_count": 18,
   "metadata": {},
   "outputs": [],
   "source": [
    "def weighted_freq(element):\n",
    "    return entity_dict[element] * len(element)\n",
    "\n",
    "e = entity_dict.copy()\n",
    "for cluster in names_clusters_reduced:\n",
    "    # select the longest name\n",
    "    selected_name = max(cluster, key=weighted_freq)\n",
    "    cluster.remove(selected_name)\n",
    "    for name in cluster:\n",
    "        # if not deleted in previous cases\n",
    "        if name in e and selected_name in e:\n",
    "            e[selected_name] += e[name]\n",
    "            del e[name]"
   ]
  },
  {
   "cell_type": "code",
   "execution_count": null,
   "metadata": {},
   "outputs": [],
   "source": []
  }
 ],
 "metadata": {
  "kernelspec": {
   "display_name": "Python 3",
   "language": "python",
   "name": "python3"
  },
  "language_info": {
   "codemirror_mode": {
    "name": "ipython",
    "version": 3
   },
   "file_extension": ".py",
   "mimetype": "text/x-python",
   "name": "python",
   "nbconvert_exporter": "python",
   "pygments_lexer": "ipython3",
   "version": "3.7.2"
  }
 },
 "nbformat": 4,
 "nbformat_minor": 2
}
