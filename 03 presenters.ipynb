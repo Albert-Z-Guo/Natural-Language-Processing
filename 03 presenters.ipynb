{
 "cells": [
  {
   "cell_type": "code",
   "execution_count": 1,
   "metadata": {},
   "outputs": [],
   "source": [
    "import pandas as pd"
   ]
  },
  {
   "cell_type": "code",
   "execution_count": 2,
   "metadata": {},
   "outputs": [
    {
     "data": {
      "text/html": [
       "<div>\n",
       "<style scoped>\n",
       "    .dataframe tbody tr th:only-of-type {\n",
       "        vertical-align: middle;\n",
       "    }\n",
       "\n",
       "    .dataframe tbody tr th {\n",
       "        vertical-align: top;\n",
       "    }\n",
       "\n",
       "    .dataframe thead th {\n",
       "        text-align: right;\n",
       "    }\n",
       "</style>\n",
       "<table border=\"1\" class=\"dataframe\">\n",
       "  <thead>\n",
       "    <tr style=\"text-align: right;\">\n",
       "      <th></th>\n",
       "      <th>id</th>\n",
       "      <th>text</th>\n",
       "      <th>timestamp_ms</th>\n",
       "      <th>user</th>\n",
       "    </tr>\n",
       "  </thead>\n",
       "  <tbody>\n",
       "    <tr>\n",
       "      <th>0</th>\n",
       "      <td>290620657987887104</td>\n",
       "      <td>JLo's dress! #eredcarpet #GoldenGlobes</td>\n",
       "      <td>2013-01-14 00:45:38</td>\n",
       "      <td>{'screen_name': 'Dozaaa_xo', 'id': 557374298}</td>\n",
       "    </tr>\n",
       "    <tr>\n",
       "      <th>1</th>\n",
       "      <td>290620657887219713</td>\n",
       "      <td>What's making Sofia Vergara's boobs stay like ...</td>\n",
       "      <td>2013-01-14 00:45:38</td>\n",
       "      <td>{'screen_name': 'theAmberShow', 'id': 14648726}</td>\n",
       "    </tr>\n",
       "    <tr>\n",
       "      <th>2</th>\n",
       "      <td>290620657828524032</td>\n",
       "      <td>RT @FabSugar: Kerry Washington is EVERYTHING. ...</td>\n",
       "      <td>2013-01-14 00:45:38</td>\n",
       "      <td>{'screen_name': 'SweetyPW', 'id': 35498686}</td>\n",
       "    </tr>\n",
       "  </tbody>\n",
       "</table>\n",
       "</div>"
      ],
      "text/plain": [
       "                   id                                               text  \\\n",
       "0  290620657987887104             JLo's dress! #eredcarpet #GoldenGlobes   \n",
       "1  290620657887219713  What's making Sofia Vergara's boobs stay like ...   \n",
       "2  290620657828524032  RT @FabSugar: Kerry Washington is EVERYTHING. ...   \n",
       "\n",
       "         timestamp_ms                                             user  \n",
       "0 2013-01-14 00:45:38    {'screen_name': 'Dozaaa_xo', 'id': 557374298}  \n",
       "1 2013-01-14 00:45:38  {'screen_name': 'theAmberShow', 'id': 14648726}  \n",
       "2 2013-01-14 00:45:38      {'screen_name': 'SweetyPW', 'id': 35498686}  "
      ]
     },
     "execution_count": 2,
     "metadata": {},
     "output_type": "execute_result"
    }
   ],
   "source": [
    "df = pd.read_json(path_or_buf='gg2013.json')\n",
    "# df = pd.read_json(path_or_buf='gg2015.json')\n",
    "df.head(3)"
   ]
  },
  {
   "cell_type": "code",
   "execution_count": 3,
   "metadata": {},
   "outputs": [
    {
     "data": {
      "text/plain": [
       "0               JLo's dress! #eredcarpet #GoldenGlobes\n",
       "1    What's making Sofia Vergara's boobs stay like ...\n",
       "2    RT @FabSugar: Kerry Washington is EVERYTHING. ...\n",
       "3       Anne Hathaway has got me living. #GoldenGlobes\n",
       "4    Jennifer Lopez's lace dress? Thoughts? #Golden...\n",
       "Name: text, dtype: object"
      ]
     },
     "execution_count": 3,
     "metadata": {},
     "output_type": "execute_result"
    }
   ],
   "source": [
    "data = df['text']\n",
    "data[:5]"
   ]
  },
  {
   "cell_type": "code",
   "execution_count": 4,
   "metadata": {},
   "outputs": [
    {
     "data": {
      "text/plain": [
       "174643"
      ]
     },
     "execution_count": 4,
     "metadata": {},
     "output_type": "execute_result"
    }
   ],
   "source": [
    "len(data)"
   ]
  },
  {
   "cell_type": "code",
   "execution_count": 5,
   "metadata": {},
   "outputs": [
    {
     "data": {
      "text/plain": [
       "174643"
      ]
     },
     "execution_count": 5,
     "metadata": {},
     "output_type": "execute_result"
    }
   ],
   "source": [
    "# sample data if necessary\n",
    "sample_size = 200000\n",
    "if len(df) > sample_size:\n",
    "    data = data.sample(n=sample_size)\n",
    "len(data)"
   ]
  },
  {
   "cell_type": "code",
   "execution_count": 8,
   "metadata": {},
   "outputs": [],
   "source": [
    "# hard-coded awards\n",
    "awards = ['Best Motion Picture - Drama',\n",
    "         'Best Motion Picture - Musical or Comedy',\n",
    "         'Best Performance by an Actress in a Motion Picture - Drama',\n",
    "         'Best Performance by an Actor in a Motion Picture - Drama',\n",
    "         'Best Performance by an Actress in a Motion Picture - Musical or Comedy',\n",
    "         'Best Performance by an Actor in a Motion Picture - Musical or Comedy',\n",
    "         'Best Performance by an Actress in a Supporting Role in any Motion Picture',\n",
    "         'Best Performance by an Actor in a Supporting Role in any Motion Picture',\n",
    "         'Best Director - Motion Picture',\n",
    "         'Best Screenplay - Motion Picture',\n",
    "         'Best Motion Picture - Animated',\n",
    "         'Best Motion Picture - Foreign Language',\n",
    "         'Best Original Score - Motion Picture',\n",
    "         'Best Original Song - Motion Picture',\n",
    "         'Best Television Series - Drama',\n",
    "         'Best Television Series - Musical or Comedy',\n",
    "         'Best Television Limited Series or Motion Picture Made for Television',\n",
    "         'Best Performance by an Actress in a Limited Series or a Motion Picture Made for Television',\n",
    "         'Best Performance by an Actor in a Limited Series or a Motion Picture Made for Television',\n",
    "         'Best Performance by an Actress In A Television Series - Drama',\n",
    "         'Best Performance by an Actor In A Television Series - Drama',\n",
    "         'Best Performance by an Actress in a Television Series - Musical or Comedy',\n",
    "         'Best Performance by an Actor in a Television Series - Musical or Comedy',\n",
    "         'Best Performance by an Actress in a Supporting Role in a Series, Limited Series or Motion Picture Made for Television',\n",
    "         'Best Performance by an Actor in a Supporting Role in a Series, Limited Series or Motion Picture Made for Television',\n",
    "         'Cecil B. deMille Award']"
   ]
  },
  {
   "cell_type": "code",
   "execution_count": 9,
   "metadata": {},
   "outputs": [],
   "source": [
    "import re"
   ]
  },
  {
   "cell_type": "code",
   "execution_count": 10,
   "metadata": {},
   "outputs": [
    {
     "name": "stdout",
     "output_type": "stream",
     "text": [
      "['best', 'motion', 'picture', 'drama']\n",
      "['best', 'motion', 'picture', 'musical', 'or', 'comedy']\n",
      "['best', 'actress', 'motion', 'picture', 'drama']\n",
      "['best', 'actor', 'motion', 'picture', 'drama']\n",
      "['best', 'actress', 'motion', 'picture', 'musical', 'or', 'comedy']\n",
      "['best', 'actor', 'motion', 'picture', 'musical', 'or', 'comedy']\n",
      "['best', 'actress', 'supporting', 'role', 'any', 'motion', 'picture']\n",
      "['best', 'actor', 'supporting', 'role', 'any', 'motion', 'picture']\n",
      "['best', 'director', 'motion', 'picture']\n",
      "['best', 'screenplay', 'motion', 'picture']\n",
      "['best', 'motion', 'picture', 'animated']\n",
      "['best', 'motion', 'picture', 'foreign', 'language']\n",
      "['best', 'original', 'score', 'motion', 'picture']\n",
      "['best', 'original', 'song', 'motion', 'picture']\n",
      "['best', 'television', 'series', 'drama']\n",
      "['best', 'television', 'series', 'musical', 'or', 'comedy']\n",
      "['best', 'television', 'limited', 'series', 'or', 'motion', 'picture']\n",
      "['best', 'actress', 'limited', 'series', 'or', 'motion', 'picture', 'television']\n",
      "['best', 'actor', 'limited', 'series', 'or', 'motion', 'picture', 'television']\n",
      "['best', 'actress', 'television', 'series', 'drama']\n",
      "['best', 'actor', 'television', 'series', 'drama']\n",
      "['best', 'actress', 'television', 'series', 'musical', 'or', 'comedy']\n",
      "['best', 'actor', 'television', 'series', 'musical', 'or', 'comedy']\n",
      "['best', 'actress', 'supporting', 'role', 'series', 'limited', 'or', 'motion', 'picture', 'television']\n",
      "['best', 'actor', 'supporting', 'role', 'series', 'limited', 'or', 'motion', 'picture', 'television']\n",
      "['cecil', 'b', 'demille', 'award']\n"
     ]
    }
   ],
   "source": [
    "def reduce(line):\n",
    "    # remove words \"performance\", \"in\", \"a\", \"an\", \"made\", \"for\", \"by\", and all punctuations\n",
    "    return re.sub(r'\\bperformance\\b|\\bin\\b|\\ba\\b|\\ban\\b|\\bmade\\b|\\bfor\\b|\\bby\\b|[^\\w\\s]', ' ', line.lower()).split()\n",
    "\n",
    "awards_reduced = [sorted(set(reduce(award)), key=lambda word: reduce(award).index(word)) for award in awards]\n",
    "\n",
    "# test\n",
    "for award in awards:\n",
    "    ls = reduce(award)\n",
    "    print(sorted(set(ls), key=lambda word: ls.index(word)))"
   ]
  },
  {
   "cell_type": "code",
   "execution_count": 11,
   "metadata": {},
   "outputs": [],
   "source": [
    "def generate_award_num_keywords_map(awards):\n",
    "    award_num_keywords_map = {}\n",
    "    \n",
    "    for i, award in enumerate([sorted(set(reduce(award)), key=lambda word: reduce(award).index(word)) for award in awards]):\n",
    "        if 'or' in award:\n",
    "            num_words = len(award) - 1 - award.index('or') # number of words from \"or\" to the end of award name\n",
    "            # test\n",
    "            # print(len(award)-1, award.index('or'), num_words)\n",
    "            award.remove('or')\n",
    "            award_num_keywords_map[i] = len(award) - 1 - num_words # do not count \"best\" and words from \"or\" to the end of award name\n",
    "        else:\n",
    "            award_num_keywords_map[i] = len(award) - 1 # do not count \"best\"\n",
    "    return award_num_keywords_map"
   ]
  },
  {
   "cell_type": "code",
   "execution_count": 12,
   "metadata": {},
   "outputs": [
    {
     "data": {
      "text/plain": [
       "[(0, 3),\n",
       " (1, 3),\n",
       " (2, 4),\n",
       " (3, 4),\n",
       " (4, 4),\n",
       " (5, 4),\n",
       " (6, 6),\n",
       " (7, 6),\n",
       " (8, 3),\n",
       " (9, 3),\n",
       " (10, 3),\n",
       " (11, 4),\n",
       " (12, 4),\n",
       " (13, 4),\n",
       " (14, 3),\n",
       " (15, 3),\n",
       " (16, 3),\n",
       " (17, 3),\n",
       " (18, 3),\n",
       " (19, 4),\n",
       " (20, 4),\n",
       " (21, 4),\n",
       " (22, 4),\n",
       " (23, 5),\n",
       " (24, 5),\n",
       " (25, 3)]"
      ]
     },
     "execution_count": 12,
     "metadata": {},
     "output_type": "execute_result"
    }
   ],
   "source": [
    "award_num_keywords_map = generate_award_num_keywords_map(awards)\n",
    "\n",
    "sorted(award_num_keywords_map.items(), key=lambda pair: pair[0])"
   ]
  },
  {
   "cell_type": "code",
   "execution_count": 13,
   "metadata": {},
   "outputs": [],
   "source": [
    "retweets_freq_dict = {}\n",
    "\n",
    "def remove_retweet_prefix(line):\n",
    "    # find 'RT @abc: ' where abc's length is arbitrary\n",
    "    pattern = re.compile(r'\\bRT @([\\w\\'/]*)\\b: ') \n",
    "   \n",
    "    match = re.search(pattern, line)\n",
    "    if match:\n",
    "        # store corresponding retweet without 'RT @' prefix\n",
    "        string = match.group()[4:]\n",
    "        if string in retweets_freq_dict:\n",
    "            retweets_freq_dict[string] += 1\n",
    "        else:\n",
    "            retweets_freq_dict[string] = 1\n",
    "        \n",
    "    return re.sub(pattern, ' ', line)"
   ]
  },
  {
   "cell_type": "code",
   "execution_count": 14,
   "metadata": {},
   "outputs": [],
   "source": [
    "hashtag_freq_dict = {}\n",
    "\n",
    "def remove_hashtag(line):\n",
    "    pattern = re.compile(r'#([\\w\\'/]*)\\b')\n",
    "    matches = re.findall(pattern, line)\n",
    "    if matches:\n",
    "        # store corresponding hashtag\n",
    "        for match in matches:\n",
    "            if match in hashtag_freq_dict:\n",
    "                hashtag_freq_dict[match] += 1\n",
    "            else:\n",
    "                hashtag_freq_dict[match] = 1\n",
    "        \n",
    "    line = re.sub(pattern, ' ', line)\n",
    "    return line"
   ]
  },
  {
   "cell_type": "code",
   "execution_count": 15,
   "metadata": {},
   "outputs": [],
   "source": [
    "at_freq_dict = {}\n",
    "\n",
    "def remove_at(line):\n",
    "    pattern = re.compile(r'@([\\w\\'/]*)\\b')\n",
    "    matches = re.findall(pattern, line)\n",
    "    if matches:\n",
    "        # store corresponding hashtag\n",
    "        for match in matches:\n",
    "            if match in at_freq_dict:\n",
    "                at_freq_dict[match] += 1\n",
    "            else:\n",
    "                at_freq_dict[match] = 1\n",
    "        \n",
    "    line = re.sub(pattern, ' ', line)\n",
    "    return line"
   ]
  },
  {
   "cell_type": "code",
   "execution_count": 16,
   "metadata": {},
   "outputs": [
    {
     "data": {
      "text/plain": [
       "'Hugh Jackman is so awesome    #goldenglobes'"
      ]
     },
     "execution_count": 16,
     "metadata": {},
     "output_type": "execute_result"
    }
   ],
   "source": [
    "def cleanse(line):\n",
    "    # replace everything to ' ' except alphanumeric character, whitespace, apostrophe, hashtag\n",
    "    return re.sub(r'[^\\w\\s\\'#]', ' ', line)\n",
    "\n",
    "# test\n",
    "cleanse(\"Hugh Jackman is so awesome!!! #goldenglobes\")"
   ]
  },
  {
   "cell_type": "code",
   "execution_count": 17,
   "metadata": {},
   "outputs": [],
   "source": [
    "import spacy\n",
    "# python3 -m spacy download en\n",
    "nlp = spacy.load('en')"
   ]
  },
  {
   "cell_type": "code",
   "execution_count": 18,
   "metadata": {},
   "outputs": [],
   "source": [
    "def identify_entities(text):\n",
    "    entities = list(nlp(text).ents)\n",
    "    tags = {}\n",
    "    for entity in entities:\n",
    "        if entity not in tags:\n",
    "            tags[' '.join(t.orth_ for t in entity).strip()]=[entity.label_]\n",
    "    return tags"
   ]
  },
  {
   "cell_type": "code",
   "execution_count": 24,
   "metadata": {},
   "outputs": [],
   "source": [
    "def find_presenter(award_index, verbose=False):\n",
    "    pattern = re.compile(r'presenter|present', re.IGNORECASE)\n",
    "    entity_dict = {}\n",
    "    \n",
    "    print('Predicting for:', awards[award_index])\n",
    "    \n",
    "    num = 0\n",
    "    for tweet in data:\n",
    "        # remove_retweet_prefix \n",
    "        line = remove_retweet_prefix(tweet)\n",
    "        # remove hashtag\n",
    "        line = remove_hashtag(line)\n",
    "        # remove @...\n",
    "        line = remove_at(line)\n",
    "        # remove punctuations\n",
    "        line = cleanse(line)\n",
    "        \n",
    "        award = awards_reduced[award_index]\n",
    "        num_keywords_to_match = award_num_keywords_map[award_index]\n",
    "        \n",
    "        # test for 'best actress in a motion picture comedy or musical'\n",
    "#         if len(set(award).intersection(set(line.split()))) > 5:\n",
    "        \n",
    "#         if len(set(award).intersection(set(line.split()))) > num_keywords_to_match:\n",
    "        # test\n",
    "        if len(set(award).intersection(set(line.split()))) > 1: # word overlap number needs to further adjusted\n",
    "            \n",
    "            match = re.findall(pattern, line.lower())\n",
    "            if match:\n",
    "                tags = identify_entities(line)\n",
    "\n",
    "                if verbose:\n",
    "                    # print the first 5 occurrences\n",
    "                    if num < 5:\n",
    "                        print(match)\n",
    "                        print(tweet)\n",
    "                        print(tags)\n",
    "                        print()\n",
    "\n",
    "                for entity in tags.keys():\n",
    "                    if len(entity) > 1:\n",
    "                        if entity not in entity_dict:\n",
    "                            entity_dict[entity] = 1\n",
    "                        else:\n",
    "                            entity_dict[entity] += 1\n",
    "                num += 1\n",
    "            \n",
    "    print('num of matches:', num)\n",
    "    return entity_dict"
   ]
  },
  {
   "cell_type": "markdown",
   "metadata": {},
   "source": [
    "# Generate Predictions for Presenter"
   ]
  },
  {
   "cell_type": "code",
   "execution_count": 25,
   "metadata": {
    "scrolled": false
   },
   "outputs": [
    {
     "name": "stdout",
     "output_type": "stream",
     "text": [
      "Predicting for: Best Motion Picture - Drama\n",
      "num of matches: 18\n",
      "[('Lincoln', 10), ('Julia Roberts', 7), ('Golden Globes', 3), ('Clinton', 2), ('Lancome Ambassadress', 2), ('nine', 1), ('Makes', 1), ('night   BECAUSE WHERE', 1), ('Roberts', 1)]\n",
      "\n",
      "Predicting for: Best Motion Picture - Musical or Comedy\n",
      "num of matches: 21\n",
      "[('Lincoln', 10), ('Julia Roberts', 7), ('Comedians', 3), ('Kristen Wiig', 3), ('Will Ferrell', 3), ('Clinton', 2), ('Lancome Ambassadress', 2), ('Dennis Quaid', 1), ('Kerry Washington', 1), ('nine', 1), ('Makes', 1), ('Bill Clinton', 1), ('Lincon', 1), ('Jennifer Lawrence', 1), ('Jay Leno', 1), ('Jimmy Fallon', 1), ('night   BECAUSE WHERE', 1), ('Roberts', 1)]\n",
      "\n",
      "Predicting for: Best Performance by an Actress in a Motion Picture - Drama\n",
      "num of matches: 21\n",
      "[('Lincoln', 10), ('Julia Roberts', 7), ('Golden Globes', 3), ('Clinton', 2), ('Lancome Ambassadress', 2), ('Dennis Quaid', 1), ('Kerry Washington', 1), ('nine', 1), ('Makes', 1), ('Bill Clinton', 1), ('Lincon', 1), ('Jennifer Lawrence', 1), ('night   BECAUSE WHERE', 1), ('Roberts', 1)]\n",
      "\n",
      "Predicting for: Best Performance by an Actor in a Motion Picture - Drama\n",
      "num of matches: 18\n",
      "[('Lincoln', 10), ('Julia Roberts', 7), ('Golden Globes', 3), ('Clinton', 2), ('Lancome Ambassadress', 2), ('nine', 1), ('Makes', 1), ('night   BECAUSE WHERE', 1), ('Roberts', 1)]\n",
      "\n",
      "Predicting for: Best Performance by an Actress in a Motion Picture - Musical or Comedy\n",
      "num of matches: 43\n",
      "[('Maggie Smith', 21), ('Downton Abbey', 21), ('Lincoln', 10), ('Julia Roberts', 7), ('Comedians', 3), ('Kristen Wiig', 3), ('Will Ferrell', 3), ('Clinton', 2), ('Lancome Ambassadress', 2), ('Dennis Quaid', 1), ('Kerry Washington', 1), ('nine', 1), ('Makes', 1), ('Bill Clinton', 1), ('Lincon', 1), ('Jennifer Lawrence', 1), ('Jay Leno', 1), ('Jimmy Fallon', 1), ('night   BECAUSE WHERE', 1), ('Roberts', 1)]\n",
      "\n",
      "Predicting for: Best Performance by an Actor in a Motion Picture - Musical or Comedy\n",
      "num of matches: 21\n",
      "[('Lincoln', 10), ('Julia Roberts', 7), ('Comedians', 3), ('Kristen Wiig', 3), ('Will Ferrell', 3), ('Clinton', 2), ('Lancome Ambassadress', 2), ('Dennis Quaid', 1), ('Kerry Washington', 1), ('nine', 1), ('Makes', 1), ('Bill Clinton', 1), ('Lincon', 1), ('Jennifer Lawrence', 1), ('Jay Leno', 1), ('Jimmy Fallon', 1), ('night   BECAUSE WHERE', 1), ('Roberts', 1)]\n",
      "\n",
      "Predicting for: Best Performance by an Actress in a Supporting Role in any Motion Picture\n",
      "num of matches: 45\n",
      "[('Maggie Smith', 21), ('Downton Abbey', 21), ('Lincoln', 10), ('Julia Roberts', 7), ('Lindsay Lohan', 5), ('first', 5), ('Clinton', 2), ('Lancome Ambassadress', 2), ('Dennis Quaid', 1), ('Kerry Washington', 1), ('nine', 1), ('Makes', 1), ('Bill Clinton', 1), ('Lincon', 1), ('Jennifer Lawrence', 1), ('night   BECAUSE WHERE', 1), ('Roberts', 1)]\n",
      "\n",
      "Predicting for: Best Performance by an Actor in a Supporting Role in any Motion Picture\n",
      "num of matches: 22\n",
      "[('Lincoln', 10), ('Julia Roberts', 7), ('Lindsay Lohan', 5), ('first', 5), ('Clinton', 2), ('Lancome Ambassadress', 2), ('Dennis Quaid', 1), ('Kerry Washington', 1), ('nine', 1), ('Makes', 1), ('night   BECAUSE WHERE', 1), ('Roberts', 1)]\n",
      "\n",
      "Predicting for: Best Director - Motion Picture\n",
      "num of matches: 17\n",
      "[('Lincoln', 10), ('Julia Roberts', 7), ('Ben Affleck', 3), ('two', 3), ('Jennifer Garner', 3), ('Clinton', 2), ('Lancome Ambassadress', 2), ('nine', 1), ('Makes', 1), ('night   BECAUSE WHERE', 1), ('Roberts', 1)]\n",
      "\n",
      "Predicting for: Best Screenplay - Motion Picture\n",
      "num of matches: 16\n",
      "[('Lincoln', 10), ('Julia Roberts', 7), ('Clinton', 2), ('Lancome Ambassadress', 2), ('nine', 1), ('Makes', 1), (\"Robert Pattinson 's\", 1), ('Robert Pattinson', 1), ('night   BECAUSE WHERE', 1), ('Roberts', 1)]\n",
      "\n",
      "Predicting for: Best Motion Picture - Animated\n",
      "num of matches: 18\n",
      "[('Lincoln', 10), ('Julia Roberts', 7), ('Clinton', 2), ('Sacha', 2), ('Cohen', 2), ('Lancome Ambassadress', 2), ('nine', 1), ('Makes', 1), ('George W', 1), ('Bush', 1), ('Great', 1), ('Tarantino', 1), ('night   BECAUSE WHERE', 1), ('Roberts', 1)]\n",
      "\n",
      "Predicting for: Best Motion Picture - Foreign Language\n",
      "num of matches: 25\n",
      "[('Lincoln', 10), ('Julia Roberts', 7), ('Clinton', 2), ('Sly', 2), ('Arnold', 2), ('English', 2), ('Appropriate', 2), ('two', 2), ('Lancome Ambassadress', 2), ('nine', 1), ('Makes', 1), ('Sly Stallone', 1), ('Arnold Schwarzenegger', 1), ('Two', 1), ('Fitting', 1), ('Flash', 1), ('Stallone', 1), ('Schwarzenegger', 1), ('Amour', 1), ('Legends Stallone', 1), ('German', 1), ('night   BECAUSE WHERE', 1), ('Roberts', 1)]\n",
      "\n",
      "Predicting for: Best Original Score - Motion Picture\n",
      "num of matches: 14\n",
      "[('Lincoln', 10), ('Julia Roberts', 7), ('Clinton', 2), ('Lancome Ambassadress', 2), ('nine', 1), ('Makes', 1), ('night   BECAUSE WHERE', 1), ('Roberts', 1)]\n",
      "\n",
      "Predicting for: Best Original Song - Motion Picture\n",
      "num of matches: 15\n",
      "[('Lincoln', 10), ('Julia Roberts', 7), ('Clinton', 2), ('Lancome Ambassadress', 2), ('Kanye West', 1), ('nine', 1), ('Makes', 1), ('night   BECAUSE WHERE', 1), ('Roberts', 1)]\n",
      "\n",
      "Predicting for: Best Television Series - Drama\n",
      "num of matches: 17\n",
      "[('Lincoln', 7), ('Julia Roberts', 6), ('Golden Globes', 3), ('Lancome Ambassadress', 2), ('Dennis Quaid', 1), ('Kerry Washington', 1), ('Paul Rudd', 1), ('George W', 1), ('Bush', 1), ('Jay Leno', 1), ('Jimmy Fallon', 1), ('Roberts', 1)]\n",
      "\n",
      "Predicting for: Best Television Series - Musical or Comedy\n",
      "num of matches: 30\n",
      "[('Maggie Smith', 21), ('Downton Abbey', 21), ('Comedians', 3), ('Kristen Wiig', 3), ('Will Ferrell', 3), ('Dennis Quaid', 1), ('Kerry Washington', 1), ('George W', 1), ('Bush', 1), ('Bill Clinton', 1), ('Lincon', 1), ('Jennifer Lawrence', 1), ('Jay Leno', 1), ('Jimmy Fallon', 1)]\n",
      "\n",
      "Predicting for: Best Television Limited Series or Motion Picture Made for Television\n",
      "num of matches: 40\n",
      "[('Maggie Smith', 21), ('Downton Abbey', 21), ('Lincoln', 10), ('Julia Roberts', 7), ('Clinton', 2), ('Lancome Ambassadress', 2), ('Dennis Quaid', 1), ('Kerry Washington', 1), ('nine', 1), ('Makes', 1), ('George W', 1), ('Bush', 1), ('Jay Leno', 1), ('Jimmy Fallon', 1), ('night   BECAUSE WHERE', 1), ('Roberts', 1)]\n",
      "\n",
      "Predicting for: Best Performance by an Actress in a Limited Series or a Motion Picture Made for Television\n",
      "num of matches: 41\n",
      "[('Maggie Smith', 21), ('Downton Abbey', 21), ('Lincoln', 10), ('Julia Roberts', 7), ('Clinton', 2), ('Lancome Ambassadress', 2), ('Dennis Quaid', 1), ('Kerry Washington', 1), ('nine', 1), ('Makes', 1), ('George W', 1), ('Bush', 1), ('Bill Clinton', 1), ('Lincon', 1), ('Jennifer Lawrence', 1), ('Jay Leno', 1), ('Jimmy Fallon', 1), ('night   BECAUSE WHERE', 1), ('Roberts', 1)]\n",
      "\n",
      "Predicting for: Best Performance by an Actor in a Limited Series or a Motion Picture Made for Television\n",
      "num of matches: 40\n",
      "[('Maggie Smith', 21), ('Downton Abbey', 21), ('Lincoln', 10), ('Julia Roberts', 7), ('Clinton', 2), ('Lancome Ambassadress', 2), ('Dennis Quaid', 1), ('Kerry Washington', 1), ('nine', 1), ('Makes', 1), ('George W', 1), ('Bush', 1), ('Jay Leno', 1), ('Jimmy Fallon', 1), ('night   BECAUSE WHERE', 1), ('Roberts', 1)]\n",
      "\n",
      "Predicting for: Best Performance by an Actress In A Television Series - Drama\n",
      "num of matches: 40\n",
      "[('Maggie Smith', 21), ('Downton Abbey', 21), ('Lincoln', 7), ('Julia Roberts', 6), ('Golden Globes', 3), ('Lancome Ambassadress', 2), ('Dennis Quaid', 1), ('Kerry Washington', 1), ('Paul Rudd', 1), ('George W', 1), ('Bush', 1), ('Bill Clinton', 1), ('Lincon', 1), ('Jennifer Lawrence', 1), ('Jay Leno', 1), ('Jimmy Fallon', 1), ('Roberts', 1)]\n",
      "\n",
      "Predicting for: Best Performance by an Actor In A Television Series - Drama\n",
      "num of matches: 17\n",
      "[('Lincoln', 7), ('Julia Roberts', 6), ('Golden Globes', 3), ('Lancome Ambassadress', 2), ('Dennis Quaid', 1), ('Kerry Washington', 1), ('Paul Rudd', 1), ('George W', 1), ('Bush', 1), ('Jay Leno', 1), ('Jimmy Fallon', 1), ('Roberts', 1)]\n",
      "\n",
      "Predicting for: Best Performance by an Actress in a Television Series - Musical or Comedy\n",
      "num of matches: 30\n",
      "[('Maggie Smith', 21), ('Downton Abbey', 21), ('Comedians', 3), ('Kristen Wiig', 3), ('Will Ferrell', 3), ('Dennis Quaid', 1), ('Kerry Washington', 1), ('George W', 1), ('Bush', 1), ('Bill Clinton', 1), ('Lincon', 1), ('Jennifer Lawrence', 1), ('Jay Leno', 1), ('Jimmy Fallon', 1)]\n",
      "\n",
      "Predicting for: Best Performance by an Actor in a Television Series - Musical or Comedy\n"
     ]
    },
    {
     "name": "stdout",
     "output_type": "stream",
     "text": [
      "num of matches: 30\n",
      "[('Maggie Smith', 21), ('Downton Abbey', 21), ('Comedians', 3), ('Kristen Wiig', 3), ('Will Ferrell', 3), ('Dennis Quaid', 1), ('Kerry Washington', 1), ('George W', 1), ('Bush', 1), ('Bill Clinton', 1), ('Lincon', 1), ('Jennifer Lawrence', 1), ('Jay Leno', 1), ('Jimmy Fallon', 1)]\n",
      "\n",
      "Predicting for: Best Performance by an Actress in a Supporting Role in a Series, Limited Series or Motion Picture Made for Television\n",
      "num of matches: 46\n",
      "[('Maggie Smith', 21), ('Downton Abbey', 21), ('Lincoln', 10), ('Julia Roberts', 7), ('Lindsay Lohan', 5), ('first', 5), ('Clinton', 2), ('Lancome Ambassadress', 2), ('Dennis Quaid', 1), ('Kerry Washington', 1), ('nine', 1), ('Makes', 1), ('George W', 1), ('Bush', 1), ('Bill Clinton', 1), ('Lincon', 1), ('Jennifer Lawrence', 1), ('Jay Leno', 1), ('Jimmy Fallon', 1), ('night   BECAUSE WHERE', 1), ('Roberts', 1)]\n",
      "\n",
      "Predicting for: Best Performance by an Actor in a Supporting Role in a Series, Limited Series or Motion Picture Made for Television\n",
      "num of matches: 46\n",
      "[('Maggie Smith', 21), ('Downton Abbey', 21), ('Lincoln', 10), ('Julia Roberts', 7), ('Lindsay Lohan', 5), ('first', 5), ('Clinton', 2), ('Lancome Ambassadress', 2), ('Dennis Quaid', 1), ('Kerry Washington', 1), ('nine', 1), ('Makes', 1), ('George W', 1), ('Bush', 1), ('Jay Leno', 1), ('Jimmy Fallon', 1), ('night   BECAUSE WHERE', 1), ('Roberts', 1)]\n",
      "\n",
      "Predicting for: Cecil B. deMille Award\n",
      "num of matches: 0\n",
      "[]\n",
      "\n"
     ]
    }
   ],
   "source": [
    "for key in award_num_keywords_map.keys():\n",
    "    print(sorted(find_presenter(key, verbose=False).items(), key=lambda pair: pair[1], reverse=True)[:100])\n",
    "    print()"
   ]
  },
  {
   "cell_type": "code",
   "execution_count": 18,
   "metadata": {},
   "outputs": [],
   "source": [
    "def weighted_freq(element):\n",
    "    return entity_dict[element] * len(element)\n",
    "\n",
    "e = entity_dict.copy()\n",
    "for cluster in names_clusters_reduced:\n",
    "    # select the longest name\n",
    "    selected_name = max(cluster, key=weighted_freq)\n",
    "    cluster.remove(selected_name)\n",
    "    for name in cluster:\n",
    "        # if not deleted in previous cases\n",
    "        if name in e and selected_name in e:\n",
    "            e[selected_name] += e[name]\n",
    "            del e[name]"
   ]
  },
  {
   "cell_type": "code",
   "execution_count": null,
   "metadata": {},
   "outputs": [],
   "source": []
  }
 ],
 "metadata": {
  "kernelspec": {
   "display_name": "Python 3",
   "language": "python",
   "name": "python3"
  },
  "language_info": {
   "codemirror_mode": {
    "name": "ipython",
    "version": 3
   },
   "file_extension": ".py",
   "mimetype": "text/x-python",
   "name": "python",
   "nbconvert_exporter": "python",
   "pygments_lexer": "ipython3",
   "version": "3.7.2"
  }
 },
 "nbformat": 4,
 "nbformat_minor": 2
}
