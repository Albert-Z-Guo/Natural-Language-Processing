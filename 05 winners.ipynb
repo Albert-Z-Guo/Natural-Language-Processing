{
 "cells": [
  {
   "cell_type": "code",
   "execution_count": 1,
   "metadata": {},
   "outputs": [],
   "source": [
    "import pandas as pd"
   ]
  },
  {
   "cell_type": "code",
   "execution_count": 2,
   "metadata": {},
   "outputs": [
    {
     "data": {
      "text/html": [
       "<div>\n",
       "<style scoped>\n",
       "    .dataframe tbody tr th:only-of-type {\n",
       "        vertical-align: middle;\n",
       "    }\n",
       "\n",
       "    .dataframe tbody tr th {\n",
       "        vertical-align: top;\n",
       "    }\n",
       "\n",
       "    .dataframe thead th {\n",
       "        text-align: right;\n",
       "    }\n",
       "</style>\n",
       "<table border=\"1\" class=\"dataframe\">\n",
       "  <thead>\n",
       "    <tr style=\"text-align: right;\">\n",
       "      <th></th>\n",
       "      <th>id</th>\n",
       "      <th>text</th>\n",
       "      <th>timestamp_ms</th>\n",
       "      <th>user</th>\n",
       "    </tr>\n",
       "  </thead>\n",
       "  <tbody>\n",
       "    <tr>\n",
       "      <th>0</th>\n",
       "      <td>290620657987887104</td>\n",
       "      <td>JLo's dress! #eredcarpet #GoldenGlobes</td>\n",
       "      <td>2013-01-14 00:45:38</td>\n",
       "      <td>{'screen_name': 'Dozaaa_xo', 'id': 557374298}</td>\n",
       "    </tr>\n",
       "    <tr>\n",
       "      <th>1</th>\n",
       "      <td>290620657887219713</td>\n",
       "      <td>What's making Sofia Vergara's boobs stay like ...</td>\n",
       "      <td>2013-01-14 00:45:38</td>\n",
       "      <td>{'screen_name': 'theAmberShow', 'id': 14648726}</td>\n",
       "    </tr>\n",
       "    <tr>\n",
       "      <th>2</th>\n",
       "      <td>290620657828524032</td>\n",
       "      <td>RT @FabSugar: Kerry Washington is EVERYTHING. ...</td>\n",
       "      <td>2013-01-14 00:45:38</td>\n",
       "      <td>{'screen_name': 'SweetyPW', 'id': 35498686}</td>\n",
       "    </tr>\n",
       "  </tbody>\n",
       "</table>\n",
       "</div>"
      ],
      "text/plain": [
       "                   id                                               text  \\\n",
       "0  290620657987887104             JLo's dress! #eredcarpet #GoldenGlobes   \n",
       "1  290620657887219713  What's making Sofia Vergara's boobs stay like ...   \n",
       "2  290620657828524032  RT @FabSugar: Kerry Washington is EVERYTHING. ...   \n",
       "\n",
       "         timestamp_ms                                             user  \n",
       "0 2013-01-14 00:45:38    {'screen_name': 'Dozaaa_xo', 'id': 557374298}  \n",
       "1 2013-01-14 00:45:38  {'screen_name': 'theAmberShow', 'id': 14648726}  \n",
       "2 2013-01-14 00:45:38      {'screen_name': 'SweetyPW', 'id': 35498686}  "
      ]
     },
     "execution_count": 2,
     "metadata": {},
     "output_type": "execute_result"
    }
   ],
   "source": [
    "df = pd.read_json(path_or_buf='gg2013.json')\n",
    "df.head(3)"
   ]
  },
  {
   "cell_type": "code",
   "execution_count": 3,
   "metadata": {},
   "outputs": [
    {
     "data": {
      "text/plain": [
       "174643"
      ]
     },
     "execution_count": 3,
     "metadata": {},
     "output_type": "execute_result"
    }
   ],
   "source": [
    "len(df)"
   ]
  },
  {
   "cell_type": "code",
   "execution_count": 4,
   "metadata": {},
   "outputs": [
    {
     "data": {
      "text/plain": [
       "0               JLo's dress! #eredcarpet #GoldenGlobes\n",
       "1    What's making Sofia Vergara's boobs stay like ...\n",
       "2    RT @FabSugar: Kerry Washington is EVERYTHING. ...\n",
       "3       Anne Hathaway has got me living. #GoldenGlobes\n",
       "4    Jennifer Lopez's lace dress? Thoughts? #Golden...\n",
       "Name: text, dtype: object"
      ]
     },
     "execution_count": 4,
     "metadata": {},
     "output_type": "execute_result"
    }
   ],
   "source": [
    "data = df['text']\n",
    "data[:5]"
   ]
  },
  {
   "cell_type": "code",
   "execution_count": 5,
   "metadata": {},
   "outputs": [],
   "source": [
    "import re"
   ]
  },
  {
   "cell_type": "code",
   "execution_count": 38,
   "metadata": {},
   "outputs": [],
   "source": [
    "# awards identified from awards.ipynb\n",
    "awards = ['best actress in a motion picture comedy or musical',\n",
    "          'best television series actor drama',\n",
    "          'best actress in a motion picture musical or comedy',\n",
    "          'best supporting actor in a motion picture',\n",
    "          'best supporting actor actress',\n",
    "          'best supporting actress in a motion picture',\n",
    "          'best actor in a motion picture comedy or musical',\n",
    "          'best motion picture comedy or musical',\n",
    "          'best motion picture drama',\n",
    "          'best television series comedy or musical',\n",
    "          'best supporting actor in a television series',\n",
    "          'best motion picture television',\n",
    "          'best actor in a motion picture drama',\n",
    "          'best actor in a motion picture drama performance',\n",
    "          'best actress in a television series drama',\n",
    "          'best television series drama',\n",
    "          'best supporting actress in a series',\n",
    "          'best actor in a television series comedy or musical',\n",
    "          'best actor in a comedy or musical',\n",
    "          'best animated feature film',\n",
    "          'best actor comedy or musical',\n",
    "          'best actress in a motion picture drama']"
   ]
  },
  {
   "cell_type": "code",
   "execution_count": 125,
   "metadata": {},
   "outputs": [
    {
     "data": {
      "text/plain": [
       "['best', 'actress', 'motion', 'picture', 'comedy', 'or', 'musical']"
      ]
     },
     "execution_count": 125,
     "metadata": {},
     "output_type": "execute_result"
    }
   ],
   "source": [
    "def reduce(line):\n",
    "    # remove words \"or\", \"in\" \"a\"\n",
    "    return re.sub(r'\\bin\\b|\\ba\\b', ' ', line).split()\n",
    "\n",
    "# test\n",
    "reduce('best actress in a motion picture comedy or musical')"
   ]
  },
  {
   "cell_type": "code",
   "execution_count": 153,
   "metadata": {},
   "outputs": [],
   "source": [
    "def generate_reduced_awards_and_award_num_keywords_map(awards):\n",
    "    reduced_awards = []\n",
    "    award_num_keywords_map = {}\n",
    "    for i, award in enumerate([reduce(award) for award in awards]):\n",
    "        if 'or' in award:\n",
    "            award.remove('or')\n",
    "            reduced_awards.append(award)\n",
    "        award_num_keywords_map[i] = len(award) - 1 # do not count \"best\"\n",
    "    return reduced_awards, award_num_keywords_map"
   ]
  },
  {
   "cell_type": "code",
   "execution_count": 154,
   "metadata": {},
   "outputs": [],
   "source": [
    "reduced_awards, award_num_keywords_map = generate_reduced_awards_and_award_num_keywords_map(awards)"
   ]
  },
  {
   "cell_type": "code",
   "execution_count": 155,
   "metadata": {},
   "outputs": [
    {
     "name": "stdout",
     "output_type": "stream",
     "text": [
      "[['best', 'actress', 'motion', 'picture', 'comedy', 'musical'],\n",
      " ['best', 'television', 'series', 'actor', 'drama'],\n",
      " ['best', 'actress', 'motion', 'picture', 'musical', 'comedy'],\n",
      " ['best', 'supporting', 'actor', 'motion', 'picture'],\n",
      " ['best', 'supporting', 'actor', 'actress'],\n",
      " ['best', 'supporting', 'actress', 'motion', 'picture'],\n",
      " ['best', 'actor', 'motion', 'picture', 'comedy', 'musical'],\n",
      " ['best', 'motion', 'picture', 'comedy', 'musical'],\n",
      " ['best', 'motion', 'picture', 'drama'],\n",
      " ['best', 'television', 'series', 'comedy', 'musical'],\n",
      " ['best', 'supporting', 'actor', 'television', 'series'],\n",
      " ['best', 'motion', 'picture', 'television'],\n",
      " ['best', 'actor', 'motion', 'picture', 'drama'],\n",
      " ['best', 'actor', 'motion', 'picture', 'drama', 'performance'],\n",
      " ['best', 'actress', 'television', 'series', 'drama'],\n",
      " ['best', 'television', 'series', 'drama'],\n",
      " ['best', 'supporting', 'actress', 'series'],\n",
      " ['best', 'actor', 'television', 'series', 'comedy', 'musical'],\n",
      " ['best', 'actor', 'comedy', 'musical'],\n",
      " ['best', 'animated', 'feature', 'film'],\n",
      " ['best', 'actor', 'comedy', 'musical'],\n",
      " ['best', 'actress', 'motion', 'picture', 'drama']]\n"
     ]
    },
    {
     "data": {
      "text/plain": [
       "[(0, 5),\n",
       " (1, 4),\n",
       " (2, 5),\n",
       " (3, 4),\n",
       " (4, 3),\n",
       " (5, 4),\n",
       " (6, 5),\n",
       " (7, 4),\n",
       " (8, 3),\n",
       " (9, 4),\n",
       " (10, 4),\n",
       " (11, 3),\n",
       " (12, 4),\n",
       " (13, 5),\n",
       " (14, 4),\n",
       " (15, 3),\n",
       " (16, 3),\n",
       " (17, 5),\n",
       " (18, 3),\n",
       " (19, 3),\n",
       " (20, 3),\n",
       " (21, 4)]"
      ]
     },
     "execution_count": 155,
     "metadata": {},
     "output_type": "execute_result"
    }
   ],
   "source": [
    "import pprint\n",
    "pprint.pprint(awards_reduced)\n",
    "sorted(award_num_keywords_map.items(), key=lambda pair: pair[0])"
   ]
  },
  {
   "cell_type": "code",
   "execution_count": 25,
   "metadata": {},
   "outputs": [
    {
     "data": {
      "text/plain": [
       "'Hugh Jackman is so awesome    #goldenglobes'"
      ]
     },
     "execution_count": 25,
     "metadata": {},
     "output_type": "execute_result"
    }
   ],
   "source": [
    "def cleanse(line):\n",
    "    # replace everything to ' ' except alphanumeric character, whitespace, apostrophe, hashtag\n",
    "    return re.sub(r'[^\\w\\s\\'#]', ' ', line)\n",
    "\n",
    "# test\n",
    "cleanse(\"Hugh Jackman is so awesome!!! #goldenglobes\")"
   ]
  },
  {
   "cell_type": "code",
   "execution_count": 60,
   "metadata": {},
   "outputs": [
    {
     "data": {
      "text/plain": [
       "{'actress', 'best', 'comedy', 'motion', 'musical', 'picture'}"
      ]
     },
     "execution_count": 60,
     "metadata": {},
     "output_type": "execute_result"
    }
   ],
   "source": [
    "# test\n",
    "set(awards_reduced[0])"
   ]
  },
  {
   "cell_type": "code",
   "execution_count": 26,
   "metadata": {},
   "outputs": [],
   "source": [
    "import spacy\n",
    "# python3 -m spacy download en\n",
    "nlp = spacy.load('en')"
   ]
  },
  {
   "cell_type": "code",
   "execution_count": 27,
   "metadata": {},
   "outputs": [],
   "source": [
    "def identify_entities(text, verbose=False):\n",
    "    ents = list(nlp(text).ents)\n",
    "    if verbose:\n",
    "        person_tags = {}\n",
    "        tags = {}\n",
    "        for ent in ents:    \n",
    "            entity = ' '.join(t.orth_ for t in ent).strip()\n",
    "            if entity not in tags:\n",
    "                tags[entity]=[ent.label_]\n",
    "                if ent.label_ == 'PERSON':\n",
    "                    person_tags[entity]=[ent.label_]\n",
    "        return tags\n",
    "    else:\n",
    "        return [' '.join(t.orth_ for t in ent).strip() for ent in ents]"
   ]
  },
  {
   "cell_type": "code",
   "execution_count": 162,
   "metadata": {},
   "outputs": [],
   "source": [
    "def find_award_winner(award_index, verbose=False):\n",
    "    # add word bounary '\\b' to prevent grabbing examples like \"showing\" and \"wonder\"\n",
    "    pattern = re.compile(r'(\\bwin)|(\\bwon\\b)', re.IGNORECASE)\n",
    "    entity_dict = {}\n",
    "    \n",
    "    print('Predicting for:', awards[award_index])\n",
    "    \n",
    "    num = 0\n",
    "    for tweet in data:\n",
    "        line = cleanse(tweet)\n",
    "        \n",
    "        award = awards_reduced[award_index]\n",
    "        num_keywords_to_match = award_num_keywords_map[award_index]\n",
    "        \n",
    "        # test for 'best actress in a motion picture comedy or musical'\n",
    "#         if len(set(award).intersection(set(line.split()))) > 5:\n",
    "        \n",
    "        if len(set(award).intersection(set(line.split()))) > num_keywords_to_match:\n",
    "            \n",
    "            match = re.findall(pattern, line.lower())\n",
    "            if match:\n",
    "                entities = identify_entities(line, False)\n",
    "\n",
    "                if verbose:\n",
    "                    # print the first 5 occurrences\n",
    "                    if num < 5:\n",
    "                        print(match)\n",
    "                        print(line)\n",
    "                        print(entities)\n",
    "                        print()\n",
    "\n",
    "                for entity in entities:\n",
    "                    if len(entity) > 1:\n",
    "                        if entity not in entity_dict:\n",
    "                            entity_dict[entity] = 1\n",
    "                        else:\n",
    "                            entity_dict[entity] += 1\n",
    "                num += 1\n",
    "            \n",
    "    print('num of matches:', num)\n",
    "    return entity_dict"
   ]
  },
  {
   "cell_type": "code",
   "execution_count": 163,
   "metadata": {},
   "outputs": [
    {
     "name": "stdout",
     "output_type": "stream",
     "text": [
      "Predicting for: best actress in a motion picture comedy or musical\n",
      "[('win', '')]\n",
      "RT  ABC  Jennifer Lawrence wins best actress  motion picture comedy or musical  for  Silver Lining Playbook  http   t co r51EfFPg #GoldenGlobes\n",
      "['RT', 'ABC', 'Jennifer Lawrence', '', '', 'Silver Lining Playbook', '', 'GoldenGlobes']\n",
      "\n",
      "[('win', '')]\n",
      "RT  ABC  Jennifer Lawrence wins best actress  motion picture comedy or musical  for  Silver Lining Playbook  http   t co r51EfFPg #GoldenGlobes\n",
      "['RT', 'ABC', 'Jennifer Lawrence', '', '', 'Silver Lining Playbook', '', 'GoldenGlobes']\n",
      "\n",
      "[('win', '')]\n",
      "RT  ABC  Jennifer Lawrence wins best actress  motion picture comedy or musical  for  Silver Lining Playbook  http   t co r51EfFPg #GoldenGlobes\n",
      "['RT', 'ABC', 'Jennifer Lawrence', '', '', 'Silver Lining Playbook', '', 'GoldenGlobes']\n",
      "\n",
      "[('win', '')]\n",
      "RT  ABC  Jennifer Lawrence wins best actress  motion picture comedy or musical  for  Silver Lining Playbook  http   t co r51EfFPg #GoldenGlobes\n",
      "['RT', 'ABC', 'Jennifer Lawrence', '', '', 'Silver Lining Playbook', '', 'GoldenGlobes']\n",
      "\n",
      "[('win', '')]\n",
      "RT  KNXDavid  #GoldenGlobes Jennifer Lawrence wins for best actress in a motion picture comedy or musical  Silver Linings Playbook    KNX1070\n",
      "['RT', 'KNXDavid', 'Jennifer Lawrence', 'KNX1070']\n",
      "\n",
      "num of matches: 8\n",
      "CPU times: user 2.63 s, sys: 322 ms, total: 2.96 s\n",
      "Wall time: 1.21 s\n"
     ]
    }
   ],
   "source": [
    "%%time\n",
    "# test\n",
    "entity_dict = find_award_winner(0, verbose=True)"
   ]
  },
  {
   "cell_type": "code",
   "execution_count": 164,
   "metadata": {},
   "outputs": [],
   "source": [
    "from fuzzywuzzy import fuzz\n",
    "\n",
    "# remove uninterested entities e.g. \"RT\" or \"Golden Globes\"\n",
    "def preprocess(entity_dict):\n",
    "    entity_dict = entity_dict.copy()\n",
    "    to_remove = []\n",
    "    for key in entity_dict.keys():\n",
    "        if fuzz.ratio(key.lower(), 'goldenglobes') > 50 or fuzz.ratio(key.lower(), 'rt') > 50:\n",
    "#             print(key)\n",
    "            to_remove.append(key)\n",
    "\n",
    "    for key in to_remove:\n",
    "        del entity_dict[key]\n",
    "    \n",
    "    return entity_dict"
   ]
  },
  {
   "cell_type": "markdown",
   "metadata": {},
   "source": [
    "# Generate Predictions"
   ]
  },
  {
   "cell_type": "code",
   "execution_count": 166,
   "metadata": {},
   "outputs": [
    {
     "name": "stdout",
     "output_type": "stream",
     "text": [
      "Predicting for: best actress in a motion picture comedy or musical\n",
      "num of matches: 8\n",
      "[('Jennifer Lawrence', 8), ('ABC', 7), ('Silver Lining Playbook', 7), ('KNXDavid', 1), ('KNX1070', 1)]\n",
      "\n",
      "Predicting for: best television series actor drama\n",
      "num of matches: 0\n",
      "[]\n",
      "\n",
      "Predicting for: best actress in a motion picture musical or comedy\n",
      "num of matches: 8\n",
      "[('Jennifer Lawrence', 8), ('ABC', 7), ('Silver Lining Playbook', 7), ('KNXDavid', 1), ('KNX1070', 1)]\n",
      "\n",
      "Predicting for: best supporting actor in a motion picture\n",
      "num of matches: 0\n",
      "[]\n",
      "\n",
      "Predicting for: best supporting actor actress\n",
      "num of matches: 1\n",
      "[('Christoph Waltz', 1), ('Django', 1), ('Maggie Smith', 1), ('Downton Abbey', 1)]\n",
      "\n",
      "Predicting for: best supporting actress in a motion picture\n",
      "num of matches: 2\n",
      "[('Anne Hathaway', 2), ('Hooray', 1), ('Winner', 1), ('KNXDavid', 1), ('Les Miserables', 1), ('KNX1070', 1)]\n",
      "\n",
      "Predicting for: best actor in a motion picture comedy or musical\n",
      "num of matches: 65\n",
      "[('Hugh Jackman', 65), ('Les Miserables', 63), ('CNNshowbiz', 62), ('Les Mis', 1), ('WeighLoss', 1), ('of year', 1)]\n",
      "\n",
      "Predicting for: best motion picture comedy or musical\n",
      "num of matches: 102\n",
      "[('Hugh Jackman', 65), ('Les Miserables', 63), ('CNNshowbiz', 62), ('BreakingNews', 24), (\"Les Miserables '\", 24), ('Jennifer Lawrence', 8), ('ABC', 7), ('Silver Lining Playbook', 7), ('KNXDavid', 1), ('KNX1070', 1), ('Les Mis', 1), ('LesMiserables', 1), (\"BreakingNews   '\", 1), ('WeighLoss', 1), ('of year', 1), ('Via SweetBatti', 1)]\n",
      "\n",
      "Predicting for: best motion picture drama\n",
      "num of matches: 21\n",
      "[('Argo', 11), ('Latest', 10), ('yWrjaQUM', 10), ('Daniel Day Lewis', 3), ('Ben Affleck', 3), ('Jessica Chastain', 2), (\"for '\", 2), ('Zero', 2), (\"Dark Thirty '\", 2), ('ABC', 2), ('Lincoln', 1), ('NewsGunner', 1), ('GgjUDP03', 1)]\n",
      "\n",
      "Predicting for: best television series comedy or musical\n",
      "num of matches: 0\n",
      "[]\n",
      "\n",
      "Predicting for: best supporting actor in a television series\n",
      "num of matches: 0\n",
      "[]\n",
      "\n",
      "Predicting for: best motion picture television\n",
      "num of matches: 0\n",
      "[]\n",
      "\n",
      "Predicting for: best actor in a motion picture drama\n",
      "num of matches: 3\n",
      "[('Daniel Day Lewis', 3), ('ABC', 2), ('Lincoln', 1), ('GgjUDP03', 1)]\n",
      "\n",
      "Predicting for: best actor in a motion picture drama performance\n",
      "num of matches: 0\n",
      "[]\n",
      "\n",
      "Predicting for: best actress in a television series drama\n",
      "num of matches: 1\n",
      "[('Claire Danes', 1)]\n",
      "\n",
      "Predicting for: best television series drama\n",
      "num of matches: 1\n",
      "[('Claire Danes', 1)]\n",
      "\n",
      "Predicting for: best supporting actress in a series\n",
      "num of matches: 0\n",
      "[]\n",
      "\n",
      "Predicting for: best actor in a television series comedy or musical\n",
      "num of matches: 0\n",
      "[]\n",
      "\n",
      "Predicting for: best actor in a comedy or musical\n",
      "num of matches: 117\n",
      "[('Hugh Jackman', 86), ('Les Miserables', 70), ('CNNshowbiz', 62), ('Don Cheadle', 17), ('HouseofLies', 12), ('AZUbsKD0 #', 7), ('VanityFair', 6), ('the night', 6), ('Bill Murray', 6), ('WINNER', 5), ('RT   Variety', 4), ('RT   TheRoot247', 4), ('GlobalGrind', 3), ('One for the Aussies', 2), ('TVGuide', 1), ('Tsjb0OW6', 1), ('jwkVf4Ah', 1), ('# HouseofLies #', 1), ('nemfLMJi', 1), ('Les Mis', 1), ('Looking', 1), ('Huge Jackman', 1), ('So', 1), (\"' Les Miz '\", 1), ('Hugh Jackson', 1), ('MXdPTc0C', 1), ('Y7News', 1), ('# aussie', 1), ('Yay Hugh      Winner', 1), ('Aussie', 1), ('WeighLoss', 1), ('of year', 1), ('Jo_Hall9', 1), ('Breaking', 1)]\n",
      "\n",
      "Predicting for: best animated feature film\n",
      "num of matches: 20\n",
      "[('DisneyPixar', 8), ('Agree', 5), ('Wreck', 5), ('Ralph', 5), ('brenda_chapman', 2), ('KMcKOnline', 2), ('OR46tLo8', 1), ('Agree   RT', 1), ('RT   Shiba4NY', 1), ('Sacha', 1), ('Cohen', 1)]\n",
      "\n",
      "Predicting for: best actor comedy or musical\n",
      "num of matches: 117\n",
      "[('Hugh Jackman', 86), ('Les Miserables', 70), ('CNNshowbiz', 62), ('Don Cheadle', 17), ('HouseofLies', 12), ('AZUbsKD0 #', 7), ('VanityFair', 6), ('the night', 6), ('Bill Murray', 6), ('WINNER', 5), ('RT   Variety', 4), ('RT   TheRoot247', 4), ('GlobalGrind', 3), ('One for the Aussies', 2), ('TVGuide', 1), ('Tsjb0OW6', 1), ('jwkVf4Ah', 1), ('# HouseofLies #', 1), ('nemfLMJi', 1), ('Les Mis', 1), ('Looking', 1), ('Huge Jackman', 1), ('So', 1), (\"' Les Miz '\", 1), ('Hugh Jackson', 1), ('MXdPTc0C', 1), ('Y7News', 1), ('# aussie', 1), ('Yay Hugh      Winner', 1), ('Aussie', 1), ('WeighLoss', 1), ('of year', 1), ('Jo_Hall9', 1), ('Breaking', 1)]\n",
      "\n",
      "Predicting for: best actress in a motion picture drama\n",
      "num of matches: 2\n",
      "[('Jessica Chastain', 2), (\"for '\", 2), ('Zero', 2), (\"Dark Thirty '\", 2), ('NewsGunner', 1)]\n",
      "\n"
     ]
    }
   ],
   "source": [
    "for key in award_num_keywords_map.keys():\n",
    "    print(sorted(preprocess(find_award_winner(key, verbose=False)).items(), key=lambda pair: pair[1], reverse=True)[:100])\n",
    "    print()"
   ]
  },
  {
   "cell_type": "code",
   "execution_count": null,
   "metadata": {},
   "outputs": [],
   "source": []
  },
  {
   "cell_type": "code",
   "execution_count": null,
   "metadata": {},
   "outputs": [],
   "source": []
  }
 ],
 "metadata": {
  "kernelspec": {
   "display_name": "Python 3",
   "language": "python",
   "name": "python3"
  },
  "language_info": {
   "codemirror_mode": {
    "name": "ipython",
    "version": 3
   },
   "file_extension": ".py",
   "mimetype": "text/x-python",
   "name": "python",
   "nbconvert_exporter": "python",
   "pygments_lexer": "ipython3",
   "version": "3.7.2"
  }
 },
 "nbformat": 4,
 "nbformat_minor": 2
}
