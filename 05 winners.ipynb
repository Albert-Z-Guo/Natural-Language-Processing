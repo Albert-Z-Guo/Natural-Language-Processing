{
 "cells": [
  {
   "cell_type": "code",
   "execution_count": 1,
   "metadata": {},
   "outputs": [],
   "source": [
    "import pandas as pd"
   ]
  },
  {
   "cell_type": "code",
   "execution_count": 2,
   "metadata": {},
   "outputs": [
    {
     "data": {
      "text/html": [
       "<div>\n",
       "<style scoped>\n",
       "    .dataframe tbody tr th:only-of-type {\n",
       "        vertical-align: middle;\n",
       "    }\n",
       "\n",
       "    .dataframe tbody tr th {\n",
       "        vertical-align: top;\n",
       "    }\n",
       "\n",
       "    .dataframe thead th {\n",
       "        text-align: right;\n",
       "    }\n",
       "</style>\n",
       "<table border=\"1\" class=\"dataframe\">\n",
       "  <thead>\n",
       "    <tr style=\"text-align: right;\">\n",
       "      <th></th>\n",
       "      <th>id</th>\n",
       "      <th>text</th>\n",
       "      <th>timestamp_ms</th>\n",
       "      <th>user</th>\n",
       "    </tr>\n",
       "  </thead>\n",
       "  <tbody>\n",
       "    <tr>\n",
       "      <th>0</th>\n",
       "      <td>290620657987887104</td>\n",
       "      <td>JLo's dress! #eredcarpet #GoldenGlobes</td>\n",
       "      <td>2013-01-14 00:45:38</td>\n",
       "      <td>{'screen_name': 'Dozaaa_xo', 'id': 557374298}</td>\n",
       "    </tr>\n",
       "    <tr>\n",
       "      <th>1</th>\n",
       "      <td>290620657887219713</td>\n",
       "      <td>What's making Sofia Vergara's boobs stay like ...</td>\n",
       "      <td>2013-01-14 00:45:38</td>\n",
       "      <td>{'screen_name': 'theAmberShow', 'id': 14648726}</td>\n",
       "    </tr>\n",
       "    <tr>\n",
       "      <th>2</th>\n",
       "      <td>290620657828524032</td>\n",
       "      <td>RT @FabSugar: Kerry Washington is EVERYTHING. ...</td>\n",
       "      <td>2013-01-14 00:45:38</td>\n",
       "      <td>{'screen_name': 'SweetyPW', 'id': 35498686}</td>\n",
       "    </tr>\n",
       "  </tbody>\n",
       "</table>\n",
       "</div>"
      ],
      "text/plain": [
       "                   id                                               text  \\\n",
       "0  290620657987887104             JLo's dress! #eredcarpet #GoldenGlobes   \n",
       "1  290620657887219713  What's making Sofia Vergara's boobs stay like ...   \n",
       "2  290620657828524032  RT @FabSugar: Kerry Washington is EVERYTHING. ...   \n",
       "\n",
       "         timestamp_ms                                             user  \n",
       "0 2013-01-14 00:45:38    {'screen_name': 'Dozaaa_xo', 'id': 557374298}  \n",
       "1 2013-01-14 00:45:38  {'screen_name': 'theAmberShow', 'id': 14648726}  \n",
       "2 2013-01-14 00:45:38      {'screen_name': 'SweetyPW', 'id': 35498686}  "
      ]
     },
     "execution_count": 2,
     "metadata": {},
     "output_type": "execute_result"
    }
   ],
   "source": [
    "df = pd.read_json(path_or_buf='gg2013.json')\n",
    "# df = pd.read_json(path_or_buf='gg2015.json')\n",
    "df.head(3)"
   ]
  },
  {
   "cell_type": "code",
   "execution_count": 3,
   "metadata": {},
   "outputs": [
    {
     "data": {
      "text/plain": [
       "0               JLo's dress! #eredcarpet #GoldenGlobes\n",
       "1    What's making Sofia Vergara's boobs stay like ...\n",
       "2    RT @FabSugar: Kerry Washington is EVERYTHING. ...\n",
       "3       Anne Hathaway has got me living. #GoldenGlobes\n",
       "4    Jennifer Lopez's lace dress? Thoughts? #Golden...\n",
       "Name: text, dtype: object"
      ]
     },
     "execution_count": 3,
     "metadata": {},
     "output_type": "execute_result"
    }
   ],
   "source": [
    "data = df['text']\n",
    "data[:5]"
   ]
  },
  {
   "cell_type": "code",
   "execution_count": 4,
   "metadata": {},
   "outputs": [
    {
     "data": {
      "text/plain": [
       "174643"
      ]
     },
     "execution_count": 4,
     "metadata": {},
     "output_type": "execute_result"
    }
   ],
   "source": [
    "len(data)"
   ]
  },
  {
   "cell_type": "code",
   "execution_count": 5,
   "metadata": {},
   "outputs": [
    {
     "data": {
      "text/plain": [
       "174643"
      ]
     },
     "execution_count": 5,
     "metadata": {},
     "output_type": "execute_result"
    }
   ],
   "source": [
    "# sample data if necessary\n",
    "sample_size = 200000\n",
    "if len(df) > sample_size:\n",
    "    data = data.sample(n=sample_size)\n",
    "len(data)"
   ]
  },
  {
   "cell_type": "code",
   "execution_count": 7,
   "metadata": {},
   "outputs": [],
   "source": [
    "# hard-coded awards\n",
    "awards = ['Best Motion Picture - Drama',\n",
    "         'Best Motion Picture - Musical or Comedy',\n",
    "         'Best Performance by an Actress in a Motion Picture - Drama',\n",
    "         'Best Performance by an Actor in a Motion Picture - Drama',\n",
    "         'Best Performance by an Actress in a Motion Picture - Musical or Comedy',\n",
    "         'Best Performance by an Actor in a Motion Picture - Musical or Comedy',\n",
    "         'Best Performance by an Actress in a Supporting Role in any Motion Picture',\n",
    "         'Best Performance by an Actor in a Supporting Role in any Motion Picture',\n",
    "         'Best Director - Motion Picture',\n",
    "         'Best Screenplay - Motion Picture',\n",
    "         'Best Motion Picture - Animated',\n",
    "         'Best Motion Picture - Foreign Language',\n",
    "         'Best Original Score - Motion Picture',\n",
    "         'Best Original Song - Motion Picture',\n",
    "         'Best Television Series - Drama',\n",
    "         'Best Television Series - Musical or Comedy',\n",
    "         'Best Television Limited Series or Motion Picture Made for Television',\n",
    "         'Best Performance by an Actress in a Limited Series or a Motion Picture Made for Television',\n",
    "         'Best Performance by an Actor in a Limited Series or a Motion Picture Made for Television',\n",
    "         'Best Performance by an Actress In A Television Series - Drama',\n",
    "         'Best Performance by an Actor In A Television Series - Drama',\n",
    "         'Best Performance by an Actress in a Television Series - Musical or Comedy',\n",
    "         'Best Performance by an Actor in a Television Series - Musical or Comedy',\n",
    "         'Best Performance by an Actress in a Supporting Role in a Series, Limited Series or Motion Picture Made for Television',\n",
    "         'Best Performance by an Actor in a Supporting Role in a Series, Limited Series or Motion Picture Made for Television',\n",
    "         'Cecil B. deMille Award']\n",
    "\n",
    "awards_ = ['best actress in a motion picture comedy or musical',\n",
    "          'best television series actor drama',\n",
    "          'best actress in a motion picture musical or comedy',\n",
    "          'best supporting actor in a motion picture',\n",
    "          'best supporting actor actress',\n",
    "          'best supporting actress in a motion picture',\n",
    "          'best actor in a motion picture comedy or musical',\n",
    "          'best motion picture comedy or musical',\n",
    "          'best motion picture drama',\n",
    "          'best television series comedy or musical',\n",
    "          'best supporting actor in a television series',\n",
    "          'best motion picture television',\n",
    "          'best actor in a motion picture drama',\n",
    "          'best actor in a motion picture drama performance',\n",
    "          'best actress in a television series drama',\n",
    "          'best television series drama',\n",
    "          'best supporting actress in a series',\n",
    "          'best actor in a television series comedy or musical',\n",
    "          'best actor in a comedy or musical',\n",
    "          'best animated feature film',\n",
    "          'best actor comedy or musical',\n",
    "          'best actress in a motion picture drama']"
   ]
  },
  {
   "cell_type": "code",
   "execution_count": 12,
   "metadata": {},
   "outputs": [],
   "source": [
    "import re"
   ]
  },
  {
   "cell_type": "code",
   "execution_count": 74,
   "metadata": {},
   "outputs": [
    {
     "name": "stdout",
     "output_type": "stream",
     "text": [
      "['best', 'motion', 'picture', 'drama']\n",
      "['best', 'motion', 'picture', 'musical', 'or', 'comedy']\n",
      "['best', 'actress', 'motion', 'picture', 'drama']\n",
      "['best', 'actor', 'motion', 'picture', 'drama']\n",
      "['best', 'actress', 'motion', 'picture', 'musical', 'or', 'comedy']\n",
      "['best', 'actor', 'motion', 'picture', 'musical', 'or', 'comedy']\n",
      "['best', 'actress', 'supporting', 'role', 'any', 'motion', 'picture']\n",
      "['best', 'actor', 'supporting', 'role', 'any', 'motion', 'picture']\n",
      "['best', 'director', 'motion', 'picture']\n",
      "['best', 'screenplay', 'motion', 'picture']\n",
      "['best', 'motion', 'picture', 'animated']\n",
      "['best', 'motion', 'picture', 'foreign', 'language']\n",
      "['best', 'original', 'score', 'motion', 'picture']\n",
      "['best', 'original', 'song', 'motion', 'picture']\n",
      "['best', 'television', 'series', 'drama']\n",
      "['best', 'television', 'series', 'musical', 'or', 'comedy']\n",
      "['best', 'television', 'limited', 'series', 'or', 'motion', 'picture']\n",
      "['best', 'actress', 'limited', 'series', 'or', 'motion', 'picture', 'television']\n",
      "['best', 'actor', 'limited', 'series', 'or', 'motion', 'picture', 'television']\n",
      "['best', 'actress', 'television', 'series', 'drama']\n",
      "['best', 'actor', 'television', 'series', 'drama']\n",
      "['best', 'actress', 'television', 'series', 'musical', 'or', 'comedy']\n",
      "['best', 'actor', 'television', 'series', 'musical', 'or', 'comedy']\n",
      "['best', 'actress', 'supporting', 'role', 'series', 'limited', 'or', 'motion', 'picture', 'television']\n",
      "['best', 'actor', 'supporting', 'role', 'series', 'limited', 'or', 'motion', 'picture', 'television']\n",
      "['cecil', 'b', 'demille', 'award']\n"
     ]
    }
   ],
   "source": [
    "def reduce(line):\n",
    "    # remove words \"performance\", \"in\", \"a\", \"an\", \"made\", \"for\", \"by\", and all punctuations\n",
    "    return re.sub(r'\\bperformance\\b|\\bin\\b|\\ba\\b|\\ban\\b|\\bmade\\b|\\bfor\\b|\\bby\\b|[^\\w\\s]', ' ', line.lower()).split()\n",
    "\n",
    "awards_reduced = [sorted(set(reduce(award)), key=lambda word: reduce(award).index(word)) for award in awards]\n",
    "\n",
    "# test\n",
    "for award in awards:\n",
    "    ls = reduce(award)\n",
    "    print(sorted(set(ls), key=lambda word: ls.index(word)))"
   ]
  },
  {
   "cell_type": "code",
   "execution_count": 65,
   "metadata": {},
   "outputs": [],
   "source": [
    "def generate_award_num_keywords_map(awards):\n",
    "    award_num_keywords_map = {}\n",
    "    \n",
    "    for i, award in enumerate([sorted(set(reduce(award)), key=lambda word: reduce(award).index(word)) for award in awards]):\n",
    "        if 'or' in award:\n",
    "            num_words = len(award) - 1 - award.index('or') # number of words from \"or\" to the end of award name\n",
    "            # test\n",
    "            # print(len(award)-1, award.index('or'), num_words)\n",
    "            award.remove('or')\n",
    "            award_num_keywords_map[i] = len(award) - 1 - num_words # do not count \"best\" and words from \"or\" to the end of award name\n",
    "        else:\n",
    "            award_num_keywords_map[i] = len(award) - 1 # do not count \"best\"\n",
    "    return award_num_keywords_map"
   ]
  },
  {
   "cell_type": "code",
   "execution_count": 66,
   "metadata": {},
   "outputs": [],
   "source": [
    "award_num_keywords_map = generate_award_num_keywords_map(awards)"
   ]
  },
  {
   "cell_type": "code",
   "execution_count": 67,
   "metadata": {},
   "outputs": [
    {
     "data": {
      "text/plain": [
       "[(0, 3),\n",
       " (1, 3),\n",
       " (2, 4),\n",
       " (3, 4),\n",
       " (4, 4),\n",
       " (5, 4),\n",
       " (6, 6),\n",
       " (7, 6),\n",
       " (8, 3),\n",
       " (9, 3),\n",
       " (10, 3),\n",
       " (11, 4),\n",
       " (12, 4),\n",
       " (13, 4),\n",
       " (14, 3),\n",
       " (15, 3),\n",
       " (16, 3),\n",
       " (17, 3),\n",
       " (18, 3),\n",
       " (19, 4),\n",
       " (20, 4),\n",
       " (21, 4),\n",
       " (22, 4),\n",
       " (23, 5),\n",
       " (24, 5),\n",
       " (25, 3)]"
      ]
     },
     "execution_count": 67,
     "metadata": {},
     "output_type": "execute_result"
    }
   ],
   "source": [
    "sorted(award_num_keywords_map.items(), key=lambda pair: pair[0])"
   ]
  },
  {
   "cell_type": "code",
   "execution_count": 69,
   "metadata": {},
   "outputs": [],
   "source": [
    "retweets_freq_dict = {}\n",
    "\n",
    "def remove_retweet_prefix(line):\n",
    "    # find 'RT @abc: ' where abc's length is arbitrary\n",
    "    pattern = re.compile(r'\\bRT @([\\w\\'/]*)\\b: ') \n",
    "   \n",
    "    match = re.search(pattern, line)\n",
    "    if match:\n",
    "        # store corresponding retweet without 'RT @' prefix\n",
    "        string = match.group()[4:]\n",
    "        if string in retweets_freq_dict:\n",
    "            retweets_freq_dict[string] += 1\n",
    "        else:\n",
    "            retweets_freq_dict[string] = 1\n",
    "        \n",
    "    return re.sub(pattern, ' ', line)"
   ]
  },
  {
   "cell_type": "code",
   "execution_count": 70,
   "metadata": {},
   "outputs": [],
   "source": [
    "hashtag_freq_dict = {}\n",
    "\n",
    "def remove_hashtag(line):\n",
    "    pattern = re.compile(r'#([\\w\\'/]*)\\b')\n",
    "    matches = re.findall(pattern, line)\n",
    "    if matches:\n",
    "        # store corresponding hashtag\n",
    "        for match in matches:\n",
    "            if match in hashtag_freq_dict:\n",
    "                hashtag_freq_dict[match] += 1\n",
    "            else:\n",
    "                hashtag_freq_dict[match] = 1\n",
    "        \n",
    "    line = re.sub(pattern, ' ', line)\n",
    "    return line"
   ]
  },
  {
   "cell_type": "code",
   "execution_count": 71,
   "metadata": {},
   "outputs": [],
   "source": [
    "at_freq_dict = {}\n",
    "\n",
    "def remove_at(line):\n",
    "    pattern = re.compile(r'@([\\w\\'/]*)\\b')\n",
    "    matches = re.findall(pattern, line)\n",
    "    if matches:\n",
    "        # store corresponding hashtag\n",
    "        for match in matches:\n",
    "            if match in at_freq_dict:\n",
    "                at_freq_dict[match] += 1\n",
    "            else:\n",
    "                at_freq_dict[match] = 1\n",
    "        \n",
    "    line = re.sub(pattern, ' ', line)\n",
    "    return line"
   ]
  },
  {
   "cell_type": "code",
   "execution_count": 72,
   "metadata": {},
   "outputs": [
    {
     "data": {
      "text/plain": [
       "'Hugh Jackman is so awesome    #goldenglobes'"
      ]
     },
     "execution_count": 72,
     "metadata": {},
     "output_type": "execute_result"
    }
   ],
   "source": [
    "def cleanse(line):\n",
    "    # replace everything to ' ' except alphanumeric character, whitespace, apostrophe, hashtag\n",
    "    return re.sub(r'[^\\w\\s\\'#]', ' ', line)\n",
    "\n",
    "# test\n",
    "cleanse(\"Hugh Jackman is so awesome!!! #goldenglobes\")"
   ]
  },
  {
   "cell_type": "code",
   "execution_count": 78,
   "metadata": {},
   "outputs": [],
   "source": [
    "import spacy\n",
    "# python3 -m spacy download en\n",
    "nlp = spacy.load('en')"
   ]
  },
  {
   "cell_type": "code",
   "execution_count": 79,
   "metadata": {},
   "outputs": [],
   "source": [
    "def identify_entities(text):\n",
    "    entities = list(nlp(text).ents)\n",
    "    tags = {}\n",
    "    for entity in entities:\n",
    "        if entity not in tags:\n",
    "            tags[' '.join(t.orth_ for t in entity).strip()]=[entity.label_]\n",
    "    return tags"
   ]
  },
  {
   "cell_type": "code",
   "execution_count": 89,
   "metadata": {},
   "outputs": [],
   "source": [
    "def find_award_winner(award_index, verbose=False):\n",
    "    # add word bounary '\\b' to prevent grabbing examples like \"showing\" and \"wonder\"\n",
    "    pattern = re.compile(r'(\\bwin)|(\\bwon\\b)', re.IGNORECASE)\n",
    "    entity_dict = {}\n",
    "    \n",
    "    print('Predicting for:', awards[award_index])\n",
    "    \n",
    "    num = 0\n",
    "    for tweet in data:\n",
    "        # remove_retweet_prefix \n",
    "        line = remove_retweet_prefix(tweet)\n",
    "        # remove hashtag\n",
    "        line = remove_hashtag(line)\n",
    "        # remove @...\n",
    "        line = remove_at(line)\n",
    "        # remove punctuations\n",
    "        line = cleanse(line)\n",
    "        \n",
    "        award = awards_reduced[award_index]\n",
    "        num_keywords_to_match = award_num_keywords_map[award_index]\n",
    "        \n",
    "        # test for 'best actress in a motion picture comedy or musical'\n",
    "#         if len(set(award).intersection(set(line.split()))) > 5:\n",
    "        \n",
    "        if len(set(award).intersection(set(line.split()))) > num_keywords_to_match:\n",
    "            \n",
    "            match = re.findall(pattern, line.lower())\n",
    "            if match:\n",
    "                tags = identify_entities(line)\n",
    "\n",
    "                if verbose:\n",
    "                    # print the first 5 occurrences\n",
    "                    if num < 5:\n",
    "                        print(match)\n",
    "                        print(tweet)\n",
    "                        print(tags)\n",
    "                        print()\n",
    "\n",
    "                for entity in tags.keys():\n",
    "                    if len(entity) > 1:\n",
    "                        if entity not in entity_dict:\n",
    "                            entity_dict[entity] = 1\n",
    "                        else:\n",
    "                            entity_dict[entity] += 1\n",
    "                num += 1\n",
    "            \n",
    "    print('num of matches:', num)\n",
    "    return entity_dict"
   ]
  },
  {
   "cell_type": "code",
   "execution_count": 90,
   "metadata": {},
   "outputs": [
    {
     "name": "stdout",
     "output_type": "stream",
     "text": [
      "Predicting for: Best Motion Picture - Drama\n",
      "[('win', '')]\n",
      "Jessica Chastain wins best actress in a motion picture, drama, for 'Zero Dark Thirty' at the Golden Globes - live broadcast\n",
      "{'Jessica Chastain': ['PERSON'], \"for '\": ['ORG'], 'Zero': ['CARDINAL'], \"Dark Thirty '\": ['EVENT'], 'the Golden Globes': ['FAC']}\n",
      "\n",
      "[('win', '')]\n",
      "Daniel Day-Lewis wins best actor in a motion picture drama for Lincoln #goldenglobes\n",
      "{'Daniel Day Lewis': ['PERSON'], 'Lincoln': ['ORG']}\n",
      "\n",
      "[('win', '')]\n",
      "RT @NewsGunner: Jessica Chastain wins best actress in a motion picture, drama, for 'Zero Dark Thirty' at the Golden Globes - live broadcast\n",
      "{'Jessica Chastain': ['PERSON'], '': ['NORP'], \"for '\": ['ORG'], 'Zero': ['CARDINAL'], \"Dark Thirty '\": ['EVENT'], 'the Golden Globes': ['FAC']}\n",
      "\n",
      "[('win', '')]\n",
      "Congrats Argo for winning best motion picture drama! So happy!! #GoldenGlobes\n",
      "{'': ['NORP']}\n",
      "\n",
      "[('win', '')]\n",
      "RT @todayshow: \"Argo\" wins the #GoldenGlobe for best motion picture -- drama. Latest: http://t.co/yWrjaQUM http://t.co/mpLaDZCF\n",
      "{'Argo': ['LANGUAGE'], '': ['ORG'], 'Latest': ['NORP'], 'yWrjaQUM': ['ORG']}\n",
      "\n",
      "num of matches: 21\n",
      "CPU times: user 6.34 s, sys: 478 ms, total: 6.82 s\n",
      "Wall time: 3.6 s\n"
     ]
    }
   ],
   "source": [
    "%%time\n",
    "# test\n",
    "entity_dict = find_award_winner(0, verbose=True)"
   ]
  },
  {
   "cell_type": "code",
   "execution_count": 164,
   "metadata": {},
   "outputs": [],
   "source": [
    "from fuzzywuzzy import fuzz\n",
    "\n",
    "# remove uninterested entities e.g. \"RT\" or \"Golden Globes\"\n",
    "def preprocess(entity_dict):\n",
    "    entity_dict = entity_dict.copy()\n",
    "    to_remove = []\n",
    "    for key in entity_dict.keys():\n",
    "        if fuzz.ratio(key.lower(), 'goldenglobes') > 50 or fuzz.ratio(key.lower(), 'rt') > 50:\n",
    "#             print(key)\n",
    "            to_remove.append(key)\n",
    "\n",
    "    for key in to_remove:\n",
    "        del entity_dict[key]\n",
    "    \n",
    "    return entity_dict"
   ]
  },
  {
   "cell_type": "markdown",
   "metadata": {},
   "source": [
    "# Generate Predictions"
   ]
  },
  {
   "cell_type": "code",
   "execution_count": 91,
   "metadata": {
    "scrolled": false
   },
   "outputs": [
    {
     "name": "stdout",
     "output_type": "stream",
     "text": [
      "Predicting for: Best Motion Picture - Drama\n",
      "num of matches: 21\n",
      "[('Argo', 11), ('Latest', 10), ('yWrjaQUM', 10), ('Daniel Day Lewis', 3), ('Ben Affleck', 3), ('Jessica Chastain', 2), (\"for '\", 2), ('Zero', 2), (\"Dark Thirty '\", 2), ('the Golden Globes', 2), ('Lincoln', 1), ('GgjUDP03', 1), (\"the Golden Globes         ''\", 1)]\n",
      "\n",
      "Predicting for: Best Motion Picture - Musical or Comedy\n",
      "num of matches: 249\n",
      "[('Les Miserables', 101), ('Hugh Jackman', 80), ('the Golden Globes', 26), ('Jennifer Lawrence', 24), ('Don Cheadle', 15), ('Lena Dunham', 12), ('Girls', 9), ('AZUbsKD0', 7), ('qXAruum6', 6), (\"Les Miserables '\", 6), ('EfJjinuG', 5), ('Golden Globes', 5), ('CNN', 5), ('y0cfCGHF', 4), ('Les Mis', 4), ('Argo', 4), ('RT', 3), ('Les', 3), ('Lawrence', 3), ('Globes', 3), ('the Golden Globe', 2), ('GgjUDP03', 2), ('XI1bEAK6', 2), ('Julianne Moore', 1), ('Hmm', 1), ('Jessica Chastain', 1), ('Oscar', 1), ('Heard', 1), ('Silver Lingings Playbook', 1), ('Yay', 1), ('vvRASfua', 1), ('Silver Lining Playbook', 1), ('Congratulations', 1), ('House', 1), ('5uDHZNff', 1), ('jwkVf4Ah', 1), ('nemfLMJi', 1), ('for Girls', 1), ('Ahhhh', 1), ('Ahhh', 1), ('HAZZAH', 1), ('Beast Actor', 1), ('2nd', 1), ('Looking', 1), ('Huge Jackman', 1), ('So', 1), ('Yij6GBea', 1), ('IAEzdDQu', 1), ('Silver Linings Playbook', 1), ('Good', 1), ('AFP', 1), ('O RT', 1), ('Cc     RT', 1), ('MXdPTc0C', 1), ('Woot', 1), ('Miserables', 1), ('http', 1), ('Yay Hugh      Winner', 1), ('april', 1), ('Aussie', 1), ('WeighLoss', 1), ('of year', 1), ('cv15lia4', 1), ('Breaking', 1), ('Via', 1), ('SweetBatti', 1), (\"BreakingNews   '\", 1), (\"Les Miserables ''\", 1)]\n",
      "\n",
      "Predicting for: Best Performance by an Actress in a Motion Picture - Drama\n",
      "num of matches: 2\n",
      "[('Jessica Chastain', 2), (\"for '\", 2), ('Zero', 2), (\"Dark Thirty '\", 2), ('the Golden Globes', 2)]\n",
      "\n",
      "Predicting for: Best Performance by an Actor in a Motion Picture - Drama\n",
      "num of matches: 3\n",
      "[('Daniel Day Lewis', 3), ('Lincoln', 1), ('GgjUDP03', 1)]\n",
      "\n",
      "Predicting for: Best Performance by an Actress in a Motion Picture - Musical or Comedy\n",
      "num of matches: 188\n",
      "[('Les Miserables', 100), ('Hugh Jackman', 67), ('the Golden Globes', 25), ('Jennifer Lawrence', 24), ('Lena Dunham', 12), (\"Les Miserables '\", 6), ('Golden Globes', 5), ('CNN', 5), ('y0cfCGHF', 4), ('Argo', 4), ('RT', 3), ('Les', 3), ('Lawrence', 3), ('Globes', 3), ('Les Mis', 2), ('Julianne Moore', 1), ('Hmm', 1), ('Jessica Chastain', 1), ('Oscar', 1), ('Heard', 1), ('Silver Lingings Playbook', 1), ('Yay', 1), ('vvRASfua', 1), ('Silver Lining Playbook', 1), ('Congratulations', 1), ('for Girls', 1), ('Girls', 1), ('Beast Actor', 1), ('2nd', 1), ('IAEzdDQu', 1), ('Good', 1), ('AFP', 1), ('O RT', 1), ('Cc     RT', 1), ('Woot', 1), ('Miserables', 1), ('WeighLoss', 1), ('of year', 1), ('cv15lia4', 1), ('Via', 1), ('SweetBatti', 1), (\"BreakingNews   '\", 1)]\n",
      "\n",
      "Predicting for: Best Performance by an Actor in a Motion Picture - Musical or Comedy\n",
      "num of matches: 187\n",
      "[('Les Miserables', 101), ('Hugh Jackman', 80), ('the Golden Globes', 26), ('Don Cheadle', 14), ('Jennifer Lawrence', 8), ('AZUbsKD0', 7), ('qXAruum6', 6), (\"Les Miserables '\", 6), ('Golden Globes', 5), ('CNN', 5), ('Argo', 4), ('Les', 3), ('Les Mis', 2), ('Silver Lining Playbook', 1), ('jwkVf4Ah', 1), ('nemfLMJi', 1), ('Beast Actor', 1), ('2nd', 1), ('Looking', 1), ('Huge Jackman', 1), ('So', 1), ('IAEzdDQu', 1), ('RT', 1), ('Good', 1), ('AFP', 1), ('O RT', 1), ('Cc     RT', 1), ('MXdPTc0C', 1), ('Woot', 1), ('Miserables', 1), ('http', 1), ('Yay Hugh      Winner', 1), ('the Golden Globe', 1), ('Aussie', 1), ('WeighLoss', 1), ('of year', 1), ('Breaking', 1), ('Via', 1), ('SweetBatti', 1), (\"BreakingNews   '\", 1)]\n",
      "\n",
      "Predicting for: Best Performance by an Actress in a Supporting Role in any Motion Picture\n",
      "num of matches: 0\n",
      "[]\n",
      "\n",
      "Predicting for: Best Performance by an Actor in a Supporting Role in any Motion Picture\n",
      "num of matches: 0\n",
      "[]\n",
      "\n",
      "Predicting for: Best Director - Motion Picture\n",
      "num of matches: 6\n",
      "[('Ben Affleck', 4), ('Argo', 1), ('Ben Afflick   Fellow', 1), ('Won', 1), ('tonight', 1), (\"the Golden Globes         ''\", 1)]\n",
      "\n",
      "Predicting for: Best Screenplay - Motion Picture\n",
      "num of matches: 15\n",
      "[('Quentin Tarantino', 14), ('http', 2), ('Django Unchained', 1)]\n",
      "\n",
      "Predicting for: Best Motion Picture - Animated\n",
      "num of matches: 0\n",
      "[]\n",
      "\n",
      "Predicting for: Best Motion Picture - Foreign Language\n",
      "num of matches: 0\n",
      "[]\n",
      "\n",
      "Predicting for: Best Original Score - Motion Picture\n",
      "num of matches: 1\n",
      "[('Skyfall', 1), ('Life Of Pi', 1), ('Michael Danna', 1)]\n",
      "\n",
      "Predicting for: Best Original Song - Motion Picture\n",
      "num of matches: 31\n",
      "[('Adele', 26), ('2aZhCCha', 9), ('Skyfall', 8), ('New', 4), ('the Golden Globes', 1), ('Life Of Pi', 1), ('Michael Danna', 1), ('rcMMT3ZR', 1)]\n",
      "\n",
      "Predicting for: Best Television Series - Drama\n",
      "num of matches: 1\n",
      "[('Claire Danes', 1)]\n",
      "\n",
      "Predicting for: Best Television Series - Musical or Comedy\n",
      "num of matches: 267\n",
      "[('Les Miserables', 100), ('Hugh Jackman', 79), ('the Golden Globes', 26), ('Jennifer Lawrence', 24), ('Don Cheadle', 15), ('Lena Dunham', 13), ('Girls', 9), ('AZUbsKD0', 7), ('qXAruum6', 6), (\"Les Miserables '\", 6), ('EfJjinuG', 5), ('Golden Globes', 5), ('CNN', 5), ('y0cfCGHF', 4), ('Les Mis', 4), ('Argo', 4), ('RT', 3), ('Les', 3), ('Lawrence', 3), ('Globes', 3), ('Best Actress', 2), ('the Golden Globe', 2), ('GgjUDP03', 2), ('XI1bEAK6', 2), ('Hmm', 1), ('Jessica Chastain', 1), ('Oscar', 1), ('Heard', 1), ('Silver Lingings Playbook', 1), ('Yay', 1), ('vvRASfua', 1), ('Silver Lining Playbook', 1), ('Congratulations', 1), ('House', 1), ('5uDHZNff', 1), ('jwkVf4Ah', 1), ('nemfLMJi', 1), ('for Girls', 1), ('Middle school', 1), ('Mono', 1), ('Comedy', 1), ('Ahhhh', 1), ('Ahhh', 1), ('HAZZAH', 1), ('Looking', 1), ('Huge Jackman', 1), ('So', 1), ('Yij6GBea', 1), ('IAEzdDQu', 1), ('Silver Linings Playbook', 1), ('Good', 1), ('AFP', 1), ('O RT', 1), ('Cc     RT', 1), ('MXdPTc0C', 1), ('Woot', 1), ('Miserables', 1), ('http', 1), ('Yay Hugh      Winner', 1), ('april', 1), ('Aussie', 1), ('WeighLoss', 1), ('of year', 1), ('cv15lia4', 1), ('Breaking', 1), ('Via', 1), ('SweetBatti', 1), (\"BreakingNews   '\", 1), (\"Les Miserables ''\", 1)]\n",
      "\n",
      "Predicting for: Best Television Limited Series or Motion Picture Made for Television\n",
      "num of matches: 103\n",
      "[('Hugh Jackman', 65), ('Les Miserables', 62), ('the Golden Globes', 25), ('Jennifer Lawrence', 8), (\"Les Miserables '\", 4), ('Les Mis', 2), ('Julianne Moore', 1), ('Silver Lining Playbook', 1), ('RT', 1), ('Les', 1), ('WeighLoss', 1), ('of year', 1), ('Via', 1), ('SweetBatti', 1), (\"BreakingNews   '\", 1)]\n",
      "\n",
      "Predicting for: Best Performance by an Actress in a Limited Series or a Motion Picture Made for Television\n",
      "num of matches: 125\n",
      "[('Hugh Jackman', 65), ('Les Miserables', 63), ('the Golden Globes', 27), ('Jennifer Lawrence', 9), ('Lena Dunham', 9), ('Julianne Moore', 7), ('J5IPqEdd', 5), (\"Les Miserables '\", 4), ('Anne Hathaway', 2), ('RT', 2), ('Girls', 2), ('Les Mis', 2), ('Jessica Chastain', 2), (\"for '\", 2), ('Zero', 2), (\"Dark Thirty '\", 2), ('Silver Lining Playbook', 1), ('Hooray', 1), ('Winner', 1), ('Claire Danes', 1), ('for Girls', 1), ('Les', 1), ('WeighLoss', 1), ('of year', 1), ('Via', 1), ('SweetBatti', 1), (\"BreakingNews   '\", 1)]\n",
      "\n",
      "Predicting for: Best Performance by an Actor in a Limited Series or a Motion Picture Made for Television\n",
      "num of matches: 129\n",
      "[('Hugh Jackman', 65), ('Les Miserables', 62), ('the Golden Globes', 25), ('Don Cheadle', 13), ('Jennifer Lawrence', 8), ('qXAruum6', 6), ('3rd', 4), (\"Les Miserables '\", 4), ('Daniel Day Lewis', 4), ('Damian Lewis', 3), ('first', 3), ('Les Mis', 3), ('Ed Harris', 2), ('Julianne Moore', 1), ('Silver Lining Playbook', 1), ('Mini series', 1), ('HBO', 1), ('Game Change', 1), ('jwkVf4Ah', 1), ('nemfLMJi', 1), ('RT', 1), ('Lincoln', 1), ('Les', 1), ('GgjUDP03', 1), ('WeighLoss', 1), ('of year', 1), ('Pats', 1), ('Via', 1), ('SweetBatti', 1), (\"BreakingNews   '\", 1)]\n",
      "\n",
      "Predicting for: Best Performance by an Actress In A Television Series - Drama\n",
      "num of matches: 1\n",
      "[('Claire Danes', 1)]\n",
      "\n",
      "Predicting for: Best Performance by an Actor In A Television Series - Drama\n",
      "num of matches: 0\n",
      "[]\n",
      "\n",
      "Predicting for: Best Performance by an Actress in a Television Series - Musical or Comedy\n"
     ]
    },
    {
     "name": "stdout",
     "output_type": "stream",
     "text": [
      "num of matches: 76\n",
      "[('Jennifer Lawrence', 24), ('Don Cheadle', 13), ('Lena Dunham', 12), ('Girls', 9), ('qXAruum6', 6), ('EfJjinuG', 5), ('y0cfCGHF', 4), ('Lawrence', 3), ('Globes', 3), ('RT', 2), ('GgjUDP03', 2), ('XI1bEAK6', 2), ('Hmm', 1), ('Jessica Chastain', 1), ('Oscar', 1), ('Heard', 1), ('Silver Lingings Playbook', 1), ('Yay', 1), ('vvRASfua', 1), ('Silver Lining Playbook', 1), ('Congratulations', 1), ('jwkVf4Ah', 1), ('nemfLMJi', 1), ('for Girls', 1), ('HAZZAH', 1), ('Yij6GBea', 1), ('cv15lia4', 1)]\n",
      "\n",
      "Predicting for: Best Performance by an Actor in a Television Series - Musical or Comedy\n",
      "num of matches: 125\n",
      "[('Hugh Jackman', 78), ('Les Miserables', 63), ('Don Cheadle', 14), ('Lena Dunham', 9), ('Girls', 9), ('AZUbsKD0', 7), ('qXAruum6', 6), ('EfJjinuG', 5), ('GgjUDP03', 2), ('XI1bEAK6', 2), ('Les Mis', 2), ('jwkVf4Ah', 1), ('nemfLMJi', 1), ('for Girls', 1), ('RT', 1), ('HAZZAH', 1), ('Looking', 1), ('Huge Jackman', 1), ('So', 1), ('Yij6GBea', 1), ('MXdPTc0C', 1), ('Les', 1), ('http', 1), ('Yay Hugh      Winner', 1), ('the Golden Globe', 1), ('Aussie', 1), ('WeighLoss', 1), ('of year', 1), ('Breaking', 1), ('the Golden Globes', 1)]\n",
      "\n",
      "Predicting for: Best Performance by an Actress in a Supporting Role in a Series, Limited Series or Motion Picture Made for Television\n",
      "num of matches: 1\n",
      "[('Julianne Moore', 1)]\n",
      "\n",
      "Predicting for: Best Performance by an Actor in a Supporting Role in a Series, Limited Series or Motion Picture Made for Television\n",
      "num of matches: 0\n",
      "[]\n",
      "\n",
      "Predicting for: Cecil B. deMille Award\n",
      "num of matches: 0\n",
      "[]\n",
      "\n"
     ]
    }
   ],
   "source": [
    "for key in award_num_keywords_map.keys():\n",
    "    print(sorted(find_award_winner(key, verbose=False).items(), key=lambda pair: pair[1], reverse=True)[:100])\n",
    "    print()"
   ]
  },
  {
   "cell_type": "code",
   "execution_count": null,
   "metadata": {},
   "outputs": [],
   "source": []
  },
  {
   "cell_type": "code",
   "execution_count": null,
   "metadata": {},
   "outputs": [],
   "source": []
  }
 ],
 "metadata": {
  "kernelspec": {
   "display_name": "Python 3",
   "language": "python",
   "name": "python3"
  },
  "language_info": {
   "codemirror_mode": {
    "name": "ipython",
    "version": 3
   },
   "file_extension": ".py",
   "mimetype": "text/x-python",
   "name": "python",
   "nbconvert_exporter": "python",
   "pygments_lexer": "ipython3",
   "version": "3.7.2"
  }
 },
 "nbformat": 4,
 "nbformat_minor": 2
}
