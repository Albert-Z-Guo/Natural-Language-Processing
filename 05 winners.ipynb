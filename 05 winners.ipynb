{
 "cells": [
  {
   "cell_type": "code",
   "execution_count": 92,
   "metadata": {},
   "outputs": [],
   "source": [
    "import pandas as pd"
   ]
  },
  {
   "cell_type": "code",
   "execution_count": 93,
   "metadata": {},
   "outputs": [
    {
     "data": {
      "text/html": [
       "<div>\n",
       "<style scoped>\n",
       "    .dataframe tbody tr th:only-of-type {\n",
       "        vertical-align: middle;\n",
       "    }\n",
       "\n",
       "    .dataframe tbody tr th {\n",
       "        vertical-align: top;\n",
       "    }\n",
       "\n",
       "    .dataframe thead th {\n",
       "        text-align: right;\n",
       "    }\n",
       "</style>\n",
       "<table border=\"1\" class=\"dataframe\">\n",
       "  <thead>\n",
       "    <tr style=\"text-align: right;\">\n",
       "      <th></th>\n",
       "      <th>id</th>\n",
       "      <th>text</th>\n",
       "      <th>timestamp_ms</th>\n",
       "      <th>user</th>\n",
       "    </tr>\n",
       "  </thead>\n",
       "  <tbody>\n",
       "    <tr>\n",
       "      <th>0</th>\n",
       "      <td>290620657987887104</td>\n",
       "      <td>JLo's dress! #eredcarpet #GoldenGlobes</td>\n",
       "      <td>2013-01-14 00:45:38</td>\n",
       "      <td>{'screen_name': 'Dozaaa_xo', 'id': 557374298}</td>\n",
       "    </tr>\n",
       "    <tr>\n",
       "      <th>1</th>\n",
       "      <td>290620657887219713</td>\n",
       "      <td>What's making Sofia Vergara's boobs stay like ...</td>\n",
       "      <td>2013-01-14 00:45:38</td>\n",
       "      <td>{'screen_name': 'theAmberShow', 'id': 14648726}</td>\n",
       "    </tr>\n",
       "    <tr>\n",
       "      <th>2</th>\n",
       "      <td>290620657828524032</td>\n",
       "      <td>RT @FabSugar: Kerry Washington is EVERYTHING. ...</td>\n",
       "      <td>2013-01-14 00:45:38</td>\n",
       "      <td>{'screen_name': 'SweetyPW', 'id': 35498686}</td>\n",
       "    </tr>\n",
       "  </tbody>\n",
       "</table>\n",
       "</div>"
      ],
      "text/plain": [
       "                   id                                               text  \\\n",
       "0  290620657987887104             JLo's dress! #eredcarpet #GoldenGlobes   \n",
       "1  290620657887219713  What's making Sofia Vergara's boobs stay like ...   \n",
       "2  290620657828524032  RT @FabSugar: Kerry Washington is EVERYTHING. ...   \n",
       "\n",
       "         timestamp_ms                                             user  \n",
       "0 2013-01-14 00:45:38    {'screen_name': 'Dozaaa_xo', 'id': 557374298}  \n",
       "1 2013-01-14 00:45:38  {'screen_name': 'theAmberShow', 'id': 14648726}  \n",
       "2 2013-01-14 00:45:38      {'screen_name': 'SweetyPW', 'id': 35498686}  "
      ]
     },
     "execution_count": 93,
     "metadata": {},
     "output_type": "execute_result"
    }
   ],
   "source": [
    "df = pd.read_json(path_or_buf='gg2013.json')\n",
    "# df = pd.read_json(path_or_buf='gg2015.json')\n",
    "df.head(3)"
   ]
  },
  {
   "cell_type": "code",
   "execution_count": 94,
   "metadata": {},
   "outputs": [
    {
     "data": {
      "text/plain": [
       "0               JLo's dress! #eredcarpet #GoldenGlobes\n",
       "1    What's making Sofia Vergara's boobs stay like ...\n",
       "2    RT @FabSugar: Kerry Washington is EVERYTHING. ...\n",
       "3       Anne Hathaway has got me living. #GoldenGlobes\n",
       "4    Jennifer Lopez's lace dress? Thoughts? #Golden...\n",
       "Name: text, dtype: object"
      ]
     },
     "execution_count": 94,
     "metadata": {},
     "output_type": "execute_result"
    }
   ],
   "source": [
    "data = df['text']\n",
    "data[:5]"
   ]
  },
  {
   "cell_type": "code",
   "execution_count": 95,
   "metadata": {},
   "outputs": [
    {
     "data": {
      "text/plain": [
       "174643"
      ]
     },
     "execution_count": 95,
     "metadata": {},
     "output_type": "execute_result"
    }
   ],
   "source": [
    "len(data)"
   ]
  },
  {
   "cell_type": "code",
   "execution_count": 96,
   "metadata": {},
   "outputs": [
    {
     "data": {
      "text/plain": [
       "174643"
      ]
     },
     "execution_count": 96,
     "metadata": {},
     "output_type": "execute_result"
    }
   ],
   "source": [
    "# sample data if necessary\n",
    "sample_size = 200000\n",
    "if len(df) > sample_size:\n",
    "    data = data.sample(n=sample_size)\n",
    "len(data)"
   ]
  },
  {
   "cell_type": "code",
   "execution_count": 97,
   "metadata": {},
   "outputs": [],
   "source": [
    "# hard-coded awards\n",
    "awards = ['Best Motion Picture - Drama',\n",
    "         'Best Motion Picture - Musical or Comedy',\n",
    "         'Best Performance by an Actress in a Motion Picture - Drama',\n",
    "         'Best Performance by an Actor in a Motion Picture - Drama',\n",
    "         'Best Performance by an Actress in a Motion Picture - Musical or Comedy',\n",
    "         'Best Performance by an Actor in a Motion Picture - Musical or Comedy',\n",
    "         'Best Performance by an Actress in a Supporting Role in any Motion Picture',\n",
    "         'Best Performance by an Actor in a Supporting Role in any Motion Picture',\n",
    "         'Best Director - Motion Picture',\n",
    "         'Best Screenplay - Motion Picture',\n",
    "         'Best Motion Picture - Animated',\n",
    "         'Best Motion Picture - Foreign Language',\n",
    "         'Best Original Score - Motion Picture',\n",
    "         'Best Original Song - Motion Picture',\n",
    "         'Best Television Series - Drama',\n",
    "         'Best Television Series - Musical or Comedy',\n",
    "         'Best Television Limited Series or Motion Picture Made for Television',\n",
    "         'Best Performance by an Actress in a Limited Series or a Motion Picture Made for Television',\n",
    "         'Best Performance by an Actor in a Limited Series or a Motion Picture Made for Television',\n",
    "         'Best Performance by an Actress In A Television Series - Drama',\n",
    "         'Best Performance by an Actor In A Television Series - Drama',\n",
    "         'Best Performance by an Actress in a Television Series - Musical or Comedy',\n",
    "         'Best Performance by an Actor in a Television Series - Musical or Comedy',\n",
    "         'Best Performance by an Actress in a Supporting Role in a Series, Limited Series or Motion Picture Made for Television',\n",
    "         'Best Performance by an Actor in a Supporting Role in a Series, Limited Series or Motion Picture Made for Television',\n",
    "         'Cecil B. deMille Award']"
   ]
  },
  {
   "cell_type": "code",
   "execution_count": 98,
   "metadata": {},
   "outputs": [],
   "source": [
    "import re"
   ]
  },
  {
   "cell_type": "code",
   "execution_count": 147,
   "metadata": {},
   "outputs": [
    {
     "name": "stdout",
     "output_type": "stream",
     "text": [
      "['best', 'motion', 'drama']\n",
      "['best', 'motion', 'musical', 'or', 'comedy']\n",
      "['best', 'actress', 'motion', 'drama']\n",
      "['best', 'actor', 'motion', 'drama']\n",
      "['best', 'actress', 'motion', 'musical', 'or', 'comedy']\n",
      "['best', 'actor', 'motion', 'musical', 'or', 'comedy']\n",
      "['best', 'actress', 'supporting', 'role', 'motion']\n",
      "['best', 'actor', 'supporting', 'role', 'motion']\n",
      "['best', 'director', 'motion']\n",
      "['best', 'screenplay', 'motion']\n",
      "['best', 'motion', 'animated']\n",
      "['best', 'motion', 'foreign', 'language']\n",
      "['best', 'original', 'score', 'motion']\n",
      "['best', 'original', 'song', 'motion']\n",
      "['best', 'television', 'series', 'drama']\n",
      "['best', 'television', 'series', 'musical', 'or', 'comedy']\n",
      "['best', 'television', 'limited', 'series', 'or', 'motion']\n",
      "['best', 'actress', 'limited', 'series', 'or', 'motion', 'television']\n",
      "['best', 'actor', 'limited', 'series', 'or', 'motion', 'television']\n",
      "['best', 'actress', 'television', 'series', 'drama']\n",
      "['best', 'actor', 'television', 'series', 'drama']\n",
      "['best', 'actress', 'television', 'series', 'musical', 'or', 'comedy']\n",
      "['best', 'actor', 'television', 'series', 'musical', 'or', 'comedy']\n",
      "['best', 'actress', 'supporting', 'role', 'series', 'limited', 'or', 'motion', 'television']\n",
      "['best', 'actor', 'supporting', 'role', 'series', 'limited', 'or', 'motion', 'television']\n",
      "['cecil', 'b', 'demille', 'award']\n"
     ]
    }
   ],
   "source": [
    "def reduce(line):\n",
    "    # remove words \"performance\", \"picture\", \"in\", \"a\", \"an\", \"any\", \"made\", \"for\", \"by\", and all punctuations\n",
    "    pattern = r'\\bperformance\\b|\\bpicture\\b|\\bin\\b|\\ba\\b|\\ban\\b|\\bany\\b|\\bmade\\b|\\bfor\\b|\\bby\\b|[^\\w\\s]'\n",
    "    return re.sub(pattern, ' ', line.lower()).split()\n",
    "\n",
    "awards_reduced = [sorted(set(reduce(award)), key=lambda word: reduce(award).index(word)) for award in awards]\n",
    "\n",
    "# test\n",
    "for award in awards:\n",
    "    ls = reduce(award)\n",
    "    print(sorted(set(ls), key=lambda word: ls.index(word)))"
   ]
  },
  {
   "cell_type": "code",
   "execution_count": 183,
   "metadata": {},
   "outputs": [],
   "source": [
    "def generate_award_num_keywords_map(awards):\n",
    "    awards_reduced = []\n",
    "    award_num_keywords_map = {}\n",
    "    \n",
    "    for i, award in enumerate([sorted(set(reduce(award)), key=lambda word: reduce(award).index(word)) for award in awards]):\n",
    "        if 'or' in award:\n",
    "            num_words = len(award) - 1 - award.index('or') # number of words from \"or\" to the end of award name\n",
    "            # test\n",
    "            # print(len(award)-1, award.index('or'), num_words)\n",
    "            award.remove('or')\n",
    "            award_num_keywords_map[i] = len(award) - 1 - num_words # do not count \"best\" and words from \"or\" to the end of award name\n",
    "        else:\n",
    "            award_num_keywords_map[i] = len(award) - 1 # do not count \"best\"\n",
    "        \n",
    "#         if 'best' in award:\n",
    "#             award.remove('best')\n",
    "\n",
    "        awards_reduced.append(award)\n",
    "    return award_num_keywords_map, awards_reduced\n"
   ]
  },
  {
   "cell_type": "code",
   "execution_count": 184,
   "metadata": {},
   "outputs": [
    {
     "data": {
      "text/plain": [
       "[(0, 2),\n",
       " (1, 2),\n",
       " (2, 3),\n",
       " (3, 3),\n",
       " (4, 3),\n",
       " (5, 3),\n",
       " (6, 4),\n",
       " (7, 4),\n",
       " (8, 2),\n",
       " (9, 2),\n",
       " (10, 2),\n",
       " (11, 3),\n",
       " (12, 3),\n",
       " (13, 3),\n",
       " (14, 3),\n",
       " (15, 3),\n",
       " (16, 3),\n",
       " (17, 3),\n",
       " (18, 3),\n",
       " (19, 4),\n",
       " (20, 4),\n",
       " (21, 4),\n",
       " (22, 4),\n",
       " (23, 5),\n",
       " (24, 5),\n",
       " (25, 3)]"
      ]
     },
     "execution_count": 184,
     "metadata": {},
     "output_type": "execute_result"
    }
   ],
   "source": [
    "award_num_keywords_map, awards_reduced = generate_award_num_keywords_map(awards)\n",
    "\n",
    "sorted(award_num_keywords_map.items(), key=lambda pair: pair[0])"
   ]
  },
  {
   "cell_type": "code",
   "execution_count": 185,
   "metadata": {},
   "outputs": [
    {
     "data": {
      "text/plain": [
       "[['best', 'motion', 'drama'],\n",
       " ['best', 'motion', 'musical', 'comedy'],\n",
       " ['best', 'actress', 'motion', 'drama'],\n",
       " ['best', 'actor', 'motion', 'drama'],\n",
       " ['best', 'actress', 'motion', 'musical', 'comedy'],\n",
       " ['best', 'actor', 'motion', 'musical', 'comedy'],\n",
       " ['best', 'actress', 'supporting', 'role', 'motion'],\n",
       " ['best', 'actor', 'supporting', 'role', 'motion'],\n",
       " ['best', 'director', 'motion'],\n",
       " ['best', 'screenplay', 'motion'],\n",
       " ['best', 'motion', 'animated'],\n",
       " ['best', 'motion', 'foreign', 'language'],\n",
       " ['best', 'original', 'score', 'motion'],\n",
       " ['best', 'original', 'song', 'motion'],\n",
       " ['best', 'television', 'series', 'drama'],\n",
       " ['best', 'television', 'series', 'musical', 'comedy'],\n",
       " ['best', 'television', 'limited', 'series', 'motion'],\n",
       " ['best', 'actress', 'limited', 'series', 'motion', 'television'],\n",
       " ['best', 'actor', 'limited', 'series', 'motion', 'television'],\n",
       " ['best', 'actress', 'television', 'series', 'drama'],\n",
       " ['best', 'actor', 'television', 'series', 'drama'],\n",
       " ['best', 'actress', 'television', 'series', 'musical', 'comedy'],\n",
       " ['best', 'actor', 'television', 'series', 'musical', 'comedy'],\n",
       " ['best',\n",
       "  'actress',\n",
       "  'supporting',\n",
       "  'role',\n",
       "  'series',\n",
       "  'limited',\n",
       "  'motion',\n",
       "  'television'],\n",
       " ['best',\n",
       "  'actor',\n",
       "  'supporting',\n",
       "  'role',\n",
       "  'series',\n",
       "  'limited',\n",
       "  'motion',\n",
       "  'television'],\n",
       " ['cecil', 'b', 'demille', 'award']]"
      ]
     },
     "execution_count": 185,
     "metadata": {},
     "output_type": "execute_result"
    }
   ],
   "source": [
    "awards_reduced"
   ]
  },
  {
   "cell_type": "code",
   "execution_count": 186,
   "metadata": {},
   "outputs": [],
   "source": [
    "retweets_freq_dict = {}\n",
    "\n",
    "def remove_retweet_prefix(line):\n",
    "    # find 'RT @abc: ' where abc's length is arbitrary\n",
    "    pattern = re.compile(r'\\bRT @([\\w\\'/]*)\\b: ') \n",
    "   \n",
    "    match = re.search(pattern, line)\n",
    "    if match:\n",
    "        # store corresponding retweet without 'RT @' prefix\n",
    "        string = match.group()[4:]\n",
    "        if string in retweets_freq_dict:\n",
    "            retweets_freq_dict[string] += 1\n",
    "        else:\n",
    "            retweets_freq_dict[string] = 1\n",
    "        \n",
    "    return re.sub(pattern, ' ', line)"
   ]
  },
  {
   "cell_type": "code",
   "execution_count": 151,
   "metadata": {},
   "outputs": [],
   "source": [
    "hashtag_freq_dict = {}\n",
    "\n",
    "def remove_hashtag(line):\n",
    "    pattern = re.compile(r'#([\\w\\'/]*)\\b')\n",
    "    matches = re.findall(pattern, line)\n",
    "    if matches:\n",
    "        # store corresponding hashtag\n",
    "        for match in matches:\n",
    "            if match in hashtag_freq_dict:\n",
    "                hashtag_freq_dict[match] += 1\n",
    "            else:\n",
    "                hashtag_freq_dict[match] = 1\n",
    "        \n",
    "    line = re.sub(pattern, ' ', line)\n",
    "    return line"
   ]
  },
  {
   "cell_type": "code",
   "execution_count": 152,
   "metadata": {},
   "outputs": [],
   "source": [
    "at_freq_dict = {}\n",
    "\n",
    "def remove_at(line):\n",
    "    pattern = re.compile(r'@([\\w\\'/]*)\\b')\n",
    "    matches = re.findall(pattern, line)\n",
    "    if matches:\n",
    "        # store corresponding hashtag\n",
    "        for match in matches:\n",
    "            if match in at_freq_dict:\n",
    "                at_freq_dict[match] += 1\n",
    "            else:\n",
    "                at_freq_dict[match] = 1\n",
    "        \n",
    "    line = re.sub(pattern, ' ', line)\n",
    "    return line"
   ]
  },
  {
   "cell_type": "code",
   "execution_count": 153,
   "metadata": {},
   "outputs": [
    {
     "data": {
      "text/plain": [
       "'Hugh Jackman is so awesome    #goldenglobes'"
      ]
     },
     "execution_count": 153,
     "metadata": {},
     "output_type": "execute_result"
    }
   ],
   "source": [
    "def cleanse(line):\n",
    "    # replace everything to ' ' except alphanumeric character, whitespace, apostrophe, hashtag\n",
    "    return re.sub(r'[^\\w\\s\\'#]', ' ', line)\n",
    "\n",
    "# test\n",
    "cleanse(\"Hugh Jackman is so awesome!!! #goldenglobes\")"
   ]
  },
  {
   "cell_type": "code",
   "execution_count": 221,
   "metadata": {},
   "outputs": [],
   "source": [
    "def remove_url(line):\n",
    "    pattern = re.compile(r'http[s]?://(?:[a-zA-Z]|[0-9]|[$-_@.&+]|[!*\\(\\),]|(?:%[0-9a-fA-F][0-9a-fA-F]))+\\b')\n",
    "    matches = re.findall(pattern, line)\n",
    "    for match in matches:\n",
    "        line = re.sub(match, ' ', line)\n",
    "    return line"
   ]
  },
  {
   "cell_type": "code",
   "execution_count": 243,
   "metadata": {},
   "outputs": [
    {
     "name": "stdout",
     "output_type": "stream",
     "text": [
      "295\n",
      "['amy adams']\n",
      "Orgulho da minha Amy Adams. &lt;3 #GoldenGlobes\n",
      "dict_keys(['Amy Adams', '3'])\n",
      "\n",
      "1240\n",
      "['amy adams']\n",
      "RT @jcpenney: Amy Adams looking beautiful in a blush @MarchesaFashion gown. #goldenglobes\n",
      "dict_keys(['Amy Adams', ''])\n",
      "\n",
      "1619\n",
      "['amy adams']\n",
      "#goldenglobes Amy Adams pale pink Marchesa mermaid dress is washing her out\n",
      "dict_keys(['Amy Adams', 'Marchesa'])\n",
      "\n",
      "1947\n",
      "['amy adams']\n",
      "RT @xoBetseyJohnson: #GoldenGlobes Amy Adams dress by Marchesa was heaven! Xox💋💋 http://t.co/Z0RsxThC\n",
      "dict_keys(['Amy Adams', 'Marchesa', 'Xox'])\n",
      "\n",
      "1957\n",
      "['amy adams']\n",
      "Da Amy Adams tbm. E por enquanto só delas... #GoldenGlobes #TNT\n",
      "dict_keys(['Da Amy Adams', ''])\n",
      "\n",
      "2298\n",
      "['amy adams']\n",
      "RT @arlene_bm: Amy Adams in @MarchesaFashion #GoldenGlobes 2013 http://t.co/akElt3IL”❤❤❤\n",
      "dict_keys(['Amy Adams', '2013', ''])\n",
      "\n",
      "2505\n",
      "['amy adams']\n",
      "RT @harpersbazaarES: Y si os preguntabáis quien firma el diseño sirena de Amy Adams, es de Marchesa ¿Qué os parece? #goldenglobes #redcarpet http://t.co/Pq5tcXCv\n",
      "dict_keys(['de Amy Adams', 'de Marchesa', ''])\n",
      "\n",
      "2866\n",
      "['amy adams']\n",
      "Wow, an angel with red locks! Amy Adams looks ethereal at the #GoldenGlobes\n",
      "dict_keys(['Amy Adams'])\n",
      "\n",
      "3599\n",
      "['amy adams']\n",
      "Best Dressed: Amy Adams, J. Lo, and Halle Berry. #GoldenGlobes\n",
      "dict_keys(['Amy Adams', '', 'Lo', 'Halle Berry'])\n",
      "\n",
      "159\n",
      "CPU times: user 31.5 s, sys: 4.25 s, total: 35.8 s\n",
      "Wall time: 6.67 s\n"
     ]
    }
   ],
   "source": [
    "%%time\n",
    "num = 0\n",
    "count = 0\n",
    "pattern = re.compile(r'amy adams')\n",
    "for tweet in data:\n",
    "    # remove_retweet_prefix \n",
    "    line = remove_retweet_prefix(tweet)\n",
    "    # remove hashtag\n",
    "    line = remove_hashtag(line)\n",
    "    # remove @...\n",
    "    line = remove_at(line)\n",
    "    # remove url\n",
    "    line = remove_url(line)\n",
    "    # remove punctuations\n",
    "    line = cleanse(line)\n",
    "    \n",
    "    match = re.findall(pattern, line.lower())                  \n",
    "    if match:\n",
    "        tags = identify_entities(line)\n",
    "        count += 1\n",
    "        # check the first 10 cases\n",
    "        if count < 10:\n",
    "            print(num)\n",
    "            print(match)\n",
    "            print(tweet)\n",
    "            print(tags.keys())\n",
    "            print()\n",
    "    num += 1\n",
    "    \n",
    "print(count)"
   ]
  },
  {
   "cell_type": "code",
   "execution_count": 154,
   "metadata": {},
   "outputs": [],
   "source": [
    "import spacy\n",
    "# python3 -m spacy download en\n",
    "nlp = spacy.load('en')"
   ]
  },
  {
   "cell_type": "code",
   "execution_count": 155,
   "metadata": {},
   "outputs": [],
   "source": [
    "def identify_entities(text):\n",
    "    entities = list(nlp(text).ents)\n",
    "    tags = {}\n",
    "    for entity in entities:\n",
    "        if entity not in tags:\n",
    "            tags[' '.join(t.orth_ for t in entity).strip()]=[entity.label_]\n",
    "    return tags"
   ]
  },
  {
   "cell_type": "code",
   "execution_count": 252,
   "metadata": {},
   "outputs": [],
   "source": [
    "def find_award_winner(awards_reduced, award_index, verbose=False):\n",
    "    print('Predicting for:', awards[award_index])    \n",
    "    award = awards_reduced[award_index]\n",
    "    print('award name reduced:', award)\n",
    "    num_keywords_to_match = award_num_keywords_map[award_index]\n",
    "    print('num keywords to match:', num_keywords_to_match)\n",
    "    \n",
    "    # add word bounary '\\b' to prevent grabbing examples like \"showing\" and \"wonder\"\n",
    "    pattern = re.compile(r'(\\bwin)|(\\bwon\\b)|(\\bbest\\b)|(\\b{0}\\b)'.format(award[1]), re.IGNORECASE)\n",
    "    entity_dict = {}\n",
    "    \n",
    "    num = 0\n",
    "    for tweet in data:\n",
    "        # remove_retweet_prefix \n",
    "        line = remove_retweet_prefix(tweet)\n",
    "        # remove hashtag\n",
    "        line = remove_hashtag(line)\n",
    "        # remove @...\n",
    "        line = remove_at(line)\n",
    "        # remove url\n",
    "        line = remove_url(line)\n",
    "        # remove punctuations\n",
    "        line = cleanse(line)\n",
    "        \n",
    "        \n",
    "        # test for 'best actress in a motion picture comedy or musical'\n",
    "#         if len(set(award).intersection(set(line.split()))) > 5:\n",
    "        \n",
    "        if len(set(award).intersection(set(line.split()))) > num_keywords_to_match:\n",
    "            \n",
    "            match = re.findall(pattern, line.lower())\n",
    "            if match:\n",
    "                tags = identify_entities(line)\n",
    "\n",
    "                if verbose:\n",
    "                    # print the first 5 occurrences\n",
    "                    if num < 5:\n",
    "                        print(match)\n",
    "                        print(tweet)\n",
    "                        print(tags.keys())\n",
    "                        print()\n",
    "\n",
    "                for entity in tags.keys():\n",
    "                    if len(entity) > 1:\n",
    "                        if entity not in entity_dict:\n",
    "                            entity_dict[entity] = 1\n",
    "                        else:\n",
    "                            entity_dict[entity] += 1\n",
    "                num += 1\n",
    "            \n",
    "    print('num of matches:', num)\n",
    "    return entity_dict"
   ]
  },
  {
   "cell_type": "code",
   "execution_count": 253,
   "metadata": {},
   "outputs": [
    {
     "name": "stdout",
     "output_type": "stream",
     "text": [
      "Predicting for: Best Motion Picture - Drama\n",
      "award name reduced: ['best', 'motion', 'drama']\n",
      "num keywords to match: 2\n",
      "[('win', '', '', ''), ('', '', 'best', ''), ('', '', '', 'motion')]\n",
      "Jessica Chastain wins #Goldenglobes for best actress - drama, motion pitcure for Zero Dark Thirty\n",
      "dict_keys(['Jessica Chastain', 'Zero'])\n",
      "\n",
      "[('', '', 'best', ''), ('', '', '', 'motion')]\n",
      "RT @TODAY_ent: The award for best actress in a motion picture drama goes to Jessica Chastain for @ZeroDarkThirty http://t.co/BshI8XDL #GoldenGlobes\n",
      "dict_keys(['Jessica Chastain', ''])\n",
      "\n",
      "[('win', '', '', ''), ('', '', 'best', ''), ('', '', '', 'motion')]\n",
      "Jessica Chastain wins best actress in a motion picture, drama, for 'Zero Dark Thirty' at the Golden Globes - live broadcast\n",
      "dict_keys(['Jessica Chastain', \"for '\", 'Zero', \"Dark Thirty '\", 'the Golden Globes'])\n",
      "\n",
      "[('', '', 'best', ''), ('', '', '', 'motion')]\n",
      "RT @TODAY_ent: The award for best actress in a motion picture drama goes to Jessica Chastain for @ZeroDarkThirty http://t.co/BshI8XDL #GoldenGlobes\n",
      "dict_keys(['Jessica Chastain', ''])\n",
      "\n",
      "[('win', '', '', ''), ('', '', 'best', ''), ('', '', '', 'motion')]\n",
      "Daniel Day-Lewis wins best actor in a motion picture drama for Lincoln #goldenglobes\n",
      "dict_keys(['Daniel Day Lewis', 'Lincoln'])\n",
      "\n",
      "num of matches: 50\n",
      "CPU times: user 10.4 s, sys: 891 ms, total: 11.3 s\n",
      "Wall time: 5.26 s\n"
     ]
    }
   ],
   "source": [
    "%%time\n",
    "# test\n",
    "entity_dict = find_award_winner(awards_reduced, 0, verbose=True)"
   ]
  },
  {
   "cell_type": "markdown",
   "metadata": {},
   "source": [
    "# Predictions for Award Winner"
   ]
  },
  {
   "cell_type": "code",
   "execution_count": 254,
   "metadata": {
    "scrolled": false
   },
   "outputs": [
    {
     "name": "stdout",
     "output_type": "stream",
     "text": [
      "Predicting for: Best Motion Picture - Drama\n",
      "award name reduced: ['best', 'motion', 'drama']\n",
      "num keywords to match: 2\n",
      "num of matches: 50\n",
      "[('Argo', 12), ('Latest', 10), ('Lincoln', 9), ('Jessica Chastain', 7), ('Daniel Day Lewis', 6), ('Julia Roberts', 6), ('Ben Affleck', 4), ('Zero', 3), (\"for '\", 2), (\"Dark Thirty '\", 2), ('the Golden Globes', 2), ('Julia', 2), ('Lancome Ambassadress', 2), ('Spielberg', 1), ('Affleck', 1), ('one', 1), ('Roberts', 1), (\"the Golden Globes         ''\", 1)]\n",
      "\n",
      "Predicting for: Best Motion Picture - Musical or Comedy\n",
      "award name reduced: ['best', 'motion', 'musical', 'comedy']\n",
      "num keywords to match: 2\n",
      "num of matches: 394\n",
      "[('Les Miserables', 127), ('Hugh Jackman', 113), ('Jennifer Lawrence', 39), (\"Les Miserables '\", 24), ('the Golden Globes   more', 22), ('Don Cheadle', 19), ('Golden Globe', 19), ('Eagles', 18), ('Bradley Cooper', 18), ('VW', 18), ('Lena Dunham', 14), ('WINNER', 10), ('Girls', 9), ('Les Mis', 6), ('night', 6), ('Bill Murray', 6), ('Miserables', 5), ('Golden Globes', 5), ('CNN', 5), ('Lawrence', 4), ('the Golden Globes', 4), ('Argo', 4), ('RT', 3), ('Silver Linings Playbook', 3), ('Les', 3), ('Globes', 3), ('Silver Linin', 3), ('Globe for Girls', 2), ('the Golden Globe', 2), ('Anne Hathaway', 2), ('One', 2), ('Jennifer', 1), ('Lawrence Silver', 1), ('Hmm', 1), ('Jessica Chastain', 1), ('Oscar', 1), ('Heard', 1), ('Silver Lingings Playbook', 1), ('Yay', 1), ('Silver Lining Playbook', 1), ('Congratulations', 1), ('Tommy Lee Jones', 1), ('House', 1), ('Kentucky', 1), ('for Girls', 1), ('Jay Leno', 1), ('Jimmy Fallon', 1), ('Ahhhh', 1), ('Ahhh', 1), ('HAZZAH', 1), ('Beast Actor', 1), ('2nd', 1), ('Looking', 1), ('Huge Jackman', 1), ('So', 1), ('Anne', 1), ('Woohoo', 1), (\"Les Miz '\", 1), ('Hugh Jackson', 1), ('Les Miserable', 1), ('Good', 1), ('AFP', 1), ('Definitely', 1), ('O RT', 1), ('only TWO', 1), ('Cc     RT', 1), ('Woot', 1), ('Yay Hugh      Winner', 1), ('april', 1), ('Aussie', 1), ('WeighLoss', 1), ('of year', 1), ('Drama', 1), ('Amour', 1), ('Breaking', 1), ('SLP', 1), ('Via', 1), ('SweetBatti', 1), (\"BreakingNews   '\", 1), (\"Les Miserables ''\", 1)]\n",
      "\n",
      "Predicting for: Best Performance by an Actress in a Motion Picture - Drama\n",
      "award name reduced: ['best', 'actress', 'motion', 'drama']\n",
      "num keywords to match: 3\n",
      "num of matches: 7\n",
      "[('Jessica Chastain', 7), ('Zero', 3), (\"for '\", 2), (\"Dark Thirty '\", 2), ('the Golden Globes', 2)]\n",
      "\n",
      "Predicting for: Best Performance by an Actor in a Motion Picture - Drama\n",
      "award name reduced: ['best', 'actor', 'motion', 'drama']\n",
      "num keywords to match: 3\n",
      "num of matches: 6\n",
      "[('Daniel Day Lewis', 6), ('Lincoln', 1)]\n",
      "\n",
      "Predicting for: Best Performance by an Actress in a Motion Picture - Musical or Comedy\n",
      "award name reduced: ['best', 'actress', 'motion', 'musical', 'comedy']\n",
      "num keywords to match: 3\n",
      "num of matches: 154\n",
      "[('Hugh Jackman', 65), ('Les Miserables', 62), ('Jennifer Lawrence', 37), ('the Golden Globes   more', 22), ('Lena Dunham', 12), ('WINNER', 5), ('Lawrence', 4), (\"Les Miserables '\", 4), ('Les Mis', 3), ('RT', 3), ('the Golden Globes', 3), ('Globes', 3), ('Silver Linin', 3), ('Jennifer', 1), ('Lawrence Silver', 1), ('Hmm', 1), ('Jessica Chastain', 1), ('Oscar', 1), ('Heard', 1), ('Silver Lingings Playbook', 1), ('Yay', 1), ('Silver Linings Playbook', 1), ('Silver Lining Playbook', 1), ('Congratulations', 1), ('Kentucky', 1), ('Golden Globe', 1), ('for Girls', 1), ('Girls', 1), ('only TWO', 1), ('Les', 1), ('WeighLoss', 1), ('of year', 1), ('Via', 1), ('SweetBatti', 1), (\"BreakingNews   '\", 1)]\n",
      "\n",
      "Predicting for: Best Performance by an Actor in a Motion Picture - Musical or Comedy\n",
      "award name reduced: ['best', 'actor', 'motion', 'musical', 'comedy']\n",
      "num keywords to match: 3\n",
      "num of matches: 203\n",
      "[('Hugh Jackman', 109), ('Les Miserables', 74), ('the Golden Globes   more', 22), ('Don Cheadle', 18), ('Eagles', 18), ('Bradley Cooper', 18), ('Jennifer Lawrence', 8), ('night', 6), ('Bill Murray', 6), ('WINNER', 5), (\"Les Miserables '\", 4), ('the Golden Globes', 4), ('Les Mis', 3), ('One', 2), ('Silver Lining Playbook', 1), ('Looking', 1), ('Huge Jackman', 1), ('So', 1), ('Woohoo', 1), (\"Les Miz '\", 1), ('Hugh Jackson', 1), ('RT', 1), ('only TWO', 1), ('Les', 1), ('Yay Hugh      Winner', 1), ('the Golden Globe', 1), ('Aussie', 1), ('WeighLoss', 1), ('of year', 1), ('Breaking', 1), ('Via', 1), ('SweetBatti', 1), (\"BreakingNews   '\", 1)]\n",
      "\n",
      "Predicting for: Best Performance by an Actress in a Supporting Role in any Motion Picture\n",
      "award name reduced: ['best', 'actress', 'supporting', 'role', 'motion']\n",
      "num keywords to match: 4\n",
      "num of matches: 0\n",
      "[]\n",
      "\n",
      "Predicting for: Best Performance by an Actor in a Supporting Role in any Motion Picture\n",
      "award name reduced: ['best', 'actor', 'supporting', 'role', 'motion']\n",
      "num keywords to match: 4\n",
      "num of matches: 0\n",
      "[]\n",
      "\n",
      "Predicting for: Best Director - Motion Picture\n",
      "award name reduced: ['best', 'director', 'motion']\n",
      "num keywords to match: 2\n",
      "num of matches: 6\n",
      "[('Ben Affleck', 4), ('Argo', 1), ('Ben Afflick   Fellow', 1), ('Won', 1), ('tonight', 1), (\"the Golden Globes         ''\", 1)]\n",
      "\n",
      "Predicting for: Best Screenplay - Motion Picture\n",
      "award name reduced: ['best', 'screenplay', 'motion']\n",
      "num keywords to match: 2\n",
      "num of matches: 17\n",
      "[('Quentin Tarantino', 14), ('Django Unchained', 3)]\n",
      "\n",
      "Predicting for: Best Motion Picture - Animated\n",
      "award name reduced: ['best', 'motion', 'animated']\n",
      "num keywords to match: 2\n",
      "num of matches: 0\n",
      "[]\n",
      "\n",
      "Predicting for: Best Motion Picture - Foreign Language\n",
      "award name reduced: ['best', 'motion', 'foreign', 'language']\n",
      "num keywords to match: 3\n",
      "num of matches: 0\n",
      "[]\n",
      "\n",
      "Predicting for: Best Original Score - Motion Picture\n",
      "award name reduced: ['best', 'original', 'score', 'motion']\n",
      "num keywords to match: 3\n",
      "num of matches: 3\n",
      "[('Life of Pi', 1), ('Mychael Danna', 1), ('Skyfall', 1), ('Life Of Pi', 1), ('Michael Danna', 1)]\n",
      "\n",
      "Predicting for: Best Original Song - Motion Picture\n",
      "award name reduced: ['best', 'original', 'song', 'motion']\n",
      "num keywords to match: 3\n",
      "num of matches: 35\n",
      "[('Adele', 29), ('Skyfall', 5), ('New', 4), ('Jennifer Lopez', 3), ('the Golden Globes', 1), ('Skyfall        Blewp', 1), ('Adele for', 1), ('Life Of Pi', 1), ('Michael Danna', 1)]\n",
      "\n",
      "Predicting for: Best Television Series - Drama\n",
      "award name reduced: ['best', 'television', 'series', 'drama']\n",
      "num keywords to match: 3\n",
      "num of matches: 1\n",
      "[('Claire Danes', 1)]\n",
      "\n",
      "Predicting for: Best Television Series - Musical or Comedy\n",
      "award name reduced: ['best', 'television', 'series', 'musical', 'comedy']\n",
      "num keywords to match: 3\n",
      "num of matches: 48\n",
      "[('Don Cheadle', 14), ('Lena Dunham', 9), ('Girls', 9), ('for Girls', 1), ('Congrats', 1), ('RT', 1), ('Jay Leno', 1), ('Jimmy Fallon', 1), ('HAZZAH', 1)]\n",
      "\n",
      "Predicting for: Best Television Limited Series or Motion Picture Made for Television\n",
      "award name reduced: ['best', 'television', 'limited', 'series', 'motion']\n",
      "num keywords to match: 3\n",
      "num of matches: 0\n",
      "[]\n",
      "\n",
      "Predicting for: Best Performance by an Actress in a Limited Series or a Motion Picture Made for Television\n",
      "award name reduced: ['best', 'actress', 'limited', 'series', 'motion', 'television']\n",
      "num keywords to match: 3\n",
      "num of matches: 4\n",
      "[('Julianne Moore', 1), ('Claire Danes', 1), ('Congrats', 1), ('Girls', 1)]\n",
      "\n",
      "Predicting for: Best Performance by an Actor in a Limited Series or a Motion Picture Made for Television\n",
      "award name reduced: ['best', 'actor', 'limited', 'series', 'motion', 'television']\n",
      "num keywords to match: 3\n",
      "num of matches: 0\n",
      "[]\n",
      "\n",
      "Predicting for: Best Performance by an Actress In A Television Series - Drama\n",
      "award name reduced: ['best', 'actress', 'television', 'series', 'drama']\n",
      "num keywords to match: 4\n",
      "num of matches: 1\n",
      "[('Claire Danes', 1)]\n",
      "\n",
      "Predicting for: Best Performance by an Actor In A Television Series - Drama\n",
      "award name reduced: ['best', 'actor', 'television', 'series', 'drama']\n",
      "num keywords to match: 4\n",
      "num of matches: 0\n",
      "[]\n",
      "\n",
      "Predicting for: Best Performance by an Actress in a Television Series - Musical or Comedy\n",
      "award name reduced: ['best', 'actress', 'television', 'series', 'musical', 'comedy']\n",
      "num keywords to match: 4\n",
      "num of matches: 10\n",
      "[('Lena Dunham', 9), ('for Girls', 1), ('Congrats', 1), ('RT', 1), ('Girls', 1)]\n",
      "\n",
      "Predicting for: Best Performance by an Actor in a Television Series - Musical or Comedy\n",
      "award name reduced: ['best', 'actor', 'television', 'series', 'musical', 'comedy']\n",
      "num keywords to match: 4\n"
     ]
    },
    {
     "name": "stdout",
     "output_type": "stream",
     "text": [
      "num of matches: 19\n",
      "[('Don Cheadle', 14)]\n",
      "\n",
      "Predicting for: Best Performance by an Actress in a Supporting Role in a Series, Limited Series or Motion Picture Made for Television\n",
      "award name reduced: ['best', 'actress', 'supporting', 'role', 'series', 'limited', 'motion', 'television']\n",
      "num keywords to match: 5\n",
      "num of matches: 0\n",
      "[]\n",
      "\n",
      "Predicting for: Best Performance by an Actor in a Supporting Role in a Series, Limited Series or Motion Picture Made for Television\n",
      "award name reduced: ['best', 'actor', 'supporting', 'role', 'series', 'limited', 'motion', 'television']\n",
      "num keywords to match: 5\n",
      "num of matches: 0\n",
      "[]\n",
      "\n",
      "Predicting for: Cecil B. deMille Award\n",
      "award name reduced: ['cecil', 'b', 'demille', 'award']\n",
      "num keywords to match: 3\n",
      "num of matches: 0\n",
      "[]\n",
      "\n",
      "CPU times: user 3min 58s, sys: 16.7 s, total: 4min 14s\n",
      "Wall time: 2min 18s\n"
     ]
    }
   ],
   "source": [
    "%%time\n",
    "for key in award_num_keywords_map.keys():\n",
    "    print(sorted(find_award_winner(awards_reduced, key, verbose=False).items(), key=lambda pair: pair[1], reverse=True)[:100])\n",
    "    print()"
   ]
  },
  {
   "cell_type": "code",
   "execution_count": null,
   "metadata": {},
   "outputs": [],
   "source": []
  },
  {
   "cell_type": "code",
   "execution_count": null,
   "metadata": {},
   "outputs": [],
   "source": []
  }
 ],
 "metadata": {
  "kernelspec": {
   "display_name": "Python 3",
   "language": "python",
   "name": "python3"
  },
  "language_info": {
   "codemirror_mode": {
    "name": "ipython",
    "version": 3
   },
   "file_extension": ".py",
   "mimetype": "text/x-python",
   "name": "python",
   "nbconvert_exporter": "python",
   "pygments_lexer": "ipython3",
   "version": "3.7.2"
  }
 },
 "nbformat": 4,
 "nbformat_minor": 2
}
