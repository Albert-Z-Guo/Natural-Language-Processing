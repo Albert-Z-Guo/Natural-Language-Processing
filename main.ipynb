{
 "cells": [
  {
   "cell_type": "code",
   "execution_count": 1,
   "metadata": {},
   "outputs": [],
   "source": [
    "import pandas as pd"
   ]
  },
  {
   "cell_type": "code",
   "execution_count": 2,
   "metadata": {},
   "outputs": [
    {
     "data": {
      "text/html": [
       "<div>\n",
       "<style scoped>\n",
       "    .dataframe tbody tr th:only-of-type {\n",
       "        vertical-align: middle;\n",
       "    }\n",
       "\n",
       "    .dataframe tbody tr th {\n",
       "        vertical-align: top;\n",
       "    }\n",
       "\n",
       "    .dataframe thead th {\n",
       "        text-align: right;\n",
       "    }\n",
       "</style>\n",
       "<table border=\"1\" class=\"dataframe\">\n",
       "  <thead>\n",
       "    <tr style=\"text-align: right;\">\n",
       "      <th></th>\n",
       "      <th>id</th>\n",
       "      <th>text</th>\n",
       "      <th>timestamp_ms</th>\n",
       "      <th>user</th>\n",
       "    </tr>\n",
       "  </thead>\n",
       "  <tbody>\n",
       "    <tr>\n",
       "      <th>0</th>\n",
       "      <td>290620657987887104</td>\n",
       "      <td>JLo's dress! #eredcarpet #GoldenGlobes</td>\n",
       "      <td>2013-01-14 00:45:38</td>\n",
       "      <td>{'screen_name': 'Dozaaa_xo', 'id': 557374298}</td>\n",
       "    </tr>\n",
       "    <tr>\n",
       "      <th>1</th>\n",
       "      <td>290620657887219713</td>\n",
       "      <td>What's making Sofia Vergara's boobs stay like ...</td>\n",
       "      <td>2013-01-14 00:45:38</td>\n",
       "      <td>{'screen_name': 'theAmberShow', 'id': 14648726}</td>\n",
       "    </tr>\n",
       "    <tr>\n",
       "      <th>2</th>\n",
       "      <td>290620657828524032</td>\n",
       "      <td>RT @FabSugar: Kerry Washington is EVERYTHING. ...</td>\n",
       "      <td>2013-01-14 00:45:38</td>\n",
       "      <td>{'screen_name': 'SweetyPW', 'id': 35498686}</td>\n",
       "    </tr>\n",
       "    <tr>\n",
       "      <th>3</th>\n",
       "      <td>290620657799159809</td>\n",
       "      <td>Anne Hathaway has got me living. #GoldenGlobes</td>\n",
       "      <td>2013-01-14 00:45:38</td>\n",
       "      <td>{'screen_name': '_NicoleEdwards', 'id': 144430...</td>\n",
       "    </tr>\n",
       "    <tr>\n",
       "      <th>4</th>\n",
       "      <td>290620657778188288</td>\n",
       "      <td>Jennifer Lopez's lace dress? Thoughts? #Golden...</td>\n",
       "      <td>2013-01-14 00:45:38</td>\n",
       "      <td>{'screen_name': 'lolaogunnaike', 'id': 134953223}</td>\n",
       "    </tr>\n",
       "    <tr>\n",
       "      <th>5</th>\n",
       "      <td>290620657719455745</td>\n",
       "      <td>Podrán criticar a #Adele de su moda y su maniq...</td>\n",
       "      <td>2013-01-14 00:45:38</td>\n",
       "      <td>{'screen_name': 'SabyOnford', 'id': 404554221}</td>\n",
       "    </tr>\n",
       "    <tr>\n",
       "      <th>6</th>\n",
       "      <td>290620657715273728</td>\n",
       "      <td>US, Weakly #GoldenGlobes</td>\n",
       "      <td>2013-01-14 00:45:38</td>\n",
       "      <td>{'screen_name': 'alejandraoleary', 'id': 45748...</td>\n",
       "    </tr>\n",
       "    <tr>\n",
       "      <th>7</th>\n",
       "      <td>290620657715253248</td>\n",
       "      <td>RT @BillMc7: \"Wait. What's that smell?!\" (ever...</td>\n",
       "      <td>2013-01-14 00:45:38</td>\n",
       "      <td>{'screen_name': 'xtinavickers', 'id': 92139052}</td>\n",
       "    </tr>\n",
       "    <tr>\n",
       "      <th>8</th>\n",
       "      <td>290620657706872832</td>\n",
       "      <td>Hugh Jackman is so awesome!!! #goldenglobes</td>\n",
       "      <td>2013-01-14 00:45:38</td>\n",
       "      <td>{'screen_name': 'Boaz_173', 'id': 31504713}</td>\n",
       "    </tr>\n",
       "    <tr>\n",
       "      <th>9</th>\n",
       "      <td>290620657560084480</td>\n",
       "      <td>It was awkward. RT @hollywoodhwife: They cut t...</td>\n",
       "      <td>2013-01-14 00:45:38</td>\n",
       "      <td>{'screen_name': 'KateSpencer1', 'id': 21571382}</td>\n",
       "    </tr>\n",
       "  </tbody>\n",
       "</table>\n",
       "</div>"
      ],
      "text/plain": [
       "                   id                                               text  \\\n",
       "0  290620657987887104             JLo's dress! #eredcarpet #GoldenGlobes   \n",
       "1  290620657887219713  What's making Sofia Vergara's boobs stay like ...   \n",
       "2  290620657828524032  RT @FabSugar: Kerry Washington is EVERYTHING. ...   \n",
       "3  290620657799159809     Anne Hathaway has got me living. #GoldenGlobes   \n",
       "4  290620657778188288  Jennifer Lopez's lace dress? Thoughts? #Golden...   \n",
       "5  290620657719455745  Podrán criticar a #Adele de su moda y su maniq...   \n",
       "6  290620657715273728                           US, Weakly #GoldenGlobes   \n",
       "7  290620657715253248  RT @BillMc7: \"Wait. What's that smell?!\" (ever...   \n",
       "8  290620657706872832        Hugh Jackman is so awesome!!! #goldenglobes   \n",
       "9  290620657560084480  It was awkward. RT @hollywoodhwife: They cut t...   \n",
       "\n",
       "         timestamp_ms                                               user  \n",
       "0 2013-01-14 00:45:38      {'screen_name': 'Dozaaa_xo', 'id': 557374298}  \n",
       "1 2013-01-14 00:45:38    {'screen_name': 'theAmberShow', 'id': 14648726}  \n",
       "2 2013-01-14 00:45:38        {'screen_name': 'SweetyPW', 'id': 35498686}  \n",
       "3 2013-01-14 00:45:38  {'screen_name': '_NicoleEdwards', 'id': 144430...  \n",
       "4 2013-01-14 00:45:38  {'screen_name': 'lolaogunnaike', 'id': 134953223}  \n",
       "5 2013-01-14 00:45:38     {'screen_name': 'SabyOnford', 'id': 404554221}  \n",
       "6 2013-01-14 00:45:38  {'screen_name': 'alejandraoleary', 'id': 45748...  \n",
       "7 2013-01-14 00:45:38    {'screen_name': 'xtinavickers', 'id': 92139052}  \n",
       "8 2013-01-14 00:45:38        {'screen_name': 'Boaz_173', 'id': 31504713}  \n",
       "9 2013-01-14 00:45:38    {'screen_name': 'KateSpencer1', 'id': 21571382}  "
      ]
     },
     "execution_count": 2,
     "metadata": {},
     "output_type": "execute_result"
    }
   ],
   "source": [
    "df = pd.read_json(path_or_buf='gg2013.json')\n",
    "df.head(10)"
   ]
  },
  {
   "cell_type": "code",
   "execution_count": 3,
   "metadata": {},
   "outputs": [
    {
     "data": {
      "text/plain": [
       "174643"
      ]
     },
     "execution_count": 3,
     "metadata": {},
     "output_type": "execute_result"
    }
   ],
   "source": [
    "len(df)"
   ]
  },
  {
   "cell_type": "code",
   "execution_count": 4,
   "metadata": {},
   "outputs": [
    {
     "data": {
      "text/plain": [
       "0               JLo's dress! #eredcarpet #GoldenGlobes\n",
       "1    What's making Sofia Vergara's boobs stay like ...\n",
       "2    RT @FabSugar: Kerry Washington is EVERYTHING. ...\n",
       "3       Anne Hathaway has got me living. #GoldenGlobes\n",
       "4    Jennifer Lopez's lace dress? Thoughts? #Golden...\n",
       "5    Podrán criticar a #Adele de su moda y su maniq...\n",
       "6                             US, Weakly #GoldenGlobes\n",
       "7    RT @BillMc7: \"Wait. What's that smell?!\" (ever...\n",
       "8          Hugh Jackman is so awesome!!! #goldenglobes\n",
       "9    It was awkward. RT @hollywoodhwife: They cut t...\n",
       "Name: text, dtype: object"
      ]
     },
     "execution_count": 4,
     "metadata": {},
     "output_type": "execute_result"
    }
   ],
   "source": [
    "data = df['text']\n",
    "data[:10]"
   ]
  },
  {
   "cell_type": "code",
   "execution_count": 5,
   "metadata": {},
   "outputs": [
    {
     "data": {
      "text/plain": [
       "\"What's making Sofia Vergara's boobs stay like that? Magic? Witchcraft? #GoldenGlobes\""
      ]
     },
     "execution_count": 5,
     "metadata": {},
     "output_type": "execute_result"
    }
   ],
   "source": [
    "data[1]"
   ]
  },
  {
   "cell_type": "code",
   "execution_count": 6,
   "metadata": {},
   "outputs": [],
   "source": [
    "import re"
   ]
  },
  {
   "cell_type": "code",
   "execution_count": 147,
   "metadata": {},
   "outputs": [
    {
     "data": {
      "text/plain": [
       "'Hugh Jackman is so awesome    #goldenglobes'"
      ]
     },
     "execution_count": 147,
     "metadata": {},
     "output_type": "execute_result"
    }
   ],
   "source": [
    "def cleanse(line):\n",
    "    # replace everything to ' ' except whitespace, alphanumeric character, apostrophe, hashtag, @\n",
    "    return re.sub(r'[^\\w\\s\\'#@]', ' ', line)\n",
    "\n",
    "# test\n",
    "cleanse(\"Hugh Jackman is so awesome!!! #goldenglobes\")"
   ]
  },
  {
   "cell_type": "code",
   "execution_count": 8,
   "metadata": {
    "scrolled": false
   },
   "outputs": [
    {
     "name": "stdout",
     "output_type": "stream",
     "text": [
      "JLo's dress! #eredcarpet #GoldenGlobes\n",
      "jlo's dress  #eredcarpet #goldenglobes\n",
      "[\"JLo's\", 'dress!', '#eredcarpet', '#GoldenGlobes']\n",
      "\n",
      "What's making Sofia Vergara's boobs stay like that? Magic? Witchcraft? #GoldenGlobes\n",
      "what's making sofia vergara's boobs stay like that  magic  witchcraft  #goldenglobes\n",
      "[\"What's\", 'making', 'Sofia', \"Vergara's\", 'boobs', 'stay', 'like', 'that?', 'Magic?', 'Witchcraft?', '#GoldenGlobes']\n",
      "\n",
      "RT @FabSugar: Kerry Washington is EVERYTHING. Dying over her Miu Miu gown! @goldenglobes #goldenglobes http://t.co/3feH7MvO\n",
      "rt @fabsugar  kerry washington is everything  dying over her miu miu gown  @goldenglobes #goldenglobes http   t co 3feh7mvo\n",
      "['RT', '@FabSugar:', 'Kerry', 'Washington', 'is', 'EVERYTHING.', 'Dying', 'over', 'her', 'Miu', 'Miu', 'gown!', '@goldenglobes', '#goldenglobes', 'http://t.co/3feH7MvO']\n",
      "\n",
      "Anne Hathaway has got me living. #GoldenGlobes\n",
      "anne hathaway has got me living  #goldenglobes\n",
      "['Anne', 'Hathaway', 'has', 'got', 'me', 'living.', '#GoldenGlobes']\n",
      "\n",
      "Jennifer Lopez's lace dress? Thoughts? #GoldenGlobes\n",
      "jennifer lopez's lace dress  thoughts  #goldenglobes\n",
      "['Jennifer', \"Lopez's\", 'lace', 'dress?', 'Thoughts?', '#GoldenGlobes']\n",
      "\n",
      "Podrán criticar a #Adele de su moda y su maniquere pero jamás podrán poner en tela de juicio su TALENTO! @eonline #GoldenGlobes #RedCarpet\n",
      "podrán criticar a #adele de su moda y su maniquere pero jamás podrán poner en tela de juicio su talento  @eonline #goldenglobes #redcarpet\n",
      "['Podrán', 'criticar', 'a', '#Adele', 'de', 'su', 'moda', 'y', 'su', 'maniquere', 'pero', 'jamás', 'podrán', 'poner', 'en', 'tela', 'de', 'juicio', 'su', 'TALENTO!', '@eonline', '#GoldenGlobes', '#RedCarpet']\n",
      "\n",
      "US, Weakly #GoldenGlobes\n",
      "us  weakly #goldenglobes\n",
      "['US,', 'Weakly', '#GoldenGlobes']\n",
      "\n",
      "RT @BillMc7: \"Wait. What's that smell?!\" (everyone being interviewed by Al Roker) #GoldenGlobes\n",
      "rt @billmc7   wait  what's that smell     everyone being interviewed by al roker  #goldenglobes\n",
      "['RT', '@BillMc7:', '\"Wait.', \"What's\", 'that', 'smell?!\"', '(everyone', 'being', 'interviewed', 'by', 'Al', 'Roker)', '#GoldenGlobes']\n",
      "\n",
      "Hugh Jackman is so awesome!!! #goldenglobes\n",
      "hugh jackman is so awesome    #goldenglobes\n",
      "['Hugh', 'Jackman', 'is', 'so', 'awesome!!!', '#goldenglobes']\n",
      "\n",
      "It was awkward. RT @hollywoodhwife: They cut to and then from JLo during the Ben Affleck interview.  #goldenglobes\n",
      "it was awkward  rt @hollywoodhwife  they cut to and then from jlo during the ben affleck interview   #goldenglobes\n",
      "['It', 'was', 'awkward.', 'RT', '@hollywoodhwife:', 'They', 'cut', 'to', 'and', 'then', 'from', 'JLo', 'during', 'the', 'Ben', 'Affleck', 'interview.', '#goldenglobes']\n",
      "\n"
     ]
    }
   ],
   "source": [
    "# test\n",
    "for line in data[:10]:\n",
    "    print(line)\n",
    "    print(cleanse(line))\n",
    "    print(line.split())"
   ]
  },
  {
   "cell_type": "code",
   "execution_count": 98,
   "metadata": {},
   "outputs": [],
   "source": [
    "import spacy\n",
    "# python -m spacy download en\n",
    "nlp = spacy.load('en')"
   ]
  },
  {
   "cell_type": "code",
   "execution_count": 225,
   "metadata": {},
   "outputs": [],
   "source": [
    "def identify_entities(text, verbose=False):\n",
    "    ents = list(nlp(text).ents)\n",
    "    if verbose:\n",
    "        tags = {}\n",
    "        for ent in ents:    \n",
    "            entity = ' '.join(t.orth_ for t in ent).strip()\n",
    "            if entity not in tags:\n",
    "                tags[entity]=[ent.label_]\n",
    "        return tags\n",
    "    else:\n",
    "        return [' '.join(t.orth_ for t in ent).strip() for ent in ents]"
   ]
  },
  {
   "cell_type": "code",
   "execution_count": 241,
   "metadata": {},
   "outputs": [
    {
     "name": "stdout",
     "output_type": "stream",
     "text": [
      "{'Amy Poehler': ['PERSON'],\n",
      " 'GoldenGlobes': ['MONEY'],\n",
      " 'Tina Fey ’s': ['PERSON'],\n",
      " 'the evening': ['TIME']}\n",
      "['Amy Poehler', 'Tina Fey ’s', 'the evening', 'GoldenGlobes']\n"
     ]
    }
   ],
   "source": [
    "# test\n",
    "import pprint\n",
    "text = \"“We’re going to keep things loose,” said Amy Poehler of her and co-host Tina Fey’s plan for the evening. #GoldenGlobes http://t.co/o40g5LGq“\"\n",
    "pprint.pprint(identify_entities(text, True))\n",
    "print(identify_entities(text, False))"
   ]
  },
  {
   "cell_type": "code",
   "execution_count": 236,
   "metadata": {
    "scrolled": false
   },
   "outputs": [],
   "source": [
    "def find_host(verbose=False):\n",
    "    pattern = re.compile(r'host')\n",
    "    entity_dict = {}\n",
    "    num = 0\n",
    "    \n",
    "    for line in data:\n",
    "        match = re.findall(pattern, cleanse(line).lower())\n",
    "        if match:\n",
    "            entities = identify_entities(cleanse(line), False)\n",
    "\n",
    "            if verbose:\n",
    "                # print the first 5 occurrences\n",
    "                if num < 5:\n",
    "                    print(match)\n",
    "                    print(line)\n",
    "                    print(entities)\n",
    "                    print()\n",
    "\n",
    "            for entity in entities:\n",
    "                if len(entity) > 1:\n",
    "                    if entity not in entity_dict:\n",
    "                        entity_dict[entity] = 1\n",
    "                    else:\n",
    "                        entity_dict[entity] += 1\n",
    "\n",
    "            num += 1\n",
    "    print('num of matches:', num)\n",
    "    print('top inferences:', list(entity_dict.keys())[:3], '\\n')"
   ]
  },
  {
   "cell_type": "code",
   "execution_count": 237,
   "metadata": {},
   "outputs": [
    {
     "name": "stdout",
     "output_type": "stream",
     "text": [
      "['host']\n",
      "Looking forward to watching Tina Fey and Amy Poehler host the #GoldenGlobes\n",
      "['Tina Fey', 'Amy Poehler']\n",
      "\n",
      "['host']\n",
      "RT @goldenglobes: It's our hosts Tina Fey and Amy Poehler! #goldenglobes #redcarpet http://t.co/8lqC3ocQ\n",
      "['RT @goldenglobes', 'Tina Fey', 'Amy Poehler', '#']\n",
      "\n",
      "['host']\n",
      "RT @washingtonpost: Tonight's dual hosting duties represent the culmination of a decade of Amy and Tina partnerships. http://t.co/scSThrn5 #GoldenGlobes\n",
      "['RT @washingtonpost', 'Tonight', 'a decade', 'Amy', 'Tina', '']\n",
      "\n",
      "['host']\n",
      "RT @MovieMayor: My green suede tuxedo pinching a bit here at the Velvet Rope Awards honoring best in crowd control. Topo Gigio + I hosting #GoldenGlobes\n",
      "['RT @MovieMayor', 'the Velvet Rope Awards', '', 'Topo Gigio', 'GoldenGlobes']\n",
      "\n",
      "['host']\n",
      "RT @accesshollywood: Tina Fey &amp; Amy Poehler Talk #GoldenGlobes Hosting, Drinking Game  http://t.co/1mIvq362\n",
      "['RT @accesshollywood', 'Amy Poehler Talk', 'GoldenGlobes Hosting', 'Drinking Game', '']\n",
      "\n",
      "num of matches: 3109\n",
      "top inferences: ['Tina Fey', 'Amy Poehler', 'RT @goldenglobes'] \n",
      "\n",
      "CPU times: user 2min 1s, sys: 13.2 s, total: 2min 14s\n",
      "Wall time: 22.6 s\n"
     ]
    }
   ],
   "source": [
    "%%time\n",
    "find_host(verbose=True)"
   ]
  },
  {
   "cell_type": "code",
   "execution_count": null,
   "metadata": {},
   "outputs": [],
   "source": [
    "# pattern = re.compile(r'jennifer lopez')"
   ]
  }
 ],
 "metadata": {
  "kernelspec": {
   "display_name": "Python 3",
   "language": "python",
   "name": "python3"
  },
  "language_info": {
   "codemirror_mode": {
    "name": "ipython",
    "version": 3
   },
   "file_extension": ".py",
   "mimetype": "text/x-python",
   "name": "python",
   "nbconvert_exporter": "python",
   "pygments_lexer": "ipython3",
   "version": "3.7.2"
  }
 },
 "nbformat": 4,
 "nbformat_minor": 2
}
