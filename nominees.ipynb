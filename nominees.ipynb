{
 "cells": [
  {
   "cell_type": "code",
   "execution_count": 13,
   "metadata": {},
   "outputs": [
    {
     "name": "stdout",
     "output_type": "stream",
     "text": [
      "JLo's dress! #eredcarpet #GoldenGlobes\n"
     ]
    }
   ],
   "source": [
    "import pandas as pd\n",
    "\n",
    "df = pd.read_json(path_or_buf='gg2013.json')\n",
    "df.head(10)\n",
    "\n",
    "data = df['text']\n",
    "\n",
    "print(data[0])"
   ]
  },
  {
   "cell_type": "code",
   "execution_count": 14,
   "metadata": {},
   "outputs": [],
   "source": [
    "import re\n",
    "\n",
    "def cleanse(line):\n",
    "    # replace everything to ' ' except whitespace, alphanumeric character, apostrophe, hashtag, @\n",
    "    return re.sub(r'[^\\w\\s\\'#@]', ' ', line)\n",
    "\n",
    "\n",
    "def identify_entities(text, verbose=False):\n",
    "    ents = list(nlp(text).ents)\n",
    "    if verbose:\n",
    "        tags = {}\n",
    "        for ent in ents:    \n",
    "            entity = ' '.join(t.orth_ for t in ent).strip()\n",
    "            if entity not in tags:\n",
    "                tags[entity]=[ent.label_]\n",
    "        return tags\n",
    "    else:\n",
    "        return [' '.join(t.orth_ for t in ent).strip() for ent in ents]"
   ]
  },
  {
   "cell_type": "code",
   "execution_count": 15,
   "metadata": {},
   "outputs": [
    {
     "name": "stdout",
     "output_type": "stream",
     "text": [
      "[('JLo', 'PROPN'), (\"'s\", 'PART'), ('dress', 'NOUN'), (' ', 'SPACE'), ('#', 'SYM'), ('eredcarpet', 'NOUN'), ('#', 'SYM'), ('GoldenGlobes', 'PROPN')]\n"
     ]
    }
   ],
   "source": [
    "import spacy\n",
    "# python -m spacy download en\n",
    "nlp = spacy.load('en')\n",
    "doc = nlp(cleanse(data[0]))\n",
    "print([(w.text, w.pos_) for w in doc])"
   ]
  },
  {
   "cell_type": "code",
   "execution_count": 16,
   "metadata": {},
   "outputs": [
    {
     "name": "stdout",
     "output_type": "stream",
     "text": [
      "Sofia Vergara's\n",
      "Kerry Washington\n",
      "Miu Miu\n",
      "Anne Hathaway\n",
      "Jennifer Lopez's\n",
      "Al Roker  \n",
      "Hugh Jackman\n",
      "the Ben Affleck\n",
      "Jennifer Lopez's\n",
      "Jessica Alba\n",
      "Kate Hudson's\n",
      "Kristen Wiig\n",
      "Hugh Jackman\n",
      "Anne Hathaway\n",
      "Al Roker\n",
      "Leo DiCaprio\n",
      "Kerry Washington\n",
      "Ewan McGregor\n",
      "Jennifer Lopez's\n",
      "Lawd  \n",
      "Helen Mirren\n",
      "Miu Miu\n",
      "@kerrywashington\n",
      "Kerry Washington\n",
      "Loved\n",
      "Django Tour\n",
      "Miu Miu\n",
      "Natalie Morales\n",
      "Awkward Savannah\n",
      "Kerry Washington\n",
      "Saw George Clooney         \n",
      "Lo\n",
      "Julianna Rancic\n",
      "Ryan Seacrest\n",
      "Lol  \n",
      "Llega\n",
      "Leonardo DiCaprio\n",
      "Kerry Washington\n",
      "J Lo\n",
      "@whitbyfoodie\n",
      "Hamm\n",
      "Ben Affleck's\n",
      "  Best\n",
      "Kate\n",
      "Rachel Weisz\n",
      "The Deep Blue Sea\n",
      "[\"Sofia Vergara's\", 'Kerry Washington', 'Miu Miu', 'Anne Hathaway', \"Jennifer Lopez's\", 'Al Roker  ', 'Hugh Jackman', 'the Ben Affleck', \"Jennifer Lopez's\", 'Jessica Alba', \"Kate Hudson's\", 'Kristen Wiig', 'Hugh Jackman', 'Anne Hathaway', 'Al Roker', 'Leo DiCaprio', 'Kerry Washington', 'Ewan McGregor', \"Jennifer Lopez's\", 'Lawd  ', 'Helen Mirren', 'Miu Miu', '@kerrywashington', 'Kerry Washington', 'Loved', 'Django Tour', 'Miu Miu', 'Natalie Morales', 'Awkward Savannah', 'Kerry Washington', 'Saw George Clooney         ', 'Lo', 'Julianna Rancic', 'Ryan Seacrest', 'Lol  ', 'Llega', 'Leonardo DiCaprio', 'Kerry Washington', 'J Lo', '@whitbyfoodie', 'Hamm', \"Ben Affleck's\", '  Best', 'Kate', 'Rachel Weisz', 'The Deep Blue Sea']\n",
      "{\"Sofia Vergara's\": 1, 'Kerry Washington': 5, 'Miu Miu': 3, 'Anne Hathaway': 2, \"Jennifer Lopez's\": 3, 'Al Roker  ': 1, 'Hugh Jackman': 2, 'the Ben Affleck': 1, 'Jessica Alba': 1, \"Kate Hudson's\": 1, 'Kristen Wiig': 1, 'Al Roker': 1, 'Leo DiCaprio': 1, 'Ewan McGregor': 1, 'Lawd  ': 1, 'Helen Mirren': 1, '@kerrywashington': 1, 'Loved': 1, 'Django Tour': 1, 'Natalie Morales': 1, 'Awkward Savannah': 1, 'Saw George Clooney         ': 1, 'Lo': 1, 'Julianna Rancic': 1, 'Ryan Seacrest': 1, 'Lol  ': 1, 'Llega': 1, 'Leonardo DiCaprio': 1, 'J Lo': 1, '@whitbyfoodie': 1, 'Hamm': 1, \"Ben Affleck's\": 1, '  Best': 1, 'Kate': 1, 'Rachel Weisz': 1, 'The Deep Blue Sea': 1}\n"
     ]
    }
   ],
   "source": [
    "import spacy\n",
    "# python -m spacy download en\n",
    "nlp = spacy.load('en')\n",
    "doc = nlp(cleanse(data[0]))\n",
    "persons_rough = []\n",
    "# names with frequency\n",
    "persons_dic = {}\n",
    "\n",
    "for d in data[:50]:\n",
    "    doc = nlp(cleanse(d))\n",
    "    # print(d)\n",
    "    for ent in doc.ents:\n",
    "        if ent.label_ == 'PERSON':\n",
    "            name = ent.text\n",
    "            if name in persons_dic:\n",
    "                persons_dic[name] += 1\n",
    "            else:\n",
    "                persons_dic[name] = 1\n",
    "            persons_rough.append(ent.text)\n",
    "            print(ent.text)\n",
    "\n",
    "print(persons_rough)\n",
    "print(persons_dic)"
   ]
  },
  {
   "cell_type": "code",
   "execution_count": 22,
   "metadata": {},
   "outputs": [],
   "source": [
    "def find_nominees():\n",
    "    pattern = re.compile(\"(win)|(won)|(lose)|(lost)|(nominat)\", re.IGNORECASE)\n",
    "    pattern1 = re.compile(\"(\\saward\\s)|(\\sbest\\s)\", re.IGNORECASE)\n",
    "    persons_dic = {}\n",
    "    # awards_dic = {}\n",
    "    for line in data[:5000]:\n",
    "        line = cleanse(line)\n",
    "\n",
    "        match = pattern.search(line)\n",
    "\n",
    "        # add weight\n",
    "        w = 1\n",
    "        if match:\n",
    "            w = 20\n",
    "            # print(line)\n",
    "\n",
    "\n",
    "        doc = nlp(line)\n",
    "        # possible award name\n",
    "        line_arr = line.lower().split(\" \")\n",
    "        award = ''\n",
    "        if 'best' in line_arr:\n",
    "            i = line_arr.index('best')\n",
    "            award = line_arr[i:i+3]\n",
    "            award = \" \".join(award).rstrip()\n",
    "            # print(award)\n",
    "\n",
    "        if 'award' in line_arr:\n",
    "            i = line_arr.index('award')\n",
    "            award = line_arr[i-2:i+1]\n",
    "            award = \" \".join(award).rstrip()\n",
    "            # print(award)\n",
    "\n",
    "\n",
    "        for ent in doc.ents:\n",
    "            if ent.label_ == 'PERSON':\n",
    "                name = ent.text.strip()\n",
    "                if name in persons_dic:\n",
    "                    persons_dic[name] += w\n",
    "                else:\n",
    "                    persons_dic[name] = w\n",
    "                # print(ent.text)\n",
    "\n",
    "    # filter frequency <= 10\n",
    "    nominees = {key: value for key, value in persons_dic.items() if value > 10}\n",
    "    nominees = sorted(nominees.items(), key=lambda e: e[1], reverse=True)\n",
    "    print(nominees)\n",
    "    # print(persons_dic)\n",
    "    print(len(nominees))\n"
   ]
  },
  {
   "cell_type": "code",
   "execution_count": 23,
   "metadata": {},
   "outputs": [
    {
     "name": "stdout",
     "output_type": "stream",
     "text": [
      "[('Glenn Close', 200), ('Anne Hathaway', 186), ('Jennifer Lawrence', 182), ('Jessica Chastain', 150), ('Kerry Washington', 135), ('RT @PimpBillClinton', 120), ('Mani Cam', 100), ('Laura Linney', 100), ('Zac Posen', 84), ('Amy', 84), ('Amy Poehler', 82), ('Sofia Vergara', 80), ('Harry Winston', 80), ('Kate Hudson', 74), ('Oscar', 63), ('Ben Affleck', 61), ('RT @Zac_Posen', 60), ('Lucy Liu', 59), ('Miranda Kerr', 57), ('Halle Berry', 55), ('Helen Mirren', 54), ('RT @goldenglobes', 53), ('Al Roker', 52), ('@GoldenGlobes', 52), ('Jennifer Lopez', 52), ('Orlando Bloom', 52), ('Hugh Jackman', 51), ('Goldenglobes', 51), ('Denzel Washington', 50), ('Jessica Alba', 49), ('Leonardo DiCaprio', 49), ('Matt Lauer', 49), ('Leo', 47), ('Ewan McGregor', 46), ('Adele', 46), ('@goldenglobes', 46), ('Denzel', 44), ('Julianne Hough', 43), ('Nicole Richie', 42), ('Anjelica', 41), ('LO', 41), ('Barbara', 41), ('Taylor Swift', 40), ('Huston', 40), ('Emmy', 40), ('WIN', 40), ('OH BOO', 40), ('Suck', 40), ('Sound', 40), ('Woody', 40), ('Ariel Winter', 40), ('Presenter', 40), ('Oscar Award', 40), ('J Lo', 38), ('George Clooney', 38), ('Dustin Hoffman', 37), ('Kate', 34), ('', 34), ('@tomandlorenzo', 33), (\"Anne Hathaway's\", 33), ('Bradley Cooper', 33), ('Jay Leno', 32), ('Vanessa Hudgens', 31), ('Rachel Weisz', 30), ('Selena Gomez', 30), ('Anne', 27), ('Sophia Vergara', 27), (\"Lucy Liu's\", 27), ('Calvin Klein', 26), ('Golden Globes', 26), ('Jesus', 25), ('Kelly Osbourne', 25), ('Marilyn Monroe', 24), ('Tina Fey', 24), ('Giuliana Rancic', 24), ('GoldenGlobes', 23), ('Richard Gere', 23), ('Sarah Hyland', 23), ('Ross', 23), ('RT @ninagarcia', 22), ('Marion Cotillard', 22), ('OMG', 22), ('Kathryn Bigelow', 22), ('Helen', 22), ('Kelly', 22), ('Jessica Lange', 22), ('Miu Miu', 21), ('Shit', 21), ('Django Unchained', 21), ('Latinas', 21), ('Affleck', 21), ('Marion Cottilard', 21), ('Helen Hunt', 21), ('McPhee', 21), ('The Deep Blue Sea', 20), ('@kookoobirdie', 20), ('Cumberbatch', 20), (\"Jessica Rabbit's\", 20), ('@MzzHanson', 20), ('xv5Q7oqi', 20), ('McQueen', 20), ('HVQhznQX', 20), ('Julie Bowen', 20), ('Gaga', 20), (\"RT @TheTennisPhenom  Zooey Deschanel's\", 20), ('Anne Hathaway Emerson', 20), ('HOT', 20), ('Ah Bueno', 20), ('@ariwonka  Denzel', 20), ('Les Miserables', 20), ('Minecraft', 20), ('RT @4HUMANITEEs GoldenGlobes', 20), (\"Taylor Swift's\", 20), ('Hair', 20), ('@Zac_Posen', 20), ('RT @TheVivant', 20), ('RT @wikimapper', 20), ('@bekgaston', 20), ('@amanda_wongg', 20), ('@JessicaTong', 20), ('Rob #GoldenGlobes', 20), ('Kathrine McPhee', 20), ('Best Drama', 20), ('Greg', 20), ('ANDREW LINCOLN', 20), ('DANK', 20), ('Bra Cha Cha', 20), ('Bra', 20), ('Phil', 20), ('Linda Gray', 20), ('RT @lokay', 20), ('Cody Zeller', 20), ('Dockery', 20), ('Jon Bon Jovi', 17), ('Ryan Seacrest', 16), ('Nicole Kidman', 16), ('Tom Ford', 16), ('Amanda Seyfried', 15), ('Lo', 14), ('Robert Pattinson', 14), ('Julianne Moore', 14), ('Rob', 14), ('Latina', 14), ('RT @tomandlorenzo  Anne Hathaway', 14), ('Sienna Miller', 13), ('Kevin Dior', 13), ('Para', 13), ('Emily Blunt', 13), ('Lol', 12), (\"Kerry Washington's\", 12), ('Meryl Streep', 12), ('RT @goldenglobes  Check', 12), ('Bitchie', 11)]\n",
      "153\n",
      "CPU times: user 2min 14s, sys: 15 s, total: 2min 29s\n",
      "Wall time: 38.1 s\n"
     ]
    }
   ],
   "source": [
    "%%time\n",
    "find_nominees()"
   ]
  },
  {
   "cell_type": "code",
   "execution_count": null,
   "metadata": {},
   "outputs": [],
   "source": []
  }
 ],
 "metadata": {
  "kernelspec": {
   "display_name": "'Python Interactive'",
   "language": "python",
   "name": "3dd4da02-df89-4768-b956-beda5c1706ab"
  },
  "language_info": {
   "codemirror_mode": {
    "name": "ipython",
    "version": 3
   },
   "file_extension": ".py",
   "mimetype": "text/x-python",
   "name": "python",
   "nbconvert_exporter": "python",
   "pygments_lexer": "ipython3",
   "version": "3.7.2"
  }
 },
 "nbformat": 4,
 "nbformat_minor": 2
}
